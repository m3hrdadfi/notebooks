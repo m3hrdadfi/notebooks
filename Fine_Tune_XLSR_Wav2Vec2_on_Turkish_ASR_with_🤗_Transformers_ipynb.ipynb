{
  "nbformat": 4,
  "nbformat_minor": 0,
  "metadata": {
    "accelerator": "GPU",
    "colab": {
      "name": "Fine-Tune XLSR-Wav2Vec2 on Turkish ASR with 🤗 Transformers.ipynb.ipynb",
      "provenance": [],
      "collapsed_sections": [],
      "machine_shape": "hm",
      "include_colab_link": true
    },
    "kernelspec": {
      "display_name": "Python 3",
      "name": "python3"
    },
    "widgets": {
      "application/vnd.jupyter.widget-state+json": {
        "1f39051bc70041ebbe646e15b25ed3a2": {
          "model_module": "@jupyter-widgets/controls",
          "model_name": "HBoxModel",
          "state": {
            "_view_name": "HBoxView",
            "_dom_classes": [],
            "_model_name": "HBoxModel",
            "_view_module": "@jupyter-widgets/controls",
            "_model_module_version": "1.5.0",
            "_view_count": null,
            "_view_module_version": "1.5.0",
            "box_style": "",
            "layout": "IPY_MODEL_999d6a5f285744c7b25f1fd53f3cc190",
            "_model_module": "@jupyter-widgets/controls",
            "children": [
              "IPY_MODEL_324dc8bf0e01420aaf365acc9c84e683",
              "IPY_MODEL_118cb38928234466a056a0bbaa3dae20"
            ]
          }
        },
        "999d6a5f285744c7b25f1fd53f3cc190": {
          "model_module": "@jupyter-widgets/base",
          "model_name": "LayoutModel",
          "state": {
            "_view_name": "LayoutView",
            "grid_template_rows": null,
            "right": null,
            "justify_content": null,
            "_view_module": "@jupyter-widgets/base",
            "overflow": null,
            "_model_module_version": "1.2.0",
            "_view_count": null,
            "flex_flow": null,
            "width": null,
            "min_width": null,
            "border": null,
            "align_items": null,
            "bottom": null,
            "_model_module": "@jupyter-widgets/base",
            "top": null,
            "grid_column": null,
            "overflow_y": null,
            "overflow_x": null,
            "grid_auto_flow": null,
            "grid_area": null,
            "grid_template_columns": null,
            "flex": null,
            "_model_name": "LayoutModel",
            "justify_items": null,
            "grid_row": null,
            "max_height": null,
            "align_content": null,
            "visibility": null,
            "align_self": null,
            "height": null,
            "min_height": null,
            "padding": null,
            "grid_auto_rows": null,
            "grid_gap": null,
            "max_width": null,
            "order": null,
            "_view_module_version": "1.2.0",
            "grid_template_areas": null,
            "object_position": null,
            "object_fit": null,
            "grid_auto_columns": null,
            "margin": null,
            "display": null,
            "left": null
          }
        },
        "324dc8bf0e01420aaf365acc9c84e683": {
          "model_module": "@jupyter-widgets/controls",
          "model_name": "FloatProgressModel",
          "state": {
            "_view_name": "ProgressView",
            "style": "IPY_MODEL_8c18a95452a44725abe096be476dfa2b",
            "_dom_classes": [],
            "description": "",
            "_model_name": "FloatProgressModel",
            "bar_style": "info",
            "max": 1,
            "_view_module": "@jupyter-widgets/controls",
            "_model_module_version": "1.5.0",
            "value": 1,
            "_view_count": null,
            "_view_module_version": "1.5.0",
            "orientation": "horizontal",
            "min": 0,
            "description_tooltip": null,
            "_model_module": "@jupyter-widgets/controls",
            "layout": "IPY_MODEL_ec63d8d40e944a06ac23b858f592c85e"
          }
        },
        "118cb38928234466a056a0bbaa3dae20": {
          "model_module": "@jupyter-widgets/controls",
          "model_name": "HTMLModel",
          "state": {
            "_view_name": "HTMLView",
            "style": "IPY_MODEL_819d8b7e691343ae8468b63d7ac69344",
            "_dom_classes": [],
            "description": "",
            "_model_name": "HTMLModel",
            "placeholder": "​",
            "_view_module": "@jupyter-widgets/controls",
            "_model_module_version": "1.5.0",
            "value": " 1/? [00:00&lt;00:00, 10.76 tables/s]",
            "_view_count": null,
            "_view_module_version": "1.5.0",
            "description_tooltip": null,
            "_model_module": "@jupyter-widgets/controls",
            "layout": "IPY_MODEL_a3ea2f3965f6486e93306c9237f28459"
          }
        },
        "8c18a95452a44725abe096be476dfa2b": {
          "model_module": "@jupyter-widgets/controls",
          "model_name": "ProgressStyleModel",
          "state": {
            "_view_name": "StyleView",
            "_model_name": "ProgressStyleModel",
            "description_width": "initial",
            "_view_module": "@jupyter-widgets/base",
            "_model_module_version": "1.5.0",
            "_view_count": null,
            "_view_module_version": "1.2.0",
            "bar_color": null,
            "_model_module": "@jupyter-widgets/controls"
          }
        },
        "ec63d8d40e944a06ac23b858f592c85e": {
          "model_module": "@jupyter-widgets/base",
          "model_name": "LayoutModel",
          "state": {
            "_view_name": "LayoutView",
            "grid_template_rows": null,
            "right": null,
            "justify_content": null,
            "_view_module": "@jupyter-widgets/base",
            "overflow": null,
            "_model_module_version": "1.2.0",
            "_view_count": null,
            "flex_flow": null,
            "width": null,
            "min_width": null,
            "border": null,
            "align_items": null,
            "bottom": null,
            "_model_module": "@jupyter-widgets/base",
            "top": null,
            "grid_column": null,
            "overflow_y": null,
            "overflow_x": null,
            "grid_auto_flow": null,
            "grid_area": null,
            "grid_template_columns": null,
            "flex": null,
            "_model_name": "LayoutModel",
            "justify_items": null,
            "grid_row": null,
            "max_height": null,
            "align_content": null,
            "visibility": null,
            "align_self": null,
            "height": null,
            "min_height": null,
            "padding": null,
            "grid_auto_rows": null,
            "grid_gap": null,
            "max_width": null,
            "order": null,
            "_view_module_version": "1.2.0",
            "grid_template_areas": null,
            "object_position": null,
            "object_fit": null,
            "grid_auto_columns": null,
            "margin": null,
            "display": null,
            "left": null
          }
        },
        "819d8b7e691343ae8468b63d7ac69344": {
          "model_module": "@jupyter-widgets/controls",
          "model_name": "DescriptionStyleModel",
          "state": {
            "_view_name": "StyleView",
            "_model_name": "DescriptionStyleModel",
            "description_width": "",
            "_view_module": "@jupyter-widgets/base",
            "_model_module_version": "1.5.0",
            "_view_count": null,
            "_view_module_version": "1.2.0",
            "_model_module": "@jupyter-widgets/controls"
          }
        },
        "a3ea2f3965f6486e93306c9237f28459": {
          "model_module": "@jupyter-widgets/base",
          "model_name": "LayoutModel",
          "state": {
            "_view_name": "LayoutView",
            "grid_template_rows": null,
            "right": null,
            "justify_content": null,
            "_view_module": "@jupyter-widgets/base",
            "overflow": null,
            "_model_module_version": "1.2.0",
            "_view_count": null,
            "flex_flow": null,
            "width": null,
            "min_width": null,
            "border": null,
            "align_items": null,
            "bottom": null,
            "_model_module": "@jupyter-widgets/base",
            "top": null,
            "grid_column": null,
            "overflow_y": null,
            "overflow_x": null,
            "grid_auto_flow": null,
            "grid_area": null,
            "grid_template_columns": null,
            "flex": null,
            "_model_name": "LayoutModel",
            "justify_items": null,
            "grid_row": null,
            "max_height": null,
            "align_content": null,
            "visibility": null,
            "align_self": null,
            "height": null,
            "min_height": null,
            "padding": null,
            "grid_auto_rows": null,
            "grid_gap": null,
            "max_width": null,
            "order": null,
            "_view_module_version": "1.2.0",
            "grid_template_areas": null,
            "object_position": null,
            "object_fit": null,
            "grid_auto_columns": null,
            "margin": null,
            "display": null,
            "left": null
          }
        },
        "402bd030657d4eeb9350ac22b79565b0": {
          "model_module": "@jupyter-widgets/controls",
          "model_name": "HBoxModel",
          "state": {
            "_view_name": "HBoxView",
            "_dom_classes": [],
            "_model_name": "HBoxModel",
            "_view_module": "@jupyter-widgets/controls",
            "_model_module_version": "1.5.0",
            "_view_count": null,
            "_view_module_version": "1.5.0",
            "box_style": "",
            "layout": "IPY_MODEL_a4b7a8a70ac5491fae1ba43e91dde445",
            "_model_module": "@jupyter-widgets/controls",
            "children": [
              "IPY_MODEL_0ddeee052cfb4ccebab5fbb872d87607",
              "IPY_MODEL_d19d09d6423c419bad449b36790942e9"
            ]
          }
        },
        "a4b7a8a70ac5491fae1ba43e91dde445": {
          "model_module": "@jupyter-widgets/base",
          "model_name": "LayoutModel",
          "state": {
            "_view_name": "LayoutView",
            "grid_template_rows": null,
            "right": null,
            "justify_content": null,
            "_view_module": "@jupyter-widgets/base",
            "overflow": null,
            "_model_module_version": "1.2.0",
            "_view_count": null,
            "flex_flow": null,
            "width": null,
            "min_width": null,
            "border": null,
            "align_items": null,
            "bottom": null,
            "_model_module": "@jupyter-widgets/base",
            "top": null,
            "grid_column": null,
            "overflow_y": null,
            "overflow_x": null,
            "grid_auto_flow": null,
            "grid_area": null,
            "grid_template_columns": null,
            "flex": null,
            "_model_name": "LayoutModel",
            "justify_items": null,
            "grid_row": null,
            "max_height": null,
            "align_content": null,
            "visibility": null,
            "align_self": null,
            "height": null,
            "min_height": null,
            "padding": null,
            "grid_auto_rows": null,
            "grid_gap": null,
            "max_width": null,
            "order": null,
            "_view_module_version": "1.2.0",
            "grid_template_areas": null,
            "object_position": null,
            "object_fit": null,
            "grid_auto_columns": null,
            "margin": null,
            "display": null,
            "left": null
          }
        },
        "0ddeee052cfb4ccebab5fbb872d87607": {
          "model_module": "@jupyter-widgets/controls",
          "model_name": "FloatProgressModel",
          "state": {
            "_view_name": "ProgressView",
            "style": "IPY_MODEL_78818724b2264a959889329b216a2d31",
            "_dom_classes": [],
            "description": "",
            "_model_name": "FloatProgressModel",
            "bar_style": "info",
            "max": 1,
            "_view_module": "@jupyter-widgets/controls",
            "_model_module_version": "1.5.0",
            "value": 1,
            "_view_count": null,
            "_view_module_version": "1.5.0",
            "orientation": "horizontal",
            "min": 0,
            "description_tooltip": null,
            "_model_module": "@jupyter-widgets/controls",
            "layout": "IPY_MODEL_c7f1b9203b1c452b8d49cbd9f4bc556b"
          }
        },
        "d19d09d6423c419bad449b36790942e9": {
          "model_module": "@jupyter-widgets/controls",
          "model_name": "HTMLModel",
          "state": {
            "_view_name": "HTMLView",
            "style": "IPY_MODEL_aba31f3cba0b4b9fa02a99b4697875b0",
            "_dom_classes": [],
            "description": "",
            "_model_name": "HTMLModel",
            "placeholder": "​",
            "_view_module": "@jupyter-widgets/controls",
            "_model_module_version": "1.5.0",
            "value": " 1/? [00:00&lt;00:00, 18.75 tables/s]",
            "_view_count": null,
            "_view_module_version": "1.5.0",
            "description_tooltip": null,
            "_model_module": "@jupyter-widgets/controls",
            "layout": "IPY_MODEL_f8d3b0254574451faef6fa19b4467515"
          }
        },
        "78818724b2264a959889329b216a2d31": {
          "model_module": "@jupyter-widgets/controls",
          "model_name": "ProgressStyleModel",
          "state": {
            "_view_name": "StyleView",
            "_model_name": "ProgressStyleModel",
            "description_width": "initial",
            "_view_module": "@jupyter-widgets/base",
            "_model_module_version": "1.5.0",
            "_view_count": null,
            "_view_module_version": "1.2.0",
            "bar_color": null,
            "_model_module": "@jupyter-widgets/controls"
          }
        },
        "c7f1b9203b1c452b8d49cbd9f4bc556b": {
          "model_module": "@jupyter-widgets/base",
          "model_name": "LayoutModel",
          "state": {
            "_view_name": "LayoutView",
            "grid_template_rows": null,
            "right": null,
            "justify_content": null,
            "_view_module": "@jupyter-widgets/base",
            "overflow": null,
            "_model_module_version": "1.2.0",
            "_view_count": null,
            "flex_flow": null,
            "width": null,
            "min_width": null,
            "border": null,
            "align_items": null,
            "bottom": null,
            "_model_module": "@jupyter-widgets/base",
            "top": null,
            "grid_column": null,
            "overflow_y": null,
            "overflow_x": null,
            "grid_auto_flow": null,
            "grid_area": null,
            "grid_template_columns": null,
            "flex": null,
            "_model_name": "LayoutModel",
            "justify_items": null,
            "grid_row": null,
            "max_height": null,
            "align_content": null,
            "visibility": null,
            "align_self": null,
            "height": null,
            "min_height": null,
            "padding": null,
            "grid_auto_rows": null,
            "grid_gap": null,
            "max_width": null,
            "order": null,
            "_view_module_version": "1.2.0",
            "grid_template_areas": null,
            "object_position": null,
            "object_fit": null,
            "grid_auto_columns": null,
            "margin": null,
            "display": null,
            "left": null
          }
        },
        "aba31f3cba0b4b9fa02a99b4697875b0": {
          "model_module": "@jupyter-widgets/controls",
          "model_name": "DescriptionStyleModel",
          "state": {
            "_view_name": "StyleView",
            "_model_name": "DescriptionStyleModel",
            "description_width": "",
            "_view_module": "@jupyter-widgets/base",
            "_model_module_version": "1.5.0",
            "_view_count": null,
            "_view_module_version": "1.2.0",
            "_model_module": "@jupyter-widgets/controls"
          }
        },
        "f8d3b0254574451faef6fa19b4467515": {
          "model_module": "@jupyter-widgets/base",
          "model_name": "LayoutModel",
          "state": {
            "_view_name": "LayoutView",
            "grid_template_rows": null,
            "right": null,
            "justify_content": null,
            "_view_module": "@jupyter-widgets/base",
            "overflow": null,
            "_model_module_version": "1.2.0",
            "_view_count": null,
            "flex_flow": null,
            "width": null,
            "min_width": null,
            "border": null,
            "align_items": null,
            "bottom": null,
            "_model_module": "@jupyter-widgets/base",
            "top": null,
            "grid_column": null,
            "overflow_y": null,
            "overflow_x": null,
            "grid_auto_flow": null,
            "grid_area": null,
            "grid_template_columns": null,
            "flex": null,
            "_model_name": "LayoutModel",
            "justify_items": null,
            "grid_row": null,
            "max_height": null,
            "align_content": null,
            "visibility": null,
            "align_self": null,
            "height": null,
            "min_height": null,
            "padding": null,
            "grid_auto_rows": null,
            "grid_gap": null,
            "max_width": null,
            "order": null,
            "_view_module_version": "1.2.0",
            "grid_template_areas": null,
            "object_position": null,
            "object_fit": null,
            "grid_auto_columns": null,
            "margin": null,
            "display": null,
            "left": null
          }
        },
        "835707fbe59b4b45bca8a3a0e8386b9b": {
          "model_module": "@jupyter-widgets/controls",
          "model_name": "HBoxModel",
          "state": {
            "_view_name": "HBoxView",
            "_dom_classes": [],
            "_model_name": "HBoxModel",
            "_view_module": "@jupyter-widgets/controls",
            "_model_module_version": "1.5.0",
            "_view_count": null,
            "_view_module_version": "1.5.0",
            "box_style": "",
            "layout": "IPY_MODEL_7f9658b7f56e4e07a81f10e111c4cc47",
            "_model_module": "@jupyter-widgets/controls",
            "children": [
              "IPY_MODEL_61c6e029a148488eb6b897c4209c5a2e",
              "IPY_MODEL_2e4f9b99b65a44c4b6d9738ba525b2a8"
            ]
          }
        },
        "7f9658b7f56e4e07a81f10e111c4cc47": {
          "model_module": "@jupyter-widgets/base",
          "model_name": "LayoutModel",
          "state": {
            "_view_name": "LayoutView",
            "grid_template_rows": null,
            "right": null,
            "justify_content": null,
            "_view_module": "@jupyter-widgets/base",
            "overflow": null,
            "_model_module_version": "1.2.0",
            "_view_count": null,
            "flex_flow": null,
            "width": null,
            "min_width": null,
            "border": null,
            "align_items": null,
            "bottom": null,
            "_model_module": "@jupyter-widgets/base",
            "top": null,
            "grid_column": null,
            "overflow_y": null,
            "overflow_x": null,
            "grid_auto_flow": null,
            "grid_area": null,
            "grid_template_columns": null,
            "flex": null,
            "_model_name": "LayoutModel",
            "justify_items": null,
            "grid_row": null,
            "max_height": null,
            "align_content": null,
            "visibility": null,
            "align_self": null,
            "height": null,
            "min_height": null,
            "padding": null,
            "grid_auto_rows": null,
            "grid_gap": null,
            "max_width": null,
            "order": null,
            "_view_module_version": "1.2.0",
            "grid_template_areas": null,
            "object_position": null,
            "object_fit": null,
            "grid_auto_columns": null,
            "margin": null,
            "display": null,
            "left": null
          }
        },
        "61c6e029a148488eb6b897c4209c5a2e": {
          "model_module": "@jupyter-widgets/controls",
          "model_name": "FloatProgressModel",
          "state": {
            "_view_name": "ProgressView",
            "style": "IPY_MODEL_8e71ee972ea841cdb2baa1a3909fb315",
            "_dom_classes": [],
            "description": "100%",
            "_model_name": "FloatProgressModel",
            "bar_style": "success",
            "max": 3478,
            "_view_module": "@jupyter-widgets/controls",
            "_model_module_version": "1.5.0",
            "value": 3478,
            "_view_count": null,
            "_view_module_version": "1.5.0",
            "orientation": "horizontal",
            "min": 0,
            "description_tooltip": null,
            "_model_module": "@jupyter-widgets/controls",
            "layout": "IPY_MODEL_2cdd30aa2ab946188e19b71f0f6de87d"
          }
        },
        "2e4f9b99b65a44c4b6d9738ba525b2a8": {
          "model_module": "@jupyter-widgets/controls",
          "model_name": "HTMLModel",
          "state": {
            "_view_name": "HTMLView",
            "style": "IPY_MODEL_4125b29a078640c2a86c87b1bee4d17e",
            "_dom_classes": [],
            "description": "",
            "_model_name": "HTMLModel",
            "placeholder": "​",
            "_view_module": "@jupyter-widgets/controls",
            "_model_module_version": "1.5.0",
            "value": " 3478/3478 [01:43&lt;00:00, 33.58ex/s]",
            "_view_count": null,
            "_view_module_version": "1.5.0",
            "description_tooltip": null,
            "_model_module": "@jupyter-widgets/controls",
            "layout": "IPY_MODEL_fc9eaa97f6ae49eebc12826d4c95264c"
          }
        },
        "8e71ee972ea841cdb2baa1a3909fb315": {
          "model_module": "@jupyter-widgets/controls",
          "model_name": "ProgressStyleModel",
          "state": {
            "_view_name": "StyleView",
            "_model_name": "ProgressStyleModel",
            "description_width": "initial",
            "_view_module": "@jupyter-widgets/base",
            "_model_module_version": "1.5.0",
            "_view_count": null,
            "_view_module_version": "1.2.0",
            "bar_color": null,
            "_model_module": "@jupyter-widgets/controls"
          }
        },
        "2cdd30aa2ab946188e19b71f0f6de87d": {
          "model_module": "@jupyter-widgets/base",
          "model_name": "LayoutModel",
          "state": {
            "_view_name": "LayoutView",
            "grid_template_rows": null,
            "right": null,
            "justify_content": null,
            "_view_module": "@jupyter-widgets/base",
            "overflow": null,
            "_model_module_version": "1.2.0",
            "_view_count": null,
            "flex_flow": null,
            "width": null,
            "min_width": null,
            "border": null,
            "align_items": null,
            "bottom": null,
            "_model_module": "@jupyter-widgets/base",
            "top": null,
            "grid_column": null,
            "overflow_y": null,
            "overflow_x": null,
            "grid_auto_flow": null,
            "grid_area": null,
            "grid_template_columns": null,
            "flex": null,
            "_model_name": "LayoutModel",
            "justify_items": null,
            "grid_row": null,
            "max_height": null,
            "align_content": null,
            "visibility": null,
            "align_self": null,
            "height": null,
            "min_height": null,
            "padding": null,
            "grid_auto_rows": null,
            "grid_gap": null,
            "max_width": null,
            "order": null,
            "_view_module_version": "1.2.0",
            "grid_template_areas": null,
            "object_position": null,
            "object_fit": null,
            "grid_auto_columns": null,
            "margin": null,
            "display": null,
            "left": null
          }
        },
        "4125b29a078640c2a86c87b1bee4d17e": {
          "model_module": "@jupyter-widgets/controls",
          "model_name": "DescriptionStyleModel",
          "state": {
            "_view_name": "StyleView",
            "_model_name": "DescriptionStyleModel",
            "description_width": "",
            "_view_module": "@jupyter-widgets/base",
            "_model_module_version": "1.5.0",
            "_view_count": null,
            "_view_module_version": "1.2.0",
            "_model_module": "@jupyter-widgets/controls"
          }
        },
        "fc9eaa97f6ae49eebc12826d4c95264c": {
          "model_module": "@jupyter-widgets/base",
          "model_name": "LayoutModel",
          "state": {
            "_view_name": "LayoutView",
            "grid_template_rows": null,
            "right": null,
            "justify_content": null,
            "_view_module": "@jupyter-widgets/base",
            "overflow": null,
            "_model_module_version": "1.2.0",
            "_view_count": null,
            "flex_flow": null,
            "width": null,
            "min_width": null,
            "border": null,
            "align_items": null,
            "bottom": null,
            "_model_module": "@jupyter-widgets/base",
            "top": null,
            "grid_column": null,
            "overflow_y": null,
            "overflow_x": null,
            "grid_auto_flow": null,
            "grid_area": null,
            "grid_template_columns": null,
            "flex": null,
            "_model_name": "LayoutModel",
            "justify_items": null,
            "grid_row": null,
            "max_height": null,
            "align_content": null,
            "visibility": null,
            "align_self": null,
            "height": null,
            "min_height": null,
            "padding": null,
            "grid_auto_rows": null,
            "grid_gap": null,
            "max_width": null,
            "order": null,
            "_view_module_version": "1.2.0",
            "grid_template_areas": null,
            "object_position": null,
            "object_fit": null,
            "grid_auto_columns": null,
            "margin": null,
            "display": null,
            "left": null
          }
        },
        "4bc5795c15c042868ad8880d5afcc156": {
          "model_module": "@jupyter-widgets/controls",
          "model_name": "HBoxModel",
          "state": {
            "_view_name": "HBoxView",
            "_dom_classes": [],
            "_model_name": "HBoxModel",
            "_view_module": "@jupyter-widgets/controls",
            "_model_module_version": "1.5.0",
            "_view_count": null,
            "_view_module_version": "1.5.0",
            "box_style": "",
            "layout": "IPY_MODEL_107ffbc0ab3a43f7bba759ccf32e8697",
            "_model_module": "@jupyter-widgets/controls",
            "children": [
              "IPY_MODEL_59501962a68549c0a744f0efd6e3d19e",
              "IPY_MODEL_7da9235a9c654bb2918fbaa5bf0d87ca"
            ]
          }
        },
        "107ffbc0ab3a43f7bba759ccf32e8697": {
          "model_module": "@jupyter-widgets/base",
          "model_name": "LayoutModel",
          "state": {
            "_view_name": "LayoutView",
            "grid_template_rows": null,
            "right": null,
            "justify_content": null,
            "_view_module": "@jupyter-widgets/base",
            "overflow": null,
            "_model_module_version": "1.2.0",
            "_view_count": null,
            "flex_flow": null,
            "width": null,
            "min_width": null,
            "border": null,
            "align_items": null,
            "bottom": null,
            "_model_module": "@jupyter-widgets/base",
            "top": null,
            "grid_column": null,
            "overflow_y": null,
            "overflow_x": null,
            "grid_auto_flow": null,
            "grid_area": null,
            "grid_template_columns": null,
            "flex": null,
            "_model_name": "LayoutModel",
            "justify_items": null,
            "grid_row": null,
            "max_height": null,
            "align_content": null,
            "visibility": null,
            "align_self": null,
            "height": null,
            "min_height": null,
            "padding": null,
            "grid_auto_rows": null,
            "grid_gap": null,
            "max_width": null,
            "order": null,
            "_view_module_version": "1.2.0",
            "grid_template_areas": null,
            "object_position": null,
            "object_fit": null,
            "grid_auto_columns": null,
            "margin": null,
            "display": null,
            "left": null
          }
        },
        "59501962a68549c0a744f0efd6e3d19e": {
          "model_module": "@jupyter-widgets/controls",
          "model_name": "FloatProgressModel",
          "state": {
            "_view_name": "ProgressView",
            "style": "IPY_MODEL_7130d14efbd8412bbbfc319d74b24f4e",
            "_dom_classes": [],
            "description": "100%",
            "_model_name": "FloatProgressModel",
            "bar_style": "success",
            "max": 1647,
            "_view_module": "@jupyter-widgets/controls",
            "_model_module_version": "1.5.0",
            "value": 1647,
            "_view_count": null,
            "_view_module_version": "1.5.0",
            "orientation": "horizontal",
            "min": 0,
            "description_tooltip": null,
            "_model_module": "@jupyter-widgets/controls",
            "layout": "IPY_MODEL_152e18430a0d4d25a9dd974795a904cb"
          }
        },
        "7da9235a9c654bb2918fbaa5bf0d87ca": {
          "model_module": "@jupyter-widgets/controls",
          "model_name": "HTMLModel",
          "state": {
            "_view_name": "HTMLView",
            "style": "IPY_MODEL_15fe2e5586bc4026a0cd1b7429bd0dfc",
            "_dom_classes": [],
            "description": "",
            "_model_name": "HTMLModel",
            "placeholder": "​",
            "_view_module": "@jupyter-widgets/controls",
            "_model_module_version": "1.5.0",
            "value": " 1647/1647 [00:00&lt;00:00, 2469.95ex/s]",
            "_view_count": null,
            "_view_module_version": "1.5.0",
            "description_tooltip": null,
            "_model_module": "@jupyter-widgets/controls",
            "layout": "IPY_MODEL_ca0629435be3430b8786297974fc4538"
          }
        },
        "7130d14efbd8412bbbfc319d74b24f4e": {
          "model_module": "@jupyter-widgets/controls",
          "model_name": "ProgressStyleModel",
          "state": {
            "_view_name": "StyleView",
            "_model_name": "ProgressStyleModel",
            "description_width": "initial",
            "_view_module": "@jupyter-widgets/base",
            "_model_module_version": "1.5.0",
            "_view_count": null,
            "_view_module_version": "1.2.0",
            "bar_color": null,
            "_model_module": "@jupyter-widgets/controls"
          }
        },
        "152e18430a0d4d25a9dd974795a904cb": {
          "model_module": "@jupyter-widgets/base",
          "model_name": "LayoutModel",
          "state": {
            "_view_name": "LayoutView",
            "grid_template_rows": null,
            "right": null,
            "justify_content": null,
            "_view_module": "@jupyter-widgets/base",
            "overflow": null,
            "_model_module_version": "1.2.0",
            "_view_count": null,
            "flex_flow": null,
            "width": null,
            "min_width": null,
            "border": null,
            "align_items": null,
            "bottom": null,
            "_model_module": "@jupyter-widgets/base",
            "top": null,
            "grid_column": null,
            "overflow_y": null,
            "overflow_x": null,
            "grid_auto_flow": null,
            "grid_area": null,
            "grid_template_columns": null,
            "flex": null,
            "_model_name": "LayoutModel",
            "justify_items": null,
            "grid_row": null,
            "max_height": null,
            "align_content": null,
            "visibility": null,
            "align_self": null,
            "height": null,
            "min_height": null,
            "padding": null,
            "grid_auto_rows": null,
            "grid_gap": null,
            "max_width": null,
            "order": null,
            "_view_module_version": "1.2.0",
            "grid_template_areas": null,
            "object_position": null,
            "object_fit": null,
            "grid_auto_columns": null,
            "margin": null,
            "display": null,
            "left": null
          }
        },
        "15fe2e5586bc4026a0cd1b7429bd0dfc": {
          "model_module": "@jupyter-widgets/controls",
          "model_name": "DescriptionStyleModel",
          "state": {
            "_view_name": "StyleView",
            "_model_name": "DescriptionStyleModel",
            "description_width": "",
            "_view_module": "@jupyter-widgets/base",
            "_model_module_version": "1.5.0",
            "_view_count": null,
            "_view_module_version": "1.2.0",
            "_model_module": "@jupyter-widgets/controls"
          }
        },
        "ca0629435be3430b8786297974fc4538": {
          "model_module": "@jupyter-widgets/base",
          "model_name": "LayoutModel",
          "state": {
            "_view_name": "LayoutView",
            "grid_template_rows": null,
            "right": null,
            "justify_content": null,
            "_view_module": "@jupyter-widgets/base",
            "overflow": null,
            "_model_module_version": "1.2.0",
            "_view_count": null,
            "flex_flow": null,
            "width": null,
            "min_width": null,
            "border": null,
            "align_items": null,
            "bottom": null,
            "_model_module": "@jupyter-widgets/base",
            "top": null,
            "grid_column": null,
            "overflow_y": null,
            "overflow_x": null,
            "grid_auto_flow": null,
            "grid_area": null,
            "grid_template_columns": null,
            "flex": null,
            "_model_name": "LayoutModel",
            "justify_items": null,
            "grid_row": null,
            "max_height": null,
            "align_content": null,
            "visibility": null,
            "align_self": null,
            "height": null,
            "min_height": null,
            "padding": null,
            "grid_auto_rows": null,
            "grid_gap": null,
            "max_width": null,
            "order": null,
            "_view_module_version": "1.2.0",
            "grid_template_areas": null,
            "object_position": null,
            "object_fit": null,
            "grid_auto_columns": null,
            "margin": null,
            "display": null,
            "left": null
          }
        },
        "3a4b9af17974410f8fe2620442f7df5e": {
          "model_module": "@jupyter-widgets/controls",
          "model_name": "HBoxModel",
          "state": {
            "_view_name": "HBoxView",
            "_dom_classes": [],
            "_model_name": "HBoxModel",
            "_view_module": "@jupyter-widgets/controls",
            "_model_module_version": "1.5.0",
            "_view_count": null,
            "_view_module_version": "1.5.0",
            "box_style": "",
            "layout": "IPY_MODEL_2a698a9a118f48cab3247b18a9ba8946",
            "_model_module": "@jupyter-widgets/controls",
            "children": [
              "IPY_MODEL_d7411405fd6b472ca047f22db5da9161",
              "IPY_MODEL_b81b2f5fc9bf4dab9b6b34181377168f"
            ]
          }
        },
        "2a698a9a118f48cab3247b18a9ba8946": {
          "model_module": "@jupyter-widgets/base",
          "model_name": "LayoutModel",
          "state": {
            "_view_name": "LayoutView",
            "grid_template_rows": null,
            "right": null,
            "justify_content": null,
            "_view_module": "@jupyter-widgets/base",
            "overflow": null,
            "_model_module_version": "1.2.0",
            "_view_count": null,
            "flex_flow": null,
            "width": null,
            "min_width": null,
            "border": null,
            "align_items": null,
            "bottom": null,
            "_model_module": "@jupyter-widgets/base",
            "top": null,
            "grid_column": null,
            "overflow_y": null,
            "overflow_x": null,
            "grid_auto_flow": null,
            "grid_area": null,
            "grid_template_columns": null,
            "flex": null,
            "_model_name": "LayoutModel",
            "justify_items": null,
            "grid_row": null,
            "max_height": null,
            "align_content": null,
            "visibility": null,
            "align_self": null,
            "height": null,
            "min_height": null,
            "padding": null,
            "grid_auto_rows": null,
            "grid_gap": null,
            "max_width": null,
            "order": null,
            "_view_module_version": "1.2.0",
            "grid_template_areas": null,
            "object_position": null,
            "object_fit": null,
            "grid_auto_columns": null,
            "margin": null,
            "display": null,
            "left": null
          }
        },
        "d7411405fd6b472ca047f22db5da9161": {
          "model_module": "@jupyter-widgets/controls",
          "model_name": "FloatProgressModel",
          "state": {
            "_view_name": "ProgressView",
            "style": "IPY_MODEL_0031b59f711344ad88eef45624043b73",
            "_dom_classes": [],
            "description": "100%",
            "_model_name": "FloatProgressModel",
            "bar_style": "success",
            "max": 1,
            "_view_module": "@jupyter-widgets/controls",
            "_model_module_version": "1.5.0",
            "value": 1,
            "_view_count": null,
            "_view_module_version": "1.5.0",
            "orientation": "horizontal",
            "min": 0,
            "description_tooltip": null,
            "_model_module": "@jupyter-widgets/controls",
            "layout": "IPY_MODEL_1d52ba21d7584252b820ecd7587f4dcd"
          }
        },
        "b81b2f5fc9bf4dab9b6b34181377168f": {
          "model_module": "@jupyter-widgets/controls",
          "model_name": "HTMLModel",
          "state": {
            "_view_name": "HTMLView",
            "style": "IPY_MODEL_72c2c0aaefe3498d8600370e275196d3",
            "_dom_classes": [],
            "description": "",
            "_model_name": "HTMLModel",
            "placeholder": "​",
            "_view_module": "@jupyter-widgets/controls",
            "_model_module_version": "1.5.0",
            "value": " 1/1 [00:00&lt;00:00, 15.08ba/s]",
            "_view_count": null,
            "_view_module_version": "1.5.0",
            "description_tooltip": null,
            "_model_module": "@jupyter-widgets/controls",
            "layout": "IPY_MODEL_7649a477b8eb424ea67f7f2c3cf1ba15"
          }
        },
        "0031b59f711344ad88eef45624043b73": {
          "model_module": "@jupyter-widgets/controls",
          "model_name": "ProgressStyleModel",
          "state": {
            "_view_name": "StyleView",
            "_model_name": "ProgressStyleModel",
            "description_width": "initial",
            "_view_module": "@jupyter-widgets/base",
            "_model_module_version": "1.5.0",
            "_view_count": null,
            "_view_module_version": "1.2.0",
            "bar_color": null,
            "_model_module": "@jupyter-widgets/controls"
          }
        },
        "1d52ba21d7584252b820ecd7587f4dcd": {
          "model_module": "@jupyter-widgets/base",
          "model_name": "LayoutModel",
          "state": {
            "_view_name": "LayoutView",
            "grid_template_rows": null,
            "right": null,
            "justify_content": null,
            "_view_module": "@jupyter-widgets/base",
            "overflow": null,
            "_model_module_version": "1.2.0",
            "_view_count": null,
            "flex_flow": null,
            "width": null,
            "min_width": null,
            "border": null,
            "align_items": null,
            "bottom": null,
            "_model_module": "@jupyter-widgets/base",
            "top": null,
            "grid_column": null,
            "overflow_y": null,
            "overflow_x": null,
            "grid_auto_flow": null,
            "grid_area": null,
            "grid_template_columns": null,
            "flex": null,
            "_model_name": "LayoutModel",
            "justify_items": null,
            "grid_row": null,
            "max_height": null,
            "align_content": null,
            "visibility": null,
            "align_self": null,
            "height": null,
            "min_height": null,
            "padding": null,
            "grid_auto_rows": null,
            "grid_gap": null,
            "max_width": null,
            "order": null,
            "_view_module_version": "1.2.0",
            "grid_template_areas": null,
            "object_position": null,
            "object_fit": null,
            "grid_auto_columns": null,
            "margin": null,
            "display": null,
            "left": null
          }
        },
        "72c2c0aaefe3498d8600370e275196d3": {
          "model_module": "@jupyter-widgets/controls",
          "model_name": "DescriptionStyleModel",
          "state": {
            "_view_name": "StyleView",
            "_model_name": "DescriptionStyleModel",
            "description_width": "",
            "_view_module": "@jupyter-widgets/base",
            "_model_module_version": "1.5.0",
            "_view_count": null,
            "_view_module_version": "1.2.0",
            "_model_module": "@jupyter-widgets/controls"
          }
        },
        "7649a477b8eb424ea67f7f2c3cf1ba15": {
          "model_module": "@jupyter-widgets/base",
          "model_name": "LayoutModel",
          "state": {
            "_view_name": "LayoutView",
            "grid_template_rows": null,
            "right": null,
            "justify_content": null,
            "_view_module": "@jupyter-widgets/base",
            "overflow": null,
            "_model_module_version": "1.2.0",
            "_view_count": null,
            "flex_flow": null,
            "width": null,
            "min_width": null,
            "border": null,
            "align_items": null,
            "bottom": null,
            "_model_module": "@jupyter-widgets/base",
            "top": null,
            "grid_column": null,
            "overflow_y": null,
            "overflow_x": null,
            "grid_auto_flow": null,
            "grid_area": null,
            "grid_template_columns": null,
            "flex": null,
            "_model_name": "LayoutModel",
            "justify_items": null,
            "grid_row": null,
            "max_height": null,
            "align_content": null,
            "visibility": null,
            "align_self": null,
            "height": null,
            "min_height": null,
            "padding": null,
            "grid_auto_rows": null,
            "grid_gap": null,
            "max_width": null,
            "order": null,
            "_view_module_version": "1.2.0",
            "grid_template_areas": null,
            "object_position": null,
            "object_fit": null,
            "grid_auto_columns": null,
            "margin": null,
            "display": null,
            "left": null
          }
        },
        "be6cf9edba404cba89d62c8d29ec4119": {
          "model_module": "@jupyter-widgets/controls",
          "model_name": "HBoxModel",
          "state": {
            "_view_name": "HBoxView",
            "_dom_classes": [],
            "_model_name": "HBoxModel",
            "_view_module": "@jupyter-widgets/controls",
            "_model_module_version": "1.5.0",
            "_view_count": null,
            "_view_module_version": "1.5.0",
            "box_style": "",
            "layout": "IPY_MODEL_628a910eadfc40689b80924f652c162a",
            "_model_module": "@jupyter-widgets/controls",
            "children": [
              "IPY_MODEL_e1d683f2ca4144278024b424b4cee3c0",
              "IPY_MODEL_b8a6c54ce2854357a486b59cf96b3cbb"
            ]
          }
        },
        "628a910eadfc40689b80924f652c162a": {
          "model_module": "@jupyter-widgets/base",
          "model_name": "LayoutModel",
          "state": {
            "_view_name": "LayoutView",
            "grid_template_rows": null,
            "right": null,
            "justify_content": null,
            "_view_module": "@jupyter-widgets/base",
            "overflow": null,
            "_model_module_version": "1.2.0",
            "_view_count": null,
            "flex_flow": null,
            "width": null,
            "min_width": null,
            "border": null,
            "align_items": null,
            "bottom": null,
            "_model_module": "@jupyter-widgets/base",
            "top": null,
            "grid_column": null,
            "overflow_y": null,
            "overflow_x": null,
            "grid_auto_flow": null,
            "grid_area": null,
            "grid_template_columns": null,
            "flex": null,
            "_model_name": "LayoutModel",
            "justify_items": null,
            "grid_row": null,
            "max_height": null,
            "align_content": null,
            "visibility": null,
            "align_self": null,
            "height": null,
            "min_height": null,
            "padding": null,
            "grid_auto_rows": null,
            "grid_gap": null,
            "max_width": null,
            "order": null,
            "_view_module_version": "1.2.0",
            "grid_template_areas": null,
            "object_position": null,
            "object_fit": null,
            "grid_auto_columns": null,
            "margin": null,
            "display": null,
            "left": null
          }
        },
        "e1d683f2ca4144278024b424b4cee3c0": {
          "model_module": "@jupyter-widgets/controls",
          "model_name": "FloatProgressModel",
          "state": {
            "_view_name": "ProgressView",
            "style": "IPY_MODEL_ec43a9c9b0884ea79f7d26b1797671da",
            "_dom_classes": [],
            "description": "100%",
            "_model_name": "FloatProgressModel",
            "bar_style": "success",
            "max": 1,
            "_view_module": "@jupyter-widgets/controls",
            "_model_module_version": "1.5.0",
            "value": 1,
            "_view_count": null,
            "_view_module_version": "1.5.0",
            "orientation": "horizontal",
            "min": 0,
            "description_tooltip": null,
            "_model_module": "@jupyter-widgets/controls",
            "layout": "IPY_MODEL_cc9959f39c234273899ffaa37e3d407c"
          }
        },
        "b8a6c54ce2854357a486b59cf96b3cbb": {
          "model_module": "@jupyter-widgets/controls",
          "model_name": "HTMLModel",
          "state": {
            "_view_name": "HTMLView",
            "style": "IPY_MODEL_38ed7ce1ea284df3895d32189d45cc7f",
            "_dom_classes": [],
            "description": "",
            "_model_name": "HTMLModel",
            "placeholder": "​",
            "_view_module": "@jupyter-widgets/controls",
            "_model_module_version": "1.5.0",
            "value": " 1/1 [00:00&lt;00:00,  2.34ba/s]",
            "_view_count": null,
            "_view_module_version": "1.5.0",
            "description_tooltip": null,
            "_model_module": "@jupyter-widgets/controls",
            "layout": "IPY_MODEL_a1575579654f4d4a9621a1422c9fc54d"
          }
        },
        "ec43a9c9b0884ea79f7d26b1797671da": {
          "model_module": "@jupyter-widgets/controls",
          "model_name": "ProgressStyleModel",
          "state": {
            "_view_name": "StyleView",
            "_model_name": "ProgressStyleModel",
            "description_width": "initial",
            "_view_module": "@jupyter-widgets/base",
            "_model_module_version": "1.5.0",
            "_view_count": null,
            "_view_module_version": "1.2.0",
            "bar_color": null,
            "_model_module": "@jupyter-widgets/controls"
          }
        },
        "cc9959f39c234273899ffaa37e3d407c": {
          "model_module": "@jupyter-widgets/base",
          "model_name": "LayoutModel",
          "state": {
            "_view_name": "LayoutView",
            "grid_template_rows": null,
            "right": null,
            "justify_content": null,
            "_view_module": "@jupyter-widgets/base",
            "overflow": null,
            "_model_module_version": "1.2.0",
            "_view_count": null,
            "flex_flow": null,
            "width": null,
            "min_width": null,
            "border": null,
            "align_items": null,
            "bottom": null,
            "_model_module": "@jupyter-widgets/base",
            "top": null,
            "grid_column": null,
            "overflow_y": null,
            "overflow_x": null,
            "grid_auto_flow": null,
            "grid_area": null,
            "grid_template_columns": null,
            "flex": null,
            "_model_name": "LayoutModel",
            "justify_items": null,
            "grid_row": null,
            "max_height": null,
            "align_content": null,
            "visibility": null,
            "align_self": null,
            "height": null,
            "min_height": null,
            "padding": null,
            "grid_auto_rows": null,
            "grid_gap": null,
            "max_width": null,
            "order": null,
            "_view_module_version": "1.2.0",
            "grid_template_areas": null,
            "object_position": null,
            "object_fit": null,
            "grid_auto_columns": null,
            "margin": null,
            "display": null,
            "left": null
          }
        },
        "38ed7ce1ea284df3895d32189d45cc7f": {
          "model_module": "@jupyter-widgets/controls",
          "model_name": "DescriptionStyleModel",
          "state": {
            "_view_name": "StyleView",
            "_model_name": "DescriptionStyleModel",
            "description_width": "",
            "_view_module": "@jupyter-widgets/base",
            "_model_module_version": "1.5.0",
            "_view_count": null,
            "_view_module_version": "1.2.0",
            "_model_module": "@jupyter-widgets/controls"
          }
        },
        "a1575579654f4d4a9621a1422c9fc54d": {
          "model_module": "@jupyter-widgets/base",
          "model_name": "LayoutModel",
          "state": {
            "_view_name": "LayoutView",
            "grid_template_rows": null,
            "right": null,
            "justify_content": null,
            "_view_module": "@jupyter-widgets/base",
            "overflow": null,
            "_model_module_version": "1.2.0",
            "_view_count": null,
            "flex_flow": null,
            "width": null,
            "min_width": null,
            "border": null,
            "align_items": null,
            "bottom": null,
            "_model_module": "@jupyter-widgets/base",
            "top": null,
            "grid_column": null,
            "overflow_y": null,
            "overflow_x": null,
            "grid_auto_flow": null,
            "grid_area": null,
            "grid_template_columns": null,
            "flex": null,
            "_model_name": "LayoutModel",
            "justify_items": null,
            "grid_row": null,
            "max_height": null,
            "align_content": null,
            "visibility": null,
            "align_self": null,
            "height": null,
            "min_height": null,
            "padding": null,
            "grid_auto_rows": null,
            "grid_gap": null,
            "max_width": null,
            "order": null,
            "_view_module_version": "1.2.0",
            "grid_template_areas": null,
            "object_position": null,
            "object_fit": null,
            "grid_auto_columns": null,
            "margin": null,
            "display": null,
            "left": null
          }
        },
        "ed693c18866d4af8b1cac7dec01f4e34": {
          "model_module": "@jupyter-widgets/controls",
          "model_name": "HBoxModel",
          "state": {
            "_view_name": "HBoxView",
            "_dom_classes": [],
            "_model_name": "HBoxModel",
            "_view_module": "@jupyter-widgets/controls",
            "_model_module_version": "1.5.0",
            "_view_count": null,
            "_view_module_version": "1.5.0",
            "box_style": "",
            "layout": "IPY_MODEL_b35ea27ab03b44baba1e1d1c2a2d85d2",
            "_model_module": "@jupyter-widgets/controls",
            "children": [
              "IPY_MODEL_7645100d2e484076b74cd7ead9ade31d",
              "IPY_MODEL_f03e533c88c34178a4b35f10c375a217"
            ]
          }
        },
        "b35ea27ab03b44baba1e1d1c2a2d85d2": {
          "model_module": "@jupyter-widgets/base",
          "model_name": "LayoutModel",
          "state": {
            "_view_name": "LayoutView",
            "grid_template_rows": null,
            "right": null,
            "justify_content": null,
            "_view_module": "@jupyter-widgets/base",
            "overflow": null,
            "_model_module_version": "1.2.0",
            "_view_count": null,
            "flex_flow": null,
            "width": null,
            "min_width": null,
            "border": null,
            "align_items": null,
            "bottom": null,
            "_model_module": "@jupyter-widgets/base",
            "top": null,
            "grid_column": null,
            "overflow_y": null,
            "overflow_x": null,
            "grid_auto_flow": null,
            "grid_area": null,
            "grid_template_columns": null,
            "flex": null,
            "_model_name": "LayoutModel",
            "justify_items": null,
            "grid_row": null,
            "max_height": null,
            "align_content": null,
            "visibility": null,
            "align_self": null,
            "height": null,
            "min_height": null,
            "padding": null,
            "grid_auto_rows": null,
            "grid_gap": null,
            "max_width": null,
            "order": null,
            "_view_module_version": "1.2.0",
            "grid_template_areas": null,
            "object_position": null,
            "object_fit": null,
            "grid_auto_columns": null,
            "margin": null,
            "display": null,
            "left": null
          }
        },
        "7645100d2e484076b74cd7ead9ade31d": {
          "model_module": "@jupyter-widgets/controls",
          "model_name": "FloatProgressModel",
          "state": {
            "_view_name": "ProgressView",
            "style": "IPY_MODEL_6c3923fa438b4a728d65d35a5ffd262e",
            "_dom_classes": [],
            "description": "Downloading: ",
            "_model_name": "FloatProgressModel",
            "bar_style": "success",
            "max": 1764,
            "_view_module": "@jupyter-widgets/controls",
            "_model_module_version": "1.5.0",
            "value": 1764,
            "_view_count": null,
            "_view_module_version": "1.5.0",
            "orientation": "horizontal",
            "min": 0,
            "description_tooltip": null,
            "_model_module": "@jupyter-widgets/controls",
            "layout": "IPY_MODEL_0c99f9278fdb43078b4a735f1d85e06a"
          }
        },
        "f03e533c88c34178a4b35f10c375a217": {
          "model_module": "@jupyter-widgets/controls",
          "model_name": "HTMLModel",
          "state": {
            "_view_name": "HTMLView",
            "style": "IPY_MODEL_c98a490467544a929708de1e614eb969",
            "_dom_classes": [],
            "description": "",
            "_model_name": "HTMLModel",
            "placeholder": "​",
            "_view_module": "@jupyter-widgets/controls",
            "_model_module_version": "1.5.0",
            "value": " 3.90k/? [00:36&lt;00:00, 106B/s]",
            "_view_count": null,
            "_view_module_version": "1.5.0",
            "description_tooltip": null,
            "_model_module": "@jupyter-widgets/controls",
            "layout": "IPY_MODEL_649b3f35b12146b5b038c79997b06ef5"
          }
        },
        "6c3923fa438b4a728d65d35a5ffd262e": {
          "model_module": "@jupyter-widgets/controls",
          "model_name": "ProgressStyleModel",
          "state": {
            "_view_name": "StyleView",
            "_model_name": "ProgressStyleModel",
            "description_width": "initial",
            "_view_module": "@jupyter-widgets/base",
            "_model_module_version": "1.5.0",
            "_view_count": null,
            "_view_module_version": "1.2.0",
            "bar_color": null,
            "_model_module": "@jupyter-widgets/controls"
          }
        },
        "0c99f9278fdb43078b4a735f1d85e06a": {
          "model_module": "@jupyter-widgets/base",
          "model_name": "LayoutModel",
          "state": {
            "_view_name": "LayoutView",
            "grid_template_rows": null,
            "right": null,
            "justify_content": null,
            "_view_module": "@jupyter-widgets/base",
            "overflow": null,
            "_model_module_version": "1.2.0",
            "_view_count": null,
            "flex_flow": null,
            "width": null,
            "min_width": null,
            "border": null,
            "align_items": null,
            "bottom": null,
            "_model_module": "@jupyter-widgets/base",
            "top": null,
            "grid_column": null,
            "overflow_y": null,
            "overflow_x": null,
            "grid_auto_flow": null,
            "grid_area": null,
            "grid_template_columns": null,
            "flex": null,
            "_model_name": "LayoutModel",
            "justify_items": null,
            "grid_row": null,
            "max_height": null,
            "align_content": null,
            "visibility": null,
            "align_self": null,
            "height": null,
            "min_height": null,
            "padding": null,
            "grid_auto_rows": null,
            "grid_gap": null,
            "max_width": null,
            "order": null,
            "_view_module_version": "1.2.0",
            "grid_template_areas": null,
            "object_position": null,
            "object_fit": null,
            "grid_auto_columns": null,
            "margin": null,
            "display": null,
            "left": null
          }
        },
        "c98a490467544a929708de1e614eb969": {
          "model_module": "@jupyter-widgets/controls",
          "model_name": "DescriptionStyleModel",
          "state": {
            "_view_name": "StyleView",
            "_model_name": "DescriptionStyleModel",
            "description_width": "",
            "_view_module": "@jupyter-widgets/base",
            "_model_module_version": "1.5.0",
            "_view_count": null,
            "_view_module_version": "1.2.0",
            "_model_module": "@jupyter-widgets/controls"
          }
        },
        "649b3f35b12146b5b038c79997b06ef5": {
          "model_module": "@jupyter-widgets/base",
          "model_name": "LayoutModel",
          "state": {
            "_view_name": "LayoutView",
            "grid_template_rows": null,
            "right": null,
            "justify_content": null,
            "_view_module": "@jupyter-widgets/base",
            "overflow": null,
            "_model_module_version": "1.2.0",
            "_view_count": null,
            "flex_flow": null,
            "width": null,
            "min_width": null,
            "border": null,
            "align_items": null,
            "bottom": null,
            "_model_module": "@jupyter-widgets/base",
            "top": null,
            "grid_column": null,
            "overflow_y": null,
            "overflow_x": null,
            "grid_auto_flow": null,
            "grid_area": null,
            "grid_template_columns": null,
            "flex": null,
            "_model_name": "LayoutModel",
            "justify_items": null,
            "grid_row": null,
            "max_height": null,
            "align_content": null,
            "visibility": null,
            "align_self": null,
            "height": null,
            "min_height": null,
            "padding": null,
            "grid_auto_rows": null,
            "grid_gap": null,
            "max_width": null,
            "order": null,
            "_view_module_version": "1.2.0",
            "grid_template_areas": null,
            "object_position": null,
            "object_fit": null,
            "grid_auto_columns": null,
            "margin": null,
            "display": null,
            "left": null
          }
        },
        "6f1970bba79b4a8797fd0604f0416f59": {
          "model_module": "@jupyter-widgets/controls",
          "model_name": "HBoxModel",
          "state": {
            "_view_name": "HBoxView",
            "_dom_classes": [],
            "_model_name": "HBoxModel",
            "_view_module": "@jupyter-widgets/controls",
            "_model_module_version": "1.5.0",
            "_view_count": null,
            "_view_module_version": "1.5.0",
            "box_style": "",
            "layout": "IPY_MODEL_e2f295e8739345a8967c7dc0eef3bf52",
            "_model_module": "@jupyter-widgets/controls",
            "children": [
              "IPY_MODEL_705e1733a64e40b580cd65b8da53e255",
              "IPY_MODEL_b380cfd5395140b7b85cd069b1ed70aa"
            ]
          }
        },
        "e2f295e8739345a8967c7dc0eef3bf52": {
          "model_module": "@jupyter-widgets/base",
          "model_name": "LayoutModel",
          "state": {
            "_view_name": "LayoutView",
            "grid_template_rows": null,
            "right": null,
            "justify_content": null,
            "_view_module": "@jupyter-widgets/base",
            "overflow": null,
            "_model_module_version": "1.2.0",
            "_view_count": null,
            "flex_flow": null,
            "width": null,
            "min_width": null,
            "border": null,
            "align_items": null,
            "bottom": null,
            "_model_module": "@jupyter-widgets/base",
            "top": null,
            "grid_column": null,
            "overflow_y": null,
            "overflow_x": null,
            "grid_auto_flow": null,
            "grid_area": null,
            "grid_template_columns": null,
            "flex": null,
            "_model_name": "LayoutModel",
            "justify_items": null,
            "grid_row": null,
            "max_height": null,
            "align_content": null,
            "visibility": null,
            "align_self": null,
            "height": null,
            "min_height": null,
            "padding": null,
            "grid_auto_rows": null,
            "grid_gap": null,
            "max_width": null,
            "order": null,
            "_view_module_version": "1.2.0",
            "grid_template_areas": null,
            "object_position": null,
            "object_fit": null,
            "grid_auto_columns": null,
            "margin": null,
            "display": null,
            "left": null
          }
        },
        "705e1733a64e40b580cd65b8da53e255": {
          "model_module": "@jupyter-widgets/controls",
          "model_name": "FloatProgressModel",
          "state": {
            "_view_name": "ProgressView",
            "style": "IPY_MODEL_b49541419d8f4b4e8527164e9e285c43",
            "_dom_classes": [],
            "description": "Downloading: 100%",
            "_model_name": "FloatProgressModel",
            "bar_style": "success",
            "max": 1451,
            "_view_module": "@jupyter-widgets/controls",
            "_model_module_version": "1.5.0",
            "value": 1451,
            "_view_count": null,
            "_view_module_version": "1.5.0",
            "orientation": "horizontal",
            "min": 0,
            "description_tooltip": null,
            "_model_module": "@jupyter-widgets/controls",
            "layout": "IPY_MODEL_05f877c03bb440828e37ca1f78cb4549"
          }
        },
        "b380cfd5395140b7b85cd069b1ed70aa": {
          "model_module": "@jupyter-widgets/controls",
          "model_name": "HTMLModel",
          "state": {
            "_view_name": "HTMLView",
            "style": "IPY_MODEL_c3f0e373c2034cdaa3ee7e99b56d468c",
            "_dom_classes": [],
            "description": "",
            "_model_name": "HTMLModel",
            "placeholder": "​",
            "_view_module": "@jupyter-widgets/controls",
            "_model_module_version": "1.5.0",
            "value": " 1.45k/1.45k [00:30&lt;00:00, 47.2B/s]",
            "_view_count": null,
            "_view_module_version": "1.5.0",
            "description_tooltip": null,
            "_model_module": "@jupyter-widgets/controls",
            "layout": "IPY_MODEL_588e805082e34e2ea7c9e666434c4342"
          }
        },
        "b49541419d8f4b4e8527164e9e285c43": {
          "model_module": "@jupyter-widgets/controls",
          "model_name": "ProgressStyleModel",
          "state": {
            "_view_name": "StyleView",
            "_model_name": "ProgressStyleModel",
            "description_width": "initial",
            "_view_module": "@jupyter-widgets/base",
            "_model_module_version": "1.5.0",
            "_view_count": null,
            "_view_module_version": "1.2.0",
            "bar_color": null,
            "_model_module": "@jupyter-widgets/controls"
          }
        },
        "05f877c03bb440828e37ca1f78cb4549": {
          "model_module": "@jupyter-widgets/base",
          "model_name": "LayoutModel",
          "state": {
            "_view_name": "LayoutView",
            "grid_template_rows": null,
            "right": null,
            "justify_content": null,
            "_view_module": "@jupyter-widgets/base",
            "overflow": null,
            "_model_module_version": "1.2.0",
            "_view_count": null,
            "flex_flow": null,
            "width": null,
            "min_width": null,
            "border": null,
            "align_items": null,
            "bottom": null,
            "_model_module": "@jupyter-widgets/base",
            "top": null,
            "grid_column": null,
            "overflow_y": null,
            "overflow_x": null,
            "grid_auto_flow": null,
            "grid_area": null,
            "grid_template_columns": null,
            "flex": null,
            "_model_name": "LayoutModel",
            "justify_items": null,
            "grid_row": null,
            "max_height": null,
            "align_content": null,
            "visibility": null,
            "align_self": null,
            "height": null,
            "min_height": null,
            "padding": null,
            "grid_auto_rows": null,
            "grid_gap": null,
            "max_width": null,
            "order": null,
            "_view_module_version": "1.2.0",
            "grid_template_areas": null,
            "object_position": null,
            "object_fit": null,
            "grid_auto_columns": null,
            "margin": null,
            "display": null,
            "left": null
          }
        },
        "c3f0e373c2034cdaa3ee7e99b56d468c": {
          "model_module": "@jupyter-widgets/controls",
          "model_name": "DescriptionStyleModel",
          "state": {
            "_view_name": "StyleView",
            "_model_name": "DescriptionStyleModel",
            "description_width": "",
            "_view_module": "@jupyter-widgets/base",
            "_model_module_version": "1.5.0",
            "_view_count": null,
            "_view_module_version": "1.2.0",
            "_model_module": "@jupyter-widgets/controls"
          }
        },
        "588e805082e34e2ea7c9e666434c4342": {
          "model_module": "@jupyter-widgets/base",
          "model_name": "LayoutModel",
          "state": {
            "_view_name": "LayoutView",
            "grid_template_rows": null,
            "right": null,
            "justify_content": null,
            "_view_module": "@jupyter-widgets/base",
            "overflow": null,
            "_model_module_version": "1.2.0",
            "_view_count": null,
            "flex_flow": null,
            "width": null,
            "min_width": null,
            "border": null,
            "align_items": null,
            "bottom": null,
            "_model_module": "@jupyter-widgets/base",
            "top": null,
            "grid_column": null,
            "overflow_y": null,
            "overflow_x": null,
            "grid_auto_flow": null,
            "grid_area": null,
            "grid_template_columns": null,
            "flex": null,
            "_model_name": "LayoutModel",
            "justify_items": null,
            "grid_row": null,
            "max_height": null,
            "align_content": null,
            "visibility": null,
            "align_self": null,
            "height": null,
            "min_height": null,
            "padding": null,
            "grid_auto_rows": null,
            "grid_gap": null,
            "max_width": null,
            "order": null,
            "_view_module_version": "1.2.0",
            "grid_template_areas": null,
            "object_position": null,
            "object_fit": null,
            "grid_auto_columns": null,
            "margin": null,
            "display": null,
            "left": null
          }
        },
        "0a3e859678ef48c2b356c26f2df2a001": {
          "model_module": "@jupyter-widgets/controls",
          "model_name": "HBoxModel",
          "state": {
            "_view_name": "HBoxView",
            "_dom_classes": [],
            "_model_name": "HBoxModel",
            "_view_module": "@jupyter-widgets/controls",
            "_model_module_version": "1.5.0",
            "_view_count": null,
            "_view_module_version": "1.5.0",
            "box_style": "",
            "layout": "IPY_MODEL_73716b75707a4ac3afe13e37c3047b29",
            "_model_module": "@jupyter-widgets/controls",
            "children": [
              "IPY_MODEL_e2838116fcc743b092c085f0273b0b25",
              "IPY_MODEL_e620f908d3354dd5b68748461ac11f2b"
            ]
          }
        },
        "73716b75707a4ac3afe13e37c3047b29": {
          "model_module": "@jupyter-widgets/base",
          "model_name": "LayoutModel",
          "state": {
            "_view_name": "LayoutView",
            "grid_template_rows": null,
            "right": null,
            "justify_content": null,
            "_view_module": "@jupyter-widgets/base",
            "overflow": null,
            "_model_module_version": "1.2.0",
            "_view_count": null,
            "flex_flow": null,
            "width": null,
            "min_width": null,
            "border": null,
            "align_items": null,
            "bottom": null,
            "_model_module": "@jupyter-widgets/base",
            "top": null,
            "grid_column": null,
            "overflow_y": null,
            "overflow_x": null,
            "grid_auto_flow": null,
            "grid_area": null,
            "grid_template_columns": null,
            "flex": null,
            "_model_name": "LayoutModel",
            "justify_items": null,
            "grid_row": null,
            "max_height": null,
            "align_content": null,
            "visibility": null,
            "align_self": null,
            "height": null,
            "min_height": null,
            "padding": null,
            "grid_auto_rows": null,
            "grid_gap": null,
            "max_width": null,
            "order": null,
            "_view_module_version": "1.2.0",
            "grid_template_areas": null,
            "object_position": null,
            "object_fit": null,
            "grid_auto_columns": null,
            "margin": null,
            "display": null,
            "left": null
          }
        },
        "e2838116fcc743b092c085f0273b0b25": {
          "model_module": "@jupyter-widgets/controls",
          "model_name": "FloatProgressModel",
          "state": {
            "_view_name": "ProgressView",
            "style": "IPY_MODEL_e398caf0342e44a6adc686377ccbdfcf",
            "_dom_classes": [],
            "description": "Downloading: 100%",
            "_model_name": "FloatProgressModel",
            "bar_style": "success",
            "max": 1261920069,
            "_view_module": "@jupyter-widgets/controls",
            "_model_module_version": "1.5.0",
            "value": 1261920069,
            "_view_count": null,
            "_view_module_version": "1.5.0",
            "orientation": "horizontal",
            "min": 0,
            "description_tooltip": null,
            "_model_module": "@jupyter-widgets/controls",
            "layout": "IPY_MODEL_346ee7479ed148688b9b7f155fb9d61d"
          }
        },
        "e620f908d3354dd5b68748461ac11f2b": {
          "model_module": "@jupyter-widgets/controls",
          "model_name": "HTMLModel",
          "state": {
            "_view_name": "HTMLView",
            "style": "IPY_MODEL_f5022fb0c7724ef68033a45eb20ded6f",
            "_dom_classes": [],
            "description": "",
            "_model_name": "HTMLModel",
            "placeholder": "​",
            "_view_module": "@jupyter-widgets/controls",
            "_model_module_version": "1.5.0",
            "value": " 1.26G/1.26G [00:28&lt;00:00, 43.7MB/s]",
            "_view_count": null,
            "_view_module_version": "1.5.0",
            "description_tooltip": null,
            "_model_module": "@jupyter-widgets/controls",
            "layout": "IPY_MODEL_588ffb0f38b441d0aab1084cab23bb19"
          }
        },
        "e398caf0342e44a6adc686377ccbdfcf": {
          "model_module": "@jupyter-widgets/controls",
          "model_name": "ProgressStyleModel",
          "state": {
            "_view_name": "StyleView",
            "_model_name": "ProgressStyleModel",
            "description_width": "initial",
            "_view_module": "@jupyter-widgets/base",
            "_model_module_version": "1.5.0",
            "_view_count": null,
            "_view_module_version": "1.2.0",
            "bar_color": null,
            "_model_module": "@jupyter-widgets/controls"
          }
        },
        "346ee7479ed148688b9b7f155fb9d61d": {
          "model_module": "@jupyter-widgets/base",
          "model_name": "LayoutModel",
          "state": {
            "_view_name": "LayoutView",
            "grid_template_rows": null,
            "right": null,
            "justify_content": null,
            "_view_module": "@jupyter-widgets/base",
            "overflow": null,
            "_model_module_version": "1.2.0",
            "_view_count": null,
            "flex_flow": null,
            "width": null,
            "min_width": null,
            "border": null,
            "align_items": null,
            "bottom": null,
            "_model_module": "@jupyter-widgets/base",
            "top": null,
            "grid_column": null,
            "overflow_y": null,
            "overflow_x": null,
            "grid_auto_flow": null,
            "grid_area": null,
            "grid_template_columns": null,
            "flex": null,
            "_model_name": "LayoutModel",
            "justify_items": null,
            "grid_row": null,
            "max_height": null,
            "align_content": null,
            "visibility": null,
            "align_self": null,
            "height": null,
            "min_height": null,
            "padding": null,
            "grid_auto_rows": null,
            "grid_gap": null,
            "max_width": null,
            "order": null,
            "_view_module_version": "1.2.0",
            "grid_template_areas": null,
            "object_position": null,
            "object_fit": null,
            "grid_auto_columns": null,
            "margin": null,
            "display": null,
            "left": null
          }
        },
        "f5022fb0c7724ef68033a45eb20ded6f": {
          "model_module": "@jupyter-widgets/controls",
          "model_name": "DescriptionStyleModel",
          "state": {
            "_view_name": "StyleView",
            "_model_name": "DescriptionStyleModel",
            "description_width": "",
            "_view_module": "@jupyter-widgets/base",
            "_model_module_version": "1.5.0",
            "_view_count": null,
            "_view_module_version": "1.2.0",
            "_model_module": "@jupyter-widgets/controls"
          }
        },
        "588ffb0f38b441d0aab1084cab23bb19": {
          "model_module": "@jupyter-widgets/base",
          "model_name": "LayoutModel",
          "state": {
            "_view_name": "LayoutView",
            "grid_template_rows": null,
            "right": null,
            "justify_content": null,
            "_view_module": "@jupyter-widgets/base",
            "overflow": null,
            "_model_module_version": "1.2.0",
            "_view_count": null,
            "flex_flow": null,
            "width": null,
            "min_width": null,
            "border": null,
            "align_items": null,
            "bottom": null,
            "_model_module": "@jupyter-widgets/base",
            "top": null,
            "grid_column": null,
            "overflow_y": null,
            "overflow_x": null,
            "grid_auto_flow": null,
            "grid_area": null,
            "grid_template_columns": null,
            "flex": null,
            "_model_name": "LayoutModel",
            "justify_items": null,
            "grid_row": null,
            "max_height": null,
            "align_content": null,
            "visibility": null,
            "align_self": null,
            "height": null,
            "min_height": null,
            "padding": null,
            "grid_auto_rows": null,
            "grid_gap": null,
            "max_width": null,
            "order": null,
            "_view_module_version": "1.2.0",
            "grid_template_areas": null,
            "object_position": null,
            "object_fit": null,
            "grid_auto_columns": null,
            "margin": null,
            "display": null,
            "left": null
          }
        }
      }
    }
  },
  "cells": [
    {
      "cell_type": "code",
      "metadata": {
        "colab": {
          "base_uri": "https://localhost:8080/"
        },
        "id": "pJbYXou6chZf",
        "outputId": "27761094-2b46-4a58-f4e3-aabaa36fed55"
      },
      "source": [
        "!nvidia-smi"
      ],
      "execution_count": 1,
      "outputs": [
        {
          "output_type": "stream",
          "text": [
            "Fri Mar 19 13:22:34 2021       \n",
            "+-----------------------------------------------------------------------------+\n",
            "| NVIDIA-SMI 460.56       Driver Version: 460.32.03    CUDA Version: 11.2     |\n",
            "|-------------------------------+----------------------+----------------------+\n",
            "| GPU  Name        Persistence-M| Bus-Id        Disp.A | Volatile Uncorr. ECC |\n",
            "| Fan  Temp  Perf  Pwr:Usage/Cap|         Memory-Usage | GPU-Util  Compute M. |\n",
            "|                               |                      |               MIG M. |\n",
            "|===============================+======================+======================|\n",
            "|   0  Tesla P100-PCIE...  Off  | 00000000:00:04.0 Off |                    0 |\n",
            "| N/A   42C    P0    27W / 250W |      0MiB / 16280MiB |      0%      Default |\n",
            "|                               |                      |                  N/A |\n",
            "+-------------------------------+----------------------+----------------------+\n",
            "                                                                               \n",
            "+-----------------------------------------------------------------------------+\n",
            "| Processes:                                                                  |\n",
            "|  GPU   GI   CI        PID   Type   Process name                  GPU Memory |\n",
            "|        ID   ID                                                   Usage      |\n",
            "|=============================================================================|\n",
            "|  No running processes found                                                 |\n",
            "+-----------------------------------------------------------------------------+\n"
          ],
          "name": "stdout"
        }
      ]
    },
    {
      "cell_type": "code",
      "metadata": {
        "id": "plw9ASnSOFrZ"
      },
      "source": [
        "from google.colab import drive\n",
        "\n",
        "drive.mount('/content/gdrive/', force_remount=True)"
      ],
      "execution_count": 3,
      "outputs": []
    },
    {
      "cell_type": "code",
      "metadata": {
        "colab": {
          "base_uri": "https://localhost:8080/"
        },
        "id": "2dV9yHXoMfkV",
        "outputId": "fc2cc7ae-832b-4c57-c4d0-16cbf815e084"
      },
      "source": [
        "!df -h"
      ],
      "execution_count": 4,
      "outputs": [
        {
          "output_type": "stream",
          "text": [
            "Filesystem      Size  Used Avail Use% Mounted on\n",
            "overlay          69G   39G   30G  57% /\n",
            "tmpfs            64M     0   64M   0% /dev\n",
            "tmpfs            13G     0   13G   0% /sys/fs/cgroup\n",
            "shm              13G     0   13G   0% /dev/shm\n",
            "tmpfs            13G   24K   13G   1% /var/colab\n",
            "/dev/sda1        75G   40G   35G  54% /opt/bin\n",
            "tmpfs            13G     0   13G   0% /proc/acpi\n",
            "tmpfs            13G     0   13G   0% /proc/scsi\n",
            "tmpfs            13G     0   13G   0% /sys/firmware\n"
          ],
          "name": "stdout"
        }
      ]
    },
    {
      "cell_type": "code",
      "metadata": {
        "colab": {
          "base_uri": "https://localhost:8080/"
        },
        "id": "hBAzWHEuRmlu",
        "outputId": "701548c0-454e-4222-d230-21725d2cac32"
      },
      "source": [
        "%env LC_ALL=C.UTF-8\n",
        "%env LANG=C.UTF-8\n",
        "%env TRANSFORMERS_CACHE=/content/cache\n",
        "%env HF_DATASETS_CACHE=/content/cache\n",
        "%env CUDA_LAUNCH_BLOCKING=1"
      ],
      "execution_count": 2,
      "outputs": [
        {
          "output_type": "stream",
          "text": [
            "env: LC_ALL=C.UTF-8\n",
            "env: LANG=C.UTF-8\n",
            "env: TRANSFORMERS_CACHE=/content/cache\n",
            "env: HF_DATASETS_CACHE=/content/cache\n",
            "env: CUDA_LAUNCH_BLOCKING=1\n"
          ],
          "name": "stdout"
        }
      ]
    },
    {
      "cell_type": "markdown",
      "metadata": {
        "id": "LBSYoWbi-45k"
      },
      "source": [
        "# **Fine-tuning XLSR-Wav2Vec2 for Multi-Lingual ASR with 🤗 Transformers**"
      ]
    },
    {
      "cell_type": "markdown",
      "metadata": {
        "id": "V7YOT2mnUiea"
      },
      "source": [
        "Wav2Vec2 is a pretrained model for Automatic Speech Recognition (ASR) and was released in [September 2020](https://ai.facebook.com/blog/wav2vec-20-learning-the-structure-of-speech-from-raw-audio/) by Alexei Baevski, Michael Auli, and Alex Conneau.  Soon after the superior performance of Wav2Vec2 was demonstrated on the English ASR dataset LibriSpeech, *Facebook AI* presented XLSR-Wav2Vec2 (click [here](https://arxiv.org/abs/2006.13979)). XLSR stands for *cross-lingual  speech representations* and refers to XLSR-Wav2Vec2`s ability to learn speech representations that are useful across multiple languages.\n",
        "\n",
        "Similar to Wav2Vec2, XLSR-Wav2Vec2 learns powerful speech representations from hundreds of thousands of hours of speech in more than 50 languages of unlabeled speech. Similar, to [BERT's masked language modeling](http://jalammar.github.io/illustrated-bert/), the model learns contextualized speech representations by randomly masking feature vectors before passing them to a transformer network.\n",
        "\n",
        "![wav2vec2_structure](https://raw.githubusercontent.com/patrickvonplaten/scientific_images/master/xlsr_wav2vec2.png)\n",
        "\n",
        "The authors show for the first time that massively pretraining an ASR model on cross-lingual unlabeled speech data, followed by language-specific fine-tuning on very little labeled data achieves state-of-the-art results. See Table 1-5 of the official [paper](https://arxiv.org/pdf/2006.13979.pdf)."
      ]
    },
    {
      "cell_type": "markdown",
      "metadata": {
        "id": "nT_QrfWtsxIz"
      },
      "source": [
        "In this notebook, we will give an in-detail explanation of how XLSR-Wav2Vec2's pretrained checkpoint can be fine-tuned on a low-resource ASR dataset of any language. Note that in this notebook, we will fine-tune XLSR-Wav2Vec2 without making use of a language model. It is much simpler and more efficient to use XLSR-Wav2Vec2 without a language model, but better results can be achieved by including a language model. \n",
        "\n",
        "For demonstration purposes, we fine-tune the [wav2vec2-large-xlsr-53](https://huggingface.co/facebook/wav2vec2-large-xlsr-53) on the low resource Turkish ASR dataset of [Common Voice](https://huggingface.co/datasets/common_voice) that contains just ~6h of validated training data."
      ]
    },
    {
      "cell_type": "markdown",
      "metadata": {
        "id": "Gx9OdDYrCtQ1"
      },
      "source": [
        "XLSR-Wav2Vec2 is fine-tuned using Connectionist Temporal Classification (CTC), which is an algorithm that is used to train neural networks for sequence-to-sequence problems and mainly in Automatic Speech Recognition and handwriting recognition. \n",
        "\n",
        "I highly recommend reading the blog post [Sequence Modeling with CTC (2017)](https://distill.pub/2017/ctc/) very well-written blog post by Awni Hannun."
      ]
    },
    {
      "cell_type": "markdown",
      "metadata": {
        "id": "e335hPmdtASZ"
      },
      "source": [
        "Before we start, let's install both `datasets` and `transformers` from master. Also, we need the `torchaudio` and `librosa` package to load audio files and the `jiwer` to evaluate our fine-tuned model using the [word error rate (WER)](https://huggingface.co/metrics/wer) metric ${}^1$."
      ]
    },
    {
      "cell_type": "code",
      "metadata": {
        "id": "c8eh87Hoee5d"
      },
      "source": [
        "%%capture\n",
        "!pip install git+https://github.com/huggingface/datasets.git\n",
        "!pip install git+https://github.com/huggingface/transformers.git\n",
        "!pip install torchaudio\n",
        "!pip install librosa\n",
        "!pip install jiwer\n",
        "!pip install wandb"
      ],
      "execution_count": 3,
      "outputs": []
    },
    {
      "cell_type": "code",
      "metadata": {
        "id": "6hayHlRxfluv"
      },
      "source": [
        "%env WANDB_PROJECT=YOURNAME\n",
        "!wandb login YOURTOKEN --relogin"
      ],
      "execution_count": null,
      "outputs": []
    },
    {
      "cell_type": "markdown",
      "metadata": {
        "id": "Mn9swf6EQ9Vd"
      },
      "source": [
        "\n",
        "\n",
        "\n",
        "---\n",
        "\n",
        "${}^1$ In the [paper](https://arxiv.org/pdf/2006.13979.pdf), the model was evaluated using the phoneme error rate (PER), but by far the most common metric in ASR is the word error rate (WER). To keep this notebook as general as possible we decided to evaluate the model using WER."
      ]
    },
    {
      "cell_type": "markdown",
      "metadata": {
        "id": "p72Iadsj8V6z"
      },
      "source": [
        ""
      ]
    },
    {
      "cell_type": "markdown",
      "metadata": {
        "id": "0mW-C1Nt-j7k"
      },
      "source": [
        "## Prepare Data, Tokenizer, Feature Extractor"
      ]
    },
    {
      "cell_type": "markdown",
      "metadata": {
        "id": "BeBosnY9BH3e"
      },
      "source": [
        "ASR models transcribe speech to text, which means that we both need a feature extractor that processes the speech signal to the model's input format, *e.g.* a feature vector, and a tokenizer that processes the model's output format to text. \n",
        "\n",
        "In 🤗 Transformers, the XLSR-Wav2Vec2 model is thus accompanied by both a tokenizer, called [Wav2Vec2CTCTokenizer](https://huggingface.co/transformers/master/model_doc/wav2vec2.html#wav2vec2ctctokenizer), and a feature extractor, called [Wav2Vec2FeatureExtractor](https://huggingface.co/transformers/master/model_doc/wav2vec2.html#wav2vec2featureextractor).\n",
        "\n",
        "Let's start by creating the tokenizer responsible for decoding the model's predictions."
      ]
    },
    {
      "cell_type": "markdown",
      "metadata": {
        "id": "sEXEWEJGQPqD"
      },
      "source": [
        "### Create Wav2Vec2CTCTokenizer"
      ]
    },
    {
      "cell_type": "markdown",
      "metadata": {
        "id": "tWmMikuNEKl_"
      },
      "source": [
        "The [pretrained Wav2Vec2 checkpoint]( ) maps the speech signal to a sequence of context representations as illustrated in the figure above. A fine-tuned XLSR-Wav2Vec2 checkpoint needs to map this sequence of context representations to its corresponding transcription so that a linear layer has to be added on top of the transformer block (shown in yellow). This linear layer is used to classifies each context representation to a token class analogous how, *e.g.*, after pretraining a linear layer is added on top of BERT's embeddings for further classification - *cf.* with *\"BERT\"* section of this [blog post](https://huggingface.co/blog/warm-starting-encoder-decoder).\n",
        "\n",
        "The output size of this layer corresponds to the number of tokens in the vocabulary, which does **not** depend on XLSR-Wav2Vec2's pretraining task, but only on the labeled dataset used for fine-tuning. So in the first step, we will take a look at Common Voice and define a vocabulary based on the dataset's transcriptions."
      ]
    },
    {
      "cell_type": "markdown",
      "metadata": {
        "id": "idBczw8mWzgt"
      },
      "source": [
        "First, let's go to [Common Voice](https://commonvoice.mozilla.org/en) and pick your favorite language you would like to fine-tune XLSR-Wav2Vec2 on. For this notebook, we will use Turkish.  Some languages have very little transcribed data, so it might be sensible to search for more transcribed data for this language and include it in the training data. We can use the following link:\n",
        "\n",
        "```\n",
        "https://voice-prod-bundler-ee1969a6ce8178826482b88e843c335139bd3fb4.s3.amazonaws.com/cv-corpus-6.1-2020-12-11/{lang}.tar.gz\n",
        "```\n",
        "\n",
        "as the downwload link for any language of the 6.1 version of Common Voice. You simply have to replace `{lang}` with the language code of your selected language on [Common Voice Dataset](https://commonvoice.mozilla.org/en/datasets). The language code can be found in the filed \"*Version*\" as the prefix before the underscore.\n",
        "For Turkish, the language code is `tr`."
      ]
    },
    {
      "cell_type": "code",
      "metadata": {
        "colab": {
          "base_uri": "https://localhost:8080/"
        },
        "id": "afNe1N8mXNfp",
        "outputId": "b34100ab-5d83-4459-de72-24ba62a643f1"
      },
      "source": [
        "!rm -rf /content/cv-corpus-6.1-2020-12-11\n",
        "!wget https://voice-prod-bundler-ee1969a6ce8178826482b88e843c335139bd3fb4.s3.amazonaws.com/cv-corpus-6.1-2020-12-11/tr.tar.gz"
      ],
      "execution_count": 4,
      "outputs": [
        {
          "output_type": "stream",
          "text": [
            "--2021-03-19 13:23:53--  https://voice-prod-bundler-ee1969a6ce8178826482b88e843c335139bd3fb4.s3.amazonaws.com/cv-corpus-6.1-2020-12-11/tr.tar.gz\n",
            "Resolving voice-prod-bundler-ee1969a6ce8178826482b88e843c335139bd3fb4.s3.amazonaws.com (voice-prod-bundler-ee1969a6ce8178826482b88e843c335139bd3fb4.s3.amazonaws.com)... 52.218.208.194\n",
            "Connecting to voice-prod-bundler-ee1969a6ce8178826482b88e843c335139bd3fb4.s3.amazonaws.com (voice-prod-bundler-ee1969a6ce8178826482b88e843c335139bd3fb4.s3.amazonaws.com)|52.218.208.194|:443... connected.\n",
            "HTTP request sent, awaiting response... 200 OK\n",
            "Length: 620848700 (592M) [application/octet-stream]\n",
            "Saving to: ‘tr.tar.gz’\n",
            "\n",
            "tr.tar.gz           100%[===================>] 592.09M  63.8MB/s    in 9.6s    \n",
            "\n",
            "2021-03-19 13:24:03 (61.6 MB/s) - ‘tr.tar.gz’ saved [620848700/620848700]\n",
            "\n"
          ],
          "name": "stdout"
        }
      ]
    },
    {
      "cell_type": "markdown",
      "metadata": {
        "id": "E0nV6zlzX-M5"
      },
      "source": [
        "Cool, let's copy the downloaded file name from the output of the cell above and unzip it."
      ]
    },
    {
      "cell_type": "code",
      "metadata": {
        "id": "bTjNp2KUYAl8"
      },
      "source": [
        "!tar -xzf tr.tar.gz"
      ],
      "execution_count": 5,
      "outputs": []
    },
    {
      "cell_type": "code",
      "metadata": {
        "id": "Yiy0eY0YAlai"
      },
      "source": [
        "!rm -rf fa.tar.gz"
      ],
      "execution_count": 6,
      "outputs": []
    },
    {
      "cell_type": "markdown",
      "metadata": {
        "id": "DxO8BRTgYayX"
      },
      "source": [
        "The data is now saved under `./cv-corpus-6.1-2020-12-11`. We can leverage datasets now to preprocess the dataset."
      ]
    },
    {
      "cell_type": "markdown",
      "metadata": {
        "id": "bee4g9rpLxll"
      },
      "source": [
        "Let's start by loading the dataset and taking a look at its structure. [Common Voice](https://huggingface.co/datasets/common_voice) has many different splits including `invalidated`, which refers to data that was not rated as \"clean enough\" to be considered useful. Because the Turkish dataset is so small, we will merge both the validation and training data into a training dataset and simply use the test data for validation.\n",
        "\n",
        "**Note**: the second argument of `load_dataset(...)` corresponds to the same language code used above to download the dataset. Simply \n",
        "replace `\"tr\"` by the correct language code."
      ]
    },
    {
      "cell_type": "code",
      "metadata": {
        "id": "8GVzq4cpr-e2"
      },
      "source": [
        "from datasets import load_dataset, load_metric\n",
        "\n",
        "import pandas as pd\n",
        "import numpy as np\n",
        "\n",
        "from tqdm import tqdm\n",
        "\n",
        "import os\n",
        "import string\n",
        "import six\n",
        "import re"
      ],
      "execution_count": 7,
      "outputs": []
    },
    {
      "cell_type": "code",
      "metadata": {
        "id": "2MMXcWFFgCXU"
      },
      "source": [
        "# from datasets import load_dataset, load_metric\n",
        "\n",
        "# common_voice_train = load_dataset(\"common_voice\", \"tr\", split=\"train+validation\")\n",
        "# common_voice_test = load_dataset(\"common_voice\", \"tr\", split=\"test\")"
      ],
      "execution_count": 8,
      "outputs": []
    },
    {
      "cell_type": "code",
      "metadata": {
        "colab": {
          "base_uri": "https://localhost:8080/"
        },
        "id": "jsjq7tG_38Q4",
        "outputId": "0c3cf50c-d293-4e36-b194-7c70e2bfe7ca"
      },
      "source": [
        "abs_path_to_data = os.path.join(\"/content\", \"cv-corpus-6.1-2020-12-11\", \"tr\")\n",
        "!ls {abs_path_to_data}/*.tsv"
      ],
      "execution_count": 9,
      "outputs": [
        {
          "output_type": "stream",
          "text": [
            "/content/cv-corpus-6.1-2020-12-11/tr/dev.tsv\n",
            "/content/cv-corpus-6.1-2020-12-11/tr/invalidated.tsv\n",
            "/content/cv-corpus-6.1-2020-12-11/tr/other.tsv\n",
            "/content/cv-corpus-6.1-2020-12-11/tr/reported.tsv\n",
            "/content/cv-corpus-6.1-2020-12-11/tr/test.tsv\n",
            "/content/cv-corpus-6.1-2020-12-11/tr/train.tsv\n",
            "/content/cv-corpus-6.1-2020-12-11/tr/validated.tsv\n"
          ],
          "name": "stdout"
        }
      ]
    },
    {
      "cell_type": "code",
      "metadata": {
        "id": "eUYLMloEgCev"
      },
      "source": [
        "def normalizer(text):\n",
        "    # Use your custom normalizer\n",
        "    return text"
      ],
      "execution_count": 10,
      "outputs": []
    },
    {
      "cell_type": "code",
      "metadata": {
        "colab": {
          "base_uri": "https://localhost:8080/",
          "height": 537
        },
        "id": "iqh_Yj1N4OEe",
        "outputId": "64ad2b3d-433f-478a-fb8e-32c5a75489f1"
      },
      "source": [
        "train_df = pd.concat([\n",
        "    pd.read_csv(f\"{abs_path_to_data}/train.tsv\", sep=\"\\t\"),\n",
        "    pd.read_csv(f\"{abs_path_to_data}/dev.tsv\", sep=\"\\t\")\n",
        "])\n",
        "_train_df = train_df.copy()\n",
        "total_records = len(train_df)\n",
        "train_df[\"id\"] = range(0, total_records)\n",
        "print(f\"Step 0: {len(train_df)}\")\n",
        "\n",
        "train_df[\"path\"] = abs_path_to_data + \"/clips/\" + train_df[\"path\"]\n",
        "train_df[\"status\"] = train_df[\"path\"].apply(lambda path: True if os.path.exists(path) else None)\n",
        "train_df = train_df.dropna(subset=[\"path\"])\n",
        "train_df = train_df.drop(\"status\", 1)\n",
        "print(f\"Step 1: {len(train_df)}\")\n",
        "\n",
        "train_df[\"sentence\"] = train_df[\"sentence\"].apply(lambda t: normalizer(t))\n",
        "train_df = train_df.dropna(subset=[\"sentence\"])\n",
        "print(f\"Step 2: {len(train_df)}\")\n",
        "\n",
        "term_a = set(list(range(0, total_records)))\n",
        "term_b = set(train_df[\"id\"].values.tolist())\n",
        "removed_items_train = [_train_df.iloc[index][\"path\"] for index in list(term_a - term_b)]\n",
        "train_df = train_df.reset_index(drop=True)\n",
        "train_df.head()"
      ],
      "execution_count": 11,
      "outputs": [
        {
          "output_type": "stream",
          "text": [
            "Step 0: 3478\n",
            "Step 1: 3478\n",
            "Step 2: 3478\n"
          ],
          "name": "stdout"
        },
        {
          "output_type": "execute_result",
          "data": {
            "text/html": [
              "<div>\n",
              "<style scoped>\n",
              "    .dataframe tbody tr th:only-of-type {\n",
              "        vertical-align: middle;\n",
              "    }\n",
              "\n",
              "    .dataframe tbody tr th {\n",
              "        vertical-align: top;\n",
              "    }\n",
              "\n",
              "    .dataframe thead th {\n",
              "        text-align: right;\n",
              "    }\n",
              "</style>\n",
              "<table border=\"1\" class=\"dataframe\">\n",
              "  <thead>\n",
              "    <tr style=\"text-align: right;\">\n",
              "      <th></th>\n",
              "      <th>client_id</th>\n",
              "      <th>path</th>\n",
              "      <th>sentence</th>\n",
              "      <th>up_votes</th>\n",
              "      <th>down_votes</th>\n",
              "      <th>age</th>\n",
              "      <th>gender</th>\n",
              "      <th>accent</th>\n",
              "      <th>locale</th>\n",
              "      <th>segment</th>\n",
              "      <th>id</th>\n",
              "    </tr>\n",
              "  </thead>\n",
              "  <tbody>\n",
              "    <tr>\n",
              "      <th>0</th>\n",
              "      <td>1247f4ec7e5d946d898fbd57208f63948572b4d6b679b8...</td>\n",
              "      <td>/content/cv-corpus-6.1-2020-12-11/tr/clips/com...</td>\n",
              "      <td>Pirin sözleri hâlâ yankılanıyor.</td>\n",
              "      <td>2</td>\n",
              "      <td>0</td>\n",
              "      <td>teens</td>\n",
              "      <td>male</td>\n",
              "      <td>NaN</td>\n",
              "      <td>tr</td>\n",
              "      <td>NaN</td>\n",
              "      <td>0</td>\n",
              "    </tr>\n",
              "    <tr>\n",
              "      <th>1</th>\n",
              "      <td>1247f4ec7e5d946d898fbd57208f63948572b4d6b679b8...</td>\n",
              "      <td>/content/cv-corpus-6.1-2020-12-11/tr/clips/com...</td>\n",
              "      <td>Müze Gecesi beş yıldır her yıl düzenleniyor.</td>\n",
              "      <td>2</td>\n",
              "      <td>0</td>\n",
              "      <td>teens</td>\n",
              "      <td>male</td>\n",
              "      <td>NaN</td>\n",
              "      <td>tr</td>\n",
              "      <td>NaN</td>\n",
              "      <td>1</td>\n",
              "    </tr>\n",
              "    <tr>\n",
              "      <th>2</th>\n",
              "      <td>1247f4ec7e5d946d898fbd57208f63948572b4d6b679b8...</td>\n",
              "      <td>/content/cv-corpus-6.1-2020-12-11/tr/clips/com...</td>\n",
              "      <td>Yunanistan'ın Selanik kenti de ilk ona girdi.</td>\n",
              "      <td>2</td>\n",
              "      <td>0</td>\n",
              "      <td>teens</td>\n",
              "      <td>male</td>\n",
              "      <td>NaN</td>\n",
              "      <td>tr</td>\n",
              "      <td>NaN</td>\n",
              "      <td>2</td>\n",
              "    </tr>\n",
              "    <tr>\n",
              "      <th>3</th>\n",
              "      <td>1247f4ec7e5d946d898fbd57208f63948572b4d6b679b8...</td>\n",
              "      <td>/content/cv-corpus-6.1-2020-12-11/tr/clips/com...</td>\n",
              "      <td>Osmanagiç'in iddiaları henüz doğrulanmış değil.</td>\n",
              "      <td>2</td>\n",
              "      <td>0</td>\n",
              "      <td>teens</td>\n",
              "      <td>male</td>\n",
              "      <td>NaN</td>\n",
              "      <td>tr</td>\n",
              "      <td>NaN</td>\n",
              "      <td>3</td>\n",
              "    </tr>\n",
              "    <tr>\n",
              "      <th>4</th>\n",
              "      <td>1247f4ec7e5d946d898fbd57208f63948572b4d6b679b8...</td>\n",
              "      <td>/content/cv-corpus-6.1-2020-12-11/tr/clips/com...</td>\n",
              "      <td>En yakın arkadaşlarım Arnavutluk'ta.</td>\n",
              "      <td>2</td>\n",
              "      <td>0</td>\n",
              "      <td>teens</td>\n",
              "      <td>male</td>\n",
              "      <td>NaN</td>\n",
              "      <td>tr</td>\n",
              "      <td>NaN</td>\n",
              "      <td>4</td>\n",
              "    </tr>\n",
              "  </tbody>\n",
              "</table>\n",
              "</div>"
            ],
            "text/plain": [
              "                                           client_id  ... id\n",
              "0  1247f4ec7e5d946d898fbd57208f63948572b4d6b679b8...  ...  0\n",
              "1  1247f4ec7e5d946d898fbd57208f63948572b4d6b679b8...  ...  1\n",
              "2  1247f4ec7e5d946d898fbd57208f63948572b4d6b679b8...  ...  2\n",
              "3  1247f4ec7e5d946d898fbd57208f63948572b4d6b679b8...  ...  3\n",
              "4  1247f4ec7e5d946d898fbd57208f63948572b4d6b679b8...  ...  4\n",
              "\n",
              "[5 rows x 11 columns]"
            ]
          },
          "metadata": {
            "tags": []
          },
          "execution_count": 11
        }
      ]
    },
    {
      "cell_type": "code",
      "metadata": {
        "id": "up8VfWT0Sxxh",
        "colab": {
          "base_uri": "https://localhost:8080/"
        },
        "outputId": "e3a8a2c9-5cac-4173-d3fc-e563ebcd9376"
      },
      "source": [
        "print(f\"Items to be removed {len(removed_items_train)}\")"
      ],
      "execution_count": 12,
      "outputs": [
        {
          "output_type": "stream",
          "text": [
            "Items to be removed 0\n"
          ],
          "name": "stdout"
        }
      ]
    },
    {
      "cell_type": "code",
      "metadata": {
        "colab": {
          "base_uri": "https://localhost:8080/",
          "height": 537
        },
        "id": "d9mdJXwW4dEt",
        "outputId": "6693f06d-70c7-430f-c08b-43c51a062617"
      },
      "source": [
        "test_df = pd.read_csv(f\"{abs_path_to_data}/test.tsv\", sep=\"\\t\")\n",
        "\n",
        "_test_df = test_df.copy()\n",
        "total_records = len(test_df)\n",
        "test_df[\"id\"] = range(0, total_records)\n",
        "print(f\"Step 0: {len(test_df)}\")\n",
        "\n",
        "test_df[\"path\"] = abs_path_to_data + \"/clips/\" + test_df[\"path\"]\n",
        "test_df[\"status\"] = test_df[\"path\"].apply(lambda path: True if os.path.exists(path) else None)\n",
        "test_df = test_df.dropna(subset=[\"path\"])\n",
        "test_df = test_df.drop(\"status\", 1)\n",
        "print(f\"Step 1: {len(test_df)}\")\n",
        "\n",
        "test_df[\"sentence\"] = test_df[\"sentence\"].apply(lambda t: normalizer(t))\n",
        "test_df = test_df.dropna(subset=[\"sentence\"])\n",
        "print(f\"Step 2: {len(test_df)}\")\n",
        "\n",
        "term_a = set(list(range(0, total_records)))\n",
        "term_b = set(test_df[\"id\"].values.tolist())\n",
        "removed_items_test = [_test_df.iloc[index][\"path\"] for index in list(term_a - term_b)]\n",
        "test_df = test_df.reset_index(drop=True)\n",
        "test_df.head()"
      ],
      "execution_count": 13,
      "outputs": [
        {
          "output_type": "stream",
          "text": [
            "Step 0: 1647\n",
            "Step 1: 1647\n",
            "Step 2: 1647\n"
          ],
          "name": "stdout"
        },
        {
          "output_type": "execute_result",
          "data": {
            "text/html": [
              "<div>\n",
              "<style scoped>\n",
              "    .dataframe tbody tr th:only-of-type {\n",
              "        vertical-align: middle;\n",
              "    }\n",
              "\n",
              "    .dataframe tbody tr th {\n",
              "        vertical-align: top;\n",
              "    }\n",
              "\n",
              "    .dataframe thead th {\n",
              "        text-align: right;\n",
              "    }\n",
              "</style>\n",
              "<table border=\"1\" class=\"dataframe\">\n",
              "  <thead>\n",
              "    <tr style=\"text-align: right;\">\n",
              "      <th></th>\n",
              "      <th>client_id</th>\n",
              "      <th>path</th>\n",
              "      <th>sentence</th>\n",
              "      <th>up_votes</th>\n",
              "      <th>down_votes</th>\n",
              "      <th>age</th>\n",
              "      <th>gender</th>\n",
              "      <th>accent</th>\n",
              "      <th>locale</th>\n",
              "      <th>segment</th>\n",
              "      <th>id</th>\n",
              "    </tr>\n",
              "  </thead>\n",
              "  <tbody>\n",
              "    <tr>\n",
              "      <th>0</th>\n",
              "      <td>026eeac891913f2364d3a89af31d5b50344d61ab7c0218...</td>\n",
              "      <td>/content/cv-corpus-6.1-2020-12-11/tr/clips/com...</td>\n",
              "      <td>Hayatta küçük şeyleri kovalıyor ve yine küçük ...</td>\n",
              "      <td>2</td>\n",
              "      <td>1</td>\n",
              "      <td>NaN</td>\n",
              "      <td>NaN</td>\n",
              "      <td>NaN</td>\n",
              "      <td>tr</td>\n",
              "      <td>NaN</td>\n",
              "      <td>0</td>\n",
              "    </tr>\n",
              "    <tr>\n",
              "      <th>1</th>\n",
              "      <td>0c8ba63665303a01117332d5c7de7438ee9e9f5d523530...</td>\n",
              "      <td>/content/cv-corpus-6.1-2020-12-11/tr/clips/com...</td>\n",
              "      <td>Seydiu şimdi iki mevkiyi de kaybetti.</td>\n",
              "      <td>2</td>\n",
              "      <td>1</td>\n",
              "      <td>teens</td>\n",
              "      <td>male</td>\n",
              "      <td>other</td>\n",
              "      <td>tr</td>\n",
              "      <td>NaN</td>\n",
              "      <td>1</td>\n",
              "    </tr>\n",
              "    <tr>\n",
              "      <th>2</th>\n",
              "      <td>20cf7518c05fc68f1b5ce7668ad9b72fca8d5c608e102e...</td>\n",
              "      <td>/content/cv-corpus-6.1-2020-12-11/tr/clips/com...</td>\n",
              "      <td>Fakat öte yandan, hayatta gelişim sağlayabilme...</td>\n",
              "      <td>2</td>\n",
              "      <td>1</td>\n",
              "      <td>NaN</td>\n",
              "      <td>NaN</td>\n",
              "      <td>NaN</td>\n",
              "      <td>tr</td>\n",
              "      <td>NaN</td>\n",
              "      <td>2</td>\n",
              "    </tr>\n",
              "    <tr>\n",
              "      <th>3</th>\n",
              "      <td>23648e4565fb8f1543677fc9c83ac751cbd2826896b784...</td>\n",
              "      <td>/content/cv-corpus-6.1-2020-12-11/tr/clips/com...</td>\n",
              "      <td>Seferler Haziran ayında başlıyor.</td>\n",
              "      <td>2</td>\n",
              "      <td>0</td>\n",
              "      <td>NaN</td>\n",
              "      <td>NaN</td>\n",
              "      <td>NaN</td>\n",
              "      <td>tr</td>\n",
              "      <td>NaN</td>\n",
              "      <td>3</td>\n",
              "    </tr>\n",
              "    <tr>\n",
              "      <th>4</th>\n",
              "      <td>236a01cbb9dc681398aa97c5b5b25df6ab1528757eaa2b...</td>\n",
              "      <td>/content/cv-corpus-6.1-2020-12-11/tr/clips/com...</td>\n",
              "      <td>Siyasette temiz insanlara ihtiyacımız var.</td>\n",
              "      <td>2</td>\n",
              "      <td>0</td>\n",
              "      <td>NaN</td>\n",
              "      <td>NaN</td>\n",
              "      <td>NaN</td>\n",
              "      <td>tr</td>\n",
              "      <td>NaN</td>\n",
              "      <td>4</td>\n",
              "    </tr>\n",
              "  </tbody>\n",
              "</table>\n",
              "</div>"
            ],
            "text/plain": [
              "                                           client_id  ... id\n",
              "0  026eeac891913f2364d3a89af31d5b50344d61ab7c0218...  ...  0\n",
              "1  0c8ba63665303a01117332d5c7de7438ee9e9f5d523530...  ...  1\n",
              "2  20cf7518c05fc68f1b5ce7668ad9b72fca8d5c608e102e...  ...  2\n",
              "3  23648e4565fb8f1543677fc9c83ac751cbd2826896b784...  ...  3\n",
              "4  236a01cbb9dc681398aa97c5b5b25df6ab1528757eaa2b...  ...  4\n",
              "\n",
              "[5 rows x 11 columns]"
            ]
          },
          "metadata": {
            "tags": []
          },
          "execution_count": 13
        }
      ]
    },
    {
      "cell_type": "code",
      "metadata": {
        "id": "4Ecp_vsKVatI",
        "colab": {
          "base_uri": "https://localhost:8080/"
        },
        "outputId": "5fd2ba1f-fe7b-44d1-af70-d0d694d3c5bb"
      },
      "source": [
        "print(f\"Items to be removed {len(removed_items_test)}\")"
      ],
      "execution_count": 14,
      "outputs": [
        {
          "output_type": "stream",
          "text": [
            "Items to be removed 0\n"
          ],
          "name": "stdout"
        }
      ]
    },
    {
      "cell_type": "code",
      "metadata": {
        "id": "8tavY-PvgV0g"
      },
      "source": [
        "removed_items = removed_items_train + removed_items_test\n",
        "\n",
        "for path in removed_items:\n",
        "    if os.path.exists(path):\n",
        "        os.remove(path)"
      ],
      "execution_count": 15,
      "outputs": []
    },
    {
      "cell_type": "code",
      "metadata": {
        "colab": {
          "base_uri": "https://localhost:8080/"
        },
        "id": "Pl8XEw2pwZsI",
        "outputId": "c2782e85-fc4d-49ba-9323-e6ce69779baa"
      },
      "source": [
        "text = \" \".join(train_df[\"sentence\"].values.tolist() + test_df[\"sentence\"].values.tolist())\n",
        "vocab = list(sorted(set(text)))\n",
        "\n",
        "print(len(vocab), vocab)"
      ],
      "execution_count": 16,
      "outputs": [
        {
          "output_type": "stream",
          "text": [
            "78 [' ', '!', '\"', '%', \"'\", ',', '-', '.', '?', 'A', 'B', 'C', 'D', 'E', 'F', 'G', 'H', 'I', 'J', 'K', 'L', 'M', 'N', 'O', 'P', 'Q', 'R', 'S', 'T', 'U', 'V', 'W', 'X', 'Y', 'Z', 'a', 'b', 'c', 'd', 'e', 'f', 'g', 'h', 'i', 'j', 'k', 'l', 'm', 'n', 'o', 'p', 'r', 's', 't', 'u', 'v', 'w', 'x', 'y', 'z', 'Ç', 'Ö', 'Ü', 'â', 'ç', 'ë', 'î', 'ö', 'ü', 'ğ', 'İ', 'ı', 'Ş', 'ş', '‘', '“', '”', '�']\n"
          ],
          "name": "stdout"
        }
      ]
    },
    {
      "cell_type": "code",
      "metadata": {
        "colab": {
          "base_uri": "https://localhost:8080/",
          "height": 110
        },
        "id": "87efw4HswgO-",
        "outputId": "0550df32-e9a9-4197-ae08-19359c0d3dfe"
      },
      "source": [
        "import torchaudio\n",
        "import librosa\n",
        "import IPython.display as ipd\n",
        "import numpy as np\n",
        "\n",
        "sample = train_df.iloc[np.random.randint(0, len(train_df))]\n",
        "\n",
        "path = sample[\"path\"]\n",
        "print(sample[\"sentence\"], \"\\n\")\n",
        "speech = torchaudio.load(path)\n",
        "speech = speech[0].numpy().squeeze()\n",
        "\n",
        "speech = librosa.resample(np.asarray(speech), 48_000, 16_000)\n",
        "ipd.Audio(data=np.asarray(speech), autoplay=True, rate=16000)"
      ],
      "execution_count": 17,
      "outputs": [
        {
          "output_type": "stream",
          "text": [
            "Geri kalan yufkalarla da bu işlemi tekrarlayın. \n",
            "\n"
          ],
          "name": "stdout"
        },
        {
          "output_type": "execute_result",
          "data": {
            "text/html": [
              "\n",
              "                <audio controls=\"controls\" autoplay=\"autoplay\">\n",
              "                    <source src=\"data:audio/wav;base64,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\" type=\"audio/wav\" />\n",
              "                    Your browser does not support the audio element.\n",
              "                </audio>\n",
              "              "
            ],
            "text/plain": [
              "<IPython.lib.display.Audio object>"
            ]
          },
          "metadata": {
            "tags": []
          },
          "execution_count": 17
        }
      ]
    },
    {
      "cell_type": "code",
      "metadata": {
        "colab": {
          "base_uri": "https://localhost:8080/"
        },
        "id": "O9IkYLN-xW-k",
        "outputId": "577d0084-bd8e-4e92-c137-a4ac09026c1b"
      },
      "source": [
        "!rm /content/train.csv\n",
        "!rm /content/test.csv\n",
        "\n",
        "train_df.to_csv(\"/content/train.csv\", sep=\"\\t\", encoding=\"utf-8\", index=False)\n",
        "test_df.to_csv(\"/content/test.csv\", sep=\"\\t\", encoding=\"utf-8\", index=False)\n",
        "\n",
        "print(train_df.shape)\n",
        "print(test_df.shape)"
      ],
      "execution_count": 18,
      "outputs": [
        {
          "output_type": "stream",
          "text": [
            "rm: cannot remove '/content/train.csv': No such file or directory\n",
            "rm: cannot remove '/content/test.csv': No such file or directory\n",
            "(3478, 11)\n",
            "(1647, 11)\n"
          ],
          "name": "stdout"
        }
      ]
    },
    {
      "cell_type": "code",
      "metadata": {
        "colab": {
          "base_uri": "https://localhost:8080/",
          "height": 285,
          "referenced_widgets": [
            "1f39051bc70041ebbe646e15b25ed3a2",
            "999d6a5f285744c7b25f1fd53f3cc190",
            "324dc8bf0e01420aaf365acc9c84e683",
            "118cb38928234466a056a0bbaa3dae20",
            "8c18a95452a44725abe096be476dfa2b",
            "ec63d8d40e944a06ac23b858f592c85e",
            "819d8b7e691343ae8468b63d7ac69344",
            "a3ea2f3965f6486e93306c9237f28459",
            "402bd030657d4eeb9350ac22b79565b0",
            "a4b7a8a70ac5491fae1ba43e91dde445",
            "0ddeee052cfb4ccebab5fbb872d87607",
            "d19d09d6423c419bad449b36790942e9",
            "78818724b2264a959889329b216a2d31",
            "c7f1b9203b1c452b8d49cbd9f4bc556b",
            "aba31f3cba0b4b9fa02a99b4697875b0",
            "f8d3b0254574451faef6fa19b4467515"
          ]
        },
        "id": "8H1h6KAxxZnn",
        "outputId": "d2e8b639-c9d7-4273-8e00-e3d040d2ea2e"
      },
      "source": [
        "common_voice_train = load_dataset(\"csv\", data_files={\"train\": \"/content/train.csv\"}, delimiter=\"\\t\")[\"train\"]\n",
        "common_voice_test = load_dataset(\"csv\", data_files={\"test\": \"/content/test.csv\"}, delimiter=\"\\t\")[\"test\"]\n",
        "\n",
        "print(common_voice_train)\n",
        "print(common_voice_test)"
      ],
      "execution_count": 19,
      "outputs": [
        {
          "output_type": "stream",
          "text": [
            "Using custom data configuration default-68e803bc6215bbee\n"
          ],
          "name": "stderr"
        },
        {
          "output_type": "stream",
          "text": [
            "Downloading and preparing dataset csv/default (download: Unknown size, generated: Unknown size, post-processed: Unknown size, total: Unknown size) to /content/cache/csv/default-68e803bc6215bbee/0.0.0/2dc6629a9ff6b5697d82c25b73731dd440507a69cbce8b425db50b751e8fcfd0...\n"
          ],
          "name": "stdout"
        },
        {
          "output_type": "display_data",
          "data": {
            "application/vnd.jupyter.widget-view+json": {
              "model_id": "1f39051bc70041ebbe646e15b25ed3a2",
              "version_minor": 0,
              "version_major": 2
            },
            "text/plain": [
              "HBox(children=(FloatProgress(value=1.0, bar_style='info', max=1.0), HTML(value='')))"
            ]
          },
          "metadata": {
            "tags": []
          }
        },
        {
          "output_type": "stream",
          "text": [
            "\rDataset csv downloaded and prepared to /content/cache/csv/default-68e803bc6215bbee/0.0.0/2dc6629a9ff6b5697d82c25b73731dd440507a69cbce8b425db50b751e8fcfd0. Subsequent calls will reuse this data.\n"
          ],
          "name": "stdout"
        },
        {
          "output_type": "stream",
          "text": [
            "Using custom data configuration default-7e9ee9bbf5014e7a\n"
          ],
          "name": "stderr"
        },
        {
          "output_type": "stream",
          "text": [
            "Downloading and preparing dataset csv/default (download: Unknown size, generated: Unknown size, post-processed: Unknown size, total: Unknown size) to /content/cache/csv/default-7e9ee9bbf5014e7a/0.0.0/2dc6629a9ff6b5697d82c25b73731dd440507a69cbce8b425db50b751e8fcfd0...\n"
          ],
          "name": "stdout"
        },
        {
          "output_type": "display_data",
          "data": {
            "application/vnd.jupyter.widget-view+json": {
              "model_id": "402bd030657d4eeb9350ac22b79565b0",
              "version_minor": 0,
              "version_major": 2
            },
            "text/plain": [
              "HBox(children=(FloatProgress(value=1.0, bar_style='info', max=1.0), HTML(value='')))"
            ]
          },
          "metadata": {
            "tags": []
          }
        },
        {
          "output_type": "stream",
          "text": [
            "\rDataset csv downloaded and prepared to /content/cache/csv/default-7e9ee9bbf5014e7a/0.0.0/2dc6629a9ff6b5697d82c25b73731dd440507a69cbce8b425db50b751e8fcfd0. Subsequent calls will reuse this data.\n",
            "Dataset({\n",
            "    features: ['client_id', 'path', 'sentence', 'up_votes', 'down_votes', 'age', 'gender', 'accent', 'locale', 'segment', 'id'],\n",
            "    num_rows: 3478\n",
            "})\n",
            "Dataset({\n",
            "    features: ['client_id', 'path', 'sentence', 'up_votes', 'down_votes', 'age', 'gender', 'accent', 'locale', 'segment', 'id'],\n",
            "    num_rows: 1647\n",
            "})\n"
          ],
          "name": "stdout"
        }
      ]
    },
    {
      "cell_type": "markdown",
      "metadata": {
        "id": "ri5y5N_HMANq"
      },
      "source": [
        "Many ASR datasets only provide the target text, `'sentence'` for each audio file `'path'`. Common Voice actually provides much more information about each audio file, such as the `'accent'`, etc. However, we want to keep the notebook as general as possible, so that we will only consider the transcribed text for fine-tuning.\n",
        "\n"
      ]
    },
    {
      "cell_type": "code",
      "metadata": {
        "id": "kbyq6lDgQc2a"
      },
      "source": [
        "common_voice_train = common_voice_train.remove_columns([\"accent\", \"age\", \"client_id\", \"down_votes\", \"gender\", \"locale\", \"segment\", \"up_votes\"])\n",
        "common_voice_test = common_voice_test.remove_columns([\"accent\", \"age\", \"client_id\", \"down_votes\", \"gender\", \"locale\", \"segment\", \"up_votes\"])"
      ],
      "execution_count": 20,
      "outputs": []
    },
    {
      "cell_type": "markdown",
      "metadata": {
        "id": "Go9Hq4e4NDT9"
      },
      "source": [
        "Let's write a short function to display some random samples of the dataset and run it a couple of times to get a feeling for the transcriptions."
      ]
    },
    {
      "cell_type": "code",
      "metadata": {
        "id": "72737oog2F6U"
      },
      "source": [
        "from datasets import ClassLabel\n",
        "import random\n",
        "import pandas as pd\n",
        "from IPython.display import display, HTML\n",
        "\n",
        "def show_random_elements(dataset, num_examples=10):\n",
        "    assert num_examples <= len(dataset), \"Can't pick more elements than there are in the dataset.\"\n",
        "    picks = []\n",
        "    for _ in range(num_examples):\n",
        "        pick = random.randint(0, len(dataset)-1)\n",
        "        while pick in picks:\n",
        "            pick = random.randint(0, len(dataset)-1)\n",
        "        picks.append(pick)\n",
        "    \n",
        "    df = pd.DataFrame(dataset[picks])\n",
        "    display(HTML(df.to_html()))"
      ],
      "execution_count": 21,
      "outputs": []
    },
    {
      "cell_type": "code",
      "metadata": {
        "colab": {
          "base_uri": "https://localhost:8080/",
          "height": 647
        },
        "id": "K_JUmf3G3b9S",
        "outputId": "46524dc9-3ff9-44f6-d236-37102dea916f"
      },
      "source": [
        "show_random_elements(common_voice_train.remove_columns([\"path\"]), num_examples=20)"
      ],
      "execution_count": 22,
      "outputs": [
        {
          "output_type": "display_data",
          "data": {
            "text/html": [
              "<table border=\"1\" class=\"dataframe\">\n",
              "  <thead>\n",
              "    <tr style=\"text-align: right;\">\n",
              "      <th></th>\n",
              "      <th>sentence</th>\n",
              "      <th>id</th>\n",
              "    </tr>\n",
              "  </thead>\n",
              "  <tbody>\n",
              "    <tr>\n",
              "      <th>0</th>\n",
              "      <td>Şarkı bütün Yunan halkını büyülemedi.</td>\n",
              "      <td>1749</td>\n",
              "    </tr>\n",
              "    <tr>\n",
              "      <th>1</th>\n",
              "      <td>Görüşmelerde Kosova'nın statü sorunu ele alındı.</td>\n",
              "      <td>2388</td>\n",
              "    </tr>\n",
              "    <tr>\n",
              "      <th>2</th>\n",
              "      <td>Fakat sadece orduyu eleştirmek de yanlış olur.</td>\n",
              "      <td>706</td>\n",
              "    </tr>\n",
              "    <tr>\n",
              "      <th>3</th>\n",
              "      <td>DiCarlo bunun bölgesel etkilerini de vurguladı.</td>\n",
              "      <td>212</td>\n",
              "    </tr>\n",
              "    <tr>\n",
              "      <th>4</th>\n",
              "      <td>O bile böyle diyorsa ben daha ne söyleyebilirim?</td>\n",
              "      <td>3464</td>\n",
              "    </tr>\n",
              "    <tr>\n",
              "      <th>5</th>\n",
              "      <td>Sizce Sırp ekonomisi en büyük sıkıntıyı yılın hangi döneminde yaşayacak ve neden?</td>\n",
              "      <td>1191</td>\n",
              "    </tr>\n",
              "    <tr>\n",
              "      <th>6</th>\n",
              "      <td>Tesla, on Temmuz bin sekiz yüz elli altıda doğdu.</td>\n",
              "      <td>979</td>\n",
              "    </tr>\n",
              "    <tr>\n",
              "      <th>7</th>\n",
              "      <td>Her iki sanatçıya da yirmi üç biner avro ödül verildi.</td>\n",
              "      <td>2356</td>\n",
              "    </tr>\n",
              "    <tr>\n",
              "      <th>8</th>\n",
              "      <td>Türk icadı Almanya'da üretildi.</td>\n",
              "      <td>2761</td>\n",
              "    </tr>\n",
              "    <tr>\n",
              "      <th>9</th>\n",
              "      <td>Tek sorun yatırım ve zaman kaybı da değil.</td>\n",
              "      <td>1215</td>\n",
              "    </tr>\n",
              "    <tr>\n",
              "      <th>10</th>\n",
              "      <td>Dezenflasyon sürüyor.</td>\n",
              "      <td>3013</td>\n",
              "    </tr>\n",
              "    <tr>\n",
              "      <th>11</th>\n",
              "      <td>Hemşirelerden ikisi tecavüze uğradığını söyledi.</td>\n",
              "      <td>3219</td>\n",
              "    </tr>\n",
              "    <tr>\n",
              "      <th>12</th>\n",
              "      <td>Kararı belirleyen en önemli etken ise fiyat.</td>\n",
              "      <td>2071</td>\n",
              "    </tr>\n",
              "    <tr>\n",
              "      <th>13</th>\n",
              "      <td>Kocası Milorad da aynı fikirde.</td>\n",
              "      <td>2426</td>\n",
              "    </tr>\n",
              "    <tr>\n",
              "      <th>14</th>\n",
              "      <td>Onu fetheden komutan ne güzel komutandır.</td>\n",
              "      <td>2350</td>\n",
              "    </tr>\n",
              "    <tr>\n",
              "      <th>15</th>\n",
              "      <td>Maaşımız mı artacak, daha fazla mı iş olacak?</td>\n",
              "      <td>1530</td>\n",
              "    </tr>\n",
              "    <tr>\n",
              "      <th>16</th>\n",
              "      <td>Onun görevi kültürel çeşitliliktir.</td>\n",
              "      <td>1436</td>\n",
              "    </tr>\n",
              "    <tr>\n",
              "      <th>17</th>\n",
              "      <td>Olayla ilgili bir tutuklama yapılmadı.</td>\n",
              "      <td>868</td>\n",
              "    </tr>\n",
              "    <tr>\n",
              "      <th>18</th>\n",
              "      <td>Hareketle ilgili tartışmalar da çıkmadı değil.</td>\n",
              "      <td>1064</td>\n",
              "    </tr>\n",
              "    <tr>\n",
              "      <th>19</th>\n",
              "      <td>Tutuklanan on bir kişinin sekizi Hırvat uyrukluydu.</td>\n",
              "      <td>1618</td>\n",
              "    </tr>\n",
              "  </tbody>\n",
              "</table>"
            ],
            "text/plain": [
              "<IPython.core.display.HTML object>"
            ]
          },
          "metadata": {
            "tags": []
          }
        }
      ]
    },
    {
      "cell_type": "markdown",
      "metadata": {
        "id": "fowcOllGNNju"
      },
      "source": [
        "Alright! The transcriptions look fairly clean. Having translated the transcribed sentences (I'm sadly not a native speaker in Turkish), it seems that the language corresponds more to written text than noisy dialogue. This makes sense taking into account that [Common Voice](https://huggingface.co/datasets/common_voice) is a crowd-sourced read speech corpus."
      ]
    },
    {
      "cell_type": "markdown",
      "metadata": {
        "id": "vq7OR50LN49m"
      },
      "source": [
        "We can see that the transcriptions contain some special characters, such as `,.?!;:`. Without a language model, it is much harder to classify speech chunks to such special characters because they don't really correspond to a characteristic sound unit. *E.g.*, the letter `\"s\"` has a more or less clear sound, whereas the special character `\".\"` does not.\n",
        "Also in order to understand the meaning of a speech signal, it is usually not necessary to include special characters in the transcription.\n",
        "\n",
        "In addition, we normalize the text to only have lower case letters and append a word separator token at the end."
      ]
    },
    {
      "cell_type": "code",
      "metadata": {
        "id": "svKzVJ_hQGK6"
      },
      "source": [
        "import re\n",
        "chars_to_ignore_regex = '[\\,\\?\\.\\!\\-\\;\\:\\\"\\“\\%\\‘\\”\\�]'\n",
        "\n",
        "def remove_special_characters(batch):\n",
        "    text = re.sub(chars_to_ignore_regex, '', batch[\"sentence\"]).lower() + \" \"\n",
        "    text = normalizer(text)\n",
        "    batch[\"text\"] = text\n",
        "    return batch"
      ],
      "execution_count": 23,
      "outputs": []
    },
    {
      "cell_type": "code",
      "metadata": {
        "colab": {
          "base_uri": "https://localhost:8080/",
          "height": 116,
          "referenced_widgets": [
            "835707fbe59b4b45bca8a3a0e8386b9b",
            "7f9658b7f56e4e07a81f10e111c4cc47",
            "61c6e029a148488eb6b897c4209c5a2e",
            "2e4f9b99b65a44c4b6d9738ba525b2a8",
            "8e71ee972ea841cdb2baa1a3909fb315",
            "2cdd30aa2ab946188e19b71f0f6de87d",
            "4125b29a078640c2a86c87b1bee4d17e",
            "fc9eaa97f6ae49eebc12826d4c95264c",
            "4bc5795c15c042868ad8880d5afcc156",
            "107ffbc0ab3a43f7bba759ccf32e8697",
            "59501962a68549c0a744f0efd6e3d19e",
            "7da9235a9c654bb2918fbaa5bf0d87ca",
            "7130d14efbd8412bbbfc319d74b24f4e",
            "152e18430a0d4d25a9dd974795a904cb",
            "15fe2e5586bc4026a0cd1b7429bd0dfc",
            "ca0629435be3430b8786297974fc4538"
          ]
        },
        "id": "XIHocAuTQbBR",
        "outputId": "cd9ee180-5565-43b9-8007-8b37dbb493d5"
      },
      "source": [
        "common_voice_train = common_voice_train.map(remove_special_characters, remove_columns=[\"sentence\"])\n",
        "common_voice_test = common_voice_test.map(remove_special_characters, remove_columns=[\"sentence\"])"
      ],
      "execution_count": 24,
      "outputs": [
        {
          "output_type": "display_data",
          "data": {
            "application/vnd.jupyter.widget-view+json": {
              "model_id": "835707fbe59b4b45bca8a3a0e8386b9b",
              "version_minor": 0,
              "version_major": 2
            },
            "text/plain": [
              "HBox(children=(FloatProgress(value=0.0, max=3478.0), HTML(value='')))"
            ]
          },
          "metadata": {
            "tags": []
          }
        },
        {
          "output_type": "stream",
          "text": [
            "\n"
          ],
          "name": "stdout"
        },
        {
          "output_type": "display_data",
          "data": {
            "application/vnd.jupyter.widget-view+json": {
              "model_id": "4bc5795c15c042868ad8880d5afcc156",
              "version_minor": 0,
              "version_major": 2
            },
            "text/plain": [
              "HBox(children=(FloatProgress(value=0.0, max=1647.0), HTML(value='')))"
            ]
          },
          "metadata": {
            "tags": []
          }
        },
        {
          "output_type": "stream",
          "text": [
            "\n"
          ],
          "name": "stdout"
        }
      ]
    },
    {
      "cell_type": "code",
      "metadata": {
        "colab": {
          "base_uri": "https://localhost:8080/",
          "height": 347
        },
        "id": "RBDRAAYxRE6n",
        "outputId": "451d1430-9584-4290-c037-275a06f7c8b9"
      },
      "source": [
        "show_random_elements(common_voice_train.remove_columns([\"path\"]))"
      ],
      "execution_count": 25,
      "outputs": [
        {
          "output_type": "display_data",
          "data": {
            "text/html": [
              "<table border=\"1\" class=\"dataframe\">\n",
              "  <thead>\n",
              "    <tr style=\"text-align: right;\">\n",
              "      <th></th>\n",
              "      <th>id</th>\n",
              "      <th>text</th>\n",
              "    </tr>\n",
              "  </thead>\n",
              "  <tbody>\n",
              "    <tr>\n",
              "      <th>0</th>\n",
              "      <td>802</td>\n",
              "      <td>fabrikada elli kişiye iş sağlanacak</td>\n",
              "    </tr>\n",
              "    <tr>\n",
              "      <th>1</th>\n",
              "      <td>2942</td>\n",
              "      <td>kavgada bir eylemci hayatını kaybetmişti</td>\n",
              "    </tr>\n",
              "    <tr>\n",
              "      <th>2</th>\n",
              "      <td>1638</td>\n",
              "      <td>tutuklanan doktorların sayısı her hafta artıyor</td>\n",
              "    </tr>\n",
              "    <tr>\n",
              "      <th>3</th>\n",
              "      <td>886</td>\n",
              "      <td>tahminen kaç gazeteci işten çıkarıldı</td>\n",
              "    </tr>\n",
              "    <tr>\n",
              "      <th>4</th>\n",
              "      <td>142</td>\n",
              "      <td>ankara ziyaretin devamını bekliyor</td>\n",
              "    </tr>\n",
              "    <tr>\n",
              "      <th>5</th>\n",
              "      <td>1968</td>\n",
              "      <td>konferans sekiz nisan çarşamba günü sona erdi</td>\n",
              "    </tr>\n",
              "    <tr>\n",
              "      <th>6</th>\n",
              "      <td>768</td>\n",
              "      <td>bir amacımız yok</td>\n",
              "    </tr>\n",
              "    <tr>\n",
              "      <th>7</th>\n",
              "      <td>1583</td>\n",
              "      <td>bulguların toplam ağırlığı dört tonu buluyor</td>\n",
              "    </tr>\n",
              "    <tr>\n",
              "      <th>8</th>\n",
              "      <td>1363</td>\n",
              "      <td>bu erteleme için bir somut gerekçe gösterilmedi</td>\n",
              "    </tr>\n",
              "    <tr>\n",
              "      <th>9</th>\n",
              "      <td>2170</td>\n",
              "      <td>sizce bu durumu değiştirmek için neler yapılabilir</td>\n",
              "    </tr>\n",
              "  </tbody>\n",
              "</table>"
            ],
            "text/plain": [
              "<IPython.core.display.HTML object>"
            ]
          },
          "metadata": {
            "tags": []
          }
        }
      ]
    },
    {
      "cell_type": "markdown",
      "metadata": {
        "id": "jwfaptH5RJwA"
      },
      "source": [
        "Good! This looks better. We have removed most special characters from transcriptions and normalized them to lower-case only.\n",
        "\n",
        "In CTC, it is common to classify speech chunks into letters, so we will do the same here. \n",
        "Let's extract all distinct letters of the training and test data and build our vocabulary from this set of letters.\n",
        "\n",
        "We write a mapping function that concatenates all transcriptions into one long transcription and then transforms the string into a set of chars. \n",
        "It is important to pass the argument `batched=True` to the `map(...)` function so that the mapping function has access to all transcriptions at once."
      ]
    },
    {
      "cell_type": "code",
      "metadata": {
        "id": "LwCshNbbeRZR"
      },
      "source": [
        "def extract_all_chars(batch):\n",
        "    all_text = \" \".join(batch[\"text\"])\n",
        "    vocab = list(set(all_text))\n",
        "    return {\"vocab\": [vocab], \"all_text\": [all_text]}"
      ],
      "execution_count": 26,
      "outputs": []
    },
    {
      "cell_type": "code",
      "metadata": {
        "colab": {
          "base_uri": "https://localhost:8080/",
          "height": 116,
          "referenced_widgets": [
            "3a4b9af17974410f8fe2620442f7df5e",
            "2a698a9a118f48cab3247b18a9ba8946",
            "d7411405fd6b472ca047f22db5da9161",
            "b81b2f5fc9bf4dab9b6b34181377168f",
            "0031b59f711344ad88eef45624043b73",
            "1d52ba21d7584252b820ecd7587f4dcd",
            "72c2c0aaefe3498d8600370e275196d3",
            "7649a477b8eb424ea67f7f2c3cf1ba15",
            "be6cf9edba404cba89d62c8d29ec4119",
            "628a910eadfc40689b80924f652c162a",
            "e1d683f2ca4144278024b424b4cee3c0",
            "b8a6c54ce2854357a486b59cf96b3cbb",
            "ec43a9c9b0884ea79f7d26b1797671da",
            "cc9959f39c234273899ffaa37e3d407c",
            "38ed7ce1ea284df3895d32189d45cc7f",
            "a1575579654f4d4a9621a1422c9fc54d"
          ]
        },
        "id": "_m6uUjjcfbjH",
        "outputId": "56e71f71-cae7-4851-e042-6b99a2c9f3a6"
      },
      "source": [
        "vocab_train = common_voice_train.map(extract_all_chars, batched=True, batch_size=-1, keep_in_memory=True, remove_columns=common_voice_train.column_names)\n",
        "vocab_test = common_voice_train.map(extract_all_chars, batched=True, batch_size=-1, keep_in_memory=True, remove_columns=common_voice_test.column_names)"
      ],
      "execution_count": 27,
      "outputs": [
        {
          "output_type": "display_data",
          "data": {
            "application/vnd.jupyter.widget-view+json": {
              "model_id": "3a4b9af17974410f8fe2620442f7df5e",
              "version_minor": 0,
              "version_major": 2
            },
            "text/plain": [
              "HBox(children=(FloatProgress(value=0.0, max=1.0), HTML(value='')))"
            ]
          },
          "metadata": {
            "tags": []
          }
        },
        {
          "output_type": "stream",
          "text": [
            "\n"
          ],
          "name": "stdout"
        },
        {
          "output_type": "display_data",
          "data": {
            "application/vnd.jupyter.widget-view+json": {
              "model_id": "be6cf9edba404cba89d62c8d29ec4119",
              "version_minor": 0,
              "version_major": 2
            },
            "text/plain": [
              "HBox(children=(FloatProgress(value=0.0, max=1.0), HTML(value='')))"
            ]
          },
          "metadata": {
            "tags": []
          }
        },
        {
          "output_type": "stream",
          "text": [
            "\n"
          ],
          "name": "stdout"
        }
      ]
    },
    {
      "cell_type": "markdown",
      "metadata": {
        "id": "7oVgE8RZSJNP"
      },
      "source": [
        "Now, we create the union of all distinct letters in the training dataset and test dataset and convert the resulting list into an enumerated dictionary."
      ]
    },
    {
      "cell_type": "code",
      "metadata": {
        "id": "aQfneNsmlJI0"
      },
      "source": [
        "vocab_list = list(set(vocab_train[\"vocab\"][0]) | set(vocab_test[\"vocab\"][0]))"
      ],
      "execution_count": 28,
      "outputs": []
    },
    {
      "cell_type": "code",
      "metadata": {
        "colab": {
          "base_uri": "https://localhost:8080/"
        },
        "id": "_0kRndSvqaKk",
        "outputId": "ead8f898-439d-46e9-e322-b86ba285f74d"
      },
      "source": [
        "vocab_dict = {v: k for k, v in enumerate(vocab_list)}\n",
        "vocab_dict"
      ],
      "execution_count": 29,
      "outputs": [
        {
          "output_type": "execute_result",
          "data": {
            "text/plain": [
              "{' ': 23,\n",
              " \"'\": 5,\n",
              " 'a': 14,\n",
              " 'b': 19,\n",
              " 'c': 1,\n",
              " 'd': 0,\n",
              " 'e': 31,\n",
              " 'f': 35,\n",
              " 'g': 10,\n",
              " 'h': 8,\n",
              " 'i': 24,\n",
              " 'j': 28,\n",
              " 'k': 11,\n",
              " 'l': 20,\n",
              " 'm': 16,\n",
              " 'n': 12,\n",
              " 'o': 4,\n",
              " 'p': 22,\n",
              " 'q': 9,\n",
              " 'r': 2,\n",
              " 's': 17,\n",
              " 't': 34,\n",
              " 'u': 15,\n",
              " 'v': 33,\n",
              " 'w': 18,\n",
              " 'x': 36,\n",
              " 'y': 21,\n",
              " 'z': 25,\n",
              " 'â': 30,\n",
              " 'ç': 26,\n",
              " 'î': 3,\n",
              " 'ö': 27,\n",
              " 'ü': 29,\n",
              " 'ğ': 13,\n",
              " 'ı': 7,\n",
              " 'ş': 6,\n",
              " '̇': 32}"
            ]
          },
          "metadata": {
            "tags": []
          },
          "execution_count": 29
        }
      ]
    },
    {
      "cell_type": "markdown",
      "metadata": {
        "id": "JOSzbvs9SXT1"
      },
      "source": [
        "Cool, we see that all letters of the alphabet occur in the dataset (which is not really surprising) and we also extracted the special characters `\" \"` and `'`. Note that we did not exclude those special characters because: \n",
        "\n",
        "- The model has to learn to predict when a word is finished or else the model prediction would always be a sequence of chars which would make it impossible to separate words from each other.\n",
        "- From the transcriptions above it seems that words that include an apostrophe, such as `maktouf'un` do exist in Turkish, so I decided to keep the apostrophe in the dataset. This might be a wrong assumption though.\n",
        "\n",
        "One should always keep in mind that the data-preprocessing is a very important step before training your model. E.g., we don't want our model to differentiate between `a` and `A` just because we forgot to normalize the data. The difference between `a` and `A` does not depend on the \"sound\" of the letter at all, but more on grammatical rules - *e.g.* use a capitalized letter at the beginning of the sentence. So it is sensible to remove the difference between capitalized and non-capitalized letters so that the model has an easier time learning to transcribe speech. \n",
        "\n",
        "It is always advantageous to get help from a native speaker of the language you would like to transcribe to verify whether the assumptions you made are sensible, *e.g.* I should have made sure that keeping `'`, but removing other special characters is a sensible choice for Turkish. "
      ]
    },
    {
      "cell_type": "markdown",
      "metadata": {
        "id": "b1fBRCn-TRaO"
      },
      "source": [
        "To make it clearer that `\" \"` has its own token class, we give it a more visible character `|`. In addition, we also add an \"unknown\" token so that the model can later deal with characters not encountered in Common Voice's training set. \n",
        "\n",
        "Finally, we also add a padding token that corresponds to CTC's \"*blank token*\". The \"blank token\" is a core component of the CTC algorithm. For more information, please take a look at the \"Alignment\" section [here](https://distill.pub/2017/ctc/)."
      ]
    },
    {
      "cell_type": "code",
      "metadata": {
        "id": "npbIbBoLgaFX"
      },
      "source": [
        "vocab_dict[\"|\"] = vocab_dict[\" \"]\n",
        "del vocab_dict[\" \"]"
      ],
      "execution_count": 30,
      "outputs": []
    },
    {
      "cell_type": "code",
      "metadata": {
        "id": "znF0bNunsjbl",
        "colab": {
          "base_uri": "https://localhost:8080/"
        },
        "outputId": "a8bd7136-6364-40c1-c367-c77d4cb4fed3"
      },
      "source": [
        "vocab_dict[\"[UNK]\"] = len(vocab_dict)\n",
        "vocab_dict[\"[PAD]\"] = len(vocab_dict)\n",
        "len(vocab_dict)"
      ],
      "execution_count": 31,
      "outputs": [
        {
          "output_type": "execute_result",
          "data": {
            "text/plain": [
              "39"
            ]
          },
          "metadata": {
            "tags": []
          },
          "execution_count": 31
        }
      ]
    },
    {
      "cell_type": "markdown",
      "metadata": {
        "id": "SFPGfet8U5sL"
      },
      "source": [
        "Cool, now our vocabulary is complete and consists of 39 tokens, which means that the linear layer that we will add on top of the pretrained XLSR-Wav2Vec2 checkpoint will have an output dimension of 39."
      ]
    },
    {
      "cell_type": "markdown",
      "metadata": {
        "id": "1CujRgBNVRaD"
      },
      "source": [
        "Let's now save the vocabulary as a json file."
      ]
    },
    {
      "cell_type": "code",
      "metadata": {
        "id": "ehyUoh9vk191"
      },
      "source": [
        "import json\n",
        "with open('vocab.json', 'w') as vocab_file:\n",
        "    json.dump(vocab_dict, vocab_file)"
      ],
      "execution_count": 32,
      "outputs": []
    },
    {
      "cell_type": "code",
      "metadata": {
        "id": "OEpE9KvCHGEY"
      },
      "source": [
        "!mkdir -p /content/dataset"
      ],
      "execution_count": 33,
      "outputs": []
    },
    {
      "cell_type": "code",
      "metadata": {
        "colab": {
          "base_uri": "https://localhost:8080/"
        },
        "id": "duPA8N55g7Mt",
        "outputId": "f2af4865-c79d-4698-a196-248aabf31a45"
      },
      "source": [
        "trainset = []\n",
        "\n",
        "for item in tqdm(common_voice_train, position=0, total=len(common_voice_train)):\n",
        "    features = common_voice_train.features\n",
        "    data = {}\n",
        "    for key in features:\n",
        "        data[key] = item[key]\n",
        "    \n",
        "    trainset.append(data)\n",
        "\n",
        "trainset = pd.DataFrame(trainset)\n",
        "trainset.to_csv(\"/content/dataset/train.csv\", sep=\"\\t\")\n",
        "\n",
        "\n",
        "testset = []\n",
        "\n",
        "for item in tqdm(common_voice_test, position=0, total=len(common_voice_test)):\n",
        "    features = common_voice_test.features\n",
        "    data = {}\n",
        "    for key in features:\n",
        "        data[key] = item[key]\n",
        "    \n",
        "    testset.append(data)\n",
        "\n",
        "testset = pd.DataFrame(testset)\n",
        "testset.to_csv(\"/content/dataset/test.csv\", sep=\"\\t\")"
      ],
      "execution_count": 34,
      "outputs": [
        {
          "output_type": "stream",
          "text": [
            "100%|██████████| 3478/3478 [00:00<00:00, 24828.93it/s]\n",
            "100%|██████████| 1647/1647 [00:00<00:00, 24969.61it/s]\n"
          ],
          "name": "stderr"
        }
      ]
    },
    {
      "cell_type": "code",
      "metadata": {
        "colab": {
          "base_uri": "https://localhost:8080/",
          "height": 197
        },
        "id": "HjjSqZU5g9xv",
        "outputId": "80f08663-2ccf-458b-9e5a-ab29f82065d6"
      },
      "source": [
        "trainset.head()"
      ],
      "execution_count": 35,
      "outputs": [
        {
          "output_type": "execute_result",
          "data": {
            "text/html": [
              "<div>\n",
              "<style scoped>\n",
              "    .dataframe tbody tr th:only-of-type {\n",
              "        vertical-align: middle;\n",
              "    }\n",
              "\n",
              "    .dataframe tbody tr th {\n",
              "        vertical-align: top;\n",
              "    }\n",
              "\n",
              "    .dataframe thead th {\n",
              "        text-align: right;\n",
              "    }\n",
              "</style>\n",
              "<table border=\"1\" class=\"dataframe\">\n",
              "  <thead>\n",
              "    <tr style=\"text-align: right;\">\n",
              "      <th></th>\n",
              "      <th>id</th>\n",
              "      <th>path</th>\n",
              "      <th>text</th>\n",
              "    </tr>\n",
              "  </thead>\n",
              "  <tbody>\n",
              "    <tr>\n",
              "      <th>0</th>\n",
              "      <td>0</td>\n",
              "      <td>/content/cv-corpus-6.1-2020-12-11/tr/clips/com...</td>\n",
              "      <td>pirin sözleri hâlâ yankılanıyor</td>\n",
              "    </tr>\n",
              "    <tr>\n",
              "      <th>1</th>\n",
              "      <td>1</td>\n",
              "      <td>/content/cv-corpus-6.1-2020-12-11/tr/clips/com...</td>\n",
              "      <td>müze gecesi beş yıldır her yıl düzenleniyor</td>\n",
              "    </tr>\n",
              "    <tr>\n",
              "      <th>2</th>\n",
              "      <td>2</td>\n",
              "      <td>/content/cv-corpus-6.1-2020-12-11/tr/clips/com...</td>\n",
              "      <td>yunanistan'ın selanik kenti de ilk ona girdi</td>\n",
              "    </tr>\n",
              "    <tr>\n",
              "      <th>3</th>\n",
              "      <td>3</td>\n",
              "      <td>/content/cv-corpus-6.1-2020-12-11/tr/clips/com...</td>\n",
              "      <td>osmanagiç'in iddiaları henüz doğrulanmış değil</td>\n",
              "    </tr>\n",
              "    <tr>\n",
              "      <th>4</th>\n",
              "      <td>4</td>\n",
              "      <td>/content/cv-corpus-6.1-2020-12-11/tr/clips/com...</td>\n",
              "      <td>en yakın arkadaşlarım arnavutluk'ta</td>\n",
              "    </tr>\n",
              "  </tbody>\n",
              "</table>\n",
              "</div>"
            ],
            "text/plain": [
              "   id  ...                                             text\n",
              "0   0  ...                 pirin sözleri hâlâ yankılanıyor \n",
              "1   1  ...     müze gecesi beş yıldır her yıl düzenleniyor \n",
              "2   2  ...    yunanistan'ın selanik kenti de ilk ona girdi \n",
              "3   3  ...  osmanagiç'in iddiaları henüz doğrulanmış değil \n",
              "4   4  ...             en yakın arkadaşlarım arnavutluk'ta \n",
              "\n",
              "[5 rows x 3 columns]"
            ]
          },
          "metadata": {
            "tags": []
          },
          "execution_count": 35
        }
      ]
    },
    {
      "cell_type": "code",
      "metadata": {
        "colab": {
          "base_uri": "https://localhost:8080/",
          "height": 197
        },
        "id": "splwfojeg-Fb",
        "outputId": "8eed1a00-d1d4-4ab9-fe97-917975a8fb25"
      },
      "source": [
        "testset.head()"
      ],
      "execution_count": 36,
      "outputs": [
        {
          "output_type": "execute_result",
          "data": {
            "text/html": [
              "<div>\n",
              "<style scoped>\n",
              "    .dataframe tbody tr th:only-of-type {\n",
              "        vertical-align: middle;\n",
              "    }\n",
              "\n",
              "    .dataframe tbody tr th {\n",
              "        vertical-align: top;\n",
              "    }\n",
              "\n",
              "    .dataframe thead th {\n",
              "        text-align: right;\n",
              "    }\n",
              "</style>\n",
              "<table border=\"1\" class=\"dataframe\">\n",
              "  <thead>\n",
              "    <tr style=\"text-align: right;\">\n",
              "      <th></th>\n",
              "      <th>id</th>\n",
              "      <th>path</th>\n",
              "      <th>text</th>\n",
              "    </tr>\n",
              "  </thead>\n",
              "  <tbody>\n",
              "    <tr>\n",
              "      <th>0</th>\n",
              "      <td>0</td>\n",
              "      <td>/content/cv-corpus-6.1-2020-12-11/tr/clips/com...</td>\n",
              "      <td>hayatta küçük şeyleri kovalıyor ve yine küçük ...</td>\n",
              "    </tr>\n",
              "    <tr>\n",
              "      <th>1</th>\n",
              "      <td>1</td>\n",
              "      <td>/content/cv-corpus-6.1-2020-12-11/tr/clips/com...</td>\n",
              "      <td>seydiu şimdi iki mevkiyi de kaybetti</td>\n",
              "    </tr>\n",
              "    <tr>\n",
              "      <th>2</th>\n",
              "      <td>2</td>\n",
              "      <td>/content/cv-corpus-6.1-2020-12-11/tr/clips/com...</td>\n",
              "      <td>fakat öte yandan hayatta gelişim sağlayabilmek...</td>\n",
              "    </tr>\n",
              "    <tr>\n",
              "      <th>3</th>\n",
              "      <td>3</td>\n",
              "      <td>/content/cv-corpus-6.1-2020-12-11/tr/clips/com...</td>\n",
              "      <td>seferler haziran ayında başlıyor</td>\n",
              "    </tr>\n",
              "    <tr>\n",
              "      <th>4</th>\n",
              "      <td>4</td>\n",
              "      <td>/content/cv-corpus-6.1-2020-12-11/tr/clips/com...</td>\n",
              "      <td>siyasette temiz insanlara ihtiyacımız var</td>\n",
              "    </tr>\n",
              "  </tbody>\n",
              "</table>\n",
              "</div>"
            ],
            "text/plain": [
              "   id  ...                                               text\n",
              "0   0  ...  hayatta küçük şeyleri kovalıyor ve yine küçük ...\n",
              "1   1  ...              seydiu şimdi iki mevkiyi de kaybetti \n",
              "2   2  ...  fakat öte yandan hayatta gelişim sağlayabilmek...\n",
              "3   3  ...                  seferler haziran ayında başlıyor \n",
              "4   4  ...         siyasette temiz insanlara ihtiyacımız var \n",
              "\n",
              "[5 rows x 3 columns]"
            ]
          },
          "metadata": {
            "tags": []
          },
          "execution_count": 36
        }
      ]
    },
    {
      "cell_type": "code",
      "metadata": {
        "colab": {
          "base_uri": "https://localhost:8080/"
        },
        "id": "vhYrZ5OOFpWc",
        "outputId": "b396b139-925d-4150-83fa-5e196134e20b"
      },
      "source": [
        "# save_dir = \"/content/gdrive/MyDrive/wav2vec2-large-xlsr-turkish\"\n",
        "save_dir = \"/content/wav2vec2-large-xlsr-turkish\"\n",
        "!ls {save_dir}"
      ],
      "execution_count": 37,
      "outputs": [
        {
          "output_type": "stream",
          "text": [
            "ls: cannot access '/content/wav2vec2-large-xlsr-turkish': No such file or directory\n"
          ],
          "name": "stdout"
        }
      ]
    },
    {
      "cell_type": "code",
      "metadata": {
        "colab": {
          "base_uri": "https://localhost:8080/"
        },
        "id": "6x9Y8xUFhCrB",
        "outputId": "55387ce6-01e1-4e96-f25c-c6b8108fa5e8"
      },
      "source": [
        "import os\n",
        "from transformers.trainer_utils import get_last_checkpoint\n",
        "\n",
        "last_checkpoint = None\n",
        "\n",
        "if os.path.exists(save_dir):\n",
        "    last_checkpoint = get_last_checkpoint(save_dir)\n",
        "    \n",
        "print(last_checkpoint if last_checkpoint else 0)"
      ],
      "execution_count": 38,
      "outputs": [
        {
          "output_type": "stream",
          "text": [
            "0\n"
          ],
          "name": "stdout"
        }
      ]
    },
    {
      "cell_type": "markdown",
      "metadata": {
        "id": "SHJDaKlIVVim"
      },
      "source": [
        "In a final step, we use the json file to instantiate an object of the `Wav2Vec2CTCTokenizer` class."
      ]
    },
    {
      "cell_type": "code",
      "metadata": {
        "id": "xriFGEWQkO4M",
        "colab": {
          "base_uri": "https://localhost:8080/"
        },
        "outputId": "b8b36818-c7b5-4fe3-ccf2-9ab4a5416a88"
      },
      "source": [
        "from transformers import Wav2Vec2CTCTokenizer\n",
        "\n",
        "if not os.path.exists(save_dir):\n",
        "    print(\"NotExist\")\n",
        "    tokenizer = Wav2Vec2CTCTokenizer(\"./vocab.json\", unk_token=\"[UNK]\", pad_token=\"[PAD]\", word_delimiter_token=\"|\")\n",
        "else:\n",
        "    tokenizer = Wav2Vec2CTCTokenizer.from_pretrained(save_dir)"
      ],
      "execution_count": 39,
      "outputs": [
        {
          "output_type": "stream",
          "text": [
            "NotExist\n"
          ],
          "name": "stdout"
        }
      ]
    },
    {
      "cell_type": "markdown",
      "metadata": {
        "id": "KvL12DrNV4cx"
      },
      "source": [
        "Next, we will create the feature extractor."
      ]
    },
    {
      "cell_type": "markdown",
      "metadata": {
        "id": "mYcIiR2FQ96i"
      },
      "source": [
        "### Create XLSR-Wav2Vec2 Feature Extractor"
      ]
    },
    {
      "cell_type": "markdown",
      "metadata": {
        "id": "Y6mDEyW719rx"
      },
      "source": [
        "Speech is a continuous signal and to be treated by computers, it first has to be discretized, which is usually called **sampling**. The sampling rate hereby plays an important role in that it defines how many data points of the speech signal are measured per second. Therefore, sampling with a higher sampling rate results in a better approximation of the *real* speech signal but also necessitates more values per second.\n",
        "\n",
        "A pretrained checkpoint expects its input data to have been sampled more or less from the same distribution as the data it was trained on. The same speech signals sampled at two different rates have a very different distribution, *e.g.*, doubling the sampling rate results in data points being twice as long. Thus, \n",
        "before fine-tuning a pretrained checkpoint of an ASR model, it is crucial to verify that the sampling rate of the data that was used to pretrain the model matches the sampling rate of the dataset used to fine-tune the model.\n",
        "\n",
        "XLSR-Wav2Vec2 was pretrained on the audio data of [Babel](https://huggingface.co/datasets/librispeech_asr), \n",
        "[Multilingual LibriSpeech (MLS)](https://ai.facebook.com/blog/a-new-open-data-set-for-multilingual-speech-research/), and [Common Voice](https://huggingface.co/datasets/common_voice). Most of those datasets were sampled at 16kHz, so that Common Voice, sampled at 48kHz, has to be downsampled to 16kHz for training. Therefore, we will have to downsample our fine-tuning data to 16kHz in the following.\n",
        "\n"
      ]
    },
    {
      "cell_type": "markdown",
      "metadata": {
        "id": "KuUbPW7oV-B5"
      },
      "source": [
        "A XLSR-Wav2Vec2 feature extractor object requires the following parameters to be instantiated:\n",
        "\n",
        "- `feature_size`: Speech models take a sequence of feature vectors as an input. While the length of this sequence obviously varies, the feature size should not. In the case of Wav2Vec2, the feature size is 1 because the model was trained on the raw speech signal ${}^2$.\n",
        "- `sampling_rate`: The sampling rate at which the model is trained on.\n",
        "- `padding_value`: For batched inference, shorter inputs need to be padded with a specific value\n",
        "- `do_normalize`: Whether the input should be *zero-mean-unit-variance* normalized or not. Usually, speech models perform better when normalizing the input\n",
        "- `return_attention_mask`: Whether the model should make use of an `attention_mask` for batched inference. In general, XLSR-Wav2Vec2 models should **always** make use of the `attention_mask`."
      ]
    },
    {
      "cell_type": "code",
      "metadata": {
        "id": "kAR0-2KLkopp",
        "colab": {
          "base_uri": "https://localhost:8080/"
        },
        "outputId": "7c4dccde-e11f-4dd6-8e0f-169ff3a2ca3a"
      },
      "source": [
        "from transformers import Wav2Vec2FeatureExtractor\n",
        "\n",
        "if not os.path.exists(save_dir):\n",
        "    print(\"NotExist\")\n",
        "    feature_extractor = Wav2Vec2FeatureExtractor(feature_size=1, sampling_rate=16000, padding_value=0.0, do_normalize=True, return_attention_mask=True)\n",
        "else:\n",
        "    feature_extractor = Wav2Vec2FeatureExtractor.from_pretrained(save_dir)"
      ],
      "execution_count": 40,
      "outputs": [
        {
          "output_type": "stream",
          "text": [
            "NotExist\n"
          ],
          "name": "stdout"
        }
      ]
    },
    {
      "cell_type": "markdown",
      "metadata": {
        "id": "qUETetgqYC3W"
      },
      "source": [
        "Great, XLSR-Wav2Vec2's feature extraction pipeline is thereby fully defined!\n",
        "\n",
        "To make the usage of XLSR-Wav2Vec2 as user-friendly as possible, the feature extractor and tokenizer are *wrapped* into a single `Wav2Vec2Processor` class so that one only needs a `model` and `processor` object."
      ]
    },
    {
      "cell_type": "code",
      "metadata": {
        "id": "KYZtoW-tlZgl",
        "colab": {
          "base_uri": "https://localhost:8080/"
        },
        "outputId": "99ae68d6-77ff-43d5-880f-41701a1cdf25"
      },
      "source": [
        "from transformers import Wav2Vec2Processor\n",
        "\n",
        "if not os.path.exists(save_dir):\n",
        "    print(\"NotExist\")\n",
        "    processor = Wav2Vec2Processor(feature_extractor=feature_extractor, tokenizer=tokenizer)\n",
        "else:\n",
        "    processor = Wav2Vec2Processor.from_pretrained(save_dir)"
      ],
      "execution_count": 41,
      "outputs": [
        {
          "output_type": "stream",
          "text": [
            "NotExist\n"
          ],
          "name": "stdout"
        }
      ]
    },
    {
      "cell_type": "markdown",
      "metadata": {
        "id": "fTfFDSS0YfMN"
      },
      "source": [
        "If one wants to re-use the just created processor and the fine-tuned model of this notebook, one can mount his/her google drive to the notebook and save all relevant files there. To do so, please uncomment the following lines. \n",
        "\n",
        "We will give the fine-tuned model the name `\"wav2vec2-large-xlsr-turkish-demo\"`."
      ]
    },
    {
      "cell_type": "code",
      "metadata": {
        "id": "Par9rpypPsml",
        "colab": {
          "base_uri": "https://localhost:8080/"
        },
        "outputId": "6523eefd-89b3-4bf8-f294-b73b6b3bb0ed"
      },
      "source": [
        "if not os.path.exists(save_dir):\n",
        "    print(\"NotExist\")\n",
        "    processor.save_pretrained(save_dir)\n",
        "    print(\"Saved!\")"
      ],
      "execution_count": 42,
      "outputs": [
        {
          "output_type": "stream",
          "text": [
            "NotExist\n",
            "Saved!\n"
          ],
          "name": "stdout"
        }
      ]
    },
    {
      "cell_type": "markdown",
      "metadata": {
        "id": "DrKnYuvDIoOO"
      },
      "source": [
        "Next, we can prepare the dataset."
      ]
    },
    {
      "cell_type": "markdown",
      "metadata": {
        "id": "YFmShnl7RE35"
      },
      "source": [
        "### Preprocess Data\n",
        "\n",
        "So far, we have not looked at the actual values of the speech signal but just kept the path to its file in the dataset. `XLSR-Wav2Vec2` expects the audio file in the format of a 1-dimensional array, so in the first step, let's load all audio files into the dataset object.\n",
        "\n",
        "Let's first check the serialization format of the downloaded audio files by looking at the first training sample."
      ]
    },
    {
      "cell_type": "code",
      "metadata": {
        "colab": {
          "base_uri": "https://localhost:8080/"
        },
        "id": "TTCS7W6XJ9BG",
        "outputId": "8c9d4dba-382a-4c2c-9249-24bfb5cfaee5"
      },
      "source": [
        "common_voice_train[0]"
      ],
      "execution_count": 43,
      "outputs": [
        {
          "output_type": "execute_result",
          "data": {
            "text/plain": [
              "{'id': 0,\n",
              " 'path': '/content/cv-corpus-6.1-2020-12-11/tr/clips/common_voice_tr_21921195.mp3',\n",
              " 'text': 'pirin sözleri hâlâ yankılanıyor '}"
            ]
          },
          "metadata": {
            "tags": []
          },
          "execution_count": 43
        }
      ]
    },
    {
      "cell_type": "markdown",
      "metadata": {
        "id": "wSBIGEiaKHMn"
      },
      "source": [
        "Alright, the audio file is saved in the `.mp3` format. The `.mp3` format is usually not the easiest format to deal with. We found that the [`torchaudio`](https://pytorch.org/audio/stable/index.html) library works best for reading in `.mp3` data. \n",
        "\n",
        "An audio file usually stores both its values and the sampling rate with which the speech signal was digitalized. We want to store both in the dataset and write a `map(...)` function accordingly."
      ]
    },
    {
      "cell_type": "code",
      "metadata": {
        "id": "al9Luo4LPpwJ"
      },
      "source": [
        "# import torchaudio\n",
        "\n",
        "# def speech_file_to_array_fn(batch):\n",
        "#     speech_array, sampling_rate = torchaudio.load(batch[\"path\"])\n",
        "#     batch[\"speech\"] = speech_array[0].numpy()\n",
        "#     batch[\"sampling_rate\"] = sampling_rate\n",
        "#     batch[\"target_text\"] = batch[\"text\"]\n",
        "#     return batch"
      ],
      "execution_count": 44,
      "outputs": []
    },
    {
      "cell_type": "code",
      "metadata": {
        "id": "afeicUeWlrRL"
      },
      "source": [
        "# common_voice_train = common_voice_train.map(speech_file_to_array_fn, remove_columns=common_voice_train.column_names)\n",
        "# common_voice_test = common_voice_test.map(speech_file_to_array_fn, remove_columns=common_voice_test.column_names)"
      ],
      "execution_count": 52,
      "outputs": []
    },
    {
      "cell_type": "markdown",
      "metadata": {
        "id": "ki5sXmzucc9Q"
      },
      "source": [
        "Great, now we've successfully read in all the audio files, but since we know that Common Voice is sampled at 48kHz, we need to resample the audio files to 16kHz. \n",
        "\n",
        "Let's make use of the [`librosa`](https://github.com/librosa/librosa) library to downsample the data."
      ]
    },
    {
      "cell_type": "code",
      "metadata": {
        "id": "6Y6AK3Z-kHwP"
      },
      "source": [
        "# import librosa\n",
        "# import numpy as np\n",
        "\n",
        "# def resample(batch):\n",
        "#     batch[\"speech\"] = librosa.resample(np.asarray(batch[\"speech\"]), 48_000, 16_000)\n",
        "#     batch[\"sampling_rate\"] = 16_000\n",
        "#     return batch"
      ],
      "execution_count": 53,
      "outputs": []
    },
    {
      "cell_type": "code",
      "metadata": {
        "id": "Ws8DyIL_kjwT"
      },
      "source": [
        "# common_voice_train = common_voice_train.map(resample, num_proc=4)\n",
        "# common_voice_test = common_voice_test.map(resample, num_proc=4)"
      ],
      "execution_count": 54,
      "outputs": []
    },
    {
      "cell_type": "markdown",
      "metadata": {
        "id": "SOckzFd4Mbzq"
      },
      "source": [
        "This seemed to have worked! Let's listen to a couple of audio files to better understand the dataset and verify that the audio was correctly loaded. \n",
        "\n",
        "**Note**: *You can click the following cell a couple of times to listen to different speech samples.*"
      ]
    },
    {
      "cell_type": "code",
      "metadata": {
        "id": "dueM6U7Ev0OA"
      },
      "source": [
        "import torchaudio\n",
        "import librosa\n",
        "import numpy as np\n",
        "\n",
        "\n",
        "def speech_file_to_array_fn(file_path):\n",
        "    speech_array, _ = torchaudio.load(file_path)\n",
        "\n",
        "    speech_array = speech_array[0].numpy()\n",
        "    speech_array = librosa.resample(np.asarray(speech_array), 48_000, 16_000)\n",
        "    sampling_rate = 16_000\n",
        "\n",
        "    return speech_array, sampling_rate"
      ],
      "execution_count": 45,
      "outputs": []
    },
    {
      "cell_type": "code",
      "metadata": {
        "colab": {
          "base_uri": "https://localhost:8080/",
          "height": 145
        },
        "id": "E4L0kyPphmwM",
        "outputId": "78217500-0f17-4983-9e74-bf699c46d669"
      },
      "source": [
        "import IPython.display as ipd\n",
        "import numpy as np\n",
        "import random\n",
        "\n",
        "rand_int = random.randint(0, len(trainset))\n",
        "sample = trainset.iloc[rand_int]\n",
        "\n",
        "text = sample[\"text\"]\n",
        "path = sample[\"path\"]\n",
        "\n",
        "speech_array, sampling_rate = speech_file_to_array_fn(path)\n",
        "\n",
        "print(\"Target text:\", text)\n",
        "print(\"Input array shape:\", np.asarray(speech_array).shape)\n",
        "print(\"Sampling rate:\", sampling_rate)\n",
        "print()\n",
        "\n",
        "ipd.Audio(data=np.asarray(speech_array), autoplay=True, rate=16000)"
      ],
      "execution_count": 46,
      "outputs": [
        {
          "output_type": "stream",
          "text": [
            "Target text: makedonya'nın isim müzakerelerinde yeni bir momentum mu \n",
            "Input array shape: (63360,)\n",
            "Sampling rate: 16000\n",
            "\n"
          ],
          "name": "stdout"
        },
        {
          "output_type": "execute_result",
          "data": {
            "text/html": [
              "\n",
              "                <audio controls=\"controls\" autoplay=\"autoplay\">\n",
              "                    <source src=\"data:audio/wav;base64,UklGRiTvAQBXQVZFZm10IBAAAAABAAEAgD4AAAB9AAACABAAZGF0YQDvAQAAAAAAAAAAAAAAAAAAAAAAAAAAAAAAAAAAAAAAAAAAAAAAAAAAAAAAAAAAAAAAAAAAAAAAAAAAAAAAAAAAAAAAAAAAAAAAAAAAAAAAAAAAAAAAAAAAAAAAAAAAAAAAAAAAAAAAAAAAAAAAAAAAAAAAAAAAAAAAAAAAAAAAAAAAAAAAAAAAAAAAAAAAAAAAAAAAAAAAAAAAAAAAAAAAAAAAAAAAAAAAAAAAAAAAAAAAAAAAAAAAAAAAAAAAAAAAAAAAAAAAAAAAAAAAAAAAAAAAAAAAAAAAAAAAAAAAAAAAAAAAAAAAAAAAAAAAAAAAAAAAAAAAAAAAAAAAAAAAAAAAAAAAAAAAAAAAAAAAAAAAAAAAAAAAAAAAAAAAAAAAAAAAAAAAAAAAAAAAAAAAAAAAAAAAAAAAAAAAAAAAAAAAAAAAAAAAAAAAAAAAAAAAAAAAAAAAAAAAAAAAAAAAAAAAAAAAAAAAAAAAAAAAAAAAAAAAAAAAAAAAAAAAAAAAAAAAAAAAAAAAAAAAAAAAAAAAAAAAAAAAAAAAAAAAAAAAAAAAAAAAAAAAAAAAAAAAAAAAAAAAAAAAAAAAAAAAAAAAAAAAAAAAAAAAAAAAAAAAAAAAAAAAAAAAAAAAAAAAAAAAAAAAAAAAAAAAAAAAAAAAAAAAAAAAAAAAAAAAAAAAAAAAAAAAAAAAAAAAAAAAAAAAAAAAAAAAAAAAAAAAAAAAAAAAAAAAAAAAAAAAAAAAAAAAAAAAAAAAAAAAAAAAAAAAAAAAAAAAAAAAAAAAAAAAAAAAAAAAAAAAAAAAAAAAAAAAAAAAAAAAAAAAAAAAAAAAAAAAAAAAAAAAAAAAAAAAAAAAAAAAAAAAAAAAAAAAAAAAAAAAAAAAAAAAAAAAAAAAAAAAAAAAAAAAAAAAAAAAAAAAAAAAAAAAAAAAAAAAAAAAAAAAAAAAAAAAAAAAAAAAAAAAAAAAAAAAAAAAAAAAAAAAAAAAAAAAAAAAAAAAAAAAAAAAAAAAAAAAAAAAAAAAAAAAAAAAAAAAAAAAAAAAAAAAAAAAAAAAAAAAAAAAAAAAAAAAAAAAAAAAAAAAAAAAAAAAAAAAAAAAAAAAAAAAAAAAAAAAAAAAAAAAAAAAAAAAAAAAAAAAAAAAAAAAAAAAAAAAAAAAAAAAAAAAAAAAAAAAAAAAAAAAAAAAAAAAAAAAAAAAAAAAAAAAAAAAAAAAAAAAAAAAAAAAAAAAAAAAAAAAAAAAAAAAAAAAAAAAAAAAAAAAAAAAAAAAAAAAAAAAAAAAAAAAAAAAAAAAAAAAAAAAAAAAAAAAAAAAAAAAAAAAAAAAAAAAAAAAAAAAAAAAAAAAAAAAAAAAAAAAAAAAAAAAAAAAAAAAAAAAAAAAAAAAAAAAAAAAAAAAAAAAAAAAAAAAAAAAAAAAAAAAAAAAAAAAAAAAAAAAAAAAAAAAAAAAAAAAAAAAAAAAAAAAAAAAAAAAAAAAAAAAAAAAAAAAAAAAAAAAAAAAAAAAAAAAAAAAAAAAAAAAAAAAAAAAAAAAAAAAAAAAAAAAAAAAAAAAAAAAAAAAAAAAAAAAAAAAAAAAAAAAAAAAAAAAAAAAAAAAAAAAAAAAAAAAAAAAAAAAAAAAAAAAAAAAAAAAAAAAAAAAAAAAAAAAAAAAAAAAAAAAAAAAAAAAAAAAAAAAAAAAAAAAAAAAAAAAAAAAAAAAAAAAAAAAAAAAAAAAAAAAAAAAAAAAAAAAAAAAAAAAAAAAAAAAAAAAAAAAAAAAAAAAAAAAAAAAAAAAAAAAAAAAAAAAAAAAAAAAAAAAAAAAAAAAAAAAAAAAAAAAAAAAAAAAAAAAAAAAAAAAAAAAAAAAAAAAAAAAAAAAAAAAAAAAAAAAAAAAAAAAAAAAAAAAAAAAAAAAAAAAAAAAAAAAAAAAAAAAAAAAAAAAAAAAAAAAAAAAAAAAAAAAAAAAAAAAAAAAAAAAAAAAAAAAAAAAAAAAAAAAAAAAAAAAAAAAAAAAAAAAAAAAAAAAAAAAAAAAAAAAAAAAAAAAAAAAAAAAAAAAAAAAAAAAAAAAAAAAAAAAAAAAAAAAAAAAAAAAAAAAAAAAAAAAAAAAAAAAAAAAAAAAAAAAAAAAAAAAAAAAAAAAAAAAAAAAAAAAAAAAAAAAAAAAAAAAAAAAAAAAAAAAAAAAAAAAAAAAAAAAAAAAAAAAAAAAAAAAAAAAAAAAAAAAAAAAAAAAAAAAAAAAAAAAAAAAAAAAAAAAAAAAAAAAAAAAAAAAAAAAAAAAAAAAAAAAAAAAAAAAAAAAAAAAAAAAAAAAAAAAAAAAAAAAAAAAAAAAAAAAAAAAAAAAAAAAAAAAAAAAAAAAAAAAAAAAAAAAAAAAAAAAAAAAAAAAAAAAAAAAAAAAAAAAAAAAAAAAAAAAAAAAAAAAAAAAAAAAAAAAAAAAAAAAAAAAAAAAAAAAAAAAAAAAAAAAAAAAAAAAAAAAAAAAAAAAAAAAAAAAAAAAAAAAAAAAAAAAAAAAAAAAAAAAAAAAAAAAAAAAAAAAAAAAAAAAAAAAAAAAAAAAAAAAAAAAAAAAAAAAAAAAAAAAAAAAAAAAAAAAAAAAAAAAAAAAAAAAAAAAAAAAAAAAAAAAAAAAAAAAAAAAAAAAAAAAAAAAAAAAAAAAAAAAAAAAAAAAAAAAAAAAAAAAAAAAAAAAAAAAAAAAAAAAAAAAAAAAAAAAAAAAAAAAAAAAAAAAAAAAAAAAAAAAAAAAAAAAAAAAAAAAAAAAAAAAAAAAAAAAAAAAAAAAAAAAAAAAAAAAAAAAAAAAAAAAAAAAAAAAAAAAAAAAAAAAAAAAAAAAAAAAAAAAAAAAAAAAAAAAAAAAAAAAAAAAAAAAAAAAAAAAAAAAAAAAAAAAAAAAAAAAAAAAAAAAAAAAAAAAAAAAAAAAAAAAAAAAAAAAAAAAAAAAAAAAAAAAAAAAAAAAAAAAAAAAAAAAAAAAAAAAAAAAAAAAAAAAAAAAAAAAAAAAAAAAAAAAAAAAAAAAAAAAAAAAAAAAAAAAAAAAAAAAAAAAAAAAAAAAAAAAAAAAAAAAAAAAAAAAAAAAAAAAAAAAAAAAAAAAAAAAAAAAAAAAAAAAAAAAAAAAAAAAAAAAAAAAAAAAAAAAAAAAAAAAAAAAAAAAAAAAAAAAAAAAAAAAAAAAAAAAAAAAAAAAAAAAAAAAAAAAAAAAAAAAAAAAAAAAAAAAAAAAAAAAAAAAAAAAAAAAAAAAAAAAAAAAAAAAAAAAAAAAAAAAAAAAAAAAAAAAAAAAAAAAAAAAAAAAAAAAAAAAAAAAAAAAAAAAAAAAAAAAAAAAAAAAAAAAAAAAAAAAAAAAAAAAAAAAAAAAAAAAAAAAAAAAAAAAAAAAAAAAAAAAAAAAAAAAAAAAAAAAAAAAAAAAAAAAAAAAAAAAAAAAAAAAAAAAAAAAAAAAAAAAAAAAAAAAAAAAAAAAAAAAAAAAAAAAAAAAAAAAAAAAAAAAAAAAAAAAAAAAAAAAAAAAAAAAAAAAAAAAAAAAAAAAAAAAAAAAAAAAAAAAAAAAAAAAAAAAAAAAAAAAAAAAAAAAAAAAAAAAAAAAAAAAAAAAAAAAAAAAAAAAAAAAAAAAAAAAAAAAAAAAAAAAAAAAAAAAAAAAAAAAAAAAAAAAAAAAAAAAAAAAAAAAAAAAAAAAAAAAAAAAAAAAAAAAAAAAAAAAAAAAAAAAAAAAAAAAAAAAAAAAAAAAAAAAAAAAAAAAAAAAAAAAAAAAAAAAAAAAAAAAAAAAAAAAAAAAAAAAAAAAAAAAAAAAAAAAAAAAAAAAAAAAAAAAAAAAAAAAAAAAAAAAAAAAAAAAAAAAAAAAAAAAAAAAAAAAAAAAAAAAAAAAAAAAAAAAAAAAAAAAAAAAAAAAAAAAAAAAAAAAAAAAAAAAAAAAAAAAAAAAAAAAAAAAAAAAAAAAAAAAAAAAAAAAAAAAAAAAAAAAAAAAAAAAAAAAAAAAAAAAAAAAAAAAAAAAAAAAAAAAAAAAAAAAAAAAAAAAAAAAAAAAAAAAAAAAAAAAAAAAAAAAAAAAAAAAAAAAAAAAAAAAAAAAAAAAAAAAAAAAAAAAAAAAAAAAAAAAAAAAAAAAAAAAAAAAAAAAAAAAAAAAAAAAAAAAAAAAAAAAAAAAAAAAAAAAAAAAAAAAAAAAAAAAAAAAAAAAAAAAAAAAAAAAAAAAAAAAAAAAAAAAAAAAAAAAAAAAAAAAAAAAAAAAAAAAAAAAAAAAAAAAAAAAAAAAAAAAAAAAAAAAAAAAAAAAAAAAAAAAAAAAAAAAAAAAAAAAAAAAAAAAAAAAAAAAAAAAAAAAAAAAAAAAAAAAAAAAAAAAAAAAAAAAAAAAAAAAAAAAAAAAAAAAAAAAAAAAAAAAAAAAAAAAAAAAAAAAAAAAAAAAAAAAAAAAAAAAAAAAAAAAAAAAAAAAAAAAAAAAAAAAAAAAAAAAAAAAAAAAAAAAAAAAAAAAAAAAAAAAAAAAAAAAAAAAAAAAAAAAAAAAAAAAAAAAAAAAAAAAAAAAAAAAAAAAAAAAAAAAAAAAAAAAAAAAAAAAAAAAAAAAAAAAAAAAAAAAAAAAAAAAAAAAAAAAAAAAAAAAAAAAAAAAAAAAAAAAAAAAAAAAAAAAAAAAAAAAAAAAAAAAAAAAAAAAAAAAAAAAAAAAAAAAAAAAAAAAAAAAAAAAAAAAAAAAAAAAAAAAAAAAAAAAAAAAAAAAAAAAAAAAAAAAAAAAAAAAAAAAAAAAAAAAAAAAAAAAAAAAAAAAAAAAAAAAAAAAAAAAAAAAAAAAAAAAAAAAAAAAAAAAAAAAAAAAAAAAAAAAAAAAAAAAAAAAAAAAAAAAAAAAAAAAAAAAAAAAAAAAAAAAAAAAAAAAAAAAAAAAAAAAAAAAAAAAAAAAAAAAAAAAAAAAAAAAAAAAAAAAAAAAAAAAAAAAAAAAAAAAAAAAAAAAAAAAAAAAAAAAAAAAAAAAAAAAAAAAAAAAAAAAAAAAAAAAAAAAAAAAAAAAAAAAAAAAAAAAAAAAAAAAAAAAAAAAAAAAAAAAAAAAAAAAAAAAAAAAAAAAAAAAAAAAAAAAAAAAAAAAAAAAAAAAAAAAAAAAAAAAAAAAAAAAAAAAAAAAAAAAAAAAAAAAAAAAAAAAAAAAAAAAAAAAAAAAAAAAAAAAAAAAAAAAAAAAAAAAAAAAAAAAAAAAAAAAAAAAAAAAAAAAAAAAAAAAAAAAAAAAAAAAAAAAAAAAAAAAAAAAAAAAAAAAAAAAAAAAAAAAAAAAAAAAAAAAAAAAAAAAAAAAAAAAAAAAAAAAAAAAAAAAAAAAAAAAAAAAAAAAAAAAAAAAAAAAAAAAAAAAAAAAAAAAAAAAAAAAAAAAAAAAAAAAAAAAAAAAAAAAAAAAAAAAAAAAAAAAAAAAAAAAAAAAAAAAAAAAAAAAAAAAAAAAAAAAAAAAAAAAAAAAAAAAAAAAAAAAAAAAAAAAAAAAAAAAAAAAAAAAAAAAAAAAAAAAAAAAAAAAAAAAAAAAAAAAAAAAAAAAAAAAAAAAAAAAAAAAAAAAAAAAAAAAAAAAAAAAAAAAAAAAAAAAAAAAAAAAAAAAAAAAAAAAAAAAAAAAAAAAAAAAAAAAAAAAAAAAAAAAAAAAAAAAAAAAAAAAAAAAAAAAAAAAAAAAAAAAAAAAAAAAAAAAAAAAAAAAAAAAAAAAAAAAAAAAAAAAAAAAAAAAAAAAAAAAAAAAAAAAAAAAAAAAAAAAAAAAAAAAAAAAAAAAAAAAAAAAAAAAAAAAAAAAAAAAAAAAAAAAAAAAAAAAAAAAAAAAAAAAAAAAAAAAAAAAAAAAAAAAAAAAAAAAAAAAAAAAAAAAAAAAAAAAAAAAAAAAAAAAAAAAAAAAAAAAAAAAAAAAAAAAAAAAAAAAAAAAAAAAAAAAAAAAAAAAAAAAAAAAAAAAAAAAAAAAAAAAAAAAAAAAAAAAAAAAAAAAAAAAAAAAAAAAAAAAAAAAAAAAAAAAAAAAAAAAAAAAAAAAAAAAAAAAAAAAAAAAAAAAAAAAAAAAAAAAAAAAAAAAAAAAAAAAAAAAAAAAAAAAAAAAAAAAAAAAAAAAAAAAAAAAAAAAAAAAAAAAAAAAAAAAAAAAAAAAAAAAAAAAAAAAAAAAAAAAAAAAAAAAAAAAAAAAAAAAAAAAAAAAAAAAAAAAAAAAAAAAAAAAAAAAAAAAAAAAAAAAAAAAAAAAAAAAAAAAAAAAAAAAAAAAAAAAAAAAAAAAAAAAAAAAAAAAAAAAAAAAAAAAAAAAAAAAAAAAAAAAAAAAAAAAAAAAAAAAAAAAAAAAAAAAAAAAAAAAAAAAAAAAAAAAAAAAAAAAAAAAAAAAAAAAAAAAAAAAAAAAAAAAAAAAAAAAAAAAAAAAAAAAAAAAAAAAAAAAAAAAAAAAAAAAAAAAAAAAAAAAAAAAAAAAAAAAAAAAAAAAAAAAAAAAAAAAAAAAAAAAAAAAAAAAAAAAAAAAAAAAAAAAAAAAAAAAAAAAAAAAAAAAAAAAAAAAAAAAAAAAAAAAAAAAAAAAAAAAAAAAAAAAAAAAAAAAAAAAAAAAAAAAAAAAAAAAAAAAAAAAAAAAAAAAAAAAAAAAAAAAAAAAAAAAAAAAAAAAAAAAAAAAAAAAAAAAAAAAAAAAAAAAAAAAAAAAAAAAAAAAAAAAAAAAAAAAAAAAAAAAAAAAAAAAAAAAAAAAAAAAAAAAAAAAAAAAAAAAAAAAAAAAAAAAAAAAAAAAAAAAAAAAAAAAAAAAAAAAAAAAAAAAAAAAAAAAAAAAAAAAAAAAAAAAAAAAAAAAAAAAAAAAAAAAAAAAAAAAAAAAAAAAAAAAAAAAAAAAAAAAAAAAAAAAAAAAAAAAAAAAAAAAAAAAAAAAAAAAAAAAAAAAAAAAAAAAAAAAAAAAAAAAAAAAAAAAAAAAAAAAAAAAAAAAAAAAAAAAAAAAAAAAAAAAAAAAAAAAAAAAAAAAAAAAAAAAAAAAAAAAAAAAAAAAAAAAAAAAAAAAAAAAAAAAAAAAAAAAAAAAAAAAAAAAAAAAAAAAAAAAAAAAAAAAAAAAAAAAAAAAAAAAAAAAAAAAAAAAAAAAAAAAAAAAAAAAAAAAAAAAAAAAAAAAAAAAAAAAAAAAAAAAAAAAAAAAAAAAAAAAAAAAAAAAAAAAAAAAAAAAAAAAAAAAAAAAAAAAAAAAAAAAAAAAAAAAAAAAAAAAAAAAAAAAAAAAAAAAAAAAAAAAAAAAAAAAAAAAAAAAAAAAAAAAAAAAAAAAAAAAAAAAAAAAAAAAAAAAAAAAAAAAAAAAAAAAAAAAAAAAAAAAAAAAAAAAAAAAAAAAAAAAAAAAAAAAAAAAAAAAAAAAAAAAAAAAAAAAAAAAAAAAAAAAAAAAAAAAAAAAAAAAAAAAAAAAAAAAAAAAAAAAAAAAAAAAAAAAAAAAAAAAAAAAAAAAAAAAAAAAAAAAAAAAAAAAAAAAAAAAAAAAAAAAAAAAAAAAAAAAAAAAAAAAAAAAAAAAAAAAAAAAAAAAAAAAAAAAAAAAAAAAAAAAAAAAAAAAAAAAAAAAAAAAAAAAAAAAAAAAAAAAAAAAAAAAAAAAAAAAAAAAAAAAAAAAAAAAAAAAAAAAAAAAAAAAAAAAAAEAAAAAAAAAAAAAAAAAAAAAAAAAAAAAAAAAAAAAAAAAAAAAAAAA//8AAAEAAQAAAAAAAAAAAAAAAAAAAAAAAAAAAAAAAAD//wAAAAAAAAAAAAABAAAAAAABAAAAAAAAAAAAAAAAAAAA//8BAP//AQAAAAEAAAAAAAAA/v8BAP7/AgAAAAAAAgD9/wIA//8AAAAA//8DAAAAAQACAAAAAAABAAEACgDo/+n/AwD9/wcA+/8GAAEABAALAP7/AwD+/wwA+////////P8GAP//BAD4/wkAAAAHAAgA2f/l/wYA/P8FAAAAAgAGAAcABAAFAAYAvP8wAPn/BgD8/+f/OwDF/ywAv/8hAAsA2/86AAEASADM/ykACQDz/xEA7P8OAO7/AwD5/wAABgAFAAIA+v///wcA9v8CAPT//f8AAPf/7v8ZACoADgA7APP////x//z/+P/5//7/8f8gANn/DgDq/zEA/f/q/+z/2P85AMj/NADc/yYA6f/w/xkA7f8cALX/OQDK/z8A5f/q/xIA3P8ZAM//JAD8/wAA2f8rAPr/JAD6/+P/IQD2/zkAzP8QAOb/6v/+//H/HgAgAA4ABADm/yAABADQ/zwAwf8bALH/EQALANH/PQDy/ykAwP8qALT/EwAHAOP/MQDT/+v/u/8oAAUALgDo/+//FwDs/wcA9P8JAPf/BgDw/wYA//8AAPn/+v8JAPb/+/8BAAsA/v/7//r/BAABAAAAAAAAAP7/BwD2/wAADQD+/wIA/P8LAP//AAAIAP//AgD6/wQABgD9/wQA/f8CAAEAAQABAP7/AQAEAAgA/P8CAP3/BAAHAPf//f/6/wMABQD5//7/CQAAAP//CQD//wAAAwAHAP7/AAAJAPr/BAD5//z/AwALAAIA//8CAPb/AwABAAIACQACAPn/AAD//wEA//8KAAAA/P8BAPf/AQAAAAUA+P8BAAMA/v8AAAMA+v8BAAEAAQADAPj/BwD8/wUAAQABAPv/AAAEAAIABQD//wAA/v8CAPz/BQD//wYAAQD6//3/BAAAAP//AwD7/wUA/f/+/wIACAD+/wEA/v///wIA//8CAAIAAwD+/wAA/P8CAAAAAwD9/wAA///+/wUA/f8BAPz/AAABAP//AAABAPz/AAABAP7//v8AAAIA//8FAAAA/v8AAAEAAAAAAAUAAAD//wAA/f8AAAEA//8CAAAA/v/+/wIAAAAAAAEA//8BAAAAAAD//wAAAAAAAAEAAAD//wAAAAD//wAA//8AAAAAAAAAAAEAAAAAAAAAAAAAAAAAAAAAAAAAAAAAAAAAAAAAAAAAAAAAAAAAAAAAAAAAAAAAAAAA//8AAAAAAAAAAAAAAAAAAAAAAAAAAAAAAAAAAAAAAAAAAAAAAAAAAAAAAAAAAAAAAAAAAAAAAAAAAAAAAAAAAAAAAAAAAAAAAAAAAAAAAAAAAAAA//8AAAEAAAAAAAAAAAAAAAAAAAAAAAAAAAAAAAAAAAAAAAAAAQAAAAAAAAAAAAAAAAAAAAAAAAAAAAAAAAAAAAAAAAAAAAAAAAAAAAAAAAAAAAAAAAAAAAAAAAAAAAAAAAAAAAAAAAAAAAAAAAAAAAAAAAAAAAAAAAAAAAAAAAAAAAAAAAAAAAAAAAAAAAAAAAAAAAAAAAAAAAAAAAAAAAAAAAAAAAAAAAAAAAAAAAAAAAAAAAAAAAAAAAAAAAAAAAAAAAAAAAAAAAAAAAAAAAAAAAAAAAAAAAAAAAAAAAAAAAAAAAAAAAAAAAAAAAAAAAAAAAAAAAAAAAAAAAAAAAAAAAAAAAAAAAAAAAAAAAAAAAAAAAAAAAAAAAAAAAAAAAAAAAAAAAAAAAAAAAAAAAAAAAAAAAAAAAAAAAAAAAAAAAAAAAAAAAAAAAAAAAAAAAAAAAAAAAAAAAAAAAAAAAAAAAAAAAAAAAAAAAAAAAAAAAAAAAAAAAAAAAAAAAAAAAAAAAAAAAAAAAAAAAAAAAAAAAAAAAAAAAAAAAAAAAAAAAAAAAAAAAAAAAAAAAAAAAAAAAAAAAAAAAAAAAAAAAAAAAAAAAAAAAAAAAAAAAAAAAAAAAAAAAAAAAAAAAAAAAAAAAAAAAAAAAAAAAAAAAAAAAAAAAAAAAAAAAAAAAAAAAAAAAAAAAAAAAAAAAAAAAAAAAAAAAAAAAAAAAAAAAAAAAAAAAAAAAAAAAAAAAAAAAAAAAAAAAAAAAAAAAAAAAAAAAAAAAAAAAAAAAAAAAAAAAAAAAAAAAAAAAAAAAAAAAAAAAAAAAAAAAAAAAAAAAAAAAAAAAAAAAAAAAAAAAAAAAAAAAAAAAAAAAAAAAAAAAAAAAAAAAAAAAAAAAAAAAAAAAAAAAAAAAAAAAAAAAAAAAAAAAAAAAAAAAAAAAAAAAAAAAAAAAAAAAAAAAAAAAAAAAAAAAAAAAAAAAAAAAAAAAAAAAAAAAAAAAAAAAAAAAAAAAAAAAAAAAAAAAAAAAAAAAAAAAAAAAAAAAAAAAAAAAAAAAAAAAAAAAAAAAAAAAAAAAAAAAAAAAAAAAAAAAAAAAAAAAAAAAAAAAAAAAAAAAAAAAAAAAAAAAAAAAAAAAAAAAAAAAAAAAAAAAAAAAAAAAAAAAAAAAAAAAAAAAAAAAAAAAAAAAAAAAAAAAAAAAAAAAAAAAAAAAAAAAAAAAAAAAAAAAAAAAAAAAAAAAAAAAAAAAAAAAAAAAAAAAAAAAAAAAAAAAAAAAAAAAAAAAAAAAAAAAAAAAAAAAAAAAAAAAAAAAAAAAAAAAAAAAAAAAAAAAAAAAAAAAAAAAAAAAAAAAAAAAAAAAAAAAAAAAAAAAAAAAAAAAAAAAAAAAAAAAAAAAAAAAAAAAAAAAAAAAAAAAAAAAAAAAAAAAAAAAAAAAAAAAAAAAAAAAAAAAAAAAAAAAAAAAAAAAAAAAAAAAAAAAAAAAAAAAAAAAAAAAAAAAAAAAAAAAAAAAAAAAAAAAAAAAAAAAAAAAAAAAAAAAAAAAAAAAAAAAAAAAAAAAAAAAAAAAAAAAAAAAAAAAAAAAAAAAAAAAAAAAAAAAAAAAAAAAAAAAAAAAAAAAAAAAAAAAAAAAAAAAAAAAAAAAAAAAAAAAAAAAAAAAAAAAAAAAAAAAAAAAAAAAAAAAAAAAAAAAAAAAAAAAAAAAAAAAAAAAAAAAAAAAAAAAAAAAAAAAAAAAAAAAAAAAAAAAAAAAAAAAAAAAAAAAAAAAAAAAAAAAAAAAAAAAAAAAAAAAAAAAAAAAAAAAAAAAAAAAAAAAAAAAAAAAAAAAAAAAAAAAAAAAAAAAAAAAAAAAAAAAAAAAAAAAAAAAAAAAAAAAAAAAAAAAAAAAAAAAAAAAAAAAAAAAAAAAAAAAAAAAAAAAAAAAAAAAAAAAAAAAAAAAAAAAAAAAAAAAAAAAAAAAAAAAAAAAAAAAAAAAAAAAAAAAAAAAAAAAAAAAAAAAAAAAAAAAAAAAAAAAAAAAAAAAAAAAAAAAAAAAAAAAAAAAAAAAAAAAAAAAAAAAAAAAAAAAAAAAAAAAAAAAAAAAAAAAAAAAAAAAAAAAAAAAAAAAAAAAAAAAAAAAAAAAAAAAAAAAAAAAAAAAAAAAAAAAAAAAAAAAAAAAAAAAAAAAAAAAAAAAAAAAAAAAAAAAAAAAAAAAAAAAAAAAAAAAAAAAAAAAAAAAAAAAAAAAAAAAAAAAAAAAAAAAAAAAAAAAAAAAAAAAAAAAAAAAAAAAAAAAAAAAAAAAAAAAAAAAAAAAAAAAAAAAAAAAAAAAAAAAAAAAAAAAAAAAAAAAAAAAAAAAAAAAAAAAAAAAAAAAAAAAAAAAAAAAAAAAAAAAAAAAAAAAAAAAAAAAAAAAAAAAAAAAAAAAAAAAAAAAAAAAAAAAAAAAAAAAAAAAAAAAAAAAAAAAAAAAAAAAAAAAAAAAAAAAAAAAAAAAAAAAAAAAAAAAAAAAAAAAAAAAAAAAAAAAAAAAAAAAAAAAAAAAAAAAAAAAAAAAAAAAAAAAAAAAAAAAAAAAAAAAAAAAAAAAAAAAAAAAAAAAAAAAAAAAAAAAAAAAAAAAAAAAAAAAAAAAAAAAAAAAAAAAAAAAAAAAAAAAAAAAAAAAAAAAAAAAAAAAAAAAAAAAAAAAAAAAAAAAAAAAAAAAAAAAAAAAAAAAAAAAAAAAAAAAAAAAAAAAAAAAAAAAAAAAAAAAAAAAAAAAAAAAAAAAAAAAAAAAAAAAAAAAAAAAAAAAAAAAAAAAAAAAAAAAAAAAAAAAAAAAAAAAAAAAAAAAAAAAAAAAAAAAAAAAAAAAAAAAAAAAAAAAAAAAAAAAAAAAAAAAAAAAAAAAAAAAAAAAAAAAAAAAAAAAAAAAAAAAAAAAAAAAAAAAAAAAAAAAAAAAAAAAAAAAAAAAAAAAAAAAAAAAAAAAAAAAAAAAAAAAAAAAAAAAAAAAAAAAAAAAAAAAAAAAAAAAAAAAAAAAAAAAAAAAAAAAAAAAAAAAAAAAAAAAAAAAAAAAAAAAAAAAAAAAAAAAAAAAAAAAAAAAAAAAAAAAAAAAAAAAAAAAAAAAAAAAAAAAAAAAAAAAAAAAAAAAAAAAAAAAAAAAAAAAAAAAAAAAAAAAAAAAAAAAAAAAAAAAAAAAAAAAAAAAAAAAAAAAAAAAAAAAAAAAAAAAAAAAAAAAAAAAAAAAAAAAAAAAAAAAAAAAAAAAAAAAAAAAAAAAAAAAAAAAAAAAAAAAAAAAAAAAAAAAAAAAAAAAAAAAAAAAAAAAAAAAAAAAAAAAAAAAAAAAAAAAAAAAAAAAAAAAAAAAAAAAAAAAAAAAAAAAAAAAAAAAAAAAAAAAAAAAAAAAAAAAAAAAAAAAAAAAAAAAAAAAAAAAAAAAAAAAAAAAAAAAAAAAAAAAAAAAAAAAAAAAAAAAAAAAAAAAAAAAAAAAAAAAAAAAAAAAAAAAAAAAAAAAAAAAAAAAAAAAAAAAAAAAAAAAAAAAAAAAAAAAAAAAAAAAAAAAAAAAAAAAAAAAAAAAAAAAAAAAAAAAAAAAAAAAAAAAAAAAAAAAAAAAAAAAAAAAAAAAAAAAAAAAAAAAAAAAAAAAAAAAAAAAAAAAAAAAAAAAAAAAAAAAAAAAAAAAAAAAAAAAAAAAAAAAAAAAAAAAAAAAAAAAAAAAAAAAAAAAAAAAAAAAAAAAAAAAAAAAAAAAAAAAAAAAAAAAAAAAAAAAAAAAAAAAAAAAAAAAAAAAAAAAAAAAAAAAAAAAAAAAAAAAAAAAAAAAAAAAAAAAAAAAAAAAAAAAAAAAAAAAAAAAAAAAAAAAAAAAAAAAAAAAAAAAAAAAAAAAAAAAAAAAAAAAAAAAAAAAAAAAAAAAAAAAAAAAAAAAAAAAAAAAAAAAAAAAAAAAAAAAEAAAAAAAAAAAAAAAAAAAAAAAAA///+//7/+/8XABUAAAACAP7/AAD+///////+//7//v////7//////////////////////wAA/v8AAAAA//////7//v8AAAAAAAD//wAAAAAAAAAAAAAAAAAAAAAAAAAAAAD//wAAAAAAAAAA//8AAAAAAAAAAAAAAAAAAAAAAAAAAAAAAAAAAAAAAAAAAAAAAAAAAAAAAAAAAAAAAAAAAAAAAAAAAAAAAAAAAAAAAAAAAAAAAAAAAAAAAAAAAAAAAAAAAAAAAAAAAAAAAAAAAAAAAAAAAAAAAAAAAAAAAAAAAAAAAAAAAAAAAAAAAAAAAAAAAAAAAAAAAAAAAAAAAAAAAAAAAAAAAAAAAAAAAAAAAAAAAAAAAAAAAAAAAAAAAAAAAAAAAAAAAAAAAAAAAAAAAAAAAAAAAAAAAAAAAAAAAAAAAAAAAAAAAAAAAAAAAAAAAAAAAAAAAAAAAAAAAAAAAAAAAAAAAAAAAAAAAAAAAAAAAAAAAAAAAAAAAAAAAAAAAAAAAAAAAAAAAAAAAAAAAAAAAAAAAAAAAAAAAAAAAAAAAAAAAAAAAAAAAAAAAAAAAAAAAAAAAAAAAAAAAAAAAAAAAAAAAAAAAAAAAAAAAAAAAAAAAAAAAAAAAAAAAAAAAAAAAAAAAAAAAAAAAAAAAAAAAAAAAAAAAAAAAAAAAAAAAAD//wAAAAAAAAAAAAAAAAAAAAAAAAAAAAAAAAAAAAAAAAAAAAAAAAAAAAAAAAAAAAAAAAAAAAAAAAAAAAAAAAAAAAAAAAAAAAAAAAAAAAAAAAAAAAAAAAAAAAAAAAAAAAAAAAAAAAAAAAAAAAAAAAAAAAABAAAAAAAAAAAAAAAAAAAAAAAAAAAAAAAAAAAAAAAAAAAAAAAAAAAAAAAAAAAAAAAAAAAAAAAAAAAAAAAAAAAAAAAAAAAAAAAAAAAAAAAAAAAAAAAAAAAAAAAAAAAAAAAAAAAAAAAAAAAAAAAAAAAAAAAAAAAAAAAAAAAAAAAAAAAAAAAAAAAAAAAAAAAAAAAAAAAAAAAAAAAAAAAAAAAAAAAAAAAAAAAAAAAAAAAAAAAAAAAAAAAAAAAAAAAAAAAAAAAAAAAAAAAAAAAAAAAAAAAAAAAAAAAAAAAAAAAAAAAAAAAAAAAAAAAAAAAAAAAAAAAAAAAAAAAAAAAAAAAAAAAAAAAAAAAAAAAAAAAAAAAAAAAAAAAAAAAAAAAAAAAAAAAAAAAAAAAAAAAAAAAAAAAAAAAAAAAAAAAAAAAAAAAAAAAAAAAAAAAAAAAAAAAAAAAAAAAAAAAAAAAAAAAAAAAAAAAAAAAAAAAAAAAAAAAAAAAAAAAAAAAAAAAAAAAAAAAAAAAAAAAAAAAAAAAAAAAAAAAAAAAAAAAAAAAAAAAAAAAAAAAAAAAAAAAAAAAAAAAAAAAAAAAAAAAAAAAAAAAAAAAAAAAAAAAAAAAAAAAAAAAAAAAAAAAAAAAAAAAAAAAAAAAAAAAAAAAAAAAAAAAAAAAAAAAAAAAAAAAAAAAAAAAAAAAAAAAAAAAAAAAAAAAAAAAAAAAAAAAAAAAAAAAAAAAAAAAAAAAAAAAAAAAAAAAAAAAAAAAAAAAAAAAAAAAAAAAAAAAAAAAAAAAAAAAAAAAAAAAAAAAAAAAAAAAAAAAAAAAAAAAAAAAAAAAAAAAAAAAAAAAAAAAAAAAAAAAAAAAAAAAAAAAAAAAAAAAAAAAAAAAAAAAAAAAAAAAAAAAAAAAAAAAAAAAAAAAAAAAAAAAAAAAAAAAAAAAAAAAAAAAAAAAAAAAAAAAAAAAAAAAAAAAAAAAAAAAAAAAAAAAAAAAAAAAAAAAAAAAAAAAAAAAAAAAAAAAAAAAAAAAAAAAAAAAAAAAAAAAAAAAAAAAAAAAAAAAAAAAAAAAAAAAAAAAAAAAAAAAAAAAAAAAAAAAAAAAAAAAAAAAAAAAAAAAAAAAAAAAAAAAAAAAAAAAAAAAAAAAAAAAAAAAAAAAAAAAAAAAAAAAAAAAAAAAAAAAAAAAAAAAAAAAAAAAAAAAAAAAAAAAAAAAAAAAAAAAAAAAAAAAAAAAAAAAAAAAAAAAAAAAAAAAAAAAAAAAAAAAAAAAAAAAAAAAAAAAAAAAAAAAAAAAAAAAAAAAAAAAAAAAAAAAAAAAAAAAAAAAAAAAAAAAAAAAAAAAAAAAAAAAAAAAAAAAAAAAAAAAAAAAAAAAAAAAAAAAAAAAAAAAAAAAAAAAAAAAAAAAAAAAAAAAAAAAAAAAAAAAAAAAAAAAAAAAAAAAAAAAAAAAAAAAAAAAAAAAAAAAAAAAAAAAAAAAAAAAAAAAAAAAAAAAAAAAAAAAAAAAAAAAAAAAAAAAAAAAAAAAAAAAAAAAAAAAAAAAAAAAAAAAAAAAAAAAAAAAAAAAAAAAAAAAAAAAAAAAAAAAAAAAAAAAAAAAAAAAAAAAAAAAAAAAAAAAAAAAAAAAAAAAAAAAAAAAAAAAAAAAAAAAAAAAAAAAAAAAAAAAAAAAAAAAAAAAAAAAAAAAAAAAAAAAAAAAAAAAAAAAAAAAAAAAAAAAAAAAAAAAAAAAAAAAAAAAAAAAAAAAAAAAAAAAAAAAAAAAAAAAAAAAAAAAAAAAAAAAAAAAAAAAAAAAAAAAAAAAAAAAAAAAAAAAAAAAAAAAAAAAAAAAAAAAAAAAAAAAAAAAAAAAAAAAAAAAAAAAAAAAAAAAAAAAAAAAAAAAAAAAAAAAAAAAAAAAAAAAAAAAAAAAAAAAAAAAAAAAAAAAAAAAAAAAAAAAAAAAAAAAAAAAAAAAAAAAAAAAAAAAAAAAAAAAAAAAAAAAAAAAAAAAAAAAAAAAAAAAAAAAAAAAAAAAAAAAAAAAAAAAAAAAAAAAAAAAAAAAAAAAAAAAAAAAAAAAAAAAAAAAAAAAAAAAAAAAAAAAAAAAAAAAAAAAAAAAAAAAAAAAAAAAAAAAAAAAAAAAAAAAAAAAAAAAAAAAAAAAAAAAAAAAAAAAAAAAAAAAAAAAAAAAAAAAAAAAAAAAAAAAAAAAAAAAAAAAAAAAAAAAAAAAAAAAAAAAAAAAAAAAAAAAAAAAAAAAAAAAAAAAAAAAAAAAAAAAAAAAAAAAAAAAAAAAAAAAAAAAAAAAAAAAAAAAAAAAAAAAAAAAAAAAAAAAAAAAAAAAAAAAAAAAAAAAAAAAAAAAAAAAAAAAAAAAAAAAAAAAAAAAAAAAAAAAAAAAAAAAAAAAAAAAAAAAAAAAAAAAAAAAAAAAAAAAAAAAAAAAAAAAAAAAAAAAAAAAAAAAAAAAAAAAAAAAAAAAAAAAAAAAAAAAAAAAAAAAAAAAAAAAAAAAAAAAAAAAAAAAAAAAAAAAAAAAAAAAAAAAAAAAAAAAAAAAAAAAAAAAAAAAAAAAAAAAAAAAAAAAAAAAAAAAAAAAAAAAAAAAAAAAAAAAAAAAAAAAAAAAAAAAAAAAAAAAAAAAAAAAAAAAAAAAAAAAAAAAAAAAAAAAAAAAAAAAAAAAAAAAAAAAAAAAAAAAAAAAAAAAAAAAAAAAAAAAAAAAAAAAAAAAAAAAAAAAAAAAAAAAAAAAAAAAAAAAAAAAAAAAAAAAAAAAAAAAAAAAAAAAAAAAAAAAAAAAAAAAAAAAAAAAAAAAAAAAAAAAAAAAAAAAAAAAAAAAAAAAAAAAAAAAAAAAAAAAAAAAAAAAAAAAAAAAAAAAAAAAAAAAAAAAAAAAAAAAAAAAAAAAAAAAAAAAAAAAAAAAAAAAAAAAAAAAAAAAAAAAAAAAAAAAAAAAAAAAAAAAAAAAAAAAAAAAAAAAAAAAAAAAAAAAAAAAAAAAAAAAAAAAAAAAAAAAAAAAAAAAAAAAAAAAAAAAAAAAAAAAAAAAAAAAAAAAAAAAAAAAAAAAAAAAAAAAAAAAAAAAAAAAAAAAAAAAAAAAAAAAAAAAAAAAAAAAAAAAAAAAAAAAAAAAAAAAAAAAAAAAAAAAAAAAAAAAAAAAAAAAAAAAAAAAAAAAAAAAAAAAAAAAAAAAAAAAAAAAAAAAAAAAAAAAAAAAAAAAAAAAAAAAAAAAAAAAAAAAAAAAAAAAAAAAAAAAAAAAAAAAAAAAAAAAAAAAAAAAAAAAAAAAAAAAAAAAAAAAAAAAAAAAAAAAAAAAAAAAAAAAAAAAAAAAAAAAAAAAAAAAAAAAAAAAAAAAAAAAAAAAAAAAAAAAAAAAAAAAAAAAAAAAAAAAAAAAAAAAAAAAAAAAAAAAAAAAAAAAAAAAAAAAAAAAAAAAAAAAAAAAAAAAAAAAAAAAAAAAAAAAAAAAAAAAAAAAAAAAAAAAAAAAAAAAAAAAAAAAAAAAAAAAAAAAAAAAAAAAAAAAAAAAAAAAAAAAAAAAAAAAAAAAAAAAAAAAAAAAAAAAAAAAAAAAAAAAAAAAAAAAAAAAAAAAAAAAAAAAAAAAAAAAAAAAAAAAAAAAAAAAAAAAAAAAAAAAAAAAAAAAAAAAAAAAAAAAAAAAAAAAAAAAAAAAAAAAAAAAAAAAAAAAAAAAAAAAAAAAAAAAAAAAAAAAAAAAAAAAAAAAAAAAAAAAAAAAAAAAAAAAAAAAAAAAAAAAAAAAAAAAAAAAAAAAAAAAAAAAAAAAAAAAAAAAAAAAAAAAAAAAAAAAAAAAAAAAAAAAAAAAAAAAAAAAAAAAAAAAAAAAAAAAAAAAAAAAAAAAAAAAAAAAAAAAAAAAAAAAAAAAAAAAAAAAAAAAAAAAAAAAAAAAAAAAAAAAAAAAAAAAAAAAAAAAAAAAAAAAAAAAAAAAAAAAAAAAAAAAAAAAAAAAAAAAAAAAAAAAAAAAAAAAAAAAAAAAAAAAAAAAAAAAAAAAAAAAAAAAAAAAAAAAAAAAAAAAAAAAAAAAAAAAAAAAAAAAAAAAAAAAAAAAAAAAAAAAAAAAAAAAAAAAAAAAAAAAAAAAAAAAAAAAAAAAAAAAAAAAAAAAAAAAAAAAAAAAAAAAAAAAAAAAAAAAAAAAAAAAAAAAAAAAAAAAAAAAAAAAAAAAAAAAAAAAAAAAAAAAAAAAAAAAAAAAAAAAAAAAAAAAAAAAAAAAAAAAAAAAAAAAAAAAAAAAAAAAAAAAAAAAAAAAAAAAAAAAAAAAAAAAAAAAAAAAAAAAAAAAAAAAAAAAAAAAAAAAAAAAAAAAAAAAAAAAAAAAAAAAAAAAAAAAAAAAAAAAAAAAAAAAAAAAAAAAAAAAAAAAAAAAAAAAAAAAAAAAAAAAAAAAAAAAAAAAAAAAAAAAAAAAAAAAAAAAAAAAAAAAAAAAAAAAAAAAAAAAAAAAAAAAAAAAAAAAAAAAAAAAAAAAAAAAAAAAAAAAAAAAAAAAAAAAAAAAAAAAAAAAAAAAAAAAAAAAAAAAAAAAAAAAAAAAAAAAAAAAAAAAAAAAAAAAAAAAAAAAAAAAAAAAAAAAAAAAAAAAAAAAAAAAAAAAAAAAAAAAAAAAAAAAAAAAAAAAAAAAAAAAAAAAAAAAAAAAAAAAAAAAAAAAAAAAAAAAAAAAAAAAAAAAAAAAAAAAAAAAAAAAAAAAAAAAAAAAAAAAAAAAAAAAAAAAAAAAAAAAAAAAAAAAAAAAAAAAAAAAAAAAAAAAAAAAAAAAAAAAAAAAAAAAAAAAAAAAAAAAAAAAAAAAAAAAAAAAAAAAAAAAAAAAAAAAAAAAAAAAAAAAAAAAAAAAAAAAAAAAAAAAAAAAAAAAAAAAAAAAAAAAAAAAAAAAAAAAAAAAAAAAAAAAAAAAAAAAAAAAAAAAAAAAAAAAAAAAAAAAAAAAAAAAAAAAAAAAAAAAAAAAAAAAAAAAAAAAAAAAAAAAAAAAAAAAAAAAAAAAAAAAAAAAAAAAAAAAAAAAAAAAAAAAAAAAAAAAAAAAAAAAAAAAAAAAAAAAAAAAAAAAAAAAAAAAAAAAAAAAAAAAAAAAAAAAAAAAAAAAAAAAAAAAAAAAAAAAAAAAAAAAAAAAAAAAAAAAAAAAAAAAAAAAAAAAAAAAAAAAAAAAAAAAAAAAAAAAAAAAAAAAAAAAAAAAAAAAAAAAAAAAAAAAAAAAAAAAAAAAAAAAAAAAAAAAAAAAAAAAAAAAAAAAAAAAAAAAAAAAAAAAAAAAAAAAAAAAAAAAAAAAAAAAAAAAAAAAAAAAAAAAAAAAAAAAAAAAAAAAAAAAAAAAAAAAAAAAAAAAAAAAAAAAAAAAAAAAAAAAAAAAAAAAAAAAAAAAAAAAAAAAAAAAAAAAAAAAAAAAAAAAAAAAAAAAAAAAAAAAAAAAAAAAAAAAAAAAAAAAAAAAAAAAAAAAAAAAAAAAAAAAAAAAAAAAAAAAAAAAAAAAAAAAAAAAAAAAAAAAAAAAAAAAAAAAAAAAAAAAAAAAAAAAAAAAAAAAAAAAAAAAAAAAAAAAAAAAAAAAAAAAAAAAAAAAAAAAAAAAAAAAAAAAAAAAAAAAAAAAAAAAAAAAAAAAAAAAAAAAAAAAAAAAAAAAAAAAAAAAAAAAAAAAAAAAAAAAAAAAAAAAAAAAAAAAAAAAAAAAAAAAAAAAAAAAAAAAAAAAAAAAAAAAAAAAAAAAAAAAAAAAAAAAAAAAAAAAAAAAAAAAAAAAAAAAAAAAAAAAAAAAAAAAAAAAAAAAAAAAAAAAAAAAAAAAAAAAAAAAAAAAAAAAAAAAAAAAAAAAAAAAAAAAAAAAAAAAAAAAAAAAAAAAAAAAAAAAAAAAAAAAAAAAAAAAAAAAAAAAAAAAAAAAAAAAAAAAAAAAAAAAAAAAAAAAAAAAAAAAAAAAAAAAAAAAAAAAAAAAAAAAAAAAAAAAAAAAAAAAAAAAAAAAAAAAAAAAAAAAAAAAAAAAAAAAAAAAAAAAAAAAAAAAAAAAAAAAAAAAAAAAAAAAAAAAAAAAAAAAAAAAAAAAAAAAAAAAAAAAAAAAAAAAAAAAAAAAAAAAAAAAAAAAAAAAAAAAAAAAAAAAAAAAAAAAAAAAAAAAAAAAAAAAAAAAAAAAAAAAAAAAAAAAAAAAAAAAAAAAAAAAAAAAAAAAAAAAAAAAAAAAAAAAAAAAAAAAAAAAAAAAAAAAAAAAAAAAAAAAAAAAAAAAAAAAAAAAAAAAAAAAAAAAAAAAAAAAAAAAAAAAAAAAAAAAAAAAAAAAAAAAAAAAAAAAAAAAAAAAAAAAAAAAAAAAAAAAAAAAAAAAAAAAAAAAAAAAAAAAAAAAAAAAAAAAAAAAAAAAAAAAAAAAAAAAAAAAAAAAAAAAAAAAAAAAAAAAAAAAAAAAAAAAAAAAAAAAAAAAAAAAAAAAAAAAAAAAAAAAAAAAAAAAAAAAAAAAAAAAAAAAAAAAAAAAAAAAAAAAAAAAAAAAAAAAAAAAAAAAAAAAAAAAAAAAAAAAAAAAAAAAAAAAAAAAAAAAAAAAAAAAAAAAAAAAAAAAAAAAAAAAAAAAAAAAAAAAAAAAAAAAAAAAAAAAAAAAAAAAAAAAAAAAAAAAAAAAAAAAAAAAAAAAAAAAAAAAAAAAAAAAAAAAAAAAAAAAAAAAAAAAAAAAAAAAAAAAAAAAAAAAAAAAAAAAAAAAAAAAAAAAAAAAAAAAAAAAAAAAAAAAAAAAAAAAAAAAAAAAAAAAAAAAAAAAAAAAAAAAAAAAAAAAAAAAAAAAAAAAAAAAAAAAAAAAAAAAAAAAAAAAAAAAAAAAAAAAAAAAAAAAAAAAAAAAAAAAAAAAAAAAAAAAAAAAAAAAAAAAAAAAAAAAAAAAAAAAAAAAAAAAAAAAAAAAAAAAAAAAAAAAAAAAAAAAAAAAAAAAAAAAAAAAAAAAAAAAAAAAAAAAAAAAAAAAAAAAAAAAAAAAAAAAAAAAAAAAAAAAAAAAAAAAAAAAAAAAAAAAAAAAAAAAAAAAAAAAAAAAAAAAAAAAAAAAAAAAAAAAAAAAAAAAAAAAAAAAAAAAAAAAAAAAAAAAAAAAAAAAAAAAAAAAAAAAAAAAAAAAAAAAAAAAAAAAAAAAAAAAAAAAAAAAAAAAAAAAAAAAAAAAAAAAAAAAAAAAAAAAAAAAAAAAAAAAAAAAAAAAAAAAAAAAAAAAAAAAAAAAAAAAAAAAAAAAAAAAAAAAAAAAAAAAAAAAAAAAAAAAAAAAAAAAAAAAAAAAAAAAAAAAAAAAAAAAAAAAAAAAAAAAAAAAAAAAAAAAAAAAAAAAAAAAAAAAAAAAAAAAAAAAAAAAAAAAAAAAAAAAAAAAAAAAAAAAAAAAAAAAAAAAAAAAAAAAAAAAAAAAAAAAAAAAAAAAAAAAAAAAAAAAAAAAAAAAAAAAAAAAAAAAAAAAAAAAAAAAAAAAAAAAAAAAAAAAAAAAAAAAAAAAAAAAAAAAAAAAAAAAAAAAAAAAAAAAAAAAAAAAAAAAAAAAAAAAAAAAAAAAAAAAAAAAAAAAAAAAAAAAAAAAAAAAAAAAAAAAAAAAAAAAAAAAAAAAAAAAAAAAAAAAAAAAAAAAAAAAAAAAAAAAAAAAAAAAAAAAAAAAAAAAAAAAAAAAAAAAAAAAAAAAAAAAAAAAAAAAAAAAAAAAAAAAAAAAAAAAAAAAAAAAAAAAAAAAAAAAAAAAAAAAAAAAAAAAAAAAAAAAAAAAAAAAAAAAAAAAAAAAAAAAAAAAAAAAAAAAAAAAAAAAAAAAAAAAAAAAAAAAAAAAAAAAAAAAAAAAAAAAAAAAAAAAAAAAAAAAAAAAAAAAAAAAAAAAAAAAAAAAAAAAAAAAAAAAAAAAAAAAAAAAAAAAAAAAAAAAAAAAAAAAAAAAAAAAAAAAAAAAAAAAAAAAAAAAAAAAAAAAAAAAAAAAAAAAAAAAAAAAAAAAAAAAAAAAAAAAAAAAAAAAAAAAAAAAAAAAAAAAAAAAAAAAAAAAAAAAAAAAAAAAAAAAAAAAAAAAAAAAAAAAAAAAAAAAAAAAAAAAAAAAAAAAAAAAAAAAAAAAAAAAAAAAAAAAAAAAAAAAAAAAAAAAAAAAAAAAAAAAAAAAAAAAAAAAAAAAAAAAAAAAAAAAAAAAAAAAAAAAAAAAAAAAAAAAAAAAAAAAAAAAAAAAAAAAAAAAAAAAAAAAAAAAAAAAAAAAAAAAAAAAAAAAAAAAAAAAAAAAAAAAAAAAAAAAAAAAAAAAAAAAAAAAAAAAAAAAAAAAAAAAAAAAAAAAAAAAAAAAAAAAAAAAAAAAAAAAAAAAAAAAAAAAAAAAAAAAAAAAAAAAAAAAAAAAAAAAAAAAAAAAAAAAAAAAAAAAAAAAAAAAAAAAAAAAAAAAAAAAAAAAAAAAAAAAAAAAAAAAAAAAAAAAAAAAAAAAAAAAAAAAAAAAAAAAAAAAAAAAAAAAAAAAAAAAAAAAAAAAAAAAAAAAAAAAAAAAAAAAAAAAAAAAAAAAAAAAAAAAAAAAAAAAAAAAAAAAAAAAAAAAAAAAAAAAAAAAAAAAAAAAAAAAAAAAAAAAAAAAAAAAAAAAAAAAAAAAAAAAAAAAAAAAAAAAAAAAAAAAAAAAAAAAAAAAAAAAAAAAAAAAAAAAAAAAAAAAAAAAAAAAAAAAAAAAAAAAAAAAAAAAAAAAAAAAAAAAAAAAAAAAAAAAAAAAAAAAAAAAAAAAAAAAAAAAAAAAAAAAAAAAAAAAAAAAAAAAAAAAAAAAAAAAAAAAAAAAAAAAAAAAAAAAAAAAAAAAAAAAAAAAAAAAAAAAAAAAAAAAAAAAAAAAAAAAAAAAAAAAAAAAAAAAAAAAAAAAAAAAAAAAAAAAAAAAAAAAAAAAAAAAAAAAAAAAAAAAAAAAAAAAAAAAAAAAAAAAAAAAAAAAAAAAAAAAAAAAAAAAAAAAAAAAAAAAAAAAAAAAAAAAAAAAAAAAAAAAAAAAAAAAAAAAAAAAAAAAAAAAAAAAAAAAAAAAAAAAAAAAAAAAAAAAAAAAAAAAAAAAAAAAAAAAAAAAAAAAAAAAAAAAAAAAAAAAAAAAAAAAAAAAAAAAAAAAAAAAAAAAAAAAAAAAAAAAAAAAAAAAAAAAAAAAAAAAAAAAAAAAAAAAAAAAAAAAAAAAAAAAAAAAAAAAAAAAAAAAAAAAAAAAAAAAAAAAAAAAAAAAAAAAAAAAAAAAAAAAAAAAAAAAAAAAAAAAAAAAAAAAAAAAAAAAAAAAAAAAAAAAAAAAAAAAAAAAAAAAAAAAAAAAAAAAAAAAAAAAAAAAAAAAAAAAAAAAAAAAAAAAAAAAAAAAAAAAAAAAAAAAAAAAAAAAAAAAAAAAAAAAAAAAAAAAAAAAAAAAAAAAAAAAAAAAAAAAAAAAAAAAAAAAAAAAAAAAAAAAAAAAAAAAAAAAAAAAAAAAAAAAAAAAAAAAAAAAAAAAAAAAAAAAAAAAAAAAAAAAAAAAAAAAAAAAAAAAAAAAAAAAAAAAAAAAAAAAAAAAAAAAAAAAAAAAAAAAAAAAAAAAAAAAAAAAAAAAAAAAAAAAAAAAAAAAAAAAAAAAAAAAAAAAAAAAAAAAAAAAAAAAAAAAAAAAAAAAAAAAAAAAAAAAAAAAAAAAAAAAAAAAAAAAAAAAAAAAAAAAAAAAAAAAAAAAAAAAAAAAAAAAAAAAAAAAAAAAAAAAAAAAAAAAAAAAAAAAAAAAAAAAAAAAAAAAAAAAAAAAAAAAAAAAAAAAAAAAAAAAAAAAAAAAAAAAAAAAAAAAAAAAAAAAAAAAAAAAAAAAAAAAAAAAAAAAAAAAAAAAAAAAAAAAAAAAAAAAAAAAAAAAAAAAAAAAAAAAAAAAAAAAAAAAAAAAAAAAAAAAAAAAAAAAAAAAAAAAAAAAAAAAAAAAAAAAAAAAAAAAAAAAAAAAAAAAAAAAAAAAAAAAAAAAAAAAAAAAAAAAAAAAAAAAAAAAAAAAAAAAAAAAAAAAAAAEAAAAAAAAAAAAAAAAA/////wAAAAAAAP//AAAAAAAAAAAAAAAAAAAAAAAAAAAAAAAAAAAAAAAAAAAAAAAA//8AAAAA//////////////////8AAAAAAAAAAAAAAAAAAAAAAAAAAAAAAAABAAEAAAAAAAAAAQABAAEAAQADAAMAAQABAAIAAwACAAAAAQABAAAA///+//3/AAD///r/9v/8/////P/4//v/AAAGAAUA4f/O//X/BgDg/8v/6f8GAAgA7v/R/+b/DAAiAAAA+f8dABMAIAAeABcAHwAkACMAFAANAP//DAD5/+X/JAA9ACYAGAD9/+7/8P/r//r/DAANABoABgDd//7/FAAaAAEA2f8PACcAIgArACgAKwApACsAKABKAEwAHQAEAPP/FgApABsA7v/B/9D/tv+i/33/bP94/2H/LP8E/xn/Df/8/vD+vP6u/r/+lv6j/oX+SP5b/kL+Tf4+/kP+O/7W/dD9BP4x/jL+Q/5g/i3+WP5y/mz+xP7b/vP+H/9F/1f/fv+2/+v/HwArAJIA4gA0AX8B0QE9AlwCsQIRA4oD7gM3BF8EwQQABe8EHQUoBToFBAXEBJQElARhBBUE7wO+A28DwgJuAugBWQGoAPL/Rv9l/mr9gPz8+zD7Tvqa+f74d/gY+Nv3nveM96z3Y/dI94b3X/c/94f3HfiK+Bz5Efpz+tn6Svvz+lD7lfuA+4f7Lfvx+ob6avps+ov6Hvsp+0/7mvuo+8f8lv4cAAwB0AGOAvYCbAOABM8FvgZUB0kHiQdeCKwJWQvvDMUOMxASEfAR2hI8FEwVIxWKFPkSRxE4EAEPVA4UDigNcwv1CWEIcQfKBrgFaASaAXT+gvuk+PL1JPNX8LPtQetX6UnoKugx6bzpHuoO6/PrfO077wDxffKb81X0O/Ui9yr50fr/+wL9r/1A/lf/sADyAXoCogHS/7f+6P30/K38N/zY+mf5vve39an0F/TC81Tz4fJY83706/YB+3MA7QWgCZwLMw0WD5sQoBFxEuASAROoEi8SdxI5FL8V+hXxFboVlxZtFqUVjxUlFZkUShJjD4UMcQqvCIgGJgR+Aaf/W/1r+nD3/fTd8jfwaOxB6WHoLuig5xHnfedR6bzrCu3J7tbwufN39o33KfnT+t78fv2F/Vv+df/mAIwBCwLRAl8D7QLsAGD+jvww+sr3IvWd8hDxu+787EDrNOoX6hXp4udU54LngejN6+DxsPtZB2UQiRfjHlomAyuiK1ArDCtOKegjWB1gGuEalxrOFwsXohlJHFAb2xfFFusXGBd7EawKhAe2BpEEZAFYADcCoQP2AWr+7Puw+pT3LPGY6uDmHOXV4/Xhj+Eh5AzoXuq+6j7sZe/Z8WPxRfAB8WPz1vQ39SP3jvp4/X39D/yS+9H82fw3+5f6kvnf95D1HPP78cnx8u977ErqD+rc6tXqh+kZ6SnqUesI66rpfure7B3uIu5p8fD7HAoOFqgdeibQMbQ5yDmfNpQ2mDf5MkooxiCGH0ogZBy3F/gY/x0CH84Y4BOMFH0XZxWVDgIKlgqZC9sJ+gf8CWQNWgzmBjYAKfyW9ybwEefy4BjfLN+63hDeyeAC5cnn7uc96OHoQOmC6BXouurW7q7wqvGR9Yz6Rf6g/o7+4/5s/cr4ePQ/9GH1GvXh8hXyMfT89Mny2+937SjsNulI5rjk+OPW4+LjhuRf5afm4ue46cDrQ+8q9zUF9RUIJd8vsjkaQ1BHVEW6QPM9DzrBMhcpcyMnIjMh3xwWGAQYgxhVFTQOpAhMB9MHtAXoA94DJAbrCPYKkQ5sEmwTIQ4KBob8MfQ860biJ9ty1tzUW9Xw1/LbueBT4gjjhuNM5WTmxuWC5kHqLfAD9Zv4e/wOAhAFlAWbBdwGLQY0Atj9OPw+/X39pP3F/YD+9/w3+fn0f/IV7yLqiOar5pDou+i86KXo+eqL6+XpUugG6ojsqe2i7xH4eQiBGRcmKC8NOidChkNoPI02bTOOL/EmPx5cHSEfxh4sGd0WGRfEFtQPJAehAtwCuAPTAmcEgAh3DlUQ2RGiEm0UNRHeB/b7fPI57A/k7twX2ITZUNqN2w/dduFR5QXlLuRZ5KTmQOa45iLofe2/8ez0pvg9/U4Ak//E/rP9hv3s+t34Yfdh+Q/8WP/7AcoDVgVRA+L/Vfq09jjyQ+506uXoPOqa6hDqm+k36zjsLusn6qTrCe3f7HvsvfHF/WgLjBfVIXssnTTWNkg02TAxL/4sqSlrJjYmqihEKisp+iVwI8ofeRrMEncMNApVCmkK5QqYDIAPBRK0ECUPnwxcCgMEPfvR8rTr3+Ya4RXek9ye3fzeA+Bu4Kvh3OGC4XfghN9Y4EDif+a86YHumfKQ+Iv85/7t/4H/pf89/nj+ov4WADEBpwN6B5sLtg0+DugMMApWBi0AR/xI+bD39/S18jfygfJv8SPvPu2R7Lrt6+xF7HvrxOxI7ejtPvIZ+koEWQzoE+UaJiLKJSgmvCVMJhsnfyXRJOUlOijaJ8MkFCGoHqAa3xRYDzgLUQmQBlUFtgQlBqQFcAJ6/x79AfsJ9r/xMe417PDpe+hw6JjpZ+p86abpE+qZ6svoIueJ5mrnU+j66SXtQ/C48wX2LvnD/BMATwGuAVQCRANbBEUFwwb5CYIOkxEHFUwXphhfF+ETGhBcDPcIjwQOAe3+cf5r/Fj6kfh89oDzLPAA7kzsFesx6qjq4+vz7Y3v7fLQ9fP49vte/0gEsQf3CtUMYA/VEHUR2hHIEqcTihIUEUcQMxCyDyEPAA4QDZUL6gn9B0AG/QSPA+UBsv/3/RP8JfpC+JP2hvVv9Rz21vbu94D47fiP+Y35Kflb+Nv3XPdG90L34Pf3+Bj5BPlk+Cv4MvjM91X3yvcr+aH6FPyC/q0BsQT8BkkJRAzYDuQQDxIBEwsUGBVXFXgVPBUmFPcSGxH1DtEMmglVBf4AYf3h+ZP2JvUm9Ovz3/Mz9M30KPYx9972N/dt9yv4CPjJ9wz4qPjf+Hj4IvhG96f1RvMv8cnv7+477lnu2+4v8JbxLPOs9Nr1w/YZ9zP4nPlL+7v90QDvAi8FOQffCGYKEwt1C1IMRg7LD4sRUBMoFT8WMxbDFdwUehMrEf4OxgweCxUJFQdfBbcDjgIyAcMAlgCWAHMAZgDqAIUB7AEjAiUCrgKOA+IEvwYbCHMJEwoRCgQJGAjUBgAFIAN6ASkABP86/jn9ufyv+yv7Z/oL+rH5FfkS+df4QPk6+fj4avjX99v25/Uq9Qr0HfOg8Wzwnu9g7qTtz+yr6wPr9ukT6RTpLOkg6fvo/+lK64zsm+6J8JTy3vT79hn4hvkD+4/8c/6ZAAgDaQUXCHYKBA2CDqIPpxD/Ef8SwRIDE3YTFRQBFHIU3BSDFbsWbReTGDQZ3BlnGtYaIxvtGjQaNhk+GAMXqBW1ExsSWhAMDtoLlwlHB/sEMgNfAYX/GP63/JP7SPq1+Jj29/TR80PykvEr8QfxdPAp8L3vWe5Q7fbrb+tt6qzptunu6YnrnuzH7enuBvDm8PrwWfGA8d3xnPIm8/zz8PRS9sH32vgZ+nb6VvvL+zr8zPzL/Iz9vP29/sL/gQA6AaQB7ALSA2kEpARFBY8GcAduCCYJ0QkMC8YLnQylDRQOyA5sDy8QvRAsEWoRZBFEEW4QOg/xDYsNzAw/DGkLGQpmCVAIcAcVB+MGdgaABjIGFAY+BusFzAWFBcsEhgOOAvUBPgFvALn/k/5t/Xj8I/ut+az4O/ht9/H2aPZM9ov2qfYH92337Pfg9/b3x/d29+n2uva89qH26fba9i73cff999340vll+pD65vpL+8z7Svze/Jj9af6B/5MAUwFGAvgC7ANYBMsENAYZB/MHxQjfCYAKcwqsCp8KcwosCucJWQmICI8HWgaLBWQElAOiAhoBQgA9/2X+gv3q/Lf8Z/xI/LD7rfoi+jX6CfpI+g37XPt6++v7Vfxa/Dj8d/wP/IX7ePt0+8z7XPwO/Tb93P3m/Rr+sP7+/kf/K/9y/0H/lP+p/9L/EQAZAAgAcv/X/k3+lv77/lf/j/8QAHMAgwDiACkBnAF7AssC2gL7AhcDyQNSBO8EKQVaBWEFSQXNBWEGmwfXCHQJCwqLCikL/gtHDNIMsAw3DLAL6QrMCg4KiQmNCGUH6gUbBPwCSAF+ANr/9P48/jX9Yfxr+3z6sPlC+dP4gPgC+IX3PPcI93D3WPdD90D38PYf9yP3YfeL91/3f/cC90b3x/ck+Ar5Kvlm+a35zvkR+sL6UPuX+xD8JfyN/FT9Gv40/1kATQHYAZABMAEZAU8BwgGFAn0DCwTTAyEDaALhARgCMQJjApcCOgJTArkCmQN0BBEF0wWiBaAFrQWpBXsGQQcICHoI1wivCGMIOwimB/EGOwbaBTAFkgRhBNEDTgMKA/UBXgF0AOH+iP6t/gP/c//d/xsABgBw/+/+FP5E/Vr8a/v0+s/5OfmT+MT3+/YJ9lX12vSA9AP0xPN58yD0FvUv9tj2XfYs9uX1jvbY92f5wftR/QL+wP5U/9D/2wChATsCZwL0AVICGwNWBN8FzAZLB60HtwdTByAHWwd9B4gHbAcSB20H0gcdCNcIqQhlCCoINgfXBlIGEwYRBrEFjAXkBDIEcQOTAnMBqQDF/yz/Yf/Z/u7+x/5i/in+rf12/cj8xPy6/Ej8QPxa++r6RftM+0n7KvvM+iX6rPlW+Vj54fhP+Cf35vWJ9S/1/vVf9v/2VvcI9zj3ovdn+E34XfgD+Jj3aPdr9xv4AvlC+vD6Lvsj/Dn9E/4j/7v/GQAWAJ4AWwFVArADgQRzBekFkQYmB5wH4wcOCGEIdAiSCMYIVwnWCagKdgv8C0UMeAyqDN4MUg2TDdANnQ1IDaANxw1LDWcNYA3GDFQMiAukCuoJDgk8CLQHRgdwBhAF4AMDAt7/Vv4Q/db7cfrp+Pb2jfWC9Cb0JvQP9M7zivK58UHxmPG78lXze/Pj8gvyC/LC8gD0yvWK9hb2pPUT9T71cfZ69yn4KPif9xX3O/dx+Dn6iPve+9D7c/uA+/n73/y7/Wb+o/4h/jT+rP7H/x4B4gFXAiUCeAEwAV8BAwLZAiUDXgOYA70DNQQ/BXoGCgeYBikGkwYCCM0JCQshDMIM3gwUDcUN2Q6vD7APYg+yDsMNUw2UDJkMagw/CwYK3gj5B1AGOgXlAy4CSwHy/wD/WP40/ij+rP0b/Wz8X/z4+9r7hfue+lr69vlB+qv6qvqb+k/67PmF+Lb3c/fP9mj2vfU49Xv0w/Qb9Vr1EvaH9ln3DPf69u/2gPc3+Cb4d/iX+AL5w/iZ+cj6QfuX+9P6ZfvO+yD7KPv5+j/7HfsG+xP7f/v6/Bj9MP3M/CD9MP0n/Gj8Z/08//v/eQE2AmUCAwNJAzkEcAToBUUGSAYUBw0HhQdJB6UHAAfbBYoGqwbqBh4HkQfZBggG/AYTB44HSggXCZwImgesB+MGzgacBtIGRAbcBY0GbgUuBb4E8wQyBAEDBAOxARMBTgCsAOj/Iv9iACgAVQCc/z3/wv77/nUACQBpADMAEwDB/n79Lv2A/Kj9Cf7f/XH8Ufth+//6M/tQ+7z8qvwd/BP8+/ki+U35lvoT+9r9Nf+n/JX6yfiS9+v3HPsJ+jP3NvVY9Lz2tgWvH4cuaCD6/HHecMtVzFbe4fw8H6MzGjCMEtv03d541urZ+Oi4BK0hezdPMc8WX/MH1vfIetAc7jgOzySjMk85BzAMEjb1zt1u0G7UH+WlAGwQQR9LIEYfMxioBv37YO5i8eTzlgR7EVgX3RPE//7xDedb6vTurPtYBv8RISIiJJ8TWPup6wTiDuSj9JQLkhrxGvUOSADC9jf35e+g5rzvkgoDJrIsSCRWECb5muWC2xHh3vaLDSoTeQwUB2wD/f+N9wDr1ePi6Yv7gwhYDY8IGP8N8OTleOgo80z+HwXWCCUIzAKf/EX4ofAO7DbtXvaV/rsLMxSsEPMFcfe876joMez97wL2ZwLOD9sXBRTQC8f5H+1I7PjxpfowAqoJkQe3BswGzgDe/ZD9uwIjBx4MWAywAGf4PfRB9s74eQQqFgodqRzGCbfzOObe7EL/EBAfIDcdtQ+F/kf1xe5B7P72YAFyEIEdhx7OESb+/vGg7d34fAi5ELMPtQWf/g3zo/Ko+vv/0gVLBucEPgE8B4cFFvzc/EP/vwJnAKYAp/h473H0kPzPCekRvRKXBLf5B/na+TT/xv4a/tD4xfcp+nD4A/73BOAFpf/+/M/9qf1OArb/YPs//E4CbQSHADUAlPhA8vHwX/Y4/R0CYgRpABn/u/0T/l37+feA9QL0wvYq+eX5E/ycAhoDK/7N+3T71vpS/Dv+sgALBCUHtwVN/6z86Pll+6gALQX8BBkFPAOnAJEAZ//cADT9/P7NAYMFBwagA6IBEgEDBqgDWQH8/yYD6gS5BaoGRAXRAsr+XPzH+Xb+5wJxCEsLYAU5AO//4wKPAokBtAETBdUGWAgACvAIKAWj/fb7L/9GCZ8Q5xFsDn0G5v9A+q366fz/AG4GHghDBBMB9PsQ+IL4uvlZ/hQB1wBJAA3+dvyh+/D6GQDZAggCFvw9+Qv78/g8+Vj6KP7l/4sCQAXPAn0Ahvok9Sr11vX59lz6avyo+jH4sfXR90P5HvnV/U/9yf4l/Q352vja9k770fja92j58/lO/AT9CgAF/+kCywNP/x/9j/2r/dv+g//NAS0ExQM9BTIEAQZCBej/Nv2XBGQLdBIIFX8S+Q01BCgBj/z6/7YJeRAOEZINuQ1ODAkKHgZV/+T/9QJWA4UGNAhoB8P+0/Ri8U7xaPKg+Cj8xv1d/pr3NvM/7+DuYev96RPvd/Se9zb4fPcS8eHvXe9B8Onw1PTc90j7aQDZ+tH6zvlE+uT53fl3AfEE0wVaB/QHGgfXBJcCOgMMA7sGLgkAEO4YIxqdF6sU+hUhFGUVJhnmG00i+CWxJLUg6h4tHPwYKRsXG+IcnB3uGHkTXQ/NDFoK0wlYBsMG7QLa/RT8s/Y49Qzz4fO98yHxV+rA4/3eUdyi21zYNuDZ4dzliOgy4iPfm9Zl0srRoNuk5a3tu/Dt57Tfztax2djfU+cX683rP/fC/cACgPtG8LTort+U3lzbM+41EAw2WE+sQFMnkw9KAJQASQsVKj5RY13jU4A5aChJIL4Ndgl7CvceuDVmR35OXD9rJLABx/eT9tUD8xGQILUz/jXLMGgX7P+742zWNN7a7mQM8BFODrb69+VH2crKysxe0U/er+yd+xMIbghS+j7h0NLm0XHh8PUsCI0PuAoXAGn4Y/nr8uLv+usx62bvIe9o7VDoFeWX1y/NbMmv0NPljfE08aPgz9WCzZDH8cnFy1XSD9C327P65ShpRf01yhxgBocEXggvFngzG1G8WP9ANC5eJFEnDRzpDPQN4BuUMccyJDVYKcEUnvsz6cbz6gKqEU4N/BDTGQUfAB3ODEwDxPd++379KAhcEdQMOgsm/XD6L/JD7PPrNO2k9wf/KAx/EBEOUPqL4s3apeA59LQA1Qj5CEsE4P5996DzqezG6C3vef6mC30MugBT8OHiwNn814ndT+fS70XytOsF4K/TpMnxwNC1nreWxczPGdLx0PvmnhVbNbEw0B1jDsYL5BSGGV86X14JZPxYjT0MP8JGLT5mLAcYNBrzIa8v3DKSML4gsAZU9rrpSfLI99H8yfy1ALUKMBC+EHH7fO+e4CHfvOp49F8FxQQW/g32APFg7ArmxN9f4cXoVPXEBZ8Nlw3m9/7nAOdA8zsFjAhzBycGwAxOEQcU7Qj/87zkzNvF6t/6ygboB8b2oefZ1iLRmdfp2ALV983/ysPTTd7Q3BLTo8UzvCjFsNjA6frx9vA+/v8dwze9Ou4wniXdKJYxaTCnQ9xLNUyRR7Y6p0xSUtJEDCtxFrAY/yGaJOkhhiP4G2QVrwYUBWAL4wklBFD1lPhT/isIegi3/7P9o/JE8KzylvNf+CTyWetc73Dv8PGx72jpzuZQ3vzfVegr8eP3avL69JL40/Yg9tnsnOyO7YPt5fXw+uH9Svr68U3v9e5k75vxAvHf9BDzqO+Y60njZuKK3FvZNNaj1hDcGd5C4kHhRuKK5Brk+udZ6nLsEfmRDRAi/ChwJHUh1iRFKegj1iJxKvouuS54K1UuWjZZNHEo2R3EGngXWhV3FJgS2xC5CVAIZQsmD0sJegDU+Zf1wPek9V75nPhH+c35Wfrg/uT6W/YU79rsM+5H797un+7m7nPtCu0+7HvvNvDf7R3sM/FM/LkCWwYgBBQAkf0L+t7+qwlrEVYVQhhpHEwfTxyPEoALxgwAELkUvRdoFegT/Q06Bg7++/X99KnxGfJ78J7wG/WT8OTtM+Xj30fcH9no3JPeNeLd4hrmSetq78XvxO8a7yvtDu2L8PH55v1w/gz7efoL/fL8k/6n/zYADwCq/xYFZAoNC3AH5P8M/gX+vACTBVkJbAtqDd4OmRAeE60UxxcnFx4WbBPmE0wWKhdwFjwSaA/vC3kJGQf2A58D0gKgAY0BX/0U/G74/vLu8ITvOPT/9xb8mQD5AHH96viL+Cf+PwSZBhIJxAzSDxYO5gkKBUkChgHGAAsFTAfVBfkDGQGe/q34cvMV9A/6rv8XAYYB6ABJADv8Xvab9K7zxvZL/M//vgFE/kz5lvQa8GXt/u738/T2Zfix9wT22/Ne8K7te+x36x7sw+2t80n6Iv3o/X/5BPb+8u3y7fVg+vABwwf4DbYP3w/iENUNAAroBmUJrRBHFpMY5xaaE64NjQelBcQGOwrUCWIJYAuQDIIMOwcyAlz/Rfx7+v/6vP4MBSgJBQo6Ce8IDQmIB20E6gE+A24F1wi6CEQGRQMq/tz6IfcN9ib3FPmV/Gb+4/32+/v3KvRg8JjupO878ebyX/IS8y30iPTI8lvvZ+0F7ofvpfBX8mLyyvDr7Bnq8ulw6ynsUusD6/Pr6O9d9HD35fe69m72L/gK/DgAbAOpBlcK8wsVDtYRNhTXFVEVaxQ5FhMYqBqKHDEc8Rr3F7YV7RShFbIWlBa2FqQV4ROrESIQaA9ZDiAN5AonCi0LnwyIDUYNKAuPCDUGXQTdBGoFSQWABPMC9gFxAH/9Hftc+Fz1MPNA8xT2ffdW91r17/Kq8Yfv/ezf6+Xrp+tA6y3s4u4p8HPuP+o250Pncujq6UrrH+0Y7sfsVuor6tDr0eyu7X/sXuxw7xjyevSW9Z72h/di+JL6vvxGAH8ECQc9B7MHZQk9DFUPDRDGEIwS9hPBFSgWVhYbF3oW7BV8FVIXuRlXGlwZ4Bd0F/IWqhYIFmsWzRbnFrsWoxU1FQ4UTRFcDgAMjgonCuAJLwqkCXkIWwYkAwQBFf+9/aP9Yv6i/rr9l/u4+Qb5OPge99r1ePVL9ZbzO/GZ78nu9e1R7XHtzu107hfthupH6bHoTujS5yboJOm86tnreOww7l3vEe+l7bfsou2Q71TybfTy9CL2kPdg+JX49/cE+Tz64/pl/CH/UAOdBbsELAPsAsIDSQQFBdUHDAvIDW8O8A7NEEERdxECESgSSBScFAAVdBW4FWwVehIkEdkSzROzEpkPiw8MEcoQzQ2vCxUO/w+RDmAL7go3DuEPIA2nCcAIEgpwCdUGpwUYBhoG9wNdAZcAwADB/7/9jPu8+qX6j/oA+jD5QPhE92L2MPQw8l/xx/EK8t/wWvB38tz0OvT28MDuEvDa8QTxLfAZ8nT0a/Qe8vzxWPU995P12/PK9H/3mPhA+Nf6AP8+AW8AKf/u//YBrAKNAlEEVgcqCkILAQvjChIL9QlSCEQH6gdnCQUJ3AfnBgkHhAb9BNwDxwN6A4sB4v9Q/wMAcgC3AHsAAQCn/2z/2f+W/qD8R/xA/sX/Xv6C/Jj9IQE/AqH+dPua/R8DsATh/dz2pPkFBNgHxf9f+skDwxBwCv30se5vARERWwRU76rzNguEEN75duuc+wAQeQiS8s/x/AU9ECUCvvSd+7EHEwSJ9TTz8/waBHQAdvsfAFcHDggaAbr8lf4/Al8DlADD/6oCLAYOBz0EdQKXAvAD3wMaAZL+tvwO/l//E/4b+qr4Nfwv/ZT5mPSq9Yr6uvrw9hf2S/ot+3r4F/iW+pP8s/kC+H77Vv+6/Rn7PP+yBM0Ex/8D/hoCNQSWAEP8lv0kAmEElAVxB3IIYwanAmL/6fwF/Az8uv20/1f/IP6g/n8AnAGeAOv9m/vO/BH9T/sT+9X9JAHX/qr6vPnA/XD/W/yi+8X/AQWaA3n+Jf2SAFcCkf1Y+Tn7igCtAp/+Rfzb/UsBPv+v+a37iAFBBeUASfzV/38Gtgau/x/+kAOcBqADdQEFB28Ovw3JCOMHHg7SEGgMKQljChAQEBIBEI0OVQ9LD74NjwweDIkL9ggWBq0D5gLSALv9M/tF95fz9vHV8vbzBvEI7LvphOpm6yPoFOb+5+TqAezu6obulfGj8cLurOze8B7yBPF98Cb0sPhS9wv1AvWY9yT4X/Ww9Uj57vlt9GjvSfDp9DT3zfFC8P7xqvNt8ijukPIc+oMC9gVtCZAQixOsERINGA10EtIXfBnOHLMheiX5JrEnQCrzLH4sLirMKegqhSqkJuwhmh7mHIQYkRM2DdAISQZ5ApEAS/70/Qv6tvIv7crqB+vh6OXjquJt5cbmduWp4yvnd+t5617nUORR5zTru+0F8HHz2fjU+7H6n/ii9kb00/Ai8Fz0Evqj+wT1Be3f6R/pLuml55nkzuN24Rnf194E3WPan9LDyR/HvtFx7X4HghADCIUC7w5yG3AYGg3EDy0jXC7VK0czuE7XZXlajzsXMFc9tkX5OJ8qoy4XOCUzPifrIeQhtBDY84XlQuwF+8311+Xu4ALnSu7n50jdOtlf1u3S8c3X0orgYee85BHhyOli+O77i/Ww8WH22Pve+gX+AwsJFD4PswTcBlgVDhinCqT52/OT9sbxGesS5+bnH+QK2srWINjV1c3IjLuPt4W1K61hp9W4KuCyAMQDgPrtADQPvQoK9aHyAxG3Kh4n2R80PCFquW9LSWArrDv9UuhCxSSuJbhCsEc9KgYaZCoxNwkXm+Tr2Pj0NQkH9wreG+Gm9SH9TPG058HndeSp13LOP9Yc6FTzy/Mi8lH4QwKNCrsKGwOe+pH6UAhXGNocgBQXDbkNfRQ6FgQSWwbq9njrFeia7yPzJunL1EvG7Mc8zj/KHsAztDKpUJrblUy0j+gRDV4ACOMr6dYOOiDdAufocf/IJ4kwnSF8NA1o33dHSlcaNic2TatHvxxIEWsyQEi2MCgUJBx7KHASyucR4En/0BBr+63f5OML/8YHyvaV5YjjOev04/HZsd2/8fT/xPQ05pnq3wJOEikMqP6J/lIHTA55EN8T1xffEP0GRQGVBioLtAbf++fvze338sn23euk1C3FZ8WPy4jGObiirw2w2L0J2gAAThhSDvj4FvRjBTsR7Q/wGa4spTNhI0En1lNneV5luynMFT00hE7DOFAYKRmvLPIq4hYiGs4qpCXD977Y/+hZDIUQt+6I2Cbhg/XB9QDpiuBA41vcfM+lyY7SGt7j1C3Iv8e93VD1fv3r+QL1CfOk99f/ogj2B+n5ZfAr8Sb+2ALV/ez0Xe696Y3i797c1zfMBLuTsxm2oLeitpfBQOiVD9sd1Qr3//8PySENJGcW9yguRr5MZDpDNM9g/392Z7wqSxU6Np9P4zn8HiksuEKdOckNOwx9LQc6vRFc3kzp2xh0LNgQ+vHA+HIWlBJV/6Xrie9l8cvZv8xszwDlbedX1x3Mq9Zd50Dyc+xn5PjhruQP+agJxBQzC8L9JPd78oPs7+bN5QXk/dN/xTjHN9KQ1b277KUcmEeg3LZg1uv64AQX+fbuf/cPDUcUPhHqIeorSzIRJtk33mNKbqZQhxl+Ge0twjAxEbkBXBn4KyUgyAX2FWctCilC+4Dl2QFVIT8dAQIpBBMf9iknFfgDOgYGCtj1Ud8x5vr6Sfnd393Lat+493/7De8236DntOk39bsERxOtGLwFwfgR/v0NqBXkAmDpjd4K3Hriz9f7yJC1Zaa/rdbKwfjeEngKivDw5uHtM/wI/W4G7xbUHxwmPC4NVSxuQ2R4O1YbAB0mH3ITG/q08g76nAHZ/zH9mwFW/U/tdtdy2aT1iBEzEh8AIP6LF6QsGiMhCc32Nvc27orlKuq1+jMBn+tW34/rhwPkAwHtud1d6Fr22vpa9oT57gbhBZMDbPufBAkH2vRQ3NDJbdGizxC8kKgwsljgewquFBgTgg/rGKsOR/q5+WoGDSSGI+8n9Dv9XBFyJFofOs4ktyX5IysYlAtODasO+QxVDt0R3RXJ/uLk5dZh3BLqj+vr7N3preFZ2gHgvfDT8/bfHc7u1sfrSPR651fcjuHM6ij39v8qCrwO8gY9B18L+xeHH+Ea+BehC8gLwxMgHG8e/wVB8B/fLdOQx5qvi6hUuArcIwJDEqwWrxXEEB8FLfWW8ZkCaRQjGg8eNjNOWuNusWHcQCQvHDCFNS0wzyXpKDUoWChyHMYWkxzVE+UAbOLV3GXxUP3T8l7UTMPkxZTGpsCLuNS4S7mlsVGwnb+L1dLdiNVJ0Wraluoq+MP+9Ad+CkYN7g8/FakdQxn9EjoK7QfSCbsFQfmT5DzOTcc80MvmTgKSEncdsBZeEXwP9BOHHNUZqhrCGEgg8S3EObNEMEEeObQy9zDzOphBmURWQVU4XDWCNYY4UzXbJy4Xng7MDQoVSBhtD9YB6e7L5TneJ9NCy2TBdby8tNWro7C5tfO2+Kzspd624sq920bdEtty3izaMtj82NXhhe7l7wT1v/6qB0EMePqA6XndHN9C9csE/xaaH2sgQiOAGTYX9RjzG8wjdR8IJNErtC+2LOccaBZRFN8UzhUUGq8jqSt3LBIqcCo6K2omTBxSGJod+SrSKrEkuRUfB+r+Ge4p51vdw97g37XaF97y3Rrh4Ndky5PIIMtJ033WqNkN45nrf/De7qrouN+b1W7RQ9Cd0tzXIt/94fzbj9uM7AgLbyEgJ+cmYCrsKJEbcxO0Gy0oZCiRJAMqdjN5K4MSUgBc/rsD7f9s/ycOayVeNbc34zjGOb82rStlHdQaDCnvNZYzJiCUDr0FlPXp3GHFecJJxAC957HYttPKkco1uA6pULUpzF/Votj84r73iQG7/Hb3ofn1/fL2Dum85vTyaf4P9qTgyd239mcRqBRtDSYXBCj9IVYJEQRjIV83+C1GHwEqXUO4Ov4XsQNMCkIWXg4cC5cd2TbVQFM0cy3ZMVI2JjJyJTkoBTY2QXY7DSVyFKoJcPyK47jNWcrPyrK+nagvnC6iWqPVlFKKb4/cpS2vtay/s4bCDtRc1GvVQuJg8Zj4pPNN+IQEDgZB/Qf5Zwm1HsUkiCelL5M7hDL+HccZlyc/NVcn0xxNJAIzwjDhGtwUBx9ZKCgikSDZM75KjkpDNdMpFDUCQek5Uy7QM/pHzki8MSgYfBAKDlH5t+A91/fget5ew1Govp9uoQyZdIfTgQiPkZ/9p9+ndK6ruZTBeMOqxjfUeuO17qHtHOtj71D4HgMyDeAclisWNiI6ezdmL0ckriGVKFovEysiIw4lhCigHDQEOPo5CZwXOBdAF98nxz8IP3gt3Si1NwtJj0euRttW82VnYAJFOCzEJPcdOBBI/STz//XA7hTbWr59qhGkIp4MlX2Kc40hlwmaoJEpiq2Qq58xrOGzWr5K0WDjyOVm3vbYweZ2AZcU3BvWISw1fke6P6YpyyWAOZ9JTTdMIqEqf0CdPDQVrQJSFzYuviCABnEN7SqqL3wS2AUfIDxAlTubJIwnOT1+Pskk/RPHJJU75zkIKi4gxh8oD3HxDNu81YvV2MlovGmzm7GuqnGfHpg4lvaYrJwtpI6uE7fvvB3DdceGzX3VhuoNC8siSyivIJQkHjFNL74hMyCeNSRGqzGkEzURzSNGIUz9Iu5NCYUn+hd789HzjRWeJIYLc/7wGiJA+DwhIKogpz3ESFktiRQXJME/+znTFk0Asgy+FdkDoelK33Dl/ti4vk+tR7BlvEy3zarBo+Knna89r8utoLGFv3bNis5szC/XwfYbEtgTVhNPJ09J01F5O940b0wEYvdNkilCKAc+CjxvF5YDahlWLtEZlvTI8/QQARn//gXwJgfGIjYZ2/83Ba4m6TKPFT38CQp2KF0mXAvzA64ZJSlEExL0r+iq6hzg5sgWwADHUsqwvRirLKWoqq6y9bTir2Wxv7ntwyHC/LsX0Jb3TA+vAgL24A/tN+o6CCOAJ7lQ62S9QHMalyVvRlVBpB6hFrU1fETrJWcHhQ5aKxIs/RMqC+QYoiD3Din8WgExEP0MSf4d/dQOeheBCvb7rv9/CusGXPtW9gv4V+87443eJ94i1QfCPbyqv3++crVZtW3Cd8XivDG51cIgzKvREeWyAcIKWvyD/BQhSz5DM7QiFTboWedQZyitIJU/5U30LDcRECEjNr4luQhxEMUv3DLnFfcJpByKJ60V2wH+Cb0aIBMx/e/0pP57Amr3JPKM+bUCq/9I9iDytO0G5nTd/toG2mbQc8RDvs2+IL/xum65grlQutq+CsTXxN3BU82a7NMDjfsr6zn99ysdPUMhhw/vKpFN+jzWFrwaJUW4Vbgx2hTRIiM5ySpmED8XfjDKMPATcwilGiwpXB5DDuwScBs0EHL63vL7/foESv/59u/0i/Z17yDmLt9K38nhJN5B2nPSxMyZxsa+rrwsvvPBhr79tpS4FsPYydbHO8xT5ZAECgnZ+cb8DCB9Q20+oisBNHpR71skQMQttj6zVYRMqizVI1kz3Tr8KaAb/CBYKn4j7Q8sClkP5BF5CwwD2QHH/RL1G+2g6JvpbulG5ZjeE9lD2srdF97H16PSPNPO1KfR38lOx0rFRsF1voW/ncGNvZ+7RsM5ygvFecCN01T4VQiL+dP1rxetQCRETi/ONOJTjGEiSyw5g0xHYvFWfjgwM4pF/EnvOFQrly+vMbAlYRjVGNwdwxv1FDAOXwWN+Hby4/Tm8XbmOt9T31bbZsvKw+fOmNiOz8O9WL7px8LCfrTss5XCtsVIuKywArlCwGi7xrwcyTvQEcwH0v/xygjlAeD6BhaHQoNJaDQwNlBWfWo+U6U+e1ONcQFtaUxTRDtYYWCtTY07Rz/IQi40TSDEHqEm7COKFdYGZgBm+v/z9O4c6OfgndwT2iXROsISvlvK+NErxKmvoq6zvNK8yKyGpJ6tfrfrsKSlxaUlrPyw5LMXuMm7qsDR0t/s6/jJ8974wxjsN3w2Lid3MAJLa1PlQ7BBnlr5aIhX3EJnTPdkaWbyVA1QcVpcW85IozqJP+REWz12LnUiwBnlDekGIgVi/6z0WOuX6GTf9M4Ax1jOXNOSxB2wUKwptsm0v6hmo7Spqa2LpDucO5xPoX+m3KkDr5eyabxa0bvi9uZx5Tb5mxv0K/ojwx9ENXFGtD2EMSlAW1p/Vj49tDh2UMBfz1FkRCZNnlebTtc9c0D7S8xGgjQ+KFEm2h79ECcMjA0ECIr5tu/H8IbrOd9U2BXcKd13zca8I7qewbnBtLdEsbizLrdVsuyqe6gyrTixwK3Mq4myB8ai1pvXNdkp6eoIPR2ZHHocPCinOR86KTTrPQZSWVhxRzs7IUW+Vq1XPku9R7ZO4FGkSBlA3ELBRkNCCTbPK2An3CG7GhkR2QUJ/Hf0CfLC7ebl8d5o27HVEcdPua61SrudueCs+aDtn0WnL6j8o86hNaZnq8uq06cDrOm8KdOp31DdYd/g8yIVTChdJ68ngDMnQTU/zjznSodex10kSltDN1NzYthZ1kv9TFpVg1AjQBA9ZEYKSBA6LysCJ5Mk9hlUDfMGRgMe/WPzhusK5rXgjt5X3CXVu8newK3AYsE0uxSzcay6qFmnPqhXq2CpiKSJo6mmtqhNqte2rszD2mPZFtuB8X4PdhwdGdAblipfNcYzDzaTR9ZXuFT0RlVGDlb6YgthcFjgVFZWA1NlS4JISksTTZ5BMDBrJGQhLyKtGBIJWvxN95vyHejG3RrcOOHC3OzN/rx6uJ+9eb0pt3WtZKhtpqOk26QSpremWafCp7KnQKdVrMa/JNe93/nYLts388YTBCHmHOofBiolNcczwDVxRVBR80/KQ7dBTU09Ww9eEFoWU9FNaEuxRqxJxUzdTIFBuStPH+wefSETGiMJJf69+2X0QOgY4H/jOeoh41LTWchAxS3HxsaFw0S98LBkp4SmJ6worOCjCZ8apGKq7aNOng+uY89s5PfZs87u3xsHHiLwHd4W4Bz2K28zljIWOmxHvk9JSvZCHkGSSWBUiFnmWPlOjUioRaJHkEzITUJImTepJmcfjB0iFxQKgAEhADb4B+fn2VLePumJ52DZgsv7xrfDzMKgxWDHF8G9scCp+KwEs0Swlqn/qNWwd7UNrKqo6rs95L76g+rJ1vTluRXAMgYoFhmkIqY3vTr7LgQ1AUw+WShPcTxLOU5F+1MkW1JX+kr7Qv1B4EVRSs1KgUSAM+cg7RdvF0USwQUx+975dvQD5UzW/Njh46Xj/NlVySHAKrpSv/DJgMbOuTyq2Kr9sHWrLaTBppizzrgkrfShWKrtyLLrSPgV55TbvfAHHO41ZSn4HyMrkT8gPwYynDylVVFiFlEjPFg5oUjXV5xeuFkNS+s/QzocQTZHsEi1PlooQBdbEssWRg/v/CD1R/l498rhCM1+0s/hx+MC1BTEk73/uQa+QsbNxli3+qeVqQe0X7PIpailpbMOv0S5u6h7rGvFYuuQ/ljrJdr655IYWDbIKH0bNSflQx5DPy+6MGRMVWK8VqVDBDr0QadO4FkJXCRLjT8HPZdDMkPbOvY59jP+JycYoxFhE2sKxv+a/O/8G/A82SPTbN2z4/nYocn1v0a627g2vjHFF8DSsymt1a8Fsn+ts67FtuK8lruMte60x7mtzRnts//c9Efh6exKFWAypCyfI68t1UDQPdEuHDYzTUBegFJ2QhQ8yD6oRG9J+lDCTURB5S57K/w0hz2+Oowo2RoHE5kUehLLBwwAJ/18/RvyzeCG1mjYf+DQ3kHTD8M5uPS5ZcHKyADENrb6r4yyvLnmt1uyuLVHv9TIFshYwLO+UM0q6RwAEgGR8anxYwrvKcMybybgK5A8xEnBPpcuYjmdTEFZhExUOz00izXzOrNA5kHENoUp3SHMKcgttibBG8IW+xz5GzUOqv4o+W//rAK5+dvq3t7c3hbibeFt2E/O5snlyvjNNMlPwNS6iL9fyGTI173xtrS+cNBG2WvSrMtm0e/b6eEr5brz0wkXEOYIywPpFVkwEjj6M1s16kFlRt03hC2bNm5IbUvoOZQqIieLLCctyi3cKtIj3hwiGeUgGR5pFTMM6gvoEVcJp/qs7TXuDPSw8bvpf95q3MzcXd5l2sDQ5M3nyBHMDcxtyxPJxMI3x6vMu89ny+nLYtnX55nmkdw22d3fu+Ux7Cr+VREKEmEBCgUQHrE25DL4KSY6n0vzSnkxHSsDOrdEkj9AMF4tfSjUI80fkyIPJT8dBRwlHUcgnRdjCgcHggetCzMHmP839vPt5ey+60HrSOeo5DvjwN6l2sLVw9Gvy9HI9M2v0RfMDMFgv/rJO9Mw0qXMoNCY24PjF+RD30fhkORd6S7sHvGbAVwOahUeFWQbbitKMx4ztjbKRDROfUDwKYgmtDSiPvw1GilYJconHiZtInYe/RuDH+0g1iOcF2YIAAYfDNgVdgyVAaz6M/pu/Nj3UPVA75Puge1G7Ibmotrt1E3Pzs/qzJPJjsfgw0PIZs1Pz7bJuscz0YPd0OLS4JTgwOIo5E3mBOx08dn1p//XFdkhAxokELIZ5TVEPW40ci2nNHI6uyuUIbAgVShEJWIfCyFKH5MbHxRlGUMapxR0DxYRMRyOGHAQjQeZBzwLoQo0DL8I7gV2AnD+lffJ7d3pYusg6wDm8dvG03bMYMhcyx/OPs4nyl7OL9g52pzTqNGN35js1++I7JPtiPXO95r6N/lA9QX06P2tGvYphSAzENwV1CxqMqAjgR1RL6w/FjVrGm0N0ROzGt4ZpRfqE7sPZgi6CdQLZgb1AvUHhRoMINcUggd2BtkPCBN/EmwPwgvqBtcCbQFM9+/o+t+y5Ozrz+Mn1nzOc9B80PPLSsqp0EHYj+Gf6APoEOPP3l3nDfTc+yz9pf+Q/5j8nPWr8WDvc+k59OEK3R5cGH8HZwmFGYsf9hEmEJoipjXSLM4U9AjgCfwMlgnzCQcMug1bDKkJSgcQBLwHxRA2G2wgRCGAIuIixx8iH50f9xy2E6sKIwqSCD0BQ/L053viEN+A2sPVhtYg1vjVGdK40dHU0dqP4prnBe9x84/2YPVw9N/2AvY19Fj0Bfrc/U/3mOwf5a7fKN785DP6Qw1GDV0GEAg/FfMUsgYpBvAZ1yz7I5QOrQf9CxcLaQHJ/2MKvBW/FqAVUBelGIUbYx1qJa0nvib3KJwqxCreItAaWxIVCgQF8QTJBQIANvRJ6zPpa+fI4L7aO90Y4jfjDuAF3yHiAugQ7Kftzu8H9Gz7d/xO+/T5Gfgo9p7vje5c83zzOeuo4Jreht1U0x7PE9/59yv/APcg9n4Ekgx0AJj7MwtbIyslwxeaFpkfFCIKFqERRxkKJ+cqkig0KQ8oRSnsJMghQyHlIQcolCqYJ2IjuxytFD4Hnf1+AMICAQD/9k/0KPWw7Dvf59RX2Kjd3d8c4innfupD5dfej9qT3cvjNe7f9e/0LvHC6ynqOOOR3evgYufo6MDbgNMj1YPQZL83srDGH+4aAHn3CvX5C8QhBxUJ/FIDNSUzOkAu1h+hLZw+VjcTIXsV7iQFMw81UTjcO+hCkD1QNKMugSbZIoIgSyWpKhsqviN+FR4GYPjg8SPxae6C6kXnv+eG5WLbOs6TxhXK6dJD3OzecuAm4vPhMeFR2QDWfdfC3n3pUuuY6bvjj+Fc46HdntVU0Qbbbej95UfaNM2DyBHLStQ/6s/+ZQvZFzcrszxNM8wcKx1SNpFJwkDWOztOEF3CSrAo/yGeL4w0WioLLZQ8Ij3cKQIZFBu0FgkGW/vnA+cSZhHEBicA3vqD84Xq3OR649bhAeoE8bDp7Nbtyn7QR9JJyb7Cv87G3NLbyNRv1unfqd+22dDbJupY9lT5ofgQ+Xv7gvlu8grpnONI6b/v5OvJ45/fOuVr5L7d6eU2AIIcDylWMXU9wESPNlAnvCywPCdFHT31QqJQ2lBZOkYc1ROmFV4XERPbEtwXAxknFXYIifv68IDtzvJr+WIBOgniDsAOJgR991nsXuTN4NDgwOf+7Jvrl+EQ1V7Lt8Gmu924kL9Azvzbh+YM6anmOuNA4szojfBa+DME7BSeI6ghJRLtB98GDAWX/O31SPuG/8f6//GE6i7hwdTh2cX1ShCvF9odGzQER3c2Jhc8GIg0o0HQMBUtpETfUF803gxQA/sHWv9M7RT01AmOD0cEn/pe/5L5q+ds4JPsXP4gBKIFfwuFDmUDbu9Q4t7et9/54C7leO+d9InuGN8mz7nKMclcx/TNreH7/KMK7wXfAowJEBB0DP8FVw/NJP4xSTDbJVkcVRN9BF/0teYI4w7oy+nR4lDYItWF07TLHr+dxsPnIQT/DqETiigoO1Mv3hVmEZcnUjOhKKMk7TUvP5clrQR3+x0AIvb74rbqBgQ3DmQBXfkSBZoF0PFX4S3vEAlAEE4NAxLRHOYZUwld/Lz6t/l89/f4Xv1U/WT2OPHH6cbeA9Wl17DjyOt/8eb9hhBfG1AZORO7FBAYehg4GNgaFSGVIRUbDg7E/mrzseny38TW19Ki1BjShMpzxCTD9b+euZW/qNgD9DAAVglCHSUyEy9FG20X+SX9LJwglBtEKYMzIiTlC7kE0wS7+obtBvXOCRkTGA4uEPUaAxn5Bfj2Sf3zCYQNGwtFEcEY1xSFCQj+n/gj8y7yufkVA8oGDgNvAY8A9vho7OrkVer09Cn9yAPbCrkSLBU1EaUJhwLQ/8wCwQerCMsGhQNrAA/4/OhL2mbQesq2xT7FZscixyvBortcu0u6rraQuhTT8fO0CFoS4R0iLiExcSPjGxolmy9dLGYmXi5jOO8u8RqUEb0SRw4rAtwCChQ0IKId7xrKICgkVBohDkMOFRMQE/IRxxbvG3EauxV4FCATjgi1/in/IQM0/072ffQC92DxvOPN3HnfEeK43ibf7OqJ9ab3rPZb+xgDHgIh/O75Ov3B/+P7wvc596f1Be885nzdctXpzXvKP87e0EvOj8sFzirPjsXouX/CaeFP/pELohchLj8+0DWZHhMZHSTKJsIerx2cLWk1AihQGCoY0hqJD34B9wO7F0MlTCiiLCAzXDI2JfIV2A1XDGYQDhc1GpYWjw/aDLoHTfvh7CHome2w7e7mkuJG5inpxuVQ4VfikeaZ6V/tLPRL/pAFNAuKDWELGQdfAd772fYY9Cr1UvZ08OfpP+ZF4zHdF9PsztnR0tQd1bDW1NlM2w/aOdrV2wLaftpa57X+8g9mF04eVyhTKwAb8QnpCeASvBS4DdkQux/sJz4gRheaGVIe7RpJFV0dYC2/N8Q6kD27QIo3LiIfD3IIcQj/BXoCYARnBpf/1vIK6JTjcOBB3czdu+IT6QjuD/D17oDtdu0e8EHyhPKT9SD+0wVjBnIDeQDp/wj9Zfc99yv6bPyZ+1D6n/v8+dz1lfJb8BjtEOlt6KzpregX5nbmhOly6JzhH9jUzojHpsYK0v7lofgQBYMQCBjmEhYEyPp1A5YQzBfLHm8t2T7tQFY3QzGlLzIqASDjGxwmNTNnN403QDd3MSweUQRt83DwH/Ej8XP3jQHaB4AC1vfu8nfu5uWl37ziou6t9/D37Prg/v75nuzw34ngbOch7B7z7/9fDIEPtQsBB04CoPuL+TsAEgnLDJQLjw2YDs8FT/cy7J3oXOa94i3koOir6GnjZdw61YfKtL1atl60x7UywT/bIPi3By0MJRD2FbkQrgEAA28XlS3BNx46mkNRSKM6JijMH0cgECHxILkqVjlLPAo4ZzLYKtkZdwLq9qb4Nv0m/PD8DQMFBLX86fH86kfnm+Fy3+Pmee5K8nLzxfRD+E/08Oxm6VXsZPP1+Mz+YAUeDXUQHhBPD20Odw8gDxAQRBKqEToNZwY1/y34BPCB5yvjgt8J3EXZJ9cX1vTQRs1jzcPMQcZAvHm4+Lg1ukq+sNFc8IwF6Q8CFosetCA4FIIPpB6EM2NAkkMnSvZTZEv/N3orFyj9KvAnNyudN7A8JzvfND0tqB5EBqr1Z/OL9Y31BvVK/XAEi/yZ7mflj+dr6G/j2udb9AgCywT4/1b/A/yn9eTs3+md8f74wv5lBOkJUA70CCoACPwX+PL2D/cJ/rwHYgfQATz4TPBE5/3aj9YU1g7YJtnt2IncONog0W7J58RUwDe6ZLejvfLB+sHOy3TkmwKMEZMX4R+yKQIsviQgKhg9jE6CU8BQA1L7UJREGzRJLIkqPyvsKissfy4GKvMlZCA7F2QGbvMf7UPuzvHP8ub2f/+aAIn5gPNC8/v2pfc6+CMBPgmQCzgG4f6u+f3xHexe6dXtUPOv9W/7T/4j/+L5AvHb73DvtO/v8X31Fv50Atf98Pfz7wTpieIn3APd0N9X47Lk/ONE4KfV88yCxpDFWMb8w8fH7cs2zn3PJ9bs7R0JGxiNH5EnTzTxOvoxqi+FOf5HQE6mRuhHxkwCSkU7bSpkJ04niSARFw4VqheXFxIQJAb4/H3wlOe84+boYPHq9qz95gFEAuX/6fy2+1j8M/z6AAEHjQZPA73+u/tX9MHqa+Yu6lbx5vJ09bb3yPiy9qjvHO9d8Uvzffl2AJQHCQtjCAAG4QDF9jXtkOZC5fPkZuMl48DgbtxI1h3Q8MvMx53Fo8cBy/DLFszBy7PONtg17KoGiRiqIRAnKDKfOhs1SjAvNmJFNEyBRBNCsUonSqE4viJFGaocahU3ClkKchGAFR8Mrv/Q+cn0sOsP6ILxZgCcCKEI2AgVDDEOAQgoA4ICywJuB2cF8gInAqX7t/UK7NjkNOWn5bLm+OZ56fvrDe077fDqZu+b9EX5/wBwBDYKehBYEEcOkQUS/Ab4dO9a583i4eMZ51jhcti+0orP7shSwVvBKceGysHHy8WVyV7Mbs/E3rT5ww+JGNoeWC78PW065zCBNGtD30wvQyE9DkQiRwE88icRHrEeoRm0DxENGhJXGPAXIhIXDREH4v/x+uX9UAVVDCUSPhRUFoQVERHdC08DxfwC/Kn8fv1v/MH4o/Uk7/Tm1N8W2tnZMdz13r/f/uBP5orqMu+s78fvbPgh/ocBUwJBAh8HBgTN+RLxh+lf5e3g4NyG3o7f890J2RTVZdR/053Rb8/Z0P3QktAVzpXK/MvG1yHzJA8fIGEl8ipJOO066y/mJwAxqUdEToJEFUIsSMJIlDWTHk4bAyKBIe8awRruJtounihMH9YXMBEwCDsDigk1E5QXCxdMFkgUHw0JAgD5sPAr6krq/+/i9gLzmOtZ6gHpw+DT0arMLtWU3kbfZ94A5OXrX+zH5GrjiuoY9S77wP15AswG1QbmALb5BfRu8MbtIuwC7HTtQO2a6QDloOGb4fXf2dn90xvRqtKZ0kXNyct60hvn5P9REDsaIB1bJNUqpijTJKondTrkS0xLgUNSRNNKFkP7KoEc8CLtKCojoxwgJiA2xzOLJS8aJhQfCuz7nvyqCmQScg7MCAEKZQiv+XjrGeZ/5Zjle+X+6y3xyu0n6GHj9d/x1nvM1cx01mfhIuYj6e3tLO4X6iDn2Opn8jz2EfvOArAJJg0HCc4DuP7p+eP2k/GH7QTtZ++t8MzthOpg67HpNeDk1T3Ru9MP0d7IkMjl0JjhM/f9DCccnxoBGUskyCkRH8sVHCx5UmJYfUNxPgdRRFP+MGoYZSgLPM8vzxllJBhAlT6YI5wVChkOEPn41/G+AuULiwG6+5ECCwPI7tLcw94e5MfdJdZj3kXqw+bb2VfXnN4v3O/OS8lY03DfD+H63ivjXOmP6t/nduhQ8Mr4/P3NAWIHQw8bD+gGXQGMAp0F4P4a9TD1q/lC93ruoO1f9Tn07OUg3GrdYtxC0ffHrMwx1ZjdePP6Eggj7hpkFh8odTDvHG8SCTCQV0dVrTpTPQFWAFACKAgXVS/WPRAkgg3aH3A6ODPvGcoUDBsJDEbyHe46/dcBkPYV9jABk/9p7fve2N/l3+bWV9MA3IriUd0511rb6d9611bMLM0S10XdrN0l4cLpxe+W8ZryxPUk+yj9JP9LA+gJxxFQFC0RnwxoCgoJ7ANm/Ij50/p4+0z6Pvoh/NH6AvVi7FzmNeIJ3TzXY9TB3cryRAhVDuII2Ap9F5Yc2hFcEEopCUZJRyY5zj0zUoBT8Tr3KlE05TpBKfoWXR73Ll8rXBpPFYMYIA2M+NXx3/hp92DrdeiB8Qf0u+im4GTiEuCd07XNydTd2S7UZ9FU3UjlON2a0xTXeOBU3sLY398Z7nP0YvKr9ez97v8p/f8A6QlMDFQIkgueFicZoRCvC9QQORBFAqz2Uflx/jv45/CA9On52PHJ4lbeC+H83MfX3uRC/qMFNfs0+mEK1BEQBQADmxtOMoQrbR14KKE+IT3CKyMvHEKCPVAgahVTKHkzuyDgD2Ma0ySzFBP/IwQ0FE0N8fYu8kL+Gv0y7mrpRPME82HgXNVK2pfcTtC1xk7QONmY0rrJDdG34Kvh3dmW2izkIulQ5nHsV/x1Bf0CGgAmCE4PVQp3BYoLUha+FcgMxAvOEQcS5gZU/Yj8afwT9/fv2O9E8Vntyeba4SPfrt3f49nwZPjs9MnxVPd//mgApgQxE4QfDB2xFesawSg1LH8mZyvMOcQ7aSx+IWUotC91KRcgMh9PH3oUxwpdD9cWQhMbB7IE3AkOBXv6JfYX/AP9kvHI6eTqzuqq4JXW59fF26bXJNGe0x3cjd772gTc/OFL5JHfh9+K6ib0KPX58m73pP4L/7v8U/6MA3oFqwP+BIkI2wh0BTkFsAiOBjz/V/sw/GP5mvFg7lPymfF46Rvpq/UNAbD6wu4E8Y/6lfxM+k0FSRekGSsOcAx0G/UkVB7fGyIqVTYqLgYgbiMnLwkt0yBbHXMiZhz7DGoJAxQiGZkNYATHCc0OEAhX/jYBUghkAx75lPUi+Pfy9+ZE44rmTuZ93hbbOuF85E7hRN/Q46rnOeO2333lI+2J7fjpMu0v9Db12/G/8sf3lvcP9Jf1av3OAcX9b/si/00CHf/c+eP6Pf33+sT2P/TT89jzPfj5AFkGMwM3/U77kvvY+yf/lgjWD94NPwr4DcEUKhV4Ew8aJyTEJNQeZSDKKl0vVijVIo4k3iOmGlITZhYXGtkV8w6REG4U7RC5CqsIXAunCKICWQG5AV79kPPr7bLt3urj4y3e1t5X4WfhAuLH4wjk1eAu3aTey+NB5nPlgeQD52nro+2M7rPw1PMI9HzxQfBV9DP5nvnG+Qf+6ANtA5D/AQFKBaAEiv5P/U0CgQLN/cX+4AgwDjAF7/tb//gFqwLt/LwCrQ1gDRgGFgh3ElYUkg0eDy8bsiE+GgUVsB0fJ+skHB8YIakkyh4IFkAWDxwXGoMRsQ6wEakRZQvRCLoL+gtdBuAAXwF7/7z3ivDy7hzwwewi6Djn9ect53DkfeS25AvhNt3K3uXkk+cW5uTknecn6n/qT+xI75zwE+4x7FPvSPOR8+nzR/dE+4j7KPr4+0X/XQGRAHj/9/9UAMgCuweeC68L2geUBLYC6QG2A60IbwwUCYsEHgZUDGIQKBH5E0oYTRluF7EYOh9aJAMjlCDyIMcgSx2TGbIZ7RqHGNYTCRHDDigL1AfpBY8FSAMl/yj8rfnS9a3w+O1L7Znsxur06H7pmer76jPqvujV6OToOOfn5aTmpurQ7LDrSOsO7fDvp+8n71fxJvVX9xr3mvi7+pr6V/gj+Lv7iP4//mL+/ACGA2YDTgKrApIDegPKAcwBBgLpAF7/6vwo/P77vvzA/YP+cv+PAMgCZwUSCIMJpwseDiMRvxSiFz4a7xupHQ8euhzvG1McYB1KHVMbaBqcGXYWPBKoD9EPMxBiDjkLzAjIBssDYf8b/Bn6WPjw9Zf0y/Th893xG+4E7CvrQenp5nnkSuMR4yzjAeTR5H7ksOJl4VTjBeZx59bnReov7X3tE+2n7Zbvvu+17iDxXvio/v4AoAK+BjIKTgl2CMALHRGrEbsOnQ4HEakQwAwxDKEPtxHODxAOlhGxFd4VwRRPFpoY1xbMEwUUqha9FhEU/RK0E4QSUw6nC3gLXwqDBrkC5AE2AK777/YE9en1GPWR8jTxu/By7yLtKuyW7e/u4e447wXxkvMh9QT22PZ/9zT3Q/bC9ib5k/uP/Fz9+f00/u399Pxp/XP/GgEoAhYDFQTJBM8DFwJQAfEAwwAKAPn/wAD3ANQAUgAmAa4B3QEzAq0CywNKAzICZAGmAW8Bc/+S/fr8Jv2f/af+bQCzAk8D8QI3A1kE6QWyBjQHgwimCUIKEAsaDLcMhQx4DGEMFQw5C0YKXwqiClIK5gk+CTYIaQeTBmIF7QOtAfb/vP56/Xv9Vv0m/ST8AvrQ+MH4BPj29XT0W/Tt9Cn0w/Pj80TzWfKG8YLyCfS59Jz0//T29UD2dvaj91b5T/ma+Or4Bfqw+hn6evpu/C7+o/5y/ygCUwTWBGsFsgaIBzwHDgfxBy8JIgm1B5oHFQl/CdIIywhTCQ0JoQcwB4UIrgkOCToIzgiiCaQJAQkECdMIIgi2BpcFRwVeBBgD1gKvAzoDAwKHAOf/lP6o/Kf7I/sx+1v6BPoM+vb57vh4+Nb40PjI+Hj47fhY+Rv5/viV+fD5GfkP+FX47vgF+br4+vjN+cr56vjZ+IX5QPlJ+eD5QvsQ/PX7IfwY/aP+If+m/+QARgLrApcD4gQVBhIGigWVBdIF8QULBfIEOQWkBBgExgMMBAMEewNqA00E7QRfBdUFcQbyB0kIYggqCcsJOQokCnYKqwr8CTMJJAjXBzoInAfRBjsGiwUZBGECuADG/wT/cP2J/CD8i/tD+i/50Pjz+Kf44PfU97T3Svdq9kj2Z/bg9Xn10/Q39eX1k/Ui9Zb1YvY49in2pPZz9wf4qvjB+Q77UPyC/Mj8Fv5b/1QAWQEvAxQFxAWABmwHZAhkCBMI1wg9CRYJLghmB6YHxAboBPIDaAOyAhoBLwBvAJIA2/8I/0P/xP/t/0X/qP9jAFAAy/+1/wQAkP+C/6v/TQDrAPsAEwFWAaIBpgFWASwBVgH/AMIA8gA4ATkB/wA7AXMBeAGpAS8C2QIxA0UDOwP1Av4BzgAwAPr/AP/R/U/91fzk+wP6d/nm+Y35G/kE+dj5AvoW+ef4rfkr+uH5Nfq7+yT96v3g/tAABgIyAi4CxQIiBCYEGASvBIgFSgXVA/sCagLFASEAV//Z/6f/rf4s/pD+lP5A/gH+e/5j/+j+1f0L/rz+pf5i/un+BgDKADUAQgBCAfYBAQKZAfYByQFHAYwA4wDoAQ4CtQG3AQUDJwOzAo8CcAOLBKAEXwSfBCsF7gPJAoACJwIuAe3/Mf/5/lf+ovxE+5j6TPqR+dX4kPj49zb3UPZ/9Vj1XvW89fz2gPis+aD6dvs5/JX9rf6c/4UA1AAXAS0BWQHAAWoCyQIsAy0D3QLbAqwCDgNdAyEEJwWVBXYFiAW7BeMF7wbbBzIIuQcgB7AGkQZkBgUGVwaLBhAGmwRdA7gCsQGnAI//bf90/0n+0fwQ/Hb8Sfzz+8v7APxS/MP7u/ug/I/9wv0n/rz+EP8D/2b+y/5z/xn/BP5W/TD9R/yX+2T7t/vH+2v79voA+2/7TfvN+078Hf26/R7+mP6A/0UAiwBMAZMB2gG5AdMBgwIvA4kDrgOCA5oD8gOpA7gDugMSBH4DbwLdAdMBYgIkAvoBxgHAAW0BtgBrALEAPwG5AMr/Zf/M/jj+3/3r/Q3+bP2x/Cv8MPyw+8P7j/yW/R/+mf3s/WL+Mv8aAAcBIQJWAx0ESQTNBA0GPgdWCDIJZwn2CToKEApnCf0IDgmXCIgHXwZWBRMElAJmAXoAaf8A/rL80fur+tH5ufmS+Qb5JPhN9wj30Paa9hb2y/Xc9Vf1pPTo9Hv1tvVy9sX2HfeH9/L3Gflj+qf7xvzs/U//IQAmAccCZgTRBcQGvgdRCMEIGgm2CekKYwt5C0wLDAsGC0sKFgqXCjgK8AjtB4EH1Aa9BXwECgS8A8gC3QFAAeQAuQBjAMv/b/82/7H+Lv6J/cT8q/wk/I371PoC+qP5rPgx+OT31/fU9zL38/bN9uX2EPec92j4mvhK+d/5Svo2+z/8qf0B/4YAcwGhAa4BZAJpAyAEvgTTBJAFbwV6BJMEbgXyBTwGGQaABWIFFQU+BWcF5wWABigGSAV8BHsEwQQuBegEhwSRBHQD8AG3AC0AAwAi/zP+RP03/LP6s/md+bj51/m3+Wb5zfil+Av5VPoM+z37NfzQ/IX91P2f/okAoAE7As8CLQSHBXMFtwXjBugHSQdSBnoGxwb3BYAEwAT7BBAE2QIcAkcCtgFlAHr/Vf/C/uz9Rv0o/Vj9tvy5+2f6r/m5+WT6Jvo4+RD5Vfja9vf12fZx9zv3dPbO9QT2HvbT9kr4qPko+hz69fo3/MH8Qv7+/ycBQQFvAfwCYQT+BAgFOwZAB3QHTgdkCLkJ5gkiCsEJpQpzCk8JfQn4CYYKPwlwCJUIgwiWCAgItAj/CNUHMgZYBfAFUgZWBhsG9gVABP4BdQBUADEBpQA7//n83Pok+R/4Cfju9xr3WPXg8u3wVPD88I3yu/Lf8cjwk/AK8RHxY/Ii9C31JvXs9Jn1PPeM+SD7svw7/jb/YwBhAZECuQQ+B1gIeAj2CE4KVAtOC58L7wwkDicN1AxSDY0NYg1sDPQMrQyyC0gKeglzCXQIGQhLBzwHzgUdA9sBkAF/Aej/Tf9n/sb8EPvM+Tr67/nT+OD20fU59Vz0uvSI9QH2TPWV9KT0cfRp9EP1uPbX9xv3sPag95L4APq/+gD81/ye/CT8/ftb/m0AzQG5AVgB8QE3At8CGASwBqAHewZ8BeUG0QiLCRkKdAoKC9MJZwmHCs8L+gsvC/IKNwoeCYEIvwnCCWYINwa6BNcE9wLwATUBgADI/r77Vfpp+av54Pj+9+D2UvV+9P3z5/Tx9CT1b/VR9TX0G/Ri9uz3i/gc+Mn4Tflp+Xn5FPvh/aD9Uv0c/fz95f3//RQA+wEmA8wA4wAnAsMDMwWkBYUHcgftBvsFBQdtCfQKKwvFCngKlwl3CZYJIQvfC2ALaQmwBzoHRwYqBRwEcQWZBIkBLf06/EP+5/yO+8v5uvr6+Pn0T/Pt9Dj48/an9YP0h/U59anzYvXL9vL3svfb9+f4dvhr+FH5y/pM/Mv8//zf+0P7Yfuq/Ov+nf/5AMv/Qvxe++n8dAFEA6EB3QApAVwCHwEaAtMF0QmuCcQG+AWzB64L6wtEDc8OJg/HDlANZQ3ADuUQbREqEO4MwAuGC98Kdgn0B8QIoQe/A/b+G/1+/hD9t/kk+Hb3YPXr8EzvLvBN7//uI++W75nto+qZ7MfuaO807aztIPEr8WbwwfCo9Fv06/ML9Rz49vrr98b3/vYG+hX90v2P/i/7hvuv+4r7cf2OAgUK4ga//d/7tQS4DokNFQq+DsoS/w2QBxwMhxooH4sXnxLhFQgZqBVkE40Zkh+4GuASZQ6oEHkQGg6JEGkQqwz+A0j+0P2H/dr9FP/9/Ez2Me9G7IHt/u4W8Onvte7h6ZPnkeic6bXsSu468GDunOt67Rfx+vPU87/1rvds+G324faf+rT6qvsr/Jz+hf19+RL5Y/ng+zD+wv4b/UH5kfim+Sr6Df3wA20LsQRC+cb5lgbuEdINHg3AE64WbA9PCG4UbyKeJBkbwxYCHrAdDxq/GDIgHSRXHTEXnBRsFhgS5g6mDrkOGw3iBJT/gvvI+Of4/Pem99nxfOvn6DLmeefL5vPnSOkY5ofkG+LZ43jnpur17VXsl+3j7ujwpvLe8U33NPpB+mb51fq+/Xz8Nvvp/H4BjwEb/hX74fql/GL+mgGd/wr7zfpj+iX78/voAsoNUgni/bL5OwMLEOcODQ9tFYMXrBGvCXkQrBz2ITAg+R2OHnwa3he+GV8eqSBHH9EbsRb/Ee4Mkg3OD+INUgybBwwBgvjy8ln1XPhj+pP0kewc57fly+jr5/HoCOsI7OPpYuRm5DzpW+1u7hXu8O5N8tHy7PB+8Z30A/mU+Cv53fqp+7P60/e7+SH8wv3K+qD4Dvj7+Eb6oPd/99X1gvhi+cj3A/ap8wz6GPtd+kD5v/pEAocBuQIfBJcEuwdsCtwOPRHCFN0YLR4JHU0W3BnPIGMo8CiLJKonACX8IVYg7SHkJ9gjcx8tGiYXtBQzEV8Q7AtxDHYHU/8++ZH0+/aQ9U7xXey67ELqDuPL307dFOSa5XvireD123vd3dxE4GrkMOMk5U/lgObT54bpouxw8Orx0PC688D0S/nv+9/6L/ye+lz+IADyAnEETAGiAbX+FgCV/3MC5wUaAtj/HfvE/VH8IfugAwIPThNBAjv2t/bWBVUTYRGhF7EUbQ43B8wCixPrIfgs2ihjHMkU9BBCGzwgVia8J1AilRjeCqwKQw2AFnsWRhIbDjgB0vxY+L/9sf48/P/8p/JB7pTmDOhf7mHr+uk/5jnpAeZl5IDmhOT46Z/qvut86+HqNevH7sj0//Hj83/1I/ne/Cz6IPnM+ksAJQG7ADgCnP6z/4YBtv78A3gCtwFlBCQCBwD5+lz/cf5MAoYEUwAPAxD7IfrD/VkFagakAtAFXgC7Ai8DzQIgCkUMSAzUCR4KVAdDBdQKlQmIC+0LjgYQB7QHxQcYB/YHcwXCCDwJOgGVAVgDiAeDBYAD8wEcAN0DmgBLAQwFGQTxA6QFsARFBKoE3wPuBpoJxAdvBHIFqgVlBrkKJgiLBigHigQiCAcJmwiABN8ArQRXASoCNwEE/5f+afwb+uv6Gfxx+Sr/Hvob+wD72fO5+c74rfmh+WX6+/tZ+nz5uvn7+bz/FwUD/tABRP7w+5kAtf9QBgUFcwLl/Bn/Wf8i/8gBgv64AaP94vsx+Rn8m/tW+yP+yPrN+vf1cPi380/4FPyf9gwAQ/es9yv7bPYJ/IT6Z/8x/HD7tPzQ+5X+1P8x/4H7mgQH/ccAaAB1+jkE5P7RBR0DrP8SAHP94wINAKwCeARnAhIEIAElADYCgwY2BRgDuAvFCBMLewukBggLrAz3EGYNqRGgEK8NFA9DCPMNHRMeFZYQZg3lC4sJKgvfCN4Iag5uCzQHzQVI/4z/jf2XAtj83/5C/eX0Jf3v8H72tfrb+ez5zfMD9QLxgvVs9PL0ffle98LzOPLy9M/0A/vD+MH1ePkZ9hv2lfQV92n1C/uS+J/yXvhx9VX08/W/9wT4z/1v8pL0l/UV9an8yvNb+x75Yvkn+yv2+fqA/0v7QABBAPT8hAdLB6oEDwWnB10HQA30CIQJdA4jDK8NvQdRDlMQDg94DpEJBQ0oDJQLMAqTDB8MfgjnDsgBdAaGCJADfA0LBF4HVQYpBswCX/9hBSAD8QUwAaQAUgM3ALYAt/ynAyICrP4tAcb4tAEl/vr+Bf2H+2n+zfsr/u/z4fsh9pP4nfpJ83/84fY29t3zMfVM+jb29PXG8+T2Ffg69rH1ovNQ+8j5iPou+vD4o/0P/wwApPwHAXACpQTJAeX71AKnBikDwga9AbICzAnF/kYCwgIdBBsG5AL9AsAB1AS9/+oDjv+2AWoGxf6UA/n6QgTcAwz/rgMT+AkFUgBj//YBnv0+BVj7u/+n/14FNwQcAd0EYvzSB0D/kgVZA7gBcgRr+gIE8Pm1Aen9vP50/l74nP+K9+/50Ppm+PL7HPiE+TH+rfSa+lHzhven/VD39fg39t76HPer+s36T/wc/lf8Sv63+lz/Y/+j/ScFXPxzA/EDWgOIBMEAlghuAnILfAKFBrYH6ARtB9IHUQcjB+cHtAH2CrH+HgnuBIAFaATP/7sFZgJDBNsAMQV3AC8Igf4uAEEDzAAO/7QD+ASD/PYE0fyO/KsBZ/47AfsC4fyL/zH6AAAn/xb71f+/ADL+w/7Q/Cz6UACZ97b/v/oI/mP/3v1e+a/56P16+ScFrvoG+/37Xvwf+f34lPy//fb/Uf4v+jcAXf9Q/ev+zft1BfD49wci+rn/OwbY90wKWf2bA+T9wf6x/k0BYATVAukF5vsRAUf9egE3BUMA9gd1/w3/Oge6+hgG+QOjA9kEDgSMAZj8EQwaAvYA4gXrAWgELQk7/W4CbQN1AcUEVP/RAHwA0gKS+6wAfPms/vT7eADOAPT1iwMr9en3HPwj+Mj4+f0y/Zf1Hv6U+XP4VQLl+yH8k/1c/WX+UQJ0/0D+sgYF/q8ExQGBAjoCOQUnBVsA/wraAnsE/gQRBc79UQfyBsYC3AkvAsMDTQBPB4f7dQEFCCj9GgaoAd7+o/3x/9P8IgEJBvn9agHN/eH7+gGc/1v9wAE8/T37DgRu+RL8kv8iARP/4PufCKjx2QSKAN/yQgQZ+aj/Xfm2AIb1bvVc/d73SvtU9pf6F/JG/B74Tfam/mLyo/9l+ff1AwB2+A/8NQKOAKH7kgIe/3T7wP/cApL+gwQSCrn7IAhDAeP/0AbAAsMJVgF2CbAD9QU2DPUEwwjoAkoNVgNPDIYKYgWaE7sA8A7gBOMEbw3IAVQLdAUkCCMDpgOGBywBKQdaAiEBFv8mA8f/uv0RBjX8ywTV/cH9fP6M/LMBSvhsAdz4o/36/cf4d/+39bb1zPQJ9Bf3Jfh/+Un3rPLR9Wnv8fS893jzePnQ87L3gvKi9un2fflh/Wf3Jf+z9gf6cvwf/GX+4PsO/+L6YP4yAM74LwAB/KMAhQF7+4wHC/vTCB8B5gDACFf84g+DApsI8AsCBIIITwQfCIcJ9QtfCcQIaQglCYcIaQf6CMAJoQcUBzwEsgbDA+UEmwUEA28Jc/+LBGwBDgLxBD7/2gZqA8oC0wcm/CICsAbM/QEH7fslAiT+hP0r/uL7Tv5z/l//ifRpA6Lw8v9e+kj2nwTe8UUEqPWk+2P/4ve1/0n78vwz+5gBuvwc/GH/1vpmAuL7IAFx+1z4SwLZ9v7+6/l1/o37Sfl//A75yPzu+tj/P/ik/9j9MPw7/YUB6v3r+w8D3v0HBOj+N/+B+pj+Hf8v/LT/Bv5S/Fr4//yf9h7+Y/yn+9D+R/jV/7T4F/55BK4BhAMt/0MBQQBTASEIqwA6AmwIy/+GBM0EfwbFAssEJgSGAIoFmwDICnf/eAvjAbz+nAqZ/eIOsP8WCScHDwGwCW0EsggoBtsJYANSB2kEugQBBK0ClAPd/iYEU/+LAI79nwHn/8f+fwJ1+sICNPyf/b38/fr/ASn9cgHz+0v9IvkiAE/95/pTAWL3zgGn+Qz9nPmp+Uf+Hfl3/Ur47Poj9Ln92Pnk+eT9ffjx/WH67vy6+Tf8YfrU/y77f/sFATz3dP+8+6/8f/7a/L//zP67/DwD6wA5+90D4/vwAucC7QLzBUIA8wfMANECewamBkcEWwWdAicBdAloA4kJ1gPCBT0HsQClB9z+oQy9CTYE2wgZAK0IQgMqBT//0AKOCdX+UQRN/kj/gwON/wP+AQK2/YcBsQEI+9QA9Pn4AGn+gP6QAzz58fwyAWD4t/6rBAf5vQXW/MP84ABV+ugEifjwAx7+I/v/BAL6XQT4+6v8YAEk/qwEuvwq/wIDg/9aBCIDtf/oBNMB8v78AecB0AWEBOr/SwJ3//7++wQ2/O0CaAdZAF4DKPgT/2cAt/9xBJ/4DAFa/4r8gP/Q9yj+af7M+an97vjH+27+4Psj/MX21P7Z/Gn9qv7m+UoAivvE/qz5+ft9AfP8lQDM/KX9svwz/QT58/8t/S387gSc9fwB1Pqi+TAAdfr+BAn7EANl/qD9IgKuAO8EzAAtCxf/ogI3BWb/SAasA2EF1wAMBvcGHQdQBkwFSgNpAuMLEwOABJsI4wOLAy0GpANoBN8JCgMBBoADJQZhBTEB5ghGAQwGJgXW+6j/FgGo/w0B0vw7+XkAMvsJ/Zr6QfqsAXf5yPqq98b79v/y+237Uvhl+zr8Hf6p+sj92/9l/an/l/lC/Kj6pPqT+0X8FwAC/CIAhfmQ+/sAC/v0ArMAuf/8AEv8JQEN/NL+PQXQ/bMFKwE5/h8BlfwABTcAewXXBG4AVAXWAHgCZP9TA3wEegWIBdsD3AEVAGcG3gBWBXACnwHgCMf/dwF4/8j+VwSL/tb+pf+R//ABVftj/j3+KP1DAOb7VQI2/gD+9v0p+9gCgv7FBPn9Ov/xA+r5eAJU/bwC/v0YAmcAUPZrB4D0cQJ5AGP8TQRr9rAHsPibA9YAfPj/BLD72ATMAH0FPf67Ai0EPPz5BdH8ZQiaA1ACngPK+8sIIf2PA6MF7f3DB538ugBLApX/mwIMAjgHPv9fAOj9Bv/4BMoAZAMf/ZL/n//G+QgDEP2L/oEDwflIAf36oPqSAVj85f5L/Mv/kv2B/gX9aPp3/vb+x/9E+ykA/f2W/ZP9Jv10/5D+9AMu/bj+v/4Z+88BHP0kA5QCqvt/Bdr8DP88Ayj+cgIvAEgDt/95A9cBef+WAjkBTQQu/6oE5P+SALID2v3aAoUCrgMAAiECc/9qAFoC2wAUBJL/dANnAdH/VQN5/hYF0P97AcIDdfyYAzT9TgA+AaD+6P4A/NwCjgDdAKD8qf6YAOX+dwBV/DL/ggC+/6H+OABN/e3+cv2+/0IE7fsV/3/+Qv/Q/lv9i/49AHYBePz3/UP93wK6/9j7UwKk/gcABgBaADsACgB1AYT7pAB3AJP/LANDANABqv2KAF3/5f7+A24C3wKB/8L+xftKAU8B+v/TBGX//QBt/539tv6g/ygBXwKkAPz+6f/5/f7+Z/0ZALwBBQAIAeL9Jf+KAeT9v/5bATL/bABCAQn+r/9Y/6r88AAGAFEBlwH2/wAA7fwJACH+ZwByAl8BpP9K/p/9Yvv8A5sA/ACPA6D9TgBe/hoAewE5ADgCcgBnAa0Bmf/W/1wAhAEEAPIA8AEu/0ABgQDp/r8BMgC1AToCrf9lAtT+PwF9Ain+2wFcAV8AgAHwAA/+RQFv/9v+iwLV/ngC2P+//r0Bnf8z/3H/7v/V/9oBjv8R/64B9/+e/7X/dwBeAf7+sAClADn/pgAv/kAA3wLDAIH/n/9G/+H+af/N/2UANAGQ/n3+Jf/6/F3/b/4A/0/+rP59/3j+IgEF/Z79E//T/mD/EwDY/7r9WP8U/mL+Jf/DAFcBygB3AJ7+wP9RAC8A3QApAWcBywARALwBygDLAOb/ogGOAt7+fwLXAOwACQI6/7gAYQFAAZv/lgBqAdX/Af9SAAQAO/+aARH/hv91ACj+VgDC/3wALgF5AbMBLwCDANX/xQGeAOgAAAJOAcwAY//WAIH/6v/U/7v/DgC9/4z+Kf5iAOz+rf5J//L+WP06/nj+Ev4c/wD+3P3K/SD9f/07/0H+av5z/mj/jwCX/kj+V/89AekAnAD0AMwAPgElAsQB3AFRAu4BoQGDAkYDywLFAxsCVgD6APYCiwInAxQDFgGJAc7+Ef+oALYAx/+o/p/9uP1b/Vz7Z/2T/f384vxj/KX7ffq0+tX7nvtW+2D7BvvP/Bb7/Pjw+WH7Tvv2+8v85ftI/dP8z/z8/W79Xf7X/7gAzgHFAZsBygFwAvIDugW0BzAIEwchBw0H6QaBCu8LcwynDBEMwwzGDBoNMQw/DbANWAwoDHoMSQtvCSEIogdVCBUHugVvBFsDvAGrAHz/Hf5w/Ij7KPvX+Jb3EPSO8y/yqO7P7lvvl+9l7hvszum66kHqqeqo6wbsLe0p61Tr5Ooe663sq+wi7pbusO+n8GLx9vN09br48fqj/IcBGQWVCOoJpQtsEIcUYRcwGWIbBR0iHgcexB7iICYh1yFLIrIh5CCWHkUdERxDG1gbYxkXF6MTZRCMDeIJpwaYA8gArPv39anxhO4d7AjoAOS04BTdmdpe2MLXFtfR1YXVb9Od09rTctTU1uDXbNkC20jdP9/r4Lzj7eZB6Xrs9e/99Bn7qv+EA1UG8wkzDGMP6hN2GOocrR96IGgg4iAHIWQiJyN5JMckdyT1I3ciryJMInEiMCI/Id4fYR2sG8QaBRkZF74TsRANDiAJggUzAq7/8PxH+W31MvFh7XDpDefD5UnjT+EW4OTdN9z+2X7Zpdk/2m/bXdyD3oveVN7q3kTgduG741bmIOgA6jvquuos7Kftje4W8PXxz/QR+Wr9SQFEBFIG8AdqCfwLyg9oFd8a5BxAHhIeNh+DIasjIybwJp8m5iW4JpIpCC1PLuYtnCqgJt8i2CCXINwfSR6aGT0Uag1JCAYFrgGb/Q74IfLT7KToO+UN5Nri/+Bn3Uraiti+1+vX+9ci2CPYddh62KjZytqW3A7e8t7a3/rh4uW952Ppiepx68PsJe1+7orzzvkV/zgCUQOABGIE1AVGCcUPDBetGsAbCRrvGaAb0x5UIzwm7ycmJgQk/yQ9KIgtEDDULhkrmyVWIWQfcCDUIWUg6Bp0E2AN1gljCHAHcgQ1/nD2b++76y7qb+mp58jj394I2pfWtNYd2E3YzdfS1WbVJtYL2Vfcvd5x4LPfJuC24drkn+ks7TPvvu8V79DuV+5H8PfylvbQ+6j/bAQwB9QIMgmHCp8OgRNQGVUcxxwMHG4b1By1H1YihiRbJF8iDiGGIq4myirBLFUr1yegIgAeJRwwHSYeFRzvFkARrAyMCEUFrwJUAAf8r/Wl7+nreumG51vkreBB3m/bWNlF2GPYRNhp13LWw9Zm2SDcGt5d33Lg2uET41zlUOnf7FPwDvJf8m/ys/GH8Vryg/Rc+Oz+QAWYCX8LWAvfC10NgRCBFegbpB92H04d5BvzHNEe/yHhJMkloiOpIOMgBSWTKVQsfithJv8f/RkmGFEZUxpAGJITgQ1NBycDOADn/vT7O/bS7zrqPeYJ5MXhpd8P3TDajtiB17DXmdds117W8NWp1/batd4l4djiqeNL5Z7n8uqx76XzT/af90j4/Pgd+tX6PPtr/JT/KAZuDSsT5BWzFZwUxxMQFsEcQCT9JzkmVyL2H4MfiyEcJZ8oiig/JMYfhh+nI7onJSmvJiAgzxcQEY8PbxIaFMYREQsCBNr+p/vr+kf6c/fI8A/oC+Lq3yngwd/73BXZ29R10p/RFtNV1bbVyNTb07HV+9kR32rjqeXx5bvmYOn37ffyhveJ+k77Lfuk+uT7xP2b/tD+fQAhBkENfRM7F40YYBi2Fq0WYhvRIo4nqiYoIhAe+xyOHuEh4SV0Jfgf7hlSGFcdqyRyKTMoAiHBFnoOCAxfD64TSxOYDY4FOf5k+tj6R/w3+0v1X+xP5OPgfuFZ4vvhG98a2gfW8NTS1hHawNu/2sjY0tiI2yXh+ObM6oPsfezw7HvvZfSP+Vr9Wv5B/ln9APwF/BT87Pve/PwAwgevDrsSsRPPErYQLRCLE1oaBCEBIwsgVRtYGDQZ0BzHIHki3h+KGhMXlRiIHngkbSYSItQYnA/WCkYMphA8E6wQlAkkAi39nvux/NT8DPka8U3oiOKG4TDjVeOA4Mnb5Nbs0+LU29iV3Ejd39rF11rYEN0L45LoIuw17S7tIu6w8Zv2lPqv/CL89frd+U/5M/kV+RP5vvrk/9gGPw3ND7EOmgzsC/QNxRN7G7ogsyATHL8XHhdbGpQeASGSIJgdJBqoGRseqyS6JyIl/x1vFSgQiQ/hEv8VIxUUEO4IZAPzAMwAZgF6ADr7fvPd64Ln8+Yt5xjmbOOm4LndFdxw3BTfKeGf4IveqN3436vjluh97cDx0vPF8zvz//PA9mH60/2a/xv/y/us+GH2m/Vf9jv40vzsAuYHzAkNCgQKKgmUCNwKkRD4FtcYpRVpEZcPNhEVFEUXcBmTGLIVIBSjFiAc7iC4IfcdCRhoEl0PkRCyFOUWihVlD4cJAwWO/AL1TPGA8ZHymfHc7VDp3uUV5NHkwebg6G/p/+eW5VPluue/63XvgvGW8sDyVvNw9Eb1c/Vo9Avz9PKV8zf0i/XT9ZTzHfHm7wTyofjrALoGsgisBloDAgJmA5kJEBEsFmYWdBFmDTkNyBAPFrsZXRrlF1AUghOuFwwfXSV5JiYiHRzLF9QXoxuRH5kf3Rq6E5UNNQo0CaYIVAYOAVn5DPOC8DbwP++G7ADo7OOP4RPih+Sa5ZHlLOSn4hzi/+Ja5eTog+zn7sLvy/Dw8WrxHPDW7nrvVfB58P/wv/FA8pTxD/D27ejsrO058QH31vw+ASECogC+/tX+9gFyCC4QYRTSE7sQkw9lEUgVOxn1G1AchhkAF0oY0h1YJHsn6SVLIR0cHRo8HEkgsSEDHqwWhw/2CsoIuQj3B4sEwP0Y9tvwqe7H7bPsg+oo55/jNOFC4d3iM+R+49bhdeBF4MjhAuVA6Zbrfus16sLpyuq463LsQ+3F7ejte+5R8LDyd/PP8eTu++sg67XttvPg+oz/DwBD/h392f27AfwHEw+vFJgVIBOZEa0T7RhUHpQhRyJuIOEdxBzUH/MlACoIKyootCIUHqMbUxxFHo8dYRmVEw0OEwo9B6MFCgTRAHz6ZPNv70PuHe7d7CnqguZI44bgPuAl4pnjz+PU4R7git/R4Ofj+OeJ64TsV+zs68Psw+4p8YD0TPeJ+OX3EPfl9lT3lPfD9mP1YvME8nPyDvZZ++L/OQJXAmgBbwGnBJoK8xEgFzsYTxf8FpIYKRzpIFEkoyPoH0IcAhw0IPglkSl3KYUlyx5dGfAXcxqaHGYbGxdzEbgLWweYBQwFwwNw/2f5X/S38W3wMO+F7fnqv+b94oThJeK24wPkW+Og4ZngPuB24dbkwOiG65Dsg+2O7hHw3vG+8zL1Gvax9eD0WfTq8w/0yfNe8jbwIe7u7MfuvPOk+UP+egClAAQAQwA0AxgJeQ/QEz0V/ROSEpkTqxb1GXQbuhqQGLAW6hZyGnUf5yL4Igwf6xm3FgcXLBnDGpYa2RbWEHgLngiVCLMIzQbeAtX9S/lm9qT1SPaw9ZXyee7G6qzoOejm6J7p+ujB57zms+Ya6E7q3uwr73HwsfFZ8wL1ZvZO92z30PbH9XP0K/RK9ET0J/Ol8M7tBezl61/t+PDP9VX6DP0m/un+vwDmA18ITA2IETUUxxQ9FBoUHRXeFk8Y2BhFGIwWuBU+F0oaZB3RHiceBB1xGxga2RlQGiwaQBckEsgNKQthCXMIMge5BDIAHvuQ99L1a/Ue9LbxH+8p7CLpE+g46QPrHuun6Ujog+ik6hrt1O8v8mTzr/M/9Kv1mvcf+TD5vvdS9rr0ZvOs8230HPTo8c/uf+xd69fq++sm7ovxQPXC95/5LfuY/S4ANgN5B3gL+g39DjMOOQ3EDdEPhhIYFNsTdxLZEDoQNhLZFpMc8h+nHxwdTRr3GEwYeRiRGH0XfRSnDzILcwi9BygHcgWkAhr/aPue+L32WvVC9BfzPvIx8czvou5T7vnueu/M77Hwy/Gu8lTyYPFY8ajxivHO8b/yS/Oa8oPwiO4Y7Rjs5Ouz7NPthe2668TpBuma6Unqj+ub7qvyP/bw+N379/5BAbgC2gPNBYIIqAsjD1cRMBFPDxoOyg61EAQTEReNHWYiVSFjHK8adh1fISUi+yArIVMgVhxjFSUQKg7uDAkKXwYlBI0DoASwBOUB4/s39afxlPF+8yP1Y/bn97z2u/K17oPt5u9P8dvwxe9m7ovum++T8B/xve766c7my+eF62PuM+/i7ebriOlU54zm7uaf56bnwOcU6FXquvAV+Rj+rPvk9a70avqzAykKbw0LEPYQ7A4FCwoKbw2rEoMWxRcAGSAcRSDsI2skFCEtHTccoB80I/MjViFsHdAaOhd7EX8KqQW1A7MDDgTSAdb+m/s1+JD09++o7RDw6/S990n2iPIh8aDyR/QR9AfzNvMF9cv3pfia9071xPM49Iv0lfRc9F31hPaJ9bvyUe+H7s/uOe7M7bfsv+yC7KDqhecB42Xf0d4L5QXwKPmd+gr0Tu0v7J3xhvoHA3cKbg8OD0ILtggnDK0U8BsZHoQdqiAEKKEvGzIgLkkoMiRCJDwnnyoPLJIpXyRtHXUWbxB4DPMLcgyVC0sHUwGm/Ij5kPYD8gnuM+3M71fyl/Fj7cjoiudS6bjrr+zB7KLt3+4Z7kbrROk76uftR/Fi8Qrw8u9P8f3y4fJe8Hnt9Ows7ZntSu2Y6+PpDued48bftd1R3pbi/+rj8lb2S/O97aHsZPF2+cIBfQk1EfYUoxP2EFsSbxorI2gnKihWK0Uzijv7PUk4ki/YKmssuTG3Nbc0Ty8WKNohLBzyFu4R3gxQCWIGowP2/+j62vRX7XzmsuL84kzmNOgi5sPghtyP3CDgBuRU5N7jtuQy6D3sQOwL6i7p9uwq88D3O/nn9+f21vbq9eL07vN48zjz6PHW7+3s7erV6CDl8+CH3bncQN/249jpwu3O7Ubr/OdB6cLuOveaAEIJ6RBlE20T0hMLGFMfbiUHKkEtUzNiOr8+UD8iOoU0WzJ/NZM8Kz/XOyozbCqSJcghVR4VGKEQJgp2BdICwP/P+czw0efW4frf0+DX4nviAN9c2YbUotSj2L/dkd8T31vg5ONh6NDpZejT58npxe/Y9Z759Pp0+db3svb99u32S/Yw9in3Cfkv+Gb0l+5c6armYuZI547noOYe5jro1uzq8a/yHvCQ7svw7vfDAb0MVxXtFyMWTRT7F6khQytYMfkzAzfsO1FAAEIGP145wTQdNRo6VT3kOpYyQCg3IdcbcxcNE6gNswiyAq79J/hk8hPs8OMw3irbqttU3bLdltt42OfXetkk3Krd0d7E4WnmvOv075/xP/GB8BjxffSF+Sb94P7V/nj+4P2X+w/54fU59az18fVn9q7yQu7x6NTl/eT+487jw+D33obeduLv6vzwzPLf7UvrPfBJ+gkGxwxEEsYXZR0IIzsnNi15McUzfjU8OMg+tER+RphBJzrFNHYykzNnMpctCCYtHk0ZWhUCEQQKnADY9rDuOus36pro6+Nz3SzYmNVK1fPUcNUw1rTX8Nnp3D/gp+J15CrmkOry7wj28vqm/Rz/af73/0kD8QfPCpsIYAUvBGIGjwiIBssAGfuv+DP54/ic9gjzve8N7lPrwudO46HgkODa4L/iceWF65HxEvPe8tzys/jAABkHpg14FCIemiPJJOAkbSbfK+EvCzSGNhA5pDoaOVw2yC8RK64nKSbyI5MdmhddEh8QRQtpA6L82PeG9QXxUe286rnp3uj05Ajiwd9/4EHhl+Ga4wjm1+kN7Cruzu5s8EXzPfbT+fn7lv9qARMD2gM8Aw0EXgQPBl8GvwV1BesDcQK5/s/6Z/jC9yD4EvVI8azuge647nzr7+WC4UHhEOQI5pblRuUV5rXq6e618Vz1RPn7/pgBUwSbCX4S9ByvIEUgNyDfJKUr4S2tLLMqVSzxL/UvLS2UKDIllyF2HF4YfhUyFGsRFgzzBoUDIgLfAKH9ZPme9I7xvvBh8d7xUfBc7q3thu4B74nu7+3+7j/xWPMU9Dn00PW/9/n4FvhM9774lvtq/t/+Qf63/cn8Z/uY+er5Efty+uT3AvWu9F/1UvW+8lrvOu6B70PxQvBC7h7tve3p7Drp2ObP6Hbuee9u7B3s4PKb++z8r/q/+oIBfghUC/YNGxNyGoccqxxHHfwgGCRWI/UiSyLpJIkltiWiI/EfwB3AGh0aKxdzFRMUXBJGEdANiQyxCrMH8APYABcBEwDw/S774PnC+Qr4dPUp9ED0mvMV8rrwAfI481Xz2PFC8DHy9fOv9dP0VfLe8sXziPUE9P/xyvIO88nz1vJD83L15PRs8rzwBfS9+ET5zfa48zjzU/RN8yXxHvBn8EjxBPCe7lnto+2R73ruXe+e8kf4zPzq+1X8Ov9ABS0J0gr7DooUUBlDGmMbmx6dIbMhsCEuIy4n1ihXJ2smByViJekitiDOHZgazxnUGI0YdhQGD/8JygaBBIAA2/20+qH4IvXB8dDw5e6e7HHoVebN5UDmPOZB5bblGOUl5TPkmuU+53bnfuh66FLs3O6a8P3wSfGd9DH19PZg+Fj88/8c/8X9afy1AIMDzwFi/0/+ZQBLAMr8N/lh+lH7cflI9a/y7fVa9ln0gfBJ8TL3M/t2/aT7W/6FArsG/Qg1CpkQ8hbPHM4bJB3PIucooSpoJTkmXyvKMAAu1Sh0KNcpVChvH8Qa0hllGE0TPAx+ClYIZARp/K71e/Kt79jtDumj5QHhbd8J32bc7Nlv1i/X/NaT1hfXGtor3W/dZd093jnju+a+6Q/tafDx9ET4WPx+/sYAMQTABlgJlwmtDFQRRxPtD4oNVRDcEngQ+QlHC+oNUQ0XBisCJgXcBA0A+Peh+3v+m/yY+K72Bvwz/SD+A/8cAyQHUwchCyAOwBASFIQYrB6KHpAeDCG6JVUl4B/zH0cjGia5HdsXSReKGG0UDQoUB+cDGAKk+b70XfOa7zHs/+Mu42nhAd/x3JbZl9g11yPZ8Nks2jLah9qr3XvfnuFj5UXqUu2k7hTx+/Va/C3+FQCzBOsJhQyaDGUO+hLVFiUVzhM2FXUaehvqFZES4xQcGU4VBw+KC9AP/xHmCFQCLAQrCtAF0vpi93D96QFK+STz5/b8/Jn6svK89on/DgPL/UL8mQS/CJ4GcQONCdUOpw2NDHoPWRV3EoQNeAw4EAQPgwhlB/MHRglzApb8WfyE+fD0Re6y7drtbew56cTm/+eK5TXjhuJL5G3kwuOV5fTode2h7YPu4vDh9EX4ePj1+zMA1QViCHAI8wr5DmQTUxGFEPkS5xZzGLMVWRYVGVkY2hA8DyUTPBRFDpwItgy8ENUM4wEOAloI8QM0+TX3u/9M//T0we0r80v4de/B5Y7oSfCe7NjlBeyb9lv3+PBD8Dv4CPy/+GH5QQFqB2oGpAZIDB0QrQxeCDgKkQ00DF0JmAokDbALSwdsBLQDuQHM+7L4hvpR/On7Nfm0+Vn56fWX80nzrfWs9hH2sPdO/FP/Ev60/Gb9Mv8KAJIAKgRbCIYKFQqBCbgL3gwgDLMKQQowDKEN2Q3jDjEOAg1lCvAHjwhMB+gHGgapBAQGFgb8BL0AK/7G+vb4kPYP9Wb2XvRk8I7s3uwd7OXnd+QV5ablZuXb5uzs6vSJ9F7zh/Q9+QH7f/lu/4QGaQvuC2YN3hJiFewR5Q7RENMTPhW/FGcWsRZqFZ8R2Q1oDYUJpQYsBHME+gWrBDkE3gAj/tr6Afjr94z4vPh19974Tfoa+3D5bfi7+OP4Svrt+az+WwJ9A3wCAAD1AgYEVgQfA6AEtwj3CcQKEAoKC8IJMAZ3BKMGpQjXBiUEaQOWBBcBCP1c+er3VfYt8XfvKu817gLpruQX5K7idODA3bndod5+3fPdmuQJ77X16fUh9x/6nf2w/hoBBQqkEDQVShelHFsiyiF+H70dnx4iHxYgzyEpJZEjwB5KGvIVPRJSCmYGdwM7AjsC//8s/1r6A/Vk7yvrXuud6zfs5esE7T7w8PCo70XtSO508MDwWPN2+aAAtwKfATgBTAPgBLwF2wcbC84OwA/vEY8UlRRQEMELhQubDA8MeQncBmMFAAOU/k/7gvcu9AHvFevX6f/nSuZX4RPf9tyc2qnZoNm/2u/YpNgj3kHqWviOAMAB9QKnBQsJPgp1DUIVOR3fIyYmjiotLo4tfyZnHqkc2x2+Hyse1h6KH7MbQhBVA8D+aPym9wHxpfDv9c33f/RL7jDpgOTh3yTh0uWw6kfuPPIf9wv30/Wm9a32ovVh9Wf9rAkvD64MFgztDk4QWwvKCoIPRBRDFngUVhjYGNsVJxCzCo4KaAhlCewHCwNZ/iD69PrX+OXxbeoz5sDnz+eT5Zbjq95+2wnZvNnq27zZONsS2yzbRuDK7TIHjxavE3AIygcLFQ0XZhInFI8jXi7EJ20lQytoMYoipA5HCl8SqhdHEVoQ6xHYEBwDqvfs8rTva+wL5iPrZPGO91X3Q/II7QDm0+Qo6PXv6/Mn9sb8EASxBR8Bd/2O/Wn+IP28/5QIbhHeEqkNwwvyCiEJtwcOCEIL4ww1EOMT/xSrEpgNiAhyBfUEeQZ7BRgAUf2e/OX9Yfvp8zbtEOln6jzqSehF5hDhOd7D3Qvg+OC43VPcmdqg2iTdoutACNcfkiCPDCYF3BJeGvsQBgpAGeIrECqAH7ggOCsoIpcHmvjiAFMOFA4AC7ENkA8+BeX4AfAk7C3qB+jk6y7zRABPBf7/XvY57ZjqXO9T9SL3IvspBRkQgg7KBjn92PjK+rf4T/gg/kELcA5oCNYDawEUBJwCbAINAmgFxw9nFigbyBnIFEkMdQlLDLgNHw5JC+EJ1QQIBcgBkftG9oPqLeYL5z/qD+Q+2kbbtt403M/Ttc/Y0uvVl9B1zjLcnP1NHT4kzRbgCFoQFBrhF8sJZw5AKWw2hy2SG3ci/ygWGqT6su7EA+sUnhEgANYEhgt6Bcbt+d556CTs+ugr5fH4SgvjCsH5k+8d92f3UfOY9C4DGQwzDgUPlw3EAxH2qvJV9w/7z/cR/xMKWQnEAD79KgXOCeICWfx0BggVNRhnG40iECOLGD8Qow/iEo8UCwvnBYIHWQbr/gb3lPGi5Urd8tjH2Azaj9WT0P/OLdOy1HHQSsuYyvHOM9Ac1rPp2QxvMgg9yStsH20p3S8hHWkIoRFUKPEwHiZBIEssDSV4CJ7uGuzl9ADyYvDn+YwEOAQTAt/9Bfbp6AzjbueF7U76rgQhEbQTFg0SCsoImgMW9xP3J/4MA6gFOwUCBYn/CPiC9Wn1K/Wu+Gv/GQiLCxgNmRSsF2QWtxJbE+gYAxnQHIEkUiaiH+UUkxCiDWAC7PZJ9Lj2OfM46u3l7+Lh2yDSv8unzMjM2ckDyQHNCNW72rrea9622kzcOuCG5mvvVAkBNJtLc0IbMhc4ekB2J/EBMf5JGMQkERPMB+YXmhys/0LgJt5s6RrlRd/F7pH/9wEH/70BkQcW/bTyrPpxCKgNlwxeFgQhzRpRECgR/xG5BZv1Y/Tz/yEEW/xj8wDzuvRI82jynPWI/DgCegv3D2AOkBO7Gbkc5hcNEWETHRdyF54VCRRKFPMNrgX+AU36gfPh7tbsUu1A6uDlF+FH39naoNWX0/vRj9Pn1fva6t2s5CXwOvNM76/qQO9a8+jvcvX3FiRDDlCvPl4ykDiDLukIfewj8mAD/vxh72f4Ow6pDHPyv+J26A/sNePC5p78yw3vDt0OsRrkI+0d8hKQDskSGhRuEUsX2BpbFXcNfgntBET0SeRN4WPqBfIh7wXq3OzA9ZL5w/zy/iUEFAuID8gUuxTDGIIfJCHdGRsPzgodCQUIvgVgAun+E/1y+tj60/vA9RbrrObP7LPrueE82hveYepY7LTjVNye3o7mR+TQ4ZLo7/I8+PHz/fKn9aX0HO/q9SIVtjlRQyY0KyxKLtEkLgQX6NzpFPUg8bHj0OiSBK4QqgFu76ntvPAN7LLuWv6UDtoQMBWTIr4xkS5sGPgMxwzPDugGTwFgBGcFywMhAWz9v/TB6yzo3+pW7qvuq/Hy/N8HCwo2BTYFOQwgFYQbDhrDFYwVqRrZGz4W0Q0QCOEDMQCOAOkCZQIq/aL3QPkX/cD2Fe/h8Ej6TPgM6XribOpC9KLuNd5z1UXbWeJS4yLkkun68pT1qvNm8U3rVuSy2vXgigIAKwdCxDodMgU1ry1oDgboud6u6nvr2Nwx3239vROvCx33jfQW+HHuc+Mr6jIBpg3VEY4c6CsdLM4Y4wt6DD0PTgZJ/pwCXQiGCLsETweLCPv+Q/Q68qP64f+7/xsAkgJtBrQGIgs5EYAY4hvJGEgVsBCnEh4USQ/eBUH/uQF7BTgE6wDx/jz+7P1k/e79tfpi9bXzhfdo91TtkOLV4pTqmele3xDVbdRM2ZfdrOEn6Efwm/Oa8THw8/KS8hLpHuCr7F8RjTepQo86fzNyLzEc5/eY4hbi9OO/0ufFStpaAWUWVQo7+0n6u/xA9w30ZQCNEPIVCRbUHAgsrzA6KDgbiRM+EC0KvwnJCycPYwu1BQ4E3QPlAor/ngEUBlIGIf2F9R/5NgQ3DLcLMA52FvIcSBvME1ITFhP6Cdj6cPFq9+r8MPvE93D7vwHl/iP5i/jG+i310eqq5zHs6esr4h/cu+FF6f7lFt312PzaTt1K34rjiOob9HP8ZgBt/sn7vPhe8f/ifNz28IEZtTgHOw8yZSymIZUGP+lI4Hbla+MZ2G/bI/pyGE0cYAxMA2oI9gmBBkAFLhHAH2ojGx8iHnImEyjbH/ES+AzmDP4MqAurBTACjf/X/5cBBgLSAJ7+KgBi/hv3ru/a7vTyAfgtAi8P7Bk9G8cTMQ3ACp0ITgFn+e72m/V784Tzi/e2/NH/5v7C+Vr0//BM8CDvHe3G6XnmxeWn5Tzmp+kz7sTtGOkk5f7mTO4E+WQAUv/b/Hr/rASfBNP+3feM793jzNyU69URPTQVOporoSCzGGIHcvB857vt9O595jDm5P+EHfEiMRNHBvIF9wMbAL0EshP6HVAaExOQFjYhBiGrEwcGqwP5BV4FIQW8CFEO4A2dBmMB3wHwAtT8oPFF6qDnbeoz7uTyTfhAAIgK9xLZGPsYJBXtDRIJtQMo/uL54fV782zw7PTU/UIF5QbsAej/sv2x+CzwEust7UPu+OwF7P/vFfTs9vX26fRe8SLsZe2z9IoAVwaXBCcEpQII/572CvEN7xLnXNuu1l3qKw8YKjosDyAFGPYOWP6s7vnuLPnO973sP+nh/toWchpmDfQAjQKMAJsAXAWZEq8dDhowEwoPiBUnFmEPCQcKA0EEZQYIEO0WARngETMIOwGF+uz4tfUP9J7v8upQ7V31U//wA0wKjBM7GvsaVRddFDkRJQw0AnX5Nfi2+6j9EfyK/0UFawiZBdD/E/2I+jP2hu7f6rHr3eqw5wvneupA7rDxuvP39Qr2A/VS86/zlPhJ+Vr12+4N7r7xY/Kx7zPqXufd4fHb2+JT/1AgJirQHzASPwsB/2rtQOar7p37uvcH8qn80RXTIqoVKAU2/n8BzgDMBLwVpinSLtseYRE1DqMOzQnDB1oPsRb+GHAYQh0YIKMW5wIr8XfshO1N8KLzg/ki/WD3F/Kn8/39Fwn6DuQTDBgvGhMX5hHxD54NtAiv/yb48vi5AFAKowzICYsE+f5L9C3oFeTO5RDpouZO51jq/uz26/nqI/DK8unyWvGK9Yv7qvzO+MP15vTi8KXrYOkn7tzxX+9852PhtN4Q2nzbc+vTBqQZihghEZwM8wWG9xTvRvgYCsIRYw4jE4wfkyUwGcQMZwtsDr8OlA05GRUm9yjqHCsRig1zChADHf+kClkXdRpFFNURtg90BYH1u+wq8YH2AvU+9P/+Tgk9Brr3+PLE+dkA3QKIBjsUth1NF7YEdf3BA54GgP8t+1ADUw2WDvsHmwNEAI33QOnA4FDleO1h74PtYe7E8RrwWOr25hfqpPDF8Yfy1vbb+zH58PDu7KrsSOuS6J/owusG7yPvku2K6w3pAuEi2BTXM+Oa+XIPFR3THTYZ5xB3B4AAAAMiD9UbjyRrJ3oo1yabIAEUvAcWA/kG6w08Fa4anB0xHHIUUgtyAlYAVgFTBwAQahiXHMEZRxScChkDY/0//2sCrAV9BSQBzwBT/Of28O3J7XP2CP4oBDUFHQk3CioGtv/8+xUA/AMjBggJCA2jDAsGsP7D+bD3BPSm87L1Q/ib9f/spuoN6ojn4t4g3CHmdfHR9vv0lPTQ81TtFONG4c3q6PUj+Xn38/ho+GbzpOvW5zDpTema57zoPu8t+c0BIAm5EegUthSqEqgRzBJlEWEVaRoBH4IeFxmnFkIU0xAUCSkGLgnNDs0QmBGCE38Sfw+bB+gECgXKB/4JTQ3AFYcbYx1IGK4Q2gjgAmX/D/1b/Jr7YPt/+uj4lvY59OH02PQJ9VL2K/s7AjIF8wOx/mv7xvpV/R4ADwS2B9EI1gfWA60ASfta933z1u9A7WHrF+vj6ifr4elh6KHnFOkh65nuNfPV9hf4n/f79an1YvbZ9kj3bfYQ97z2R/dK9/X0PPIw8if1Ofqh/A3/gQJUBWwHGwO7AhIEhQdTCNsI1Q/hF5kbexbsD7cMhQ5MDFwKuworD88SpQ58DccNiRHwElMQYhKzFPEWdhTrEWYThhKADTgFQwHU/ywA3f0S/q7/WP6z+hf1svZE+Xn7IvuK+578Qv00/an9L/9z/Zb7/PmR/hICrQKp/sr64vdk8zjyWvGe98f5T/nQ9ZvwVe+N6jTqIOwK8AX0p/Ts9mj5Tvos+TX38Pev+Xr5IPiX+CX6qftu+of5SfoM+1L8hfzD/igAEgHRAGkABf8Y/ZL78/x4AEQEEAd3BwUK2QkuC8sI4wahBYYERwe8B48LagxrDUcLvQjACbkMZxQLF6cYYhTnD1kNEgs6DuAMcQz9B4AENQSeAgMEjgBJ/sb5dfZN95H58v/PALL/mfvU+IL4lPhS+6X81P3Y/PT89v1aAFsAkfzU98jyevEj8tf0o/hK+Z75OvWe8I7vsu/T9JT1q/fY9or2U/m5+gT+Y/2v/EP7jvqM+qj7fv1i/1T+ffvg+Uv5H/sw/LD8Sv0z/dP9Hv+A/9EA2/8z/4P/Wf5VAJP/+wBCAksBggIs/1P/af2p/voAVQKMBfkEWAVJARECTQKhBJsF+gMxBmQFhwm1CrANtQ9PDTELqAb6BccG9gcBB2UFdQM9A8UBawGqBAAGRAktBx0HaAe1BuQHEQadBgkGAgUkBfIFbgdUCnkIowXtAMb7O/0d/BkAZf4W/Lf7qPeM+Sj4TPuD/Fr76PkM+UD79v6dAND/JP+h+yv8vfkX+3D8cvxc/Xj7Uvs++pz2/vXz9RT4+vp9+tr/WQD9ApYBMAC+AZH/KgBd/Z7/6wKTBW4FCwJjAKT+7f4D/hr9j/zi+9H7UPkS+fL34Pdx9lf1efZf+qcATANBBfICsAOsANL/i/1+/BP/9P2MADH/ngGoAL3+aP1H/X3/XgFsAowC/wP7A0UHEQbaB90GiAcAC+4KuA5ZDVgOyQu4B30GAQSQBVQF5QQxBQsEFQU0BJoDjAL9AKUBiAGgA9ME4wXoBaQG4gbHBRUE3QKwAroBHwHA/73/9P0z/Ib5Ffki+mP7+fx8/Sj/K//8/uj9Nf33/FP8WPtY+zj80P0W/7X/TQAw/xP+6Ps0+hj6Gfk9+ZP3Kff99pr2Xfid90v59vfp9z/4afgG+wr6zfrf+Or3X/fa9vr4QPlv+p76l/rf+rH6Iftl+iT6a/qq+xj9mv7a/8YA/AE4AeQBrwHIAhIDAAMSBIQDigQ8Ax0DRQISAnECZgLUAvoCeQTsBC8FfwQLBRsFfgZcB7EIcAq4Cv0KDgn3CPQHIQfLBZcEGgWqBYUGBgbiBQYFvwO8Av8BHQKVAoMCKgKYAiADNwOvAhUC0AEvAsMDhgSbBTIGEgV+A2QB6AAuAFH/5/2a/Vz+c/6H/m39ePwK++r5Bfm4+Pz4r/iA+Pj47fmP+pP6xfkF+QH5Xvkq+un6VvuW+rT5RvlY+bT5NflJ+fT4dvm9+f/5ZfqQ+ab56vdd9wr49fi7+rn7hvw1/BX9cv3z/Sv+jf4P/0r/WAB+AFACJgMBBBQEcQSXBdwFfgbSBV0GLwYoBkAGOAaiBlMHqAd+BwIITwiLCdcIOAiOB+EG9gaiBsgG4wagBpYFSwVzBR0G9gXHBXUFJAXABLwDXAMmAgIBFgAEAFABgAJWAjUBRgDs/97+4v3L/Vv9oP0+/e78xf3Q/mz+ufya+5f7IvzQ+2D77vop+6b6d/n7+O/4EvkP+B73MPeE97D4Cfns+GL4yvaF9mX2cvc3+Rv6Kvsg/KX8Kf2m/Sn+Uf44/nv+/f4rAC8BYgKIAwEEOgQlBB4E6ASlBe0FjQWIBRgGcwboB1sIwQjuCFAIQwiCCIQIWgj0BwUHEAcWB0UHvQZ4BQAEiQK/AaEBLgI8AvYByQH6AVgBrQBYAIz//f4o/kn+K//j/1IAoP/0/n3+nP4g/qX9zv2//R7+dv10/UP93Px7/Gv7nfus+4f7V/ta+y/76Pol+hT5TflO+Qn6bfpi+x/8fvtZ+8f6C/t2+g76rfrS+2H9jP6Q/3H/tP6K/a38/fx2/Sv9s/1D/2UBAAP5AogCpwL+AqYCVgIkA9EE8AVABqMGoAdRCFMIJghGCLoIfgipB6QHewi9CE0I7weMB6kG3AXsBEYE4gMQA44CdgKNAiACvAE/AUcB3wCK/5//kv+O/+b+tf1k/Vz9A/7y/eP96f32/Az8YvtK+3H7Evvr+W/5B/pv+sv6qPoc+jT5RvjZ9+v3a/hP+HP4k/jr+F/5jfnh+aL5Yfkz+En4U/nE+bj6APtA+4X7Jfxz/Lv89fwo/Ob70vsN/Fz8SPxT/Bz9bP6v/3wAxAA8ASkB3ACVAOQA5QFQA9EECgYwBzUH3ga4BusG/AbRBhAHlQd+CCYJfQmaCf4IyAfoBrQGRgedB28HgAdFBxoHHgcDB/8GjAYaBiQGeAa8Bk8GVgVhBFcEJAS1A8ADpAMIBLEDWAJIATsAZ/8x/vP8i/y+/Eb9SP36/GH8MfvD+Qf40vY69w74TfiA+ED41vff90L3bPaX9eP0dPRc9KL1rfYh9yD37PZa9k32hfYg9lf2vvX+9Mf06fU/98n3Lvjr92v4c/kq+nP6xvpH+5b7Nvxv/dD++P+XAMMA5QBGAecBcgK5Av8CRwOiA50EnwUwBisG+QXbBZEFGwYRB5sH0QfuBw0I0wieCaQJzQmaCbwJAAq4Ci4LWAoQCm8JsgioCK8IWwgqCOQHRQfPBh4GnQWtBNADXwMdA7MDmgO+ArcBLAHPAP//a/8f/zv/Dv9Y/sX9zv04/Zz8T/yq+/j6JPoW+eH4s/lD+f74BfkQ+Rr5Oflu+GT38vbK9ZL1n/Vk9tr2bvc997z2b/cI+Ib4PPif+Kr4tPnz+tf7pfz2+3n7Gfyk/cf9O/2j/BT9GP4R/2j/o/7A/r7+Tf8V//3+xf91ANIAQwBYAJEAPQF+ATgBKAEfAtMD2wQCBfcD5AI/A50EzAS5A84CJQNnBFcFQgRDA9sDyQOlA8ADuQNDAxUEswTgA/kDiQQfBcYERwRZA1sD9ASYBLEDpwOkA9YDmAQ2BB8CAQFfAU4BXQHFAdgBpQHBAfcA2/6B/0P//f1J/tn9Rv25/Tj+bv0F/Z/7RPuU/K/9c/zt+5z8N/wG/x0BOP9c/I37nfxUAFYAAf4O/VD/MgBP/h7+ef0m/8/8HvtR+wb/agDG/4v+zfgE+O76a/5O/XP94/ni+F7/sP+0+9n7Iv5Y/Dn8kfzg+4v+mQCW/Ov6HfzA/c/8/vtEAFwANv3H/WH9Kv6hAfT/m/5DAL0CeQFyASEBeAGjAqcC3QNSAy8D6QALAtAEWQVWAw0B6gD8CMcH3P37/Ez/agOBBWEEuf8fAlkCtAIp/3z9QQOZBiIL8gRv+gP64gayCtAFzv+P/ccDawkyBgX/pAFrCNELPQP4+KL9pwjlCrkDZf6F/74CtwLn/W/8cQI1BBn+i/+CAgYDkgIK/cX64v+UAI/9zfo3/JcEK//t+Oz5f/+OAvz/kfdb9Nn67v0dAC3+tgFHA875CPDX8oX2eQOzBRsEmwAO+Bz46vWx/Yz9xAPs/zsJVwSW9OD3+vk3A/8BsgAm9w/7uf6u/jH8Bf5FA4/9XfsO/Oz6uwBjBR0AjgTj/Nz7svo//4UIUALD++v+cgjwA/gCa//XAosHZACJ+nv9mAjaCHUB3wDi/5cAYAEqAyIIFgWwBYD+jQL0BEAFcwhiAAAG8gSxB/oHKQQf/88DCQrjAokC4fp4/SwDYwXh/UP5of8/ArEFWQAv+3L/BwVYAMz83foY/WsDyATJ/fL8Evxw98D+LwfRCQEK8wV3+zgAHgFc/nP+BgDJAH39/v51+336kf2H/jH62/pF+zoC6gEK/ED8IvwY/vT8Wfpo9uv88vk/9+r5QgBFAzEBSwCL+dz/3wNXAv8BJ/8i/E398v6q/UP48voCAWEJkgh9+kf5OP63BAUFCgIg+5YB5wJ++QP7WQBdCKQFcQEr/B4ChwkbAbz8DP6VArkFtwAL/Tr/4wEIADP8yv0YA2EGXABM/On81AN0BywAx/01+9ABogk2BzQCDf1Z/ykC2QWCBL3/4ADv/1kBzgD7/HD96/2T/2b+YvuW+g796gBK/6j87Pik+x3/eP/8/KD1LPrF/zAE3AIH+Rj4DPzIAbQAsPyA/dT9ugG7Afr/wv4J/Nb9awB9A8wB4/8X/3H94f53AIgA3P9PAPj9RAAqAar/mgLT/9z+4P77/UQAe//jAPL+Qv73AMABLwRq/xj9KP6CAYMEoAEf/uH7w/xo/q7/E/53/Wj9Gf7g//H+XwDgAbsAlAHB/pf+iAG5AHH/TPpy/VsCcAI5A/b+k/8+AVAA2QGKAkkAJPwO/Iv+lQF3/3T7vvqC/I7/uP6M/ij/UAHKAXn95fzC/0cB6P/r+sv8hwB9Ah0CHP3U/Nj84f/zAxEDov2M/Ar8Mv94Ao3/IwCQ/If8bv0AAOsBUQDEANwA3ACxAWIAG//pAVMCWQP1AMv/fgFlBOkDjAApAd8AKAOEA7QAqP9UAG4ADwKmAdb/BgA4/0//OgElAQ8A7/9/ADsDZQBA/wX/sQFXAxf/aAAJAcUEDAMgAeb/o/2WARAA6wEaAX/+cADD/wf/rf2D/Sz+l/+p/rX9E/3n+1X+bvzh/GH8MPz0/6T83vuI+tb7Xv7W/X38pviK+Lf3c/nW+cP4yfiu95z4zvdK+KT2Sffn97f2OfmE9Xn3zfec+OX7IPnN+/n5x/sB/dn9MwClAWYDegFCA/cAdAU3CZgJawz7Cu8MYg7dD94SdhTnFL4T7hPaFWIWFBbbFSIYmhY5FW0U4RSKFhkU9hStE5ATrBDYDgsP7Ao6CkMI4QkcCwAFmAGZ/vv7Af4U/X3+QP4b+ETzW+2F6RLp4+hy6XvoqeYY5gzdrtSO1NDdn+pA5Xza4tWg1y/a8tWR2TXiN+aK4kbbBd7X4mzjcuXD6anwgfJC8NTwJu0Y7pvxZfMLAS8PDCJRLBAVlgLTAEUPeCrYMYM+mUBPKMYTYgxfJb0/PEJhNpIrniNDH/EeoCLeKNcdBBY9DwwQNhLYCAYGef3w/osBHgLfBdr4GO8+6obuHfzq/z/8a/M/8d3wHPdT+8T4o/qY+VgBqwWVB8gDLQDB/nj/zgiNDNkSdgqtAvn/9wFnDGkOpwnK+xDx1O7Q9ZL3kfUx783piOb03+naV9MQ2J/aHuGc48PbsNa+z1fPU9J21wPbLOCx3QbgHPDEC94iARZA/77zRv6BE+8hqTUtRSc4+hoQCakUky3DM6oxOi3uKIIgUheiF1YY3Q6gBOYEmgsvE9kLVwGt89PtmPfCAPAGQfvj867yie7o8vv3aABKBAr9AP5rCBkJNgJb+iP6xAI8BJELgBTEDLv6oOgB8zYMSRglFdUG7PtY93H9BAmYEogNvP8A+kT85P1O+9n62/c795TycvKu+8r5eOz83SvX4Nzv4wzkGOQZ4Y7cCNgH1wHY/t6Q3pfYNNkd5tMTSzguNfUOe+0+7r0K1x+4MNdSc1DOOKQKevsSHWcpnSyLH8siviloHwoPvQOKAyD9i/4f/mkIIQks+1Tsl9/e6JTzG/4X9gnxjfSe76n0p/Og/noEjPhP9nf4bgHcAfb6M/1e/RcBTARGB08OOAIn8bbwAv9OElAWVgudAqH6MvfLAsUS+hmNC0H7VPvcAVsIEAC49b/ukumR8OfzfPdk8WfnIeHU0G3RWNtK6YXsuN2C1pLVHNqw2xfijuoC507e4ty37LkWgUAtQEkgw/pX9PgQkCBAMyZSWFUHOkoGXPquHQA3CjJYGkEa4h/2HzATMgthBvf2L+uf59MBTROhDwj2ct6L4p3xgwPaAhMDYv649mv5C/scBaMHgQFc/GP5evym/Lz9J/td/UcCTQNaBP7/NvuD8NXxuP4oDmMUtgwaAzX92QNXDFAZhBd7C+8IVQt0EWgTTwuTAAL45u5x8tf2yPhA9lrtft6rz2DSHt857NHkXNQ7zhnTIN6W4ovmeOGX1X/T6ODUC+c4YEIHJ2z/y+rU+BUTuyblQgVFWTXsFxX+ywa7C4oUMhB5DygVWxj3HMkNRPfL28DZEOeh/0UQ+wxWBBvxBuzf6ET0h/6WBHEJPP54AykHOgoXBlz5Xfhe/QYGfQW7BBkDoQN4BWYF3QXQBqwL/gVJCG4K+g1bFlMPlwlnBCsLVxl3JAoh1BGzDDwLxg7NDFYHj/9g+Y3xH+397oDozuXt2A7O+siWzBTc0d4+2aDNT8k+yhPPt9aG39HkcttN2CPhKftXIqg5ljBHFQP6KfVwC2MaTzG4RII67CcsCbD/8A4PE7IPYQctBn4QIxjkFCMLnPcC5DvXUN0D+zcQqRLvAH328vi++mb46PMSATwK0woaC2oKHg4ACTP3sfDL9Z36aAJDAr0FCwq2Bi8DQf6W/r/7Qf1zBagNuhmxF0MLS/4u+awGEBk1IWMcERSADt8MSgn+B/4DBf5Z+hTxK/KL9Cv3z/Lf3QzNzsoM2hbn2uoo6HLhftuO1UTXr+PU6evkiOFI5Hv1rQrNHi4rGCE9DSz5AfgTCUgXvygPMD8oQxqfB+MDxwmwB5sCiwAvBBgOVQ8pDmUJjvvH7bLdTuVo97EGPQ60BLcCOgKhAJL71fZk+Uf+UALLBl0MXw1UCc/6dPL87eDqcfA59bgByQmDCjEIfwG2/Dv0OPO++5gJzxf+GokW7A9+DDAO/xOyFLgTWhR6GHkguR9iGYUJDPwx9XLzqPmJ+qr8rffP6X3dENaS2dPfZ9/c3FzbH9rM3Rnjp+hN5qPb+9cL3cTnYfKJ/C4LHRd+FsALv/6f9xP7hQZ7FIkd2x0iGVMTnQ3UCMYH5Qh6CrQKtQioDrgX5x2jGbQJzvy49/X+gwhlEdoWWBbuEvUNig7UDuYLNQLW+oD6LAD7CWMPMBAwBtX0MuLe2/jmovnhCGILoQTM+fjx/+0S8cj2OfoO/un/qQU8DFAQghPnEbQLwATwAyALsRUGGUMTBgs9BPUDCAI3/HP0Au528Aj17fhb+Crwa+aI3/jc29/a5c/rCu8N7MrmIuUS6ITrpOxY6urqPvCq9wQBzAVJBJv9BPo//Fj/cgCs/sj/rQPeCLENwhDuETYOUgjoA3cEPgvTE1EdgiEpHs8WxxD5EOETRBaUFOAV+hq8H9ogmxpREuwJSQRxAfcDPQnZC9UI6f+z9oLxuvEZ8rnzy/Ka8V/z0/QR+Bf2SvA67NntvvWN/egCFQTwARQAFwEvBLQHwwfuA+UC2QLKA6UGgQZ6BJX9qPRe8l72oPy//B/3RvFS7NXq7uqO603sMOqk53jo1epM7u7vE+8i7irpfOXA5brra/Rc96H4rfm9/Fb/Kf2T+N714Pj4//IHPg3dDQ8NGQ3ZDQoR9hOQFxsaiRpPGyAc4R/iIxYlQSH1GsoW4xetGiAbehkQFNYQEg/4DTgNdQhZAEn4tfTn9oH7IPzk+VX1Xu+B7Dbryu6/8+Tz/PIR8L7xkPjy/ccBo/4A+Vb3V/olAdsGlQdFBm8EtQJBA50CVgNaAof/0/58/cD8yvub+Sj1oO566Hzp4vFo9JTuguXT36fkJOcg5WHnI+lk6wnps+NR5VvpCerv6Fzs/fcSBDIJhQg4BXMEmQMvBbQNIxf9HaEeoBziIB4o/ipmJiEf0hvRHNUieibAKUcsuyWFG+oQOAoRChAL/gZQBHoELwS8A67+z/eO8ZvqzeUV6RbwePXy8wzuVerx5xzqSuyV7wj3afkE+iL+3/9QBS4JvAXXA78DuQW1CzoRQQ9uDaILBQo+DHcMlwl4BzQFMQHVAF/97Pgj9k7yle0U6bDnxOaX5zfku90I3GbebOCU4PndW9z93YjebN7B4Crlnub+6Eru4PkbB/0Mxw5pEDQSfRGJEIwUkSBhKmMu5i0lMDE2yTO6K7IkpyRRKlUvkS/qLzgtIyJDE0IH0gQoB5sHEwR4AysEdwAN+aTvIusQ6nfof+nY7i7zQvKD637jguO3583qK+2D71T2J/2u/tv9Bv6s/on+9/0dAPYGMQ7YDiELUAlKCKgJgwrQCUkKHAmsBZYDFgQPBJkAlfh68bjus+1Y6zznzOOR4QTgI91a2n/bE93924TX79LR017Z9d613y/d3N3G5TX0lAQgD5QRJg9rDYsO7ROdHNYmpTEnNbI09DLwNME3sjMGK1oktCgrMUY5NTjgLsIh2w+0AWb7rgGNCXsLbgc4AfL+c/ih8DrpOedK6sLszfKn+R4A7vze8c3leuFY59Dvzvn4/gQEZwTcAIz9Pvt2/Mr8yf8xBS8NpBDNC1oEDwE/BKsH8gdwBRcGcgepBqYBqvlx9Crwxu3z60XtqO1R6sLjANuV14PVhNVM1ofYs9uw3Vze3Np11zvTndPv2Ore1ees9OsIbxp1H60VbgecBnYNdhrTJf0xfUDSQuM60iwJK3EtvSrbH8gZfycqN0w+ZjDBHygQDAIw9hbwbfySB+MN5QbG//j9Avce7pvjiuSD6Vnx/vmKBIQNdQZs9yHnnuN86N3wjfzrB2USHRCHB/L6cPI58Pfw//o1B84S7hJyCXT/jPpw/Sz+//9qAKIDqgioCBsFdPvN8oTqieiI6zjy7vcz8kbnPNsp2ZTbXd6a4Cbgit/D3Kne1+MS5jnhJNz43jDnQO1H86MEDR/GLzYmThDrBocOkBmoHU4kBzYdQwM8myhXIFMnTiYdFUEHZBJFKyY1NydPE4sGv/wY8SrqSfXrBmoP5AeY/7MAJv+79Q3ngOhs99QEAQfRBZ8IowaH/vDvku0+8fH3l/19AhUMNgzkBnr3ee7i7YPzk/wQAPUE0gOwAdH78fvVACgEBAMh/NX+KwO0CTQH1v1U9tbvAPBD7vLvG/GF8TLtt+KK3QvdEuG33kHaT9pk4BbnH+fD5pHj9eKk4dniB+q38tcANxMvKOYvfyRODwoGHA/FHH0mnSzONdk3QS8PIAUcYB9KG2YPGAhAF9EnaSvHGeQGnPwK9XXyQPET//cHAAmqAXL8gQBw/a72d+tt7gn3wwAsBVQCBgTx/lX5te6r6i3w0PnPA2gDEARLA6gBSvzu9FL2qfy0AS0C1wNXBz4KWAkhB00HNwbCBNADZQeKC2cKxAP/+I3zOfR19anypuzr6MToM+eH42rhot+O3LzV8dS72nLgyuMR4v/hIeEX4M3i/OeS7PruSfWPBrUbTSc3IkMR4QjiC3gXPCBuIyQqWi9dL1YkjBzNGlUb5xbtD7QWoyLxKmkfpg/iBZ8B/QAG+9gC8wsoET4MkgPEBTIG0gPC90nzL/ix/2gE0QAXA/0FQAX19wHrD+vh8xL9vfxxAOsGYAoNBDn5J/VR9iT7DwHJCWsPlRFMD9QLHghFBFsEmwXgCeoLcg7QC3gC3vhz8anwtO3r67Xqruuv677mX+KK23fYn9SR0/nVktiC3TffG+GS4B/hTOER4bbhcOLW6lb4JAr+FjAavBN8CbEFcAfsDskUGxyWJlctkCp/H9AXyBUxFS4QIRBzGhQnAyoqH20TVQqvBQgBhABGCAQPcRM9EZwPfQ+nCn8BDff99Iv4bf6iAwYHoQk9BqP9FPRz7n7sHu4583L7sQbjDdAMyAHa9HvuC/A6+ukFNBB8FHcRxg6KDcUKIgII+7H9FQibE0sWPxFOBg/2r+ki5v/pAfBF87Py/e2p5tHe99qE2aLUmNDX0XfZguJq5p3kOuDz3IHa7Nsy35jjPOqA8sj9iQYEDVIOhwvmBzsDAQVODAIX9x9uJMMj1R9JHaUZrheEFQ0WvhrSH84itSAdH0gZBhFkCm0GrQqeDmAQNBGPEHUOxwilA6D/IPxq+V34e/voAHwCCv+X+UDy5utP6OPoIu9195r9Rf82/kr6Y/UR86/zWfmtATQIWAytD3oQTA7vCawFJwciDHwR5ROiExgROQtsBMb8ZPhF+Oj7p/62/cH4w/Bb6xHlR+CM3WDeq+Lt5ebnMuWe42ziWeGg4Ozew+Bu5Z/qjOwE8Ir1nPsc/y7/XgGHBPsHXQhGC18PUhJZFLQUDBkkHLQeihxPGc4YWRiQG6cbcxt6G7Yb6BnVFdAS+Q+wDhsLzgrBDDIQFhCTC3sIIQKY/4X9Z/w3/Gn6DPsG+534SPN28ETwG/H87nDwL/V590r6//dZ+bb5Xvfb91H6I/+bAvAHkgoJC5kHqwX5BZQFegaBBhYN5wzyCGkFBADo/DL1EvKy8xT3s/Zr8kDvnuoP5qThs+CN4GHi9OSU58vq3+mq6BXnoOVE5hrpwO2/81f8BAZPCwQLWwnWCuENBw2VDOoQzRnUHjEfeCAdIQEhKhu1FRIVzBb4GWobNBwWG/IY8hXqEPUKPQiNCI0KagybDPkPRBDcC1cGRwEI/6T8XPsE/SIApABV/e73//Jj75HuAfDP7x7x0PPG9y76h/em9MPzffN283L2LfwpAmAE7QMKBFQD/wEiAIQBdQT2BcUGnQXLA18A5Pqz9azyzPHk8mbz+PEQ8NXs3ujO4pLeB98O4d7jIOX45o/oxuf85aXlWOdE6KTrAvNU/h4H+QlxCooKpgyBCxUM/A9DFe8adhyuHuMgiSJZH7QaZRhBGDMbEhu9G9Ea5xpZGIUSww41CZ8J2AkmCzQNCQ2wDV8KugarAf7+nf2t+6P65voG/ar7n/e68Xzvb+967nHupu/w8gb1evUT9ZX0EPNQ8hzzDvdF+wb+igE5A8YEuAN4A1sD6gNxBVAGOAmQCGQHfQLS/Qf60/bi91H2tfao9BTzUvHj7OjpguZR5cXjjOQW5m7oEuk56BDo+uaO6KDotesV72zz8Pq/AMYFTQd+CkkOHhCsD4oPlROGGcIdrR6jINchoiEmHz0cdBt9G14cZxzfHFgdjRzNGKUTyw4HDS8NeAykDHYN4w9+DrsKuAb8A/wADftr+Gb4fPwm/AL4C/QX70DtrejO6KfrKe9p8vvw5vEM8f7wmO9Q72jz2PfF/RcAZgPuBDcF7QM2AYYDGwZXC6YLhwmYB1wE7AM4/wD8cfkQ+SH6TPjR9zv2QPUd8Q3s5eiF5wXpf+mL6qXrr+yU7Ezr/ulq6TDqj+s/7e3wFvj4/+EEpgUKB9UIgQsoC5sKqw4EFBsZFBmPGvEauRvJGSgV9xThFGQZ1hmIGUAYCBfzFt0R4A0UCRoKwwnSCCkJhglrCygGaQHS+8r50/eT9ZP2mPWS9tXysPF77x3siOu86kruF+9H8QPzF/UH9j30BvZz97L6Sf38AGIFbAeqCHMIQAkECXgI9ghpCkUMsgtkCi4HFQIY/m36bviy92z3tveu9kz0SvGD7qPr6Ogt6JfpV+t866zr1ey37AzrTekQ6dTpzOpl7EPv+fIv9rn68v+KAv4CJgOlBmEJ6wgzCqoO8BXOGPAXMheTGMsYDhVHE2UUkRlkGzUaXxgBGCMZNhV3EDQMBw0oDv0LCQopCdgK3AcSAZP7Qfno+Mn2QfUr9cL1+vQq8ujvyux96rHpPesr7jDxXvVZ+Bz53va+9e33j/u+/nABIgbgCtwLeAvZCogK1AmfB3sIYwomDEkLYwgsBXABHP5p+xv7ifuM/BX7tfii9Ybz/PFH7mfsw+t57UDuUu0G7Xbs3uuE6SvotOlg7OHu2PAb8l7xz/Ni+K/+tQLfAnMGNAqXDqMMrwtvEJcVJxnXFg0Y3Rq2HBkZOhQxFPIWvhn7F2QW7BVZFzUVfRAlDYwLpQu5CE8FsgRcBhgG6gGV/dT7Nvoh97HzlfN79vD3G/e/9az0Y/Pg8evwwPFF9Wj5Z/ox+in5fvrn/HX+fwHrBKoI4wlUCQkIpQjmCEcJyQiiB9cIOwd+Bo0COv4q/J75rfh490r4RvjS9jf0lfFU8O/ul+yf6pjpOekC6vvp0unI6Gnpsupa6mjrdO3z8GDyEvAT7xHzOfpHAb0HTAyTEN4RFBBvDQoM4hBGFQ4ZzxviHDMeRxtKFioRSg+kEbcUaxbmF34YBRfNEVQLwgfnBSYGJwXuBOcGTAnqB4gCsfwB+Lf2iPXv9TL3Hfvn/0b/vfrW9PDyDPSs9Mr1vvkS/1MBFwAk/XL9Wf7Y/dz/9QLNB+0JtQr6CjAJMAhFBqcFTQUTBo8GiQXMAUT90Prf9x31EvOZ9KL1NfS58E3t2OsD6XblweTo5H/lJ+d85yPpVudG52zohOhL6+/rWO4N8Lnvg/I++aoBVwq8DtIRFxMnEKcOcg1mEYYXtxvKHRYd6BsWGgUVnw+QDmoPJRRKFxkZgBkmFcUQtgkLBL0CKgRhCFwKvwogC8EHIgL3+7j3wPd0+Jb6Ff0a/jz+//tZ+TL1ifEf8hb1Mvm9+yr+uP8t/m77p/nc+tL8bf+gA2oJ9gxQDVYMqgqHCnAJbQo/DLoMrAyaCTYG9gE9/Qf59PXY9LX0I/SD8+3y/O/u6szjgd9W37vgFuP/5BLn+ObD5RrlG+Wt5i7omOpj7Y3uBvEX9gj/DQo/ERsVhhQXEs0QyA6FEDAWVxweIdYf3hsfGKoRqwyvCB8IpgyAEEcV0hbTEpQMZAPW/Ob7q/2iA/4HjwnnCiEHKgOJ/v/64vrN+V/7xv2i/vz+b/7c/Df6UfTU8LbyEvYo+7z8c/7u/XL5X/dL9un5cv4JA/UHugnbCqULmgwpDf4MBA4NEcMRxBEhEJ4LzAZh/xn8Pvqb+DP4m/Ua9Zrybu7P6R3k9t9S3jvf9+F+5C/kzeNx4mHia+To5nzrmO0w7s/uoO8K9dH+mQtuFzQbFhlHFPYPCw+lEOoWbh7lIhMiIB0vF+oQaQrfBfQFiQhoDewQohFDDtgGS/8r+Qj4jfqDABgGbwjnB2QFfgL9/GH44fVR9nD43Prw/RD/zf34+dT1QPEv7eHsCfKX+TP9Vv2W/N/74fnG92b6NAAHBpMJXQu9DnIQjhGcErYTVRWxFP8VExYnFEoQggoWBggBKv7E+xf6h/ek83fxYO6d6obkW9+33H3cPN/c4CbhHuAs35Dg2uLB5jfrhu6w8K/v5fFV+W0F6BHvF3IapxeGFIsRHxLkF+0c6yGEIQ0gQht2FWkQbwq2CNsGgQmGC1UM0grsBVgCnvvH+DP4kfy1ASwD5QT0AksCiv3C+Qf5lPhJ+/77kP6F/oT8Zvm29Kfyc/Fq8wn2U/k5+6T7f/s1+jb6C/om/AH/XgMzCLMLww3BDaoOhQ/UEWET7BSJFVQVzRXaEwkRaArGA3/9Jflk+Dv4IPkN9pvxUerB4n7dNtqG2+ncwd/J4B3gmt4W3TffkeKc51TsKfCJ8uf01/rcBbgS8RmPGToVdxODFN8XkByaIbsl1ySbH9UZ/hbhE7QOzghwB3cKWAy6Cz4GpAHn+yH2LvUE91T9fQC9AB8AI//7/9b9ivoT+Lv4Y/wnAOMBwgC0/lL6BfbC8lvykPVp97/4EPnZ+lr9//v3+An2nPd6/ZgE8QoOD78PIA1GCwwM3A9RE30VhBb9FsMWpRMtDuMGvgAP/BX73PvH+6P5APMv7DzlsuD63VPdZ98u4Vji9eAu4D3f7N/j4YHlyesk8F7y/vFR9jIBRg9UGQkavxU5EUwR/hOCGRog5STbJIEfghorGJsXDhTuDYAIUwcCCdsJ8AitBO3+BviB82Lzeffn/Nj/5wB1AAAAKv6R+0n5kfnY/H4AbgMLBBMC6vxv9xT0xfN89N30c/Zi+XP8X/yU+QD2KvSr9Cb4pv5lBa0JkQmLCLII7QoXDrkQrRLCE8MUwRSSE5YPAgoHBGAAvf/U/+T++vnx8j7rF+Zv477i4OIz4vnh0uC04Krh3OJN5OrlB+kk7cfwxPNI98T9mAdvEfkY7hr0GIcW4BQcFyMcjSLZJRolXSC8GUYW2RJSEEENYQsMC1MKywh0BHb/UfnW9AT0IveY+4r92P2k/en98P3p+/v7QP3G/Zj+O/+mAt4DpgBo+vT2U/eY9nn11PPT9Jn2dfZ39Rn2FPfu9c30BfZX+v/+YQIwA74DygUrCOsL2A5YEG8QkA/mDTELAAgKBZIDegLIAaD/j/zT9kjv2ujj427jquT+5YPl3OOC4r/hQeO75E3nHOru64PvMvRx+3oEFA42FQ0Y7BiKGEkaLByTH4IjASjTKeUlrSAKHD8ZkxS1DzEMZg0YDwkO9wmGA7P8W/Wm8Bzw5PWd++L+e/4J/e76p/j/9hn4Mv0XAjsGdwfnBy0FcwF9/N344/eo9z34Jvk9+qb52feZ8+zvTu347uHx//Xf+cL7efwS+2D7lf2XAlcGLQq3DK4OKQ9DDUIJAARzAewAigMeBMUBnPw89n7v/egX5HfiuePL5ArlI+XU5QXlRuMu4W7jguj37YXymvflAMMLwhQmGeQaBxz8HGQdTSCuJrUuzTI9LxcnFSCNHIAY7xLgDcUMnw55DuIJUQNm/IL25fFj71XykPjI/XP/yP4a/hX9K/sM+fH5rwDhCHoNcgxmB7IBqv2D++v5nPms+T75PvfZ9DrznPJH8S3uA+zC7LXwWfRm9v71wvW69rP47vwAAbYEBAdICJgIjAh6B8gEzAFnACEB/QBa/vr4NPRe7xPq6eVh4wDjHOMZ41jjoORd5fLkyuQN5vHoFu0I8uv4CAIMDC0UThgqGrAbqh1dH68hdiUcK4EufCyVJmAgXhzeF1US6A1KDVMO6A0mCSgDS/8e+4T3RvZZ+Vf+iwH3AXAB+QCxAHj/7f6vAcIFJAmVCb8HVwUTAmb+Ivwi+3D6+/gH91L1O/Rt8kfwHO/N7hrv8O5Y8MLy/PTz9Rr2uvZ8+Tz9JwBKAgcDQAQqBSAFVAQsBFkDRAK6AO/9J/tf9yHz2O7q6uznruZr5Wvk9+IJ4hrjO+R95ZLmgejc6+HvPvQj+RAA/ggOEBgUyBbMGSkdIB+YHwIh2CS8J2smqSJlH8EcvBjjEsIOxQ76D5AO6wlABckCDgF7/7T9O/42AVQDPgMhAo4BeQESAY8ARwIMBfIH3AipB/QFYQSUAg4AJv5y/Dz85/sS+nb35vSD88zyvvGG8PjvF/Ef87n04vVn9g/4ofoV/Qv/1ADRAnEEVgVNBSoFLQWlBDUD2QAW/tv7avmH9dHwJeyn6PjmIOVa44LikOI24/jiW+IW42XlY+g/6yHul/JX+UEALgVqCUEOZxO7FrsX6hgLHMkfxiGaIawgqyD6H7UcYBixFckUORRiElMQrA6PDRcM1gnoBzkGzQYDB2QGxwW1Bb0GgwaGBTkELQRlBYkGhgaYBJcCIwE6/xH91/pe+YH4Kfbs8gLx/fB98drw/u4N7ofuu+/l8JXxPfNd9ST3p/jU+pr9DACUAe0BOwI8AlACTgLtAUwBXAA9/2z9lfrY9p3yrO6j7HHraOrx6efpDel+5r/jNeNZ5ejn++p/7pLyX/Yq+Ub80f97BBIJbg3oEQ4WrBluG0ocMR0uHg0fZh96H2cfpx55HRscYxr1GGUXrhZFFjoVqRTIE1sSWRCADVwLsgloCFwIBggnByIGyQRGA1UB6/4s/cn71fnP9x32cfRu8r7vE+1063nq5Omc6fnp0urt63TsAO1t7d3tP+/b8FLzivUA+Bf6G/sF/KD8cP37/Yr+Gv+b/1QAXABu/1T9V/o19/HzZ/H373fvZu937qzsQuon6APnMuc16bPsTfEq9RH4wPqa/aAALwQZCD0MABFqFLwXqxrqHBYfvSAEIoIiFiOPI5IkiiVYJcsjeCELH3McfBluF/sVyxOYETMOmgoACFsFlwI2AOL9SfwF+9H5CPhG9R7zzfCU7sPs6+te7CLtXO3w7Ers/eu864nrdewu7krw2/Ep8/zzjPQz9Xr1TfYH93r4Hvqr+9H84fw+/Sb9Af1P/PX7b/wh/GT7zvl29wr1h/JF8K/uZu0v7D7rj+qu6vnr7O3n727xhfM49rb5o/3VAekFbgjBCo8M9Q5gEk4WrhrCHUIgRCL9I8IlCyesJwEotydFJ1cm8iTkIvAf9RzjGJcVxhJPECYOVQtSCMcEyQDg/Bb54vW482nxfe8f7bzqpOgE51vm1eXn5Xnmi+eS6D7qI+yk7S7vZvC/8Ujz+vS+9nD40vmc+uT6CfsH+x/7hPvZ+zH8jvyx/Hb8GPwN+6X5g/c/9WHzrPGW8BTvye2K7BrrRupD6ofr1e198ADzEPV39xb6h/yF/zUCswTWBvMIawvlDc8QthM9Fi8Y5hn7G14edCAfIhwj6iMrJGgjUiL/IJMfyR2sG04ZJRcWFZ4SYA8GDNkIDAa/A44BW/+c/IP58/WC8oHvUe3w6/vqP+o56UXo1+e45/fnO+n/6n7sMe4j8ITxxPJI9LT1/vbi97P4uvlj+sD6Rvvx+2/81/yY/B78vPtX+/H65vmg+CT3tvWf853xHvC57g3ur+1U7qbvA/G88qT0MPZj+Ev7r/5CAgwFngeGCSILqQxWDmIQ8RI3FYQW0xfxGKUaERyIHBEdYB3YHM0bthqRGbwYNRcoFd0SIBCZDUULBwm2BsQE5gIXAQn/8vzu+tX4cvdM9gn1AfRO8xryxfCa7+juzO4Z75XvBPCm8Dzx9fFN8jzza/R79dv22vd9+AP5ZfnZ+ZH6DPvA+2n8Qf2R/Y39H/1d/PP7tPre+av4m/d79v70KPTL8kny+vGy8WPyd/ME9dj2avjs+Qb8N/7YAHwDqAUFCMMKJQ15D+ARMhOIFIcVtxY7GLYZzRr2GsoarRlNGGAWDRXOEwUSEhC5DXwLyAhsBs0DKQHY/r/8u/o7+W34LPfV9br00vMo887yvvKh80T05vTg9Vv2D/c3+Jz5X/p1+2z8D/0I/p3+6f7v/sv+n/56/kH+O/4S/hf+CP7f/Qr+lP3P/CL8fPuH+uX5ivka+fP3fvY49bDz9vKj8g3zjvOC9IL1FvaG95n4BPrf++79LAB+AqwEVAbQByEJ4Qr4DC4PSBHGElcUFBZrF2AYhhiYGG0YlRcZFssUwhMUEhQQ6gxBCmIHVwTnASX/5fwc+m334/S38sbwru4U7efrI+vr6mzrNuwp7djtDO9q8Fzy3vRf9036sPyE/vv/iwH2AtcE8wWfBnkHXwdTB4UGBwZ0BckEeATJAwUD8gH3AGL/8/21/H37Fvq0+G73c/Ve9IXz+PIX8z7z3vNE9DD1xvaH+Nf6MP18/3IBhwL8Ay8GHghfCm4MLQ4BEB4RKRL9EhIUyxXNFhcXTheHF9QWFhWgExoSRhByDkQM5AkgB98DqQDE/eT68vc89dfymvCC7iDsKuq/6Hfno+Z45uzmxuex6IfpH+v/7C3vWPHL83T2V/k3/ID+RwHeAyYGAghGCagKhgvtC4QMjwyrDJQMMwyJCwIKmAg1B6kFGQQ/AmYAtP5x/ET6Ifgz9iP1RPSw87vzKPTc9Az2fvfX+Kn6//zn/hMBYgOdBQcIywktC4cMSg7lD1sR5RIuFIEVQBYRFngVChVQFCoTHRLZEPkOqAz0CUcHawSDATP/qPwr+ln3hvQd8hXwH+6C6/vp3eiU537mpeWE5QXmq+Ze54joFeo17CHujfA/89f14/iN+0L+7QBiA4wFtAfNCV8LjwylDdsOjg8AEGwQfhD2D3kPUw7qDK4LxAniB58FdAP5ACj+4/ss+vj4o/d89t71kvXO9Uj2QveK+Kb5a/sm/YP+WAABArgDyAWEB14JUQsyDcYOPxCuEawSTROhEw0UEBSGE7cSgBENEAQO8QvCCccHdAWJAh4ASf2a+sT33fR/8i3weu146wbqOOgQ58vl/+T15GvlLObE5sPn3uht6ofs/u538Z/zUvbm+Gb73P2AAHkDoQWLB0QJZwvbDO4N7Q5GD/IP9g/6D9cPOw9RDlsNpQxfC4kJrAflBRQEHAKFANL+Lv1+/JL7bvq3+a357/lj+uv6hvuH/Lj9u/4kAPABcwPDBMcF2wY8CLUJ0go0DDsNww0sDmAOgA5iDjUOtQ0MDRMMAQuiCZkHjQWeAwoBuP54/M/5U/fH9I/ylfCC7sDsg+tL6ovp6OiH6G3oc+jF6IPpdOqH6/rsZu4x8Jby5/T59lz5kftd/rIAogLMBCUHOAm6Ck4MWQ2GDikPoQ+iD/4PEBCJD+kO/Q0cDcYLlQrwCAsH9wR4Ax4CPgEEAG/+D/3/+8X7TPst+/v6hPva+1v8cv2x/pv/CABoAbMCYwRaBQEGNwdJCCEJZwlpCksLYgvtCrIK8wrGCmAKSglvCDEHeQUEBHUCOAEs//f8H/tl+VD3nPTA8lnxOfAo773tP+157PrrwusS64Lryusk7HTtau8V8dLyK/Sx9Tj4yfnz+17+mwAPA8IEiAY7CCkKGAz2DPwNRA+CEPUQsxDqEBYR2BBuD5MO/g0ZDMoJEgh3BygGKQS5AuwB8ABX/xf+T/3Z/Jn85Pwc/lH+wv2M/dT+EQDG/74AmAGyAqICmALKA1IEGgXeBGkFagXqBbUG7wYMB0YGdgaxBVwEqAIIAqkCIwLWADj/4v0++xr4nveD+d371/lk9YH0yfT389Dxy/Gy8+3zwvJs8nf0wPSJ84r0ZvfW+fL6ZvuR+z/8mPxR/mgBCwJgAhYDhgMfA2oDnQUaBugFQgXZBfUGtgRqAfoAvwFhAeMBBQFE/2z9Vv0fAZkDPAORATICOwQ5Bb4IdA0LEDsPXQ7pEIIVIRhyFlQXNBk5GAUXuxXAFdUUJRKcDg0NMQssB20EGQA3/Vr8+fvi+e/z8+6S7LLtCO3P6eLnb+W349biauRt5iLmq+RD45TmGeqj66nt0O4c8cnzQ/eq+rz84f0rAHgE+AasB+oH/gnCCq0KowzSDXsPgw3DCbEJfwqTCqUJUQgHBXwBu/4u+0f68fkC94D1/vLX74zvmOx56mzthPNb+xD9w/rT+Qj6tf9BB2cQtBmzG8Ia5xqoG9IeqSQ5KfIq3SjrJKgiBCHiHV4awhr0GFET4w0TBtcBb/9g/fL92vlA8xrs8+dE52Hncehj53Xl2OEl4PPgD+J64wnkUeY46RvrNOuS7ITvVPIE9g/4+/vm/xAB3AIjBGgF+QaRCJwJbQkOCIgHwwmLCrAHBwWbA5oDtwOOAF/91Pt6+af3HvYh8xXxmu7f6lbpoOfW5R7moeas6yH0k/dD9+DzfvLd+44GNxAEGXQbXR3LHbQeGSQzLeczXzW0MncsHyrRKdoqbCpjKSYlTxztFdQNDwv9CRcHeAVt/2H4vO/B6TXoKujQ56PiJ9zy16fYVtrk2cDZGNk523/ejt/i4h3nt+rQ7qLxfPNd90f9nwF4Bj4IMge+CA0KWA2jDxUQKhAvD1kPPgw1C8sKygigCQIHSgRTAHL74fnx+IT3JfSa8PbsVuqe5jrj5uJJ5FTscvII8gvvVem87Ur4+gAUCgEPthMJFvoVhxjNHkIpZi8sMGosFij/KGQsaC+pLogsyCYZICUawxQjFUITohBEDDgGVP9T9DDvDe5679DsGuIi2gjXhdnP2hfZB9g11l7XZtjJ1wvcBOHa5Qvsx+vY6mHvkfW6/RoEowT3BAwGQAd4C0UPdhF/EOIQ2xCmDP8K9giICysP4QsOB9UAMfw++u/6vfsL+UXz0u1U6vHmBuaD5dzpMvIX9PXxkO0j6Vzve/xCBDcLfg3+DSEUYBRYFVkcjiVOLbwsdSeAIxcmmSsDLm8uoyuSJG4eTxoeGLEZeBgMFToQ2gitAWD6+Pek9+/15fIG6NPeBt0G3YPgC94r2RHYu9XV1SjUgNhP3z7h9uO64Irhz+ad7Mz1TvvG++T5ufty/w0FMgklCw0NDgyhC+oITAt7Do8OshChC0sJzwcsBOsEkANmA4j/9PiW9HHxAPIG767tlu8J8yX2PfHd7sftTfKv+8n+VwUCCe4K1Q1xDdoPvxZLHysj2SShIJ4e+SGAI/0n8iaNJQwi3BxbGmkWHhkQGEsWOxNVCwsIbQEc/aP7e/mb9/3w3+jG43bjbONX4TXeoNsU25ratNlZ22DfnODX4eni6uN66DHs7fFb+FP5yfi5+Nn84gSkCacLggq6CCsKzAsuDvYP+g9FD1MNigp/CBcIhwciBqUDTP9f+BH0ffO684rykeya6t7uDPTq8pLupO4t7xn2e/r1/vMHKggwCNwIUAuAEOUWFxz4HkohkByXHAUgfyTLKQQp/CUCIM0eFh6VHzEhgx2PHGEWAxBGCnUFBQT5AOv9wfed78DmDeOO4yPkB+L52T3WD9V/1LHWYdjd2bPbZdxG26TdsODZ5inxpvQ28zby8PSU/jsHdQnoCUAJtQrZDnQSpBQaFPQS1RKlEqgQag6EDfANsgvMBqsBSvtn+j/6U/c+8xnspOtr8cz1TfL07RTsQu2g9Cv45P7CAwIESwV7BgIL0g3eEygb4h+4H10b0RydImEr9ywRKiUnEyOJJEQlzyVzJMciSx9nGSkT0Qo+CPwFswMfADH39+us4aTgMOMq42fd3tMV0ijSANCM0GrTx9cd29PYu9WH19jcKuYy8ED0ze/k7QTzcPwOB9AJ+AhPC+oMDA/7EVMT8hVDGAQZkhUzEFsPmxDoEs4QCwjXAoT/rP0X/bX52PQJ79juZvAK8rnxc+sc7WbwRPAZ9Gb0nvmxAT0DcwT7BPcEBgr5EpsYMxwdG5saWB91JKMmWCUaJyUoJSn0J2sicyLTIskjSSGmGewSsgofCsAINQQx/gLyL+xH6rLnoOVA4O3bFtnD1N3SntJP1QPZJtmN2GnWNdaz3H7kBuzy7VvrMO058rv6nwEtBdAImgl1C9cNSg/4FKkXsRkJGpoU5BEqEfsTuRUCEv0LtATCAnIBLP7V/Sz5ZfUr8tHsXe2T7w3y1fIr8TDvF+2R7zP0QPugA1oETAFHAAkCcAmGErgVDhqAGyQZthrWGxQjLSgzKbAoRiRfI5kfbh83I+UjvCFbGBsQPgq6B/MFTAFR/vb3lfBf6Svj2eB54Xrg/tsn1y7TutMM1a3Wpthh2Tbcfdsm3UfjBOez7ivzY/Vo+Zv64v/eBjUNPREdEiYUzBQmF3cawxzGHnUcTRnfFg4VrRTfE7kR4g2/Bg8CRAHy/XL8/vj588/wOesB6iTvlPLi7lzqPuju6ILu7/D69Oz7mvuI+X37O/9wBfELbQ9XFLwVthJjFOMaEiNKJSwjTSFEHxsgph7KHqAh/x5iG2kUYg1/CUoFKAXLAsj9XPem7gfqTOeN5F3iDOFa3una89fr06PUDthg2qbddN5W3NHcxeBc5wvwWfQw9fj2LfrQ/20FQwtXD+4RYxSKEyoVpRjAGvgdqB2QGtkXkRQ9FK8W5xU3EQ4LdwYgBtEE/f9q/GH4svOV8IDtOPBN9BnwdOvR6Q3px+tg7vjxrfze//n4iPe++uwDYAzHDJIPABVGFdUSthRAG7AidSTbHwccoxuHG7gb8R1jHvMaZxN0C/wGdgVcBAACOv8X+vfxjukP5iHmzuZU5snh1t2v2y/Z79ik3IffxuFq4gbgiOGn5R3q3e989hX5h/k2+8H8qwRwDP0OtBEPEiUSlBVpF0cZTByGHFkcohlxFtAVIBeHFwUUwg5zCLMFXQQXAg/+Q/gO88fsjujb5rbqP+4I6QLj/d/O4Lblfelj8Jv6GfrL9JH0uflxBaMNzQ8NFOgVMROJFG0YhiDvJ1ImtCI8HsYcfB30HsQhoSC/G4YSKgo6BqgEIQPa/zv76/P06+HmzONz43zkEuFM3mbaNNYq2fja693b4cfhEuP14yjm0+w78gD4uf2x/1wCKQMHB6kPpRSJGFAZjBdeFwEZ+xv3HoMfNx2MG2oYDBWME8ATmBMyDhcH8gAG/Y786vnC8zruGec+4Nbe5d6e4t/mEOEA3Ifcdd1B5FnqOfEQ+wr6HfYV+O7+bAmZD8oSmhbcF/kWmhjzHWIkgiiTKDslQSKyIGgg6SIYInofohuLE2wMkAWvAZL/l/te9/3wFeuT5QbgGd8T4EbgBeCr2/DYy9lJ23XgS+QS56noPOhw6zXwl/WE/aYDDQYXB4EGHA2ZFi8ZVxuZG2Qc0ByJG90c6R9oIVUeaRzUF5cSsRD9DiAPmglTAWL7APa78RvuNuoM5tThVdmn05TSr9Om3C7g8tqo2bnYo9w158LtdvhuAU//Ef9BA6kJLBIxGisfKyTnJJkgsCLFJ+ErCy+ZLg4pQSVnIXIdwx9BHGUZRBQVChkEFvtE96L06vHN8Pbpi+MF3kjcP95p4P7gvd8V3nTdS98l4j/oUu1M8YrzoPEY9Bf6AQFMCqsO+wxrDQ4PXhMFG5wd0x2rH2cc9xjGGu0Z3BugHfAZmRY4DzMIqgVAB3QEiv0p+D7uGeoY5/XjQONg3FjW39BrzpXPEtIC273gPt6G3cXbrN8478T48ANtCr4Egwn0DQwTahxnIAEqYi88K/on4iTiKFEvli+eL68oyx+DGqMWZhcvFWESaA1hBOD6se9R7Abuh+7x7dDne99O2tTZxt465VXmRuR44jzkQOjO7Pbymvde/lsAnP5BATkG9xDlGUYaQhggF/EY3x1PI/0kxCKbHwwauhcoGT4WSBb7FUoPpAlTAGr6Wfpk+CP0zu0e6E7fgthg1oXWGdfv0VnKM8eRxo7E88es0hjhP+iG4tbdkd6z7nYBBQsgFjwVjRYkGvIXuyC5K4w2NTuQM3Qr7SdsKt8uKi/1LRwpdx1hFjEQSQwyD8sK1whCAqj1+u3B5lboq+gA6ZPoU+FC30rdEuBW5jTmyOd+6mvtcvDr8QH3Pv46BMYISwgWCS0NDRErG10gmR4RH4IdOB/6InchxyGTIkkfFBuuFhkS4w+eD50LlQXO/B/1i/Eu7prqzePj36LaBtFdzZbL3MtczfPIAMVXxPC/P8LCziHfZe9m7azmyeEP6eIC8hHtH90hshtWIHAeQyIgLp45n0D6Ou4s0CTeJc8pRC7GKqkm7RnMC38H5AAiBu0G9QJn/qXvjOYI4PfiWOmR7Gnvfefc31LdOOFF7Fb09fZD9qPzkvKy9or+wghJDQUR7hL2DBUNzA7AGFcmfyNGH9oZqxauGlob2B/pH2caMRRtDd8LRgcCBpAGCAML++TsSOcd577ncOXL3N7VZs2oyFvKHs3ZzP/IUMU1w4XEssaE0NTjMvOi9vjwzelZ8E8H3RoMKEcrTyaSJs0kDiWzLlE7IEPWPEcuTCQ5IcUjmiQ6IXselRQRCIQAhvoL+kb7m/lW9V/ux+VQ35bgLeUl6cjtvOta53boKula7zH22vmo/gz/iAHdAUUENQpLDbIWoRjOFPwTThPdGYseLBz+Gt8aXhrDGswXPxVyE4EPyw5YDOAGFwAe+0r6cfj78QzoDeKB347fI97K1zTRDMpHyZvLKsxQzBzK5clzx9jHeM9g3032mf+n/Jz0W+9iASwbVS1dNwkyqywAKZUiHyi3NmFDU0PYMdIhNBwjGaIapRkqF6sUXga1/A/4xvB78YbyYvdF+H3qFd5o2YvggetN8qX2GfNy6z3o2ezK+OUDBgd5BlQERAIVBM0JkRAjFIYWDhZTFHMVZBW+GGUaehfdF8gYMxssGLYRLQ2/CdQLTQpJBVb/qfgD94v1A/BK6Gbin+Ag3+jchdpO1PTMBcjFxyDQWtPKzIDIYMQcx0/S2uEc+LoCi/pF7xzwKQUfH10uvjSbMmst8yaTIn4rKTq9QQM9Dy5GI+gfGh4GGi4V9RUME4MNzARd+036kvRs8a70I/eg9W/pRt9v4HHon/BE88v0Y/X875fujvRH/aIF/gMyA+wHhwkuCR4GAAmLDsgSiBYxFogWphM4D6UOIxGdFMsZgRsmFEMJ7QENAogE9wL5+ur3dfcB8Ivmt90x3W7gtuEO3bLTic5tyGHIZc0Rzt7QVNCfyb7HBc9h4zH8KATZ/nf2BvqfDPwcwi54OHI2ZDPIKwsrMzW0Og484ThmL+MqvyeII0scAhStELgPMRFjDNcD9Ps69LjwtvBW8j3vE+mI42jgo+Jl5oXoG+s56x3pbe7L9Iz4gfmy9yT97ATiCdMJqQhGC2kNNRHnFRAYNhnsF8QTyhT9FbIVORjHFgATFw24BhIEVAIS/mn2n/A58Cjvvupc5LXb1dho2fDW29a21WHTxNPl0Q7R19Gm0FLRldWd5Nf3DQGCAQn6JPvdCXgXoiW8MH40rzMTLUkoAC3CNB05GjddMVMr1CXeI90f+Rm4FDsQ7w5fDRcJSgMQ/7r5k/N178Tr9eg36NLnpOZ05iXj3eDR4Vbj4uk58fH0U/MY8ZHzLfnu/osCmQbACsULrAm5C/kQ+xSGFjgU5xOrFOAVfRbNFFARYAtMCeEJFQiYA7r7lPSs8gvxkO5z63jlruL/37vbmdcE1K7VFthw2GPXYdW/0wrT59S73uftw/a6+Uz4AfoSAzgLEhWLH1MnsyovKJ4lCSYqKIgqdCwvLZsrYybpIE0dIxk1FvQUpROCERUMBwaNBEYDgwB6/GD2D/J27ejrUe1E7krvUOwT6S3m/uMO55jsefFH9Pr0IvW69X32XPnO/c0BEwVKCGUM0A25DJELkQw+D8IRwhMzFJUTFBDfDEgLNgmgB0QFYgNAAeb8KfhF9F7xq+/l7DnpFOaE4rHgTd4z3C7ccdxK3c/cHd1C4N7k0ulz75r09ffr+ab7YAHGCHwONhO1F+gbjRzdGokaEx7cIk4lWyb/Jt0m5iMsICYfxh82IF0eHhoSF5gTsQ5QCxgHTgOI/3D6tPfu9NnyHvFu7lHteuoe56Ll6+NH5QDohOn76z7sWOzf7WbvdvJY9WT5Mv6SAeYDWwQzBMAEFgXlBboIUQoICnsILgVGAwsCywA4ATwAi/0e+iH3p/Z69A3xGu4G65/pr+eW5mbo2umT6gvsMO/X8nT0PfRp9sL73wEnBw4Lig5NEN0QYRI9FoUbRSBUIz4kkSSKJI8l5icuKSspjid/JFAhjB1GGloYKhVJEckLvAWkAcD8ofju9LbwQO2R6Y7mWuPI347c5dkc2fLZRdtp3ETd1t3b3iLhH+Vl6qDv6vIP9pP5Jv3rAdoFhwmnC6ELgwvdCycOLhAgEbcRdhBfDkMLAAhvBgEF0ALR/9r7Bfj383Xwle3S6kfqSOtT7fDuwO9R8HXwZfCO8fr1u/py/kcAhQKiBlIJPQtcDWgRfBYOGXMb6B8ZJbIpAiv5Kc0ohCf2Jisn4SZPJaAhUh10GOwRrAxDCK4ElgEv/d/3M/MW79zqD+aM4NXcn9q62SjYStaF1YDVVNdu2cDb992d32vhf+V86xLxFfZz+lr9L/4z/3gBpwUCCkQM0w2BDgEOZAweCxILqgqeCR4JMgiHBfQArPtf+EX12fJk8731C/ju95b2R/YV9oj1Svb2+aX/6ANpBlEIHAkjCcwKpw4GE5oWORktHTEhWSMHJRwnnyhrJ5IlsSXAJs0mzSNxH2caORQYD2AM1QoeBygCX/3m+A70ku5c6nDnyOPb3tTbu9pH2UrX99Xg1WrWeNbg1orYf9oZ3Q7h9uXe6czsefDI8+31LPgQ+wIA0gRuB5YJgwqfCqoK5griCz4MIAwTDMIKogdcA7//8fw/+uf4UvuO/9QAwP76++P7pvzk/WEB2QVuCREK7Ql6C44NNw8NEdwTnxc7GoMcCR9MIWojTyR/JeEmGyc0JlwltSSWI5YhLB0JGJATrw9ADBQIvQO0/6X7//a38mDvTusT5kTh7t06243Y8tYm1zHXl9Up1MjUHdaE1h/Y2ttj4NjiA+PH5JLn2+lP7ETwjvXN+Dj5CPoK+2T7qPua/WoBhgILAVoAjQCs/3r95PsJ/Gb85f3RAsIIBQvtCEAHawifClQOnhWHHZogiR3KGgkdaB+AHlweuCIZKBYqySh6J5cmPCPUH0QfPCGdIuIhgx8ZGo8UPBDMDE4JVwX7BIgG/QQb//X3kfKG7Q7pQOjT6SvpbuQa39Tcjtun2Rfaw93+3/ber92O3h7gbOB44RXl5edp5/Tm5ujp6n7q3eqA7SzvAO+67b/tr+1V7Gvt4+8H8G/t5OvB7Ejsj+hl5izpy+3C8rz6ZgUUDMIJWgXJCZAUeB6XJkwvzjXLNKouvSzAMmw6ED5iPrQ/9D9fPKs1gy2qKFEnsyeiJ2MkPh2nEj4HT/4A+sn5OfuR+UL0Z+zd5AzgddwT21XcceDk4x/i19t11obVWdgq3cTjbex88N/ti+oD67XwmPbW+uz+uAA//zj7mPhE+E34F/nN+rv7mfh88/TtgOnt5gnmFefs5NPfptpi2ADXg9OQ0LzQ69PO10zgdu0e+R37Z/YW+a4GDRe1IvIrTDRXORQ5GTjmPIlGHk/sUX5Sr1MCU1lNV0VsP2w+aD43O9g1xiyEIBkR1ATj/5UAzADF+X3vXeWQ3V3YMdef2A7aLdsV2gPYotKIzpbQ8daX30nmb+tS7Xfr0ulT7Fj0nPy0AEgCSAP9AOD8n/qS/If/6v4t/WL6B/ea8D7pu+RN42/jQOH43mvZnNLdzBrKB8sxy8bJEMbwyHrVc+a/8JXvt+vP8S8EWBV7IXwp1TG6NtM1zTf1QdVRVloIWjtX4VfiWO5VUVDETURQiU4kSA4+eDPFJ+oaABGTDaQOXwg4+X3ovd9j3PvZ49UK0w/VNNRS0SfMlMjkx0LL9tM53CDh/N933/fhROhX76v1mPtn/Sn+R/01/if+Of6JAWoETAWZ/in3lvKw7+Ds4enn6b/nnuEl17XOHcxwzGzNSsxcyL/BWMFxzcHhtu1A6oHjt+iv/EgPHhr+IA8qIjGhMe4xqzqSTDpXilYQUrRSh1V0VBBRM1CBUxFRmElbQag6vTBDI50ZpxgmG08TJgMT8uznCOSD4vngjd0F2vfVJtOvz1fMM8s7zhjVu9p73WPeft4C30Pi/+jU8U33ofj6+ET5K/mg9/n5fwHIB9gG3fy29F7zU/Qz9PDvQ+186+LloN2L1tfS9NAVz57M78oqyFjJntOW43LsYOjD4XXoaP6DEMIYPxzcI6EpHym8KZAz8EayUCFO10YhR6JL/Us8SZNIoUz4SsVE0TocM2YqPR8VGdcY4xmkDsj6lup152vpvudT4m3cUtum2GHVdNPW05LVo9gc3jHiJOSR5HDlaOiT69DvSPc4/dj9hPk29t/3tfsZ/qYALAN1Adz6hPTY8snxCPCm637pdOqf50XgANZez3XOGdFR0tzN5McTyzrageu/77fnUuL561MAORC9GVofuiVSJi4juSWnNFFGh0t1Rmg/50PQR7FGyUHuQENDN0B9PIg1ri91IikUNA+WFWIZ2Qyn+BboEudU6UjpmeW/4IzeI9y526Db0Nwr3J3c3+Ez6tzxv/M28Pbtl/AH+EABAgbPBCD/rfha+Br+VwO4BbYAEPkq8uHuPO+i7XnptODF3FfbKNhQ0p7I+MI+wULB38E3wMe7pr2SzEHjWe4i52rccuN1/EkSByFrK7wzDjL8JxwpiEHBXYdlfFv2UABTbVanVUFTNlb9VQlOVEUyPh05KSmyFTUM4xENGMEPefqH5MXbPdly2Rba/tsc3ITWJM+tzLnRSNbU2JDdoudu8h73AvWy8iT0G/nAAmcNHRNDEDUHTgFoAqIHdgwWDHcG7fsJ8n7s5erT50Dgp9sm2UnVT82owU25MLeNt6m3Q7e9tw286cQA0I/Xp9kZ2FbcZulZ+xUQbSFuLVQw6CwmLPw3L01WXidlAGPIYJJgdmHqYOVfdl0EWAJRz0rgRTc8Cy69HqkTvQzCBrD9Y/Lm6VXjRdzp0pnLSsv5zy7SFs+wzMPQeddj3PfesOTy7NrxGvTz9v79zQPnBvwH7AisCEoGhQVWCGcM4guvBhb+GPd38oXvn+tk5ufifuDK3BTVKc1byr3KA8fev0a7872Qw6vItc5N1VDYPNVh1T3dO+oa98wBegz1FV4aGhxJITsrtzaRP3hF6EgBS+ZL8U2WUPlROVO9UZNMEUTLOmA0XzAILEMmSR8aFesJlAIbAOf+vPrO8xvu0utU62frmOxH70PwOu9F7r7vkfI89R/3iPcE+ND2u/UN9s/2k/Y99RvzRvHC7zHt5ena5Q7j6OCq32vdxdkK17PWrNeb1QXRkM7Kz4fSOtOs0Z3R+tG60zTXFN0M46zlSef76kXx9Pav/VMGqA8QFmsYzRroISwr9jFLNv44lTs8PUU/lUG+RDNHBkhgRzpEiz7vN0szDDG+L/oqXCOtGjQVURKYD6wM7wf6AhL9YfjA9UD2B/hL+PX1MvHp7EPqw+r97H7uB+2K6dLmX+W45LHkpuRB5crlEuVR5DTjCuJU4GjfUN+b37vfPeCo4RDi1eCb3Qjcr9tJ3Dvd+d3D3qvda9zk3IPgcOR76GbsMfB182H1Wvn3/2oI9g6pE6oX8BvyINYl+SkqLeUv0jAkMokzxjQpNTY1/jTCMoEvASu2JwwmhSRaIdIbBRZGEv8PKg+BD3wPOw8mDCAILQWEBDEH+Qm/CnsILgSEAGH+Pf1o/Xb8F/q49kvyHe6C6iDol+Z65ejjouF9303eZt1H3PbaS9o92vraydzD3nrffd4g3uDeyOD+4q/kDuUN5WHlb+Zo6CLrJ++M8sf1aPic+qX9RwHOA3gFvAe1Cx4RLBV3FwwYHRm3G5getCB4IkwjhCNxIwAjYSPfImMhXR9+Hoseqx5zHRYbEBkXFksUXhR3FoAY/hdbFpcVwBWKFggXgBenF5gVXRN0EIIOGw2rCtMHdQRhAVL9BPiO8vfts+mz5fzh/N8Q37zcttm11mLV/NSV1KfUatUv1yfX1tbr167ZRdwA3mTf5uGB5FfnD+r/7E7xjPXB+fH8qP/lAqUGQAo8DKwMiw1CD58Q5xFpEtMSphJTEoAS8BE/EbEQehCQENcQBxA6DrUM+gugDPoN0g6XD4AQkhDcEFcRyxN9F5katxy8HT0fDyEGI4Qk+iWaJjImjSRBIhcgvRycGMUUTxFDDbIHUgEP+3T1hfCz6+nnw+M/33DbG9iH1vjVLtUN1OHS8tGe0YTSQ9RF1q7XIthC2cjbdt/y49PnoevU77fzUPf7+hr/CQRlCUQNPQ8dEMAQXBEOEuQSdBMiE/4RgBDmDXMLOQmpB6YGigX9BOQCJgDa/fn8Fv5m/zUAPwCUALQBbQNgBogKnw7GEVgUXBcOG60eDiJMJfAncilAKo0qwSq/Kncp4yY9IzkfxBrwFT4RPwwDB38B3/t/9l3xYO1D6UXl9+Iq4Gjdd9rD1wjWj9QF1dLVe9aQ1mvWetbR1kjZmNxi4BnkvudG67ruTfJ59oH7SgBABPwGkAkODKUOnhCLEuwTrBOaE+oS4hH5EEYPWw2LC48JpgdzBc8CzwAW/1r9FvyV+6D7pfu++7v76/wC/zwBswNwBpMJfQyNDxwS+RTtFxQa5BtrHcMe6h9pIPwfmh4UHF0ZXhb9E7gR4Q6BC3UHJAP5/j/74ff79QT0tPE974HsGur257DmfuW15Onk3eSn5EPk6+Pb4yHk9OX554DqKuxG7TPv+fDs8w73Zvpo/fT/mgEMA+0EwAbSCPEJgQqwCqEKWArzCXAJzwhuB6gFnQM4ApgBYACU/4D+af3r/IP8OfyU/N38cP0v/r7+XQA1Ah8EAgbfB2EKVwwCDr0PsRB8EvETjhQfFSIVwhTHE1oSzxD9D9sOew21C1EJEwdDBKQBbf8v/sf9hfx6+iT47PbW9S/0M/N78iny0vFO8a3wYfCS8OPwNPGx8VTyaPPM9LP1i/ZP9zr4Wvn8+lP9Ev/Q/3YArwAjAaABsQKpA+oCmQI6AhsC7AHxAGgATQAjAHD/Rv7E/eX8G/xT/Ov8J/7t/nP/rv4A/p3+9f+VATsDnARGBTYGPAa/BuMH/gh+CVcJwQkQCuIJIQmfCAoIxQaABakEcQTiA7ECeQK1AaIAuP+6/oD+1f1j/RT9jP3N/Vz9Bf3R+yX7EPtj+/P7hvyV/E78R/zg+0f8CP0b/vD+9f5X/5v/egAMAd0AFgH6AJsAigDVAMwATwDJ/7L/2f/2/uf9Zf0//cr8QvzV/KP9N/7+/a396fzB+8L8y/4DAcwCOwPpA60E7QT1BGUFlQdTCbIJTgm7CDgJ1QgVBxsFHgQDBDIDOwGF/7D+Dv21+or4ZPcM9wT2vPQ89EX0rvNi87/zoPQs9fT1Jvd490X5dPqF/Mr+gv7t/Qz/xAE/A7gDbwSLBvQGbAcGCLYIiAkeCX8JcArgCxML+gnnB/cGTAc9B7IGxAMkApIApv4f/Yv/TAdGDOcDHPfN8yn4zgDrAHkAtgUHBx4C7fb49R78iAL+AnoAMAT5BhcKNAYjBPwAIP0c/17/OgQmBXIDPP+u+KHz3e8h7y7uWO4h737yCvNR8M3r0efV51botOue8MP4Vf8CAZD+5fnp+8IAGgc3DBIQIhbfGWkbihmZFl0WixcOGWcauRrcG+Qbehm0FSwPtAo6COsHWQlACJoFfQHM/Hj3IPKo7YbsL+8e7xftUeoi6J3nGeY05ofnM+tE7snt6e+c86v2jvmq+xb+8wC1A9cFMwhKCpYL+A4sErQRUQ4vDIYM0gv2B20DfgJBA/X/h/gJ8nXtWevv52rj/+Lb5oXtc+6x6aHkSOTu6RfstO5b92kEpQtKBjEAqwJ+DykYzBnGHOAiWSn8JyEl/SV7KzIt9in9Jy0nzydDJC4g5xt1F0wRWgzNDH8L2gTC+W/ySe897QHnI+JW4xnhFdvo0S/P39PY1QbWF9er3Azhbt8L4NLlF+9d9Pz1svvGA0wJuAhdCGsMeBL5FnUYzhfUFUoSQw8wD68NbgsSCO4DJwBi+aTyou3J6WnmPN/D2CrXDdw456TsWOgv4Mzahtxp4zLs1fohCg0QhAsFBJwIRRUMI1ksDjKCOU07VzpuO2w+A0EvQH49TT0ZPVo4kTDaJ+QgUhmgFDsTNA6aBXr3T+pe42Pd69l82dnXltIByQ3BBcGBwwfHMMpcz/7W+9gK2vPaZd4X5ZvtvPjPAlkIdQenBrYGnAj5DW0XGCGjIkoalg5BCbkJawyzDbsLuQZj/zn3JvDb6ELjsuA/3rXZHtPP1iDlxu+j6q/bxtIc1xrkyPINBvEUKRd8C78B4glMHUoyMD8AR3dHwEIqQN9DvkxnTlxLSUdVSIlHDT9uNLsmVB08FZcSaBRuEBgDnO1b3czW49RD0zrQTcoGxoS+9bj2ufi6TcHSwWzFac7F03/aQNhU1n3cW+iu+SYFEghiBIn+of7uBMIRtx4uIvEddRTYCyoJcQhaClwMfgkGBRD+6vjj8wXplt9d2U3Zqdq53Kvmk+9k8Hjm5Nnp2Nnivu5e/sUQphv5GS0NAwh7EwwnoDgfRIpMl047S+1GykZ+SZdLfUowS/pNrEhfPmUsqB2cFnYSshXbFHwM4PoX5YXW4NDn0KTRWM/symjFe7x9tze2X7pSwc/HP9D21CjaVNlC1tjY+eDt8hYDVQrDCf4FsgPRBHUIUQ9pFqQY/BZuEIYLwQOK+gn3aPZG+kn5z/To7pXibtWHyzvKDc0Zzs/RAN276/juyubz2vPXZeHj7lsHPh+5LGAq5hpjFeEeiTVNTAJarVzaWvVZ0llpWt9UEFMiUMJOb04USYJD7zF4HCMMTQgsDFIMBQbF9QXletEexfTGMcq/yYjCN7u+uoi8EbqWtzO5pr8MyjPVEOAP4rndMdo/3jruivxeB10McQr4B1MDVQWNC7sPkRP2ERsP2whJ/VP28/Kf8mXzvPJU8R3ret9M0gbNp83Nze3MZcsB0SvexOof8eTuneaI41rpl/lOEtQnjzaeNDQojCJhKgNB5FTmXkFhA2C0YHZfD11CV/NPqkgnRWJG7ELIOpMpDheyCI7/iv5r+5v2EOyz39HVrMsCxQrBvsDjvhq8Ob2vwffGhcaQwQ7C4cr11hrhS+X45G/l6un38rz+OgVnBmgFwQM8BLAF7QnfDdQOSQlfAaH8CfmS94/zlPCV7ivrYuhn48vesNkP1JjQHdCi0BLQ0dL02jvpaPa5+Sb2D/Od+JYE+BKPIRYvDjrmPOM7Ej0eRTRQxFVVV8ZYj1z3YL9gilkVTjRB1jZyMe0vsS3/Jg4cRA/sA1v6CPJK6cTjieHW4A/f19ZiznDIB8SswTjBzsV8z+vVydRP0MHOA9Vx3LLejd094P/pCfXZ+3b7tfnc+Fr45vlZ/ccF0Ao8B9wAB/sF+tv4CfZX9ej1QfWC8JbskupR6Objhd3G2xndiN1o3Zjcn9wa3lbj1ewr9u/6oPqB/3UIsQ8dFhscjSe7MaI2Szl3PtxFK0dxRT5D00aPS0VMokp/Q4M7CDC2J1wlzyOeIZ0ZoBELCusDGf8u+vL2G/Lj7VPpceby5Uvm3+X64u/fzdww3pXhUeU/51nl+uSR5LLlx+Vr5WnnV+kB7CnsFe6g8p/1t/VD8DXscOt37Bbwg/Oq94X4vvQk8KDs7OzV7p3xMvR29Rr1kfJA8f3w3vAc78Drouoe7ZjyLPpBAZIECQUBApL/swFqCG0Szxn9HrcgESGyIRQiNyVoJ/4oRymeKIspYSvxKjInqiLyHU8dOh2EHFQamRUVEpcNXAzlDIINVgsvA4P7iPeA+vr/TgJX//P3bvC960vsYfBR8wvx4evS5tjleOde6ADn6+HW3qfeLOUm7jXxDO6h5Kvdc9xM4Q/qYfGI9MLxGu567fjw4vXE97b3bflp/Y8DGQndCUQH3AIXAH0AbwRDCgkN0AsOB5oDZAQdCLwLmAtfCdUGaQU4ByELYA8SEk0Rdg/LDUYN5A8nEz4WIxgOGNAXOBimGvodhB+0Hr0b2RifGCMa8htxHLEZ4hP6DDIILQc6COAH4ARl/6X5BvfD9gT36fQD77bnTuNv43flmOZD443d+NhL1yHZatsl3WXc4dmJ1wPYy9tm4ILlJ+dr56znuOii7c/zzvkm/eL/3wNnB+AJKQs6DG8NMw/WDyoQDBFOEpcSuxCpDJMGIQNiAqoD+wNxASP/F/13/Z/+Xf+y/6b+E/5b/tYApgXjClAPIBKDEiETxhV2Ga8dHiAfIVkixySaJhgm7iMeIF8c2Rm5F6sVERMcDxMLtwa+Av79c/gD9OPvFe1c6k3owuWu4YzdQdpV2SDZttgd1/rUWNNB0/rVR9rx3Q3f/d2H3RvgcuWw7I/zNPj4+qv86/6fAn4GDwspD3oRtxIyE1AUGxXXFUEVyBOOEu8QZhCVD0wNCwmGA0L/nf0K/RP9n/wl+5v5ZvZh9Lz00vZI+nH8fv6jAdQEtgckCUwKmgweEOAU1Rn7HeIe1B1THMUb3h3XH+YgUCDVHDsYjRMrEOgNQQvvCJ0FYwHJ/I731/K57X/oJ+XB43TjJ+Nv4bLeT9u/2OrXM9kw3PPdxN9w4XHiieP55AbpHO9l9Lj4cvxE/0cCKgXFCCENDhGiFJQXUxriG6AbnhoHGgkaSRqxGmQachmkFjgS4g1fCrkIMQhLBwcF4gEy/kz7dvkh+KT3QPco97/22vUj9aL0XfQq9dP2cflg/bb/gwBAAJr/sP9YAMgCmQXkB6YIZwfdBUsEOwNzAygESwTMA8ICDQIvAR7/Tvyz+Uj4VPen98L4IfmM+DH2m/Nb8oTy6PNM9qX4W/nI+I74kvlh+479V//8AGACZAN8BGAF/gYNCPIIKwraC/kMcAwxC/YITghzCVYLUQy3Cz0JpAUXAzYBKAGXArIEFAVWA7EBOgDE/zAAJQGgAg8ERQRmA94BzAARAA7/x//jAP0BogIVAhEB9P77/FP8hf1n/s3+I/41/E77HPpn+bj4JvjD93f39fd/+Nf4pfi+94f2uPaz94f5bvu1+z37e/qU+ZL5tvpg/CT+5f6Q/qv92PxG/Zn+WABxAhYE4gRSBMUDjAONAykEBwWZBp0HvwdVB4cGowU4BWcFrQbwB6QHVQYKBU8EDAONAugCOQRWBfAExARlBIIE0AQeBu0HCQkxCiwKEgo2CfMHKwdhB2MIDghWB/UEDwIG/0f87frG+Qj5NPe09C3x4O3O64HqVuoe6tfp4enB6UfpbelX6ZXpCevq7IzvWvIg9c/3wvlN+6b8Jv59AG4DdgY5CRcLoQuIC0ALSAs5DAAO5w9oEMYPFA8lDjYN2AwODfANmQ7mDZYM1QrbCMQHVwesB+8HXwdLBmsEJQJ1AEMASAGDAuAC6wJRAmYBTQHMATQD4QQSBs0G7QdECAoI1Af4BnkGwga8B5kIZAjlBkMEXwEt/5r9ovwk+8L40vUI86jwc+5z7GLqS+iF5r/lPeXZ5FDk0ePE4wzkLeVJ5wTqSezH7WLvMPE089j1Tflw/Kn+2AAIA+sFNAhhCQQLfA0xD8EQdBIhEwsTRRJEEsASyxNcFDcUYxPIEW4Qlw/BD+QPKQ9+DiwO6QyeCz0KJAn1B6sGrAXIBNsEfQTiA3EDKAOgAmECwgI3AzEDJQOxAqwBaQEhAUYBBAHeAAAAkf5M/ej7Yfto+n75yPjw94H2cvV09JPzTPI38BvvRu597XfsuOs163rqlumd6Tfqyequ67Pso+0I773wuPHO88j1PvcO+SP7+vy6/aD+lf8+AbMDUQa8CKwKXgu9C7kMJw5aEDYS4BN7FP4ToxPfExEUPhSDFGwUABQYE48SPBLqEYcRAhEjEFUPbw62DYgMjgqQCGYG6QSnA8oCxQF5AP7+of23/BP85ftj+7/6/vlm+ff4cfim9/H2GPYv9Tr1CvWa9D70EPQL9CL0CfXz9SL3kvc+9wj3gfbs9aP1rvVj9T/1DfUJ9ZX0X/Rn9Af0V/Ta9LD2yPj9+Tz62vnp+Yb69PvI/Q//wP+f/0H/fACJAl4F4wfFCWoLcAxSDuEQQRPvFFcW0xYFF24X4Bd8GE8YjRfgFaoUzRNiE7gTXRN4ErYQ0A79DDwLyQmbB5wEwAEc/7r8wfrT+ED3vfWP9CT08vP+88rzZfOz80L0CPXj9RL2FfZW9pb2qvbU9iP3TvfO9y35yvov/Bz9j/14/cD8nvwn/Xr98PyZ+x35UPan9HzzXvPB8ifxce+67dTtJu8s8RrzFvRD9Lj0A/az9/X5jvs1/Cj8Bv2D/wsDUwfBClQNBRDxEhgW5BnJHdEg5SEXIj4icSJaIqwhqiA9HkUbgRj1FrkVgBQYE7EQQQ7AC8YJSQcgBGgAt/w/+ff1YfOH8CXuLOwg60vrjusc7PTsE+7Q7/HxQPTP9j74Ifkd+hL7W/wK/Z796f13/kv/9v/DABIC8QJ/AmACQAIwAnUB5v/Z/fz60/ff9HXyJvCN7fzqrOiT5gPmu+an6DfrKu1p7tXvlPHP85T2zvjm+rL71/wy/yUCHgbdCS8NdhBuFB0YvxvMH1cjTyaoJ+gnxCfEJn0lVyNSIBYdbhkTFgkTxhCQDvALEQoHCA8GHwSoAer+vftP+Az1cfIR8Lftlev66ZHpsek+6tXr4+1J8FHyOPVh+Av7Ev0n/pr/bgAzAd4A+wCxAN7/OwCHAKUB3gEFArgBOQEWAcUAFwD+/lD9C/rf9oHzEPGu7gPs1elC5/jl9OWC54jq6O1o8H7ykPSN9h75t/vE/oIAXgHKAbcCIQW6BxYLKQ5VER8U8RbsGaYd1CFaJMIlkiVpJGEiPCDrHewakheuE38PJwzKCcgH0QazBX4EFwOJAVUArf7N/Nf6aPja9QzzVfCb7lPt0uzV7OvsdO3K7ozw7PL79X346fq//KH9bv7b/g7//P42/qT9af0g/Sn9L/3h/VT+8P3V/QD+af6x/gf+D/y3+cf2LfRc8grwDu6c68LoIOdw5zTq8+1Y8T3zvPSx9p34xfvi/qMBvAKCAoUCLQPXBT8IrQrVDBIP8xH6FEIZmB1BIWwjqCR6JXQlnCR5IpsfaRzVGAMVXxFJDhALNghiBhMFgASYAyMClQBM/tj7Wfkk9xD0MvCv7FrpQuet5VnkTeM+4yfk5+Xf6Bzske9s8h71lvfi+e37Wf32/Yr9G/1c/Vr+rf/nAAQB7AAyAeYBJANaBMEEyQOBARz/8fyR+nf4a/X48VPuCOs06aXpfuwX72fxEvNd9HP2IPgZ+n78fP40/+L+cf/CAKsCEgU4CDwLgw4eEh0WeBtwICslsygWK8cs4iyiKxcpFSanIh4elhnaFIoQ5QwpCX0GpQTOAzkCNADt/dr6l/cl9FXwwOxI6dHkc+GD3kTc2Npp2kfbIN3034Xj7+cs7AHxYfWS+TD9GQBbArYDKAXEBZ8GVAc3CDAJowl/CrsK5gpKC2cLJQvCCRcH/QOrAKP9zfpt91Xzw+6W6q3n2OeN6ebrre0/7obu8O6o8ALziPa5+Lf52/kd+qP8y/+iAysH1Ap4DhUS9BbzHP0i+ye/KxQusC8wMDwvKi2DKQYlDyCEGmsVqBCvC0oHZwOqACD/DP3++mD4YfWK8kzvFOyZ6Ljk7eCS3bva5dir13HXUdhD2tLdS+I554fszPH99sj7cQDmBAMIhAreC8YM5w3HDtoPDRDND/cOIQ70DY4N5Q2dDWgLzQcyBBMBlf1u+pj2+/EQ7SDoM+Xp5EnmbujO6QfqoOpR7I3uXPG+9CD3Jvhq+Or5Hf2QABEESgesCuYOGBMbGDgeUCTSKUAtsC8HMZIxpzCjLQIqFCVhHzMZDxPdDSYJAQQ0AE39K/vc+c33s/WD80LxEe566ynpC+a44l3fZtxA2k7Z5Nhr2XXb1N4L4wjoz+yN8on4ov3mAl8HewsHDhoPPRCUEQ0TuxPaE5ETkhIvEewP9w6PDjUNgwo6B1QDGQB5/Dn4ofPF7trpzeRp4fjgw+IV5fLmRuh76p3s+u478uf1xfjp+Tr66foK/a//LAMlBvcIOQxqD4cT0hlNIeMnkSx9L64x+DFEMbYviCyEKMEiARtJFLEOogn7BN4AXv6g/Nn7FPs3+nT5zPcU9Qfye+9p7AHpxuXI4j/ga96c3DLbHdx23nThAuU86aXtpPG69dX5DP5xAsEFPAcjCKEJ3Aq5C1AM6AxyDRIN/gseCx8LEQqJB8ADYf+V+5r3QPMH73nqO+UZ4KfdMt+543np6u5S9DD6O/9CAz8HCwsBDdAMSAxyDK8O9A8oEawSiRPdFCYVQhY+Gdsc6x9zIhIkPiXEJGAieh+XHDMZ1BNeDZkGsv/H+BXysew66RfnWOUz5FnkkuVl5+jnaOjG6YjqLOtj6xrsqu2l7jXvW/CD8g/29vkz/u8CDwjWDIsQWhTuF0ka1BomGi4ZVxi7FokUwRFVDkgKVAYlA4oAiP5B+xT3E/JY7dLoWuRd4JTcK9nS1LvQ6czayfvI9cuF0krc4+YH8eX70QXyD0oZ9yEIKTQulTFBMggy0TBxLmsqQiafIngfbBx/GawY7hi7GTsa/hiqFpESGQ1dB1cB2frn8p7phuGt27LXktTX0j/TBdbT2gvgyuVm63nw/vO59hj5gvq/+zT8Tvwy/lcAqAJUBU0I4AyWEYUWmxpPHmchXSSWJj8ntyZCJOAgbBxSGKYTkw0OBxAA+Ply9LbuuOlw5Dnfhdvh2NrWm9T/0Q7P6swXzGXLMsvBytXKMMy1z0PXnuK08Bf/xQwyGWIkAy4qNsg8X0GvQsxAUTzfNXgvuyiKInwcbxdRElAN5AkwCKoJPguwC2YK0Qb7Abb9HfmW9A/vWegt4qTcXdpJ2LzXudi12+/h9Oj371H1Ufmw/CT/FwFdA/0DwwOWAvkBzgG4AswDTQTgBmQL0BFeF5wbKh6SIbglwig7KcgmjyKgHUoYThJLDAUFxf129uDwnuwi6Mbibt0D2mrYZtef1P7Q0M1YzN/LbMz9zMvMDc0bzwvW9+E48JL+VAwoGTIlXS94N/A8gEDYQfI/jzwDNgQueyWDHWoXkBFrC/oEs/+n/BD9l/+hATYBXv/o/PH6o/mN9vXx4Ov65nLjPOE44JrfmOBQ4wHqgPIU+lT/PgKwBD8HHglCCagH0gQsAlMAEQByAIoAswDEAiEHMA04E+wX7xt8H2cj0yWEJcsi5x1OGA4U0w9IC0kF/f2M+HD0DfH17BLomuNC4CDdWdqc1ifSEs6LyofJXsn1yVbJocjGynzSDd+k7RD93wpzGI8k4y7zNh09hEDbQLM9TzjLMW4pQCExGfcSDw3yB3sCV/7a/Pj9EgF6A54E3wIGAMr8D/qx9d7wBuv85dji3+Ck4ArgduG75JHryvR6/lMFoghrC1YOORAmEBQODwv2B7sEewO2AqUDaQTTBZYJEw/eFAUZ2hu9HvYirSVIJnIiQx09FwkS5g07CccEYf6v+Cvzmu/C7E/pleUo4qnf3dst1gHPq8ioxJ3CVMF0wLm+273vvn3FUNNP5BL2KAbuFKAikS5jOP8/LkSKRaRCaTwpNP4pciENGQUSwwzVCPoEvQGPACQCMgdOCykMnQnIBSgBS/xY9vHvcems4s3dItvs2yrebeE95rfttvgwBEgMHRGgE58V/RadFZcSbg4vC04I2gXBA54DBQVdBggKgg8aFeMYKhoOG4Idsx/dHpwZohKAC7EFywCj/MT4v/N17wLrfehH5xnm3uRC4uvfrt2e2SzU7M7HyhfJx8hPyGbHy8aSyHnOMtpN6qT72QsfGXskOC5xNcc6OT15PPQ4KjJsKe4f4xaQDsUISAUVArr+qvuq+ub8CwJTBiUIqgZRAzX/mvv297zzeu9f6ofmJuQ75Yjofeyv8R35PwOkDWwVkxohHT0eSx5qGh8VzQ92C6cHfQR4AuUB4wFcAsIESwkpEIwUGRYFF8kYwRnYF4kSfAv6BPf++fmI9R7yru6j6+boYOjy6ZbqqOm752zm3+TU4Ynbw9Qk0MDNFMyiyaHHTsdryYTNktbd43vzcgKwDgMaDCSnK2ovhjA7MPQu/CrxJDsdQxaHEXMOHwytCaoHIwahBqEGewm/DWkQfg8RC/sGyALI/s355vT28Nruj+wq7Jzup/LJ91b9BAVADUYULxk5GzwahhgcFSQQ3gkLBAsAt/1Y/I769PoZ/WsAxQNvCO0N1hF0EwsUkRVdFocUEw+WCdoEMgHO/eX5AvdX9FLy6fBg8HXvL+6s65joVOWB4NvabtQ2ztjI7sW+xP3DrMO1xBXIKs6k1ifiC/BF/hAL4hU1H9AkKiiEKSgqsilyJpAh6Bw0Gh0YoRaiFRcWhBY8FqMVrxXHFokX/RbEE1oPYwrJBEP+PPjf83vxMfC17/DwWPRQ+ZD9NwIwCGcPnBT6FewUtxI6D+MJ3gPl/Sj6kPe/9cr0wPWi+Lj7KP+LAk8HkgtgDksP+A8iErYTZBL3Dc4JbQeABTkCnP+0/l/+XPzF+ZL42Pfv9bvxlex157/iN9w61eLOnMoayBXGFsVFxU/IWczF0GDVV9365y/zV/1FBgAPEBUYGfgZCxuKHJ4cjBoLGNAX6hgRGtYZZxo7HFEe9h1gHIIbQRzBHFYaHhaUEagNSghWAob96vsA/Nf7vPvy/XkCcwbiCdsMlBDpE60VPhTiEHQMPAdlAfb6wfZG9BbzUPJn8hv0cfdR+wz+4wDGBIEIQQtbDPQM0A33DJAK0wffBbAE5QP2AkYCTAKwAjIC0ACD/wX+Ufv39WPv1Oj/4hrd+da/0cXNKsvByZfJEcsuznLR6dRK2cLeSuUs7L7xxPbf+rr9p/9VAHUB1wLSBKkGuwgbCxcO+RH9FOAXFhsZHkkgsyH7Iuok8CV6Je8jiiEXH0cc4hkDGE0XIxjdGf0bvR18H1oh2iJ+JEslZCTeIY4cQhVTDXkF9/0Q94Lw4uqw5qTjGOKq4IzgX+FY4h7kVuWI5ozn2udp567ml+at5tDmgOeD6SbtkvE29eb4nvzZ/2gDMgV9BYkELgLx/jf79/bD8gHvJOuP6K3mA+b55ZDmkeiC6/PvNPUe+a777f14//z/rf4A/fn7Wfvf+nT7eP2wAMAE0giADNkPkRMIFl0Xvxj+GdMaIxp1GIMWKBRwEi8RGBB1EDUSYBQ2F8AaaR5nIRwi3CHpIRohAR8vGwYWTxAGCkgE5v/3++b4Jfbc88Dyp/Hr76XuHe5s7YLszuv06/vrfets6hXpSejD56/nTOgk6uLszO928+72KfqS/aIAtAIoA9oCEgIWAFz8Ufia9MXwTO3X6ZDnJObB5N7j4uPK5jrrOPBI9PL1ZPcb+PT3b/e79p/2uPaj9gj3EvoR/68E8glEDngTPRhBG7Ed2h+fIaIi6CFmIDke/hvlGR0YCBhdGJsZYRuhHa8gwyO4JZclHyTUIQEfUhtWFksQIQlQArv8fPel83/wT+5r7Gnq4ehn5/Xma+Yp5mflPuSa5ObkxeTL5DvlCeZd5svnduqm7fPw9PPm93D7WP9aA9QFOweEB34GngQ3Aiv/O/yL+JT0DfE+7tTsjesS6ojouueO6fLs4PA29GT1n/WW9W/0R/Nx8njyMPNG80L0mvbm+g8AEAXdCcUOdxNJFyQaZh3hIF4ifiJIIYUgWSCnH94eLB61Hg4gjCEZIwMlRicAKdgosSY/JAEhlRxvFloPUQjoAOD5YfNQ7jXrIOkV53nlY+T249fjseNn47zi4uFd4czgfuB84Q3jxeRx5mXohuvK70/0g/hJ/HcAZgTEB/oJbAvZC/IKNwlwBsEDEwCs/CP59PW48wfxbO7B67jp8+i16ijulvEW9Nz0HvTu8oDxbfBE8AnwWvD28EzyoPXp+qMAuAV7CsAOKBPVFi0aZx7vIZcjhiNsIl4h1SBPIE0fRB8MILYg5SGUIuojWyWCJngmAiQSIe4c1heVEcYKPwQw/WT2cO/W6R7nn+VR5JTi6+D03xrgy+D+4DXhaOF34Y7hVuJm5Afngenm6xju7/Ao9Vf5UP1GAbsE6wcjClULXgxRDQoNfAuxCAYF9AFz/r367vdB9Qzy7e2j6QLn3OZv6cjsn+/O8bXxyfBM79/tYu1u7Uruke5b71vysvco/gEE3gjkDY4SsBarGr4eQSPkJWMmfiVoJKIj4SIUIiYhYyBnIPwgjiGlIcUgCiDGHqsc9RlTFgcS3gyYBgUAWPpV9S/wOutc50TlPOSr4x/jnuLv4nbjYOR15avmk+cz6Cvpjuqg7Zvwm/K/9NH2IvqZ/Q4BjASdBk4IGQk4CVcJkwkrCWoHYAT9/8P71fft8w/xVe706lvnDOMs33TdR9/D44PoEewD7cXscewp7L7twPDW85r2L/jL+o3/YAbJDZUTcxjnG8Ie1SGGJZIprSyBLhou9ysnKjAoYia8JHkjiSKeIMEeTRx6GcUWQhQ1ElsQjA2YCQIFQv/m+GTzIO9J6+PndeT04TPhrOCa4Evh1eLz5B/mTeex6GTqV+wP7kXwS/PV9lL5Gvtn/U8AmgPVBtQJOgxjDeUNqQ33DIAMpgs+CnQHOwPa/pD6U/bf8jbvGusK5y/iCd5Z3KXdPeHX5Fzng+dk5sDlj+Vf57TqmO5j8nf1BfkI/zQG0Qx/EuwVmRgZG/Ud8iF1JnkqpiwrLJMqbSldKF8n8SVNJKYioiCxHeYaAxj4FEESbw/gDMkJMwfSA8//+fuu90z0WPCD7PHoJOat5G/jlePh48bkm+bK51npZesf7U7vm/G386n2mfn++1/+agCOAkwFMQj4CrMN9g6QDlsO9g3iDZQNQgwCCqIF6ACI/Pz3PPRQ8EDrh+Xm3wzdh93J4PvkVecB6PDmcuV55J/kNOc9623uG/FH9Ij5YAEWCBYNyxBRE6gVcRdIGrgeWiNAJ3AomCh2KCMo8ye4JasjziFAH6gcmBjBFN0ROA9iDRkLcwj3BZYDtAAy/dH5AvfI9HDxK+2i6ZDnZ+ZO5Q3lmuUk54fpR+sx7vrxzPSp9hb4Zfpj/UkAMQKXA/kEyAVhBhAHqAjzCVAJogjHCPYIHAkwCAIFlgHl/RX6/fb/89nwrey05r3gnt7k3yXk9+hC697qLOlq50zmoefh6pDvBfSd9g35u/05BfAMQBJeFUYXQRlWG3cdACISKMEsZi4qLSUssyvDKncoMiVCIv4e2xrFFUQQjAuUB1sDJ//v+/L5A/gQ9ULxMO1c6fjm0+NP4IDeQd0H3Wnde97I4IzkUuiN66/v5fS8+ub/4gOcByELgw0yDpcOag/dDwkQpA+xD14Q5Q8jDj4MiAsGC10ICQQy/kr4+vKL7fPpx+Zm48feNdqJ2XLdoOXM7a7ytPMp8jPvKu1f7mPySPjj/IH/0gE1BqUMQxTFGnYeTiG5Ijsj6iPIJrYqDS1ILYYq7SbhIywgixthFigRkAsABQf+4fed81XwYe3A6h/pD+nY6Vrq5unH6PPnsOZT5bHkiOUH6MnpDus37V7xVPf1/KsB7gWeCjQPDROkFlIaOB4eINMfQB64HOMabhjPFNYQPg40CmsEAv6r+Bv1x/Ci6rTkAuDL3DjaLNcx1EXR/8v7xCfAP8Oj0H/k0/niCmQWdBwiHuMbAxl/GGcYRxYMEnARnxfLIUIpNitwKT0l/x0cE54IJgOqAmsDigPlBIkIzgt5CzII8gR1Ahv+Jfal7Azmq+Sw5gvqFu/+9hj+tAFHAPL6lPST7LrjGN1r3bDkSe479qj8SAOlCSQOdBDPEVgUKxcvGasbsyAgKHEtXC6vKXsi0BlcEJMGmfxm9cjviuop5WfheeEl5FTkReE83GbXMtL/ywPJxcpG0H3ScNG20XjZOOzMBdcgMTW2PW86FDDqI9kZSBOIEPMQ/RHXEgsWhxyGIOAbqA6sAPP3H/Lk7Knr3PMUA6MP1RQkFcETThBTCIr/F/wq/dT87/gE93H7IgXnDPIMdAf2AJX6xfOK67fiytzE2fXZJN1N5O/upPct/K/8r/57BUgMrxCcExIaCSTjLJ8yBjRvMlosayIDGKkQcQtCBDf74fK77lPs6uhA43HdHdm/00rN3sYrxPXEEMetyY/N8tH61O/YW+Xi/zghHz0kS5JNYUn8Pf8tqSAPHG8c4xgMEvEORxQeF38N/PtY7RbobOOm3QjdWujY+DgE8ghDDAESIhMuDfgE6AQJCmcNxwkSBcoGdgviDXsH8P94/Az70PQM6TLf29u62+XY3Nd43hDqkfBC8B3wIPeMAp4K4g4eFZog8iv/L/ku2y3MKo0k+RmrEPEMSgoQBBL70Paz9xb2nu3H41ff8d1j2SfS4M6Q0n/WsdMWzwbPjtOo15DdG/O3GTJAt1JJUCJJwUIVNOgcUgxfDrUXzhVBC9oJ7RPxEwAA3+Ze3a7g797F12rcmPN+DqAa8hc8FiAW9xDqA7H7awOOESYX0A8sCrAMjw+uBpX0XOhn5WDjMt3O1/nZ5OBl4kjg4eJo683xhO/R66/wA/6mCs0SdhvZJOor+SoCJJ4duBfwD/wFlwEQA/4ELQBv94PypfFL8QrrvOOK36XfIeCQ34PhTeRN5JTeV9hb1nrb5eoGBvQopkdaVgZWw04kQBgqtROPCGINOhL8DP8FYQp+E18M/fTO31TdI+Gk3a/avOe1A4AX1hl7F+ocwx05EJf+0PxpCxEW3haGFSsZ/xUFBQTwFuWk4W3YN8/pz1bcwOXf4xPh6eUm66Llwd9+5hn4wwUPCeUOMx+ULwMv+CD2FBYSWBBrBtb7KviT/T8BNv3Z9h7xKu566eXjGOA84SbjtOLj38vdsd8F4TngxdpD18Hc5/OVGaY/sVmqYHVcJFIUQIsmBBLUClIOFREzDokR2hv5H+8QMfiV6lXpWecv3ZzbkO8GDYIfSiBkHr0cpBLs/j/wffR9A0QMjAv1DpQWRReKCeDxNtyPzGrAH7qfvcvGQdOk3nbpcfEG8D/o3uCJ4b3oEvVGBfMXfSgQLporWCY/IewXYwf399XzT/gt+ITvt+Q+4wflpt+w19bUv9qW3wLdqdm+3g7mA+TG2OXQ4dtB+QYfcD/oVWliA2eGYgJPjTYMJZ4ikyWwImUgZibOL5kmyQvW9cr1o/2l9nHoMur+AgIWxxWBD+US6xbDCvL4LfYkCIwTXwx3AvsFhA7qCPn1ueNN3GfVgMqzwhbC2sb6yr3OdNVF3/HnXu207i/sC+yv8DL6GANTCbwPLBeiHGwanhUxD+0HQACN+k73zu+Q5fvb3tgQ2dzW3NOX1O7WstRt04jXJd9a3/ja0uU8Bh0siUG9R7tMBFWcUi5BJzLOMk87IDkSMLouwzg1OpsmRQ5ZBPkI0gQi9jPvfPw4EIAUiwwtBywJ3wNn9wH0sgIMFXIX6g2OCgISWxF9AbXtP+Ml4InYUs4VzIfTLdh01InQA9QY3NDcddnq3KjpNfYp91T0vfbT/Fn7JvSe8Z31evZ17hXsi/d0BsQDkPLN5GfioN6E0JnFU8cS0T7UONMC1szbRN0T4JXx2BCKLe45Pj9jR/hM2ES6NrExaDaiNx0x4i8oPK9G+j1EKbwf+CSlIlERrAIwDSEiKCZyFWkIdgpGCBP4DOfk7cUAxAZs/bv8nA0OGc8NiPWo6Pzm8+IQ2e7WQt+P5pvkqeCx47/lZ99J1gfYaeRo7T7um+6v8Z7xC+gV3sncheHQ4UbftuQM8rr7IPfg7OTkUd9T2H/TrtUP2sfbw9wR4rPmCuNQ3kDqkgbjHpUmByrzNl9CujsZLHkqczaBOJ4qmSPHMjtDwTo3JpsjzTQdOqMq9x+dLCc+BDrxKusnBTDNKBUQMAAZCH8TNAsc+g31pPv590Tnntpp3ZXlOOYx5Kznje5Y7mznO+Qi6K/sbOsj6Ffo8Oul7Wrp9OP13bjXLNFMzonRbtab16HUVNR01vrXrtNwzgLOYNFj1fTXbN5e54vtDe0/6u3uav1ZEEYdwCGAJRYt6zI/LB0euBSVGG0eUxrKFkcgtTLoNecooB6rJigwnCiAHakj2jrHRcM+OTa5OtY8ZC75Hd8cHie4IkYT8QkUC5gEFO2D2ZHXkd712TjRTNZ/5RjtjuXu4cDrjffQ91H0xfsKBycHR/fH6Kfied4Q1mvMr8tQz3rS3NBZ0BrRh85Zys7GSsg3ysbMxdFC2vfhWuTB5ujuJP/8DgMXHxqgH0kpei0tJ/Ucchq+HiIe9BbCEa4YkB91GLMICgOqDnAZYRniFhkkxzdhP2k4BTGJNFg1Ty52JtcoWjAlL+El0R2FGCwM6/pB7tnqi+o95lTlXeoW8Hnvl+u67BnxEPOs8mz4aAFNBgICFPtn+ez4RfaF8Cntn+lr4/napdKtzZfI9sO2wiPH9MuSzLDM/NAy2NPZDNYY1w3lvvnfBr4LVRQ/I+YsKignHVcbcCAuH9MU8g5aExkXMg+WArj/KgWiCKoHeg1xGyIpoy6HMbI2XjfiMCUpESpMLUUqzSFpHXQdkRbKBiv4y/Dr6pLhV9s14Czqke4V7BHtm/LQ9SDzVvRE/R8HxwutCocOORJ4EI8IqAHy/rn5L/Ax5XbizOG/3PbUQtFy0pHRQ85IzZ7VGN4e4f3gq+Xj8X38AwbgEI4eFyQvH8sXGxYtGIITyg/4EMMXrRbXCooAefwA+3rxa+ra7A740wH3B7kSDSCOKQUqrisBMIAzJjHkLZQw+DAgKRcakg5sBsf7/uw84jvgL+Fe4eLf9+D04cTgVeAa4ZLhguHh5Wbx4/05Bc8I3w3VEkgRkglHBLIEIwMA/f73Ivea9lfxnOn05Vjjg91f12rZ9uML7P7uhvPn/3gM4BH2EfMT8RlJHdEeZiGXJuMokiVgH1IYDA+WATf2ze8c7rDqiudN6Int9vXP+4oBDATtB5MMPhHBFIcVexqAIbAo/SUWH7AaTBpKGJQNgQWSAYABvvzZ9LntReiS4zfdVdsB29ncQN7F5Cnt1e8T7cfoHOtP7Ufute3m8Dj3WPod+3j6RvtY+gj69fuD/0wARP6f//kDogdoBpsDeAR4CZ8NpRD+E1oYjxwnH7oheCDhHKsYExY0FDAQRQvMBx8HtwVrA94AxgCe/2n9I/x4/Fj9/vsZ/Cz9wv9p/8f/KgIxBQoH9QQkBV0F4wRnASr+P/1W+1v31vED75/tzOux6ins7O908nHxu+8B7xHw4vCF8bvyl/Pm9M/1PPUY8tXvLvDz8VXyzPJL9hH+iwXvB5QJhgs3DWULdgoXDk0T1hYnFm4YrBuKGzkXrBG6EJoOtgtmCbgKsw0FDTQMywllB3kBJfw5+x/8ePzy+t/9wAJaBEUAN/76/1kCfgFY/ob/2wF8ApL+3vqD+A32qfLU7kHuTO4z72LwMPKk9IL14/bE9l716fPA8vP0mfbr+L77rP8WAzACHwBx/rz+Nfwz+f73ivm8+4z6Zfk0+UX6RPlZ92D4F/31AWsG9QqMDhgRohAxEJIQ5hCFELkQ+xLHFFwV2BNkEQkPfAvNBx0DAv7F+J31SvZB9uP1u/QJ9vb4vfkn+3D9WwI5B44Kfg0VD1kPhg4VDYoLdAksB4YFpgQ8Ax0Akf08+8D4a/ZN9O/0xPVc9cv0QPT99Ir0Q/V99s/3Tfo9+2f95/3X/HH7Avro+ff40/e79ur1vfUG9dD0/PVn9nv2G/ar93j6Rf2M/2cBmQSwBu8H7QghCyINnw0iDUYNWA49DngN7Ax1DN4K+geRAzAB8f+U/fP71Prp+nz7XPyh/VT/jwCWAEkB+QKNBAwGLwfZB24ITwhaB0UGcwRgAvoAPADk/sX+VP/j/0EAYP7m/Lf6dPmj95H2J/jL+rn9Df5K/tj+DgDg/nz8ffuR+0f7G/mm9+33Tvmz+PT2zvTw9Nn1mvag+LD7GAAiAl8DoQTLBVAGGgYhBicGwgYBB/kHeQm0CvAK4gmFCGYGfQXfBO8DwgP9AyMEeQORAokB6AAzAIz/yv60/un+h/5y/sb+RgC6ANX/q/48/pz+FP5G/c/9GP9MAHEAJQCUAJABvAK0AjQDggPXAysDYwISAkUB3AGSAWMBpwAnAMn/a/6i/M36Hvp4+TH5Y/h8+LT4cfjl+E35PPkH+F/4CPr7+2z9Jf7V/wUBywDk/u/9X/+vADoA2/5i/8AAbQFCAkAD/gOHBLYDJQOOAxoEwgTFBMYE3gSNBUUGYgdeB5IGmQX6A1QDQwLYAXEBlwB1/6H+wv52/s79eP0I/or+Bv4c/b7+kAAnAekApAAlAY4ADgBo/6AANQIdAkcBJAG/AjECpwAiADgAMgBX/73+WP8mAGr/M/7p/Mz6YPmo+Yv6vvvB/GH8VPs5+hT54/gU+WX51fn7+f/5kfom/d7/agE3At0BqQEcAmgD6gQHBvUG9wZlBWcDJwMCBOwE/ASCBIcDawJoArUCMwNrA2wDIgLg//X+7v8bAQUBxwA0AQ8CIwHk/wIAsADAAPL+Lv00+xP6qPrr+v37d/vS+kr7ZPsC/Tb9kf3W/k8AtQCZ//D/qgHiA18EpgQzBbEF8wXPBSEFtQOfAZ3/4P4y/eX78vrg+h/6CPkn+Zr42/mZ+kj6jvol+//7df23/6EBuwIBAxcD4gMyBVIFeQWlBg8H+gTfAskCmAIKApwAeP/V/if9oftt+/v7Wfzo/LT9qP73/18BEAKQAroC1gHAAfEBwAKaA7kEmwUNBIcC9QD3AEYBxACA/xH9mvyU+yH7Fvzd/AP+Dv7f/dz8V/1eAJ8CtQT1BDwEWAOwAlsD5wJdA+wC2wGfASoAqf+N/xEAvgCN/4f9evuK+oL63/km+rH6rPrn+pX7Ev32/pIAUwFeAfgApwCk/z0AJAFZAf8CDwJPABj/hf2R/Lv7D/xF+w/7QPtx+Gv3gPY69sH3lfip+r77Wv05/pz+ggDgAeADogX2BooHIAgaCRkKjAssDNkLzArPCNIGnAUDBq8F+QRKBe4D5gI2AU4AlAACAT4CBAFIAB8AXgH5AgcDTASUBAsFDQUtBDUEcwN5A1IDXgK8ATcAWwAtAWQAT/9k/sv+/v0r/bX95f1Q/5T/8v+JAOUAOgEiAPj/9P7R/jj/kv49/oj9M/2Q+8/5yPhd92f2UvVd9E3zHPOv83Hzf/M581H0vfVP9sT3Y/nz+9r9kf9NAWECHANaA0kEkAWNBjAHKwjwCJAI9Af2B8IHUgcaB2gG8QQjBJkDbAO1Az4DOwRABLgCfgFHAXQC9gIxBQQGwwShBCADCgPYAYMAcwEoAC0AZ/9Z/9UA/ABzAjIB5P+V/iD9Ov4t/tD/6AC0/5z/z/5H/3H/c/6X/in9hPz4+5z7cfwe+6v6f/lC93P1lPI/84T0rvR89QT0KvQk9TD2/Pez9zv56/qW+5388Pzc/0kCwgMCBesDoQQgBcoFsgfWBxsJJAoBCgAJPgdZB48HlgdlB7YGLgaHBZ8FgwVoBb8F3QVfBaMDMgK+AfMBSgJFAuQC2QFgAEL/4fyL/Kz7LPwQ/mb9ZP1s/M/8+vsl+oj7M/ts/Ir8Gfwa/LD64/sX+xz7b/t5+t/5t/d499j3rvg0+HT33Pe39V/0XvMD9Bb25Pau95v3uvew9nv2c/h7+/3+WQDhAFoBiQLXA1YE2AWXCEELegtMCoULcg1xDzoQiw9REF8OOQ3PDFwMKA7qDBENHwy6CskKlwjLCLgHRgeMBlUDEANdAhkCOQCa/qH/fP82/+39Uf5R/vr9Qf2l/RIARf84/wL+bf3e/IP6Fvpv+Zv6Jvpo+DD4lvcy+P32uPQS9CPzXPMs9CH1gPZO9tr1kPVv9WD1w/TK9a72yfb99mD1AvYn98z3Xvje9kr3f/fU+UH8UP5VAjIDrQRvBZIGnwiICWgMSQ4mELsQ0A8+EdARmxI/EsYQZhCFDugMywp2CVYJAwgNB8EEBgItAXT/Uf66/a/8K/z6+v75sflM+kn7KPtc+/j7avt0+/L68Pu0/cT8d/su+t74F/hd97n2Bfds9yr2ZfQf9Zf0X/QN9KXz8fN58hLyZPHF8rrzj/T59f/1FPjw+DD5oPq9+2b+0/87ATsCqgLaA38CXwQUBg4IgQqXCjAMswuXDNYNLQ+vElETzhMGExkTchYUGI8acBvIG0AbgBdYFvMU6xU3Fj8TLRK2DYcKkwcZBR4FiwGm/5P8v/rA+wz6KPs0+5n6Xfor98b2pfV/9dX1bPS59Cz0/vOx8gHz0PM28nXwyO+c8FzwGfBj75Hv6fCj763vMvA28TrybPHY8qPyIPRm9K30QvfP9/r6Q/vv/F0AJQEzA4YDhAYDCaEJfwxFDHkOHg/zDUoO2gwaDXIM0Au4Cy0Ltwo6CmYJUAnFCNwIHwm1CIsJ4QcIBjEFmgMrA7QBuP9r/or8ePvb+J/4AvgZ9333hvXL9d71XfbI9o73LfkN+t36APu0+z39SP6N/yQBmQK2A/wCRQIsAkoC9AGqAlQESQUBBScD5ADdAMEBDwMRBd0FdgbnBJAENARlBDYFEgWcBs8FawX4BI8ExwbeB18IDQjKBroFpwQwBnEGcgYGB4YERQJAAFD/K//j/i3/v/+m/+z+YP1q/Yz9If0Y/bf73vwn/ev8uvyO+3v7s/pb+g360fr8+476efmK+Gz4Ivn9+HT52fkF+zn6Wfmm+dD6CPy/+8r8L/2d/WX+7f7X/lr+U/5q/Wr7bvrb+ar65von+bH46PfK9xT3pfZm9xD4cvlr+jH8Vv/vACECzAHrAZ4ECQYXCRkL7QzpDUsNBQ05C3sMjA12DZsN6wuOCl8JAQkzCQUJkwkcCQ4IMweCBugGOwdMB1QHDAbVBPIDnQOlBLUDdwI7AbIAyf9u/cf8aPw0/Yj9vPz++yf70fpC+iT5BvnQ+ST7p/xC/SD9XvyF/Cf93/3l/pX/g/99ANkA9QCXAL7/PgCx/wsAhv7J/br+iv9HACL+pfyK+2D7r/sG+4P7yfzn/Zf9OPy3+4/7sPvq+4b8jv3l/Y/9QP34/Zb+e/43/Tv8Qv3o/tb/Nv/d/kX/PP5e/dz7j/u3/E79pv1p+9z67/p7+7r7Efr5+dz6IP0p/Xb7yvpm+0v97v6P/wkATwEvAzUEQwS1BJQF0gYHB8IGzgYBCMUIGAlDCVIItAanBJcFqAeZCJ4HmwYNB0EG4wUzBQwFDgZnBlAG2AMqAhMDiQWIBlUDRQALATgECQV7A4MBNwFjAYUBbQHJAEEA6v+jAOUAnwFxAD0AqwB6ADICfANzBfYHdg1gENYHp/f+67jvWv21BWoCAPxs/bj/tvpT8rbwDvsBBCYCB/ao7OrwYvlU+/jyTen56HLy0/vi/jYCjQhGCdj9BfFk79/4OwGmAUcB4gPYAcLzFuhX7TP/MggS/gHzGPgAC60R6QND82b1TAM7BKv5/PZ9DakkxyBXBdzyeP2pCggIyPli+EQGjAu/AJnxG/QB/7T9UfKA7O/5/Aj9CbwBCv7vBDcFMPtd8jH7qw0aEowHyPnA+yYGrwex/h34vgG4ChQHK/v690UDwwkIA/n15vWa/l4CcP93+lX+5wH0/zH9Xv8KCFALiAbBAfgCrwcABkwBcQHwBhMKLgRN/kb/ewSsAzL/qQDDBuAL+ggnAlACSQfTBfX8nfeR/RwGfAgcBKcCNgkYDVkH7f37/+8HfQnGAFv3hPpqAREDqfkm9Fr6D/5H+WTvxfBT+O/8Xvg972TwHfQu9PTtUe1Z9Vn9+f+d+R33sv0/Bw4IiADe/FQB4gZwAoz52fo5BtALoQOF+Rb8SwX5BC/7afZt/O4DaQMX/TD8+ACOAvv+n/yUAn0KTQzoCLIGWQvKDZ4IIAKtA+IMlxBFDcAJsgzBEDcMzANt//QERwikAkr+q/9xBmYFtfys9mH4Uv7d/Jj51vveA68IxAQf/mz7MACY/134mPWL+rsB//+J+IX16/pJ/9f5CPNd9DT64/rF9fDxqPUV/mz+WPcO9SP7NgKC/zL5jPkQAvwGZQCZ+qQAewucCjYA8/oQAdwFYf/k9d/3VQOiBmT/V/rG/qoDIwAx+EL3Nv/QAw0AQPuj/UYELwX4/+b78/6KAzQCv/1w/q0EvwhZBqv/yv1m/mD9L/u0+ln/3wGzAHL+6/3k/0z+G/so+2P9t/67/qb/QwF9ATD9/vcA9yb6+/4+AbcBpQJGBKsFQwPJ/1f/rgEsAxkCvAK+BDAI6AgpBuMDLwOjBMAEiAUjB2QJaQk4Bs0DkwNyBb8EIQMFAuQCdgT1A6QDYgPiBMgGpQbDBD8D9wNpBVUFYATmA8gE3wX3BIkDJwPIA+oDrwKE/4792f2E/oL+zv1V/ZH7K/kI+Bb5HvqJ+WX3KfdR+sv8Df2z+0T7Jfy9+9D54vh0+gX+sv93/pT8ePsO/P37OPs2+2v8N/01/N36q/oa+yf7d/oK+tf7Mf7o/jf+p/8nAW0BegC//ST+hQBgAk4CQAJQA6EDQgNdAUYAUwEgA+ACrwEVAnkC6wPyA3gC7QH3AWABtP/zAF4D3gTGBKgDBAN5AwYEDgLHAe0CuwNCA24C9QLaAwoFFwNKAd4AmAAMAbQAagFFAoICwQGN/xv+7/0O/nr+EgCZAJABEQNqAjwCfwHnADEA8/73/cj9wv+qAXkCjAGwAbEBrQDL/4/+3v/MAD8Av/4k/rz+AP+w/4D+Of4G/4wANAHdANIBxQBXANT+X/1Z/c/9Tf+j/3sBRgGEAJ3/RP6g/c/8yf2H/Y/+N/8d/6j+Ef3L/JP8TPwv+7n7+fwx/uH+//3F/eT8wvyK/FH8L/1N/pT/9P7O/eX8v/xt/Lv7gPwB/qb/dP+M/qP+w/93/479H/3S/WIAaAHFANsASQFQAtMBowGGAsgDEQQwA7wDhQSzBHAD1AKsA/MEGgZZBdcF6gUsBZkEoAMiBCwE8gOSA60DIwQKBCkEmQOHA3MDtAI0ApEBvAHFAe4AFgDR/6AACwFuAYABCQHUAGQANv8c/Y78mfxX/JD85fyp/Uf+/f65/oD9Yvwn+yf68/lG+n764fqc+0P8kPy+/FT8Bvzv+4T7s/rP+eX5Kfqr+hr7AfyM/Az8Vvwt/A/81/xI/Vf9aP3L/B/9y/0S/v7+hP+LABsA2/+KACwAlgAQAW0BRQGQAb0BdQHZAbMBxAHyAGcADgFwASQCswG1AW0CPQL7AdcBBQIuAjgCwwH0AUICMwI5AokCQQPrAskCUQIfAlkC5AEIAtwBPgIrArEB7gFqAvkCmwKwAlkCDwLFAYABtQH2AVICGQJSAvEBRwIeAuoBDgI/AWsBuAAdAQgC4AGFAtkClAKUAqoCegJzAmgCyQHmAckBOAHPASkCxgKeAhcCVQKnATAB8ABDAHsAmgCy/3L/W//n/jX+bP1D/ez8Of0n/Zf8Av3k/Cb9oPzx+7b7Lfsv+2T66Pr7+3r8m/y6+277sPs6/Db8Tvt6+yX8H/xM+2L6YPpN+nX6cfrh+tT7avwF/Lz7h/zI/J38CPxa/Cj9Df53/mr+1v6a/0AAGAC4ALYBoAIoAzQDoQP8A9QDlAO+A28E+gStBR8G+QUCB9wH9gfdBxIHmwbbBukG1AZxBwsHFgbTBVgFgwUABY8EQgTVAyYEowMhAw0C4gGAAZMAdwCv//v/LAAxAGgAYwCSAN3/DQDx/2T/m//z/sf+Ev5h/lf+wP3f/Uv9Bv5f/Qb95/xB/Az80fvf+1376/us+3D7Qvsm+yz84fsb/Dz8Gf0f/iX+x/5i/lv/af8C/6L/hP9cADkAqQAgAUMBGwJJAW8B4gHjASACwQEbApoBwwFsAWABGAIJAq4CRALGAkcC3AF4AQEBSAFpAGQA7v8mAAwA0/+d/8f+xf6u/T79oP1c/QX+7/0I/vf9mf0M/vz8V/2f/ez9bf7+/XT+b/7y/uf+c/5n/qP+of78/TD+D/4Y/pL9yPwo/Yv9Rf47/tn+HP9y/6D/Dv/B/+H/ugA6AfcBbALyAssDTQTdBA0FzAUGBlAGjAYiB0AHOAdVBpgGMweiBtUGgwZ9BkQGdwYOBrAFLgVzBEQEzAPBA64DcwOBAtUBtAH4AIoA4P/T//X/zv6G/mP9GP3K/Ar8IvyC+5n7+vpx+g/6BPqF+iv6KvpI+kf6ZfrL+UL6gPrw+cb5dvlZ+Vv5xvo8+wn7H/u1+rT6H/oo+hb7q/ug+4X72Puz+0r8D/0G/vX+I/+8/8X/6QC5AWMCUQOcAzkEcQRDBVkGNQdDCGsIHQhRCCoIGQmFCWEKWAsOC9YKHwp/CrIKwQqyCv0JvglKCeAIXwk+CQkJgAhqB4YGtAW1BZIF4AWfBXUE8ANdA7wCfAJaAg0C1wCo/67+2v7N/ln+Uv4n/fP86vuz+gr6C/ox+qP5Xfki+OT3y/db9+z2cfaB9gf2+fWh9Zj1dfah9lj3Kfdp9374Qfjk+FH5J/q8+sP6dfu1+/j85f2r/hP/hf9KAP//fgDwAC4CGQMpA8QDMgRjBFUEkgTnBB8FzgTvBBUFogVuBp8GrQYiBmkGkQZuBtYGNAYxBjIGvQUWBkAGfgYHBrYFQgUSBRcF8AS/BGsEhAQMBCIEZAMiA8YCLQKkAVcAMwA6/+f+yv41/tX9vfw3/Jj7iPra+f/4t/jP+FT4o/dH90L3n/a79gL34vZ39vH1JPYX9vf2dveU9973+vfj+BT5xvlk+q/6MPs1+4H7nPub/N39dP4H/07/4v8GAKgAwQHwAegCUwM3BAoF3QVSB9IH0QggCd8JvAoZCy8Mlw0FD3cQRRHkEWUS9RJxE5gTARRZE1ITKhPNEsISSRKqEZYQtw9iDksMsApOCfoHiwZ+BGUCLQDn/hz9EfuI+QP3NfXm85jyrvFw8FzvSO5D7errkOow6srpzOn26QXqUOrh6SHqJev96+LsDO3A7Y3unO+I8LrxHvMC9Jj1cvaF98b4//lL+2/8G/3I/Y/+r/+AAboCvgPuBBAG+QbGB9wIfgq4C48NJg/3D4AReBK9E40V4RacF0QYURmwGRobahwZHTAeAh77HesdZB1kHKQbCBs+GVsXJRWtEhkRIg/RDQ4MFAmyBtEDpAFv/wj9s/oi+Ab2UfNs8U7ww+4/7nTt1uwr7O3rs+zt7BHuBO9F8PzwOPH98XbyuvPB9I31BfZ09QD2pvZe94P4uvge+en4tPhC+Jr3Sffh9gT29PMq8orwHO+Z7nbtruyk62Hqp+qA6lzrs+x+7jjwN/Gy8vrzsvY6+QH8/f68ABcDvgWrCOYLFw+VEscV/RheHGQfgSJBJf8nmCkoKsgqQirEKfkoOyhDJ7ok2yFwHq4bEhltFl0U4hFNDxkM7AiGBR0CA/9j+873RvTC8JftHOte6Y7nR+Yc5QbkSuS45Arm3efS6YbrCO2f7kPw5fHE8gn0FvWZ9b71rvb491753vpB/Dn9H/7T/oL+jP77/Qj9o/vI+Xn3hvWT82rxpu+/7eLrK+oy6dro0+mR683tGfBO8lj05faf+ev77/59AdcDwgX2B4wKBg1oEEQTXhaLGY0c0h+XImElYieEKPsoAilnKHYnQiZfJAMi3h5OG40X7hPZEBQOkguoCTwHSQRgAfb9Lvpr9q/yF+956wro/eRu4rngV9853qzdON4/36rgKeNk5tPpKO018N3yrvVR+HH66fwU/ykBswKyA3kFZAajBwAJoQrcC8wLKwwYC0UKKgn3BpoFbwP8ACj+fvue+e/2jPQM8u/viu6S7QXuDe+68F7ybvOo9Kj1QPey+eP7cv4xAM4B/gNTBvoICAxXD0kS0hWRGEQbTx4sIWgjqCS2Jd8ljiWMJC4j6SEPIOEcgRlWFsQS1g99DZALSQljBiADuP9E/CD4fvQx8Zft/+m25g/kfOHq3x7fgN6f3irf/N+y4TvkNOcI6rjsnu8n8qv0rvYR+eL7+P39/9MBjwMCBX0GOgjaCXQL8wxHDbYMrwt2CiwJeAe7BSoDlQDt/Tf70fil9nj0TvJl8GbuSO247DvtRO4q70rw9vAk8WjymvT79o75tvvt/an/uQFEBEYH0Ao/DiERjBNcFvsYxBueHt4gUSLtIpciOyIbIn4hQCBtHgMc0xjgFZQThxGzD4AN7QphCP8EawEu/ir7Rvit9JLxl+4C7AHqEOg75wvmcuVc5XPlxuYA6EHql+zI7mTxDPMm9Xb3RvlY+579W/8VAYECPgOQBNkFrQZoB6IHnAdJBxIGiwRDA+wBEAAZ/ln8lvps+Oz1A/Q88oHwfe6i7HnrdepO6q/qpevM7Int2e5H8PLxVPQp9yX6R/yr/vsAUQNIBh4JNgxEDx8SWBSBFggZFRx0HiMglSELImQi9iHSISEhjh+yHdUaQxhbFhAUvBH8D34NXQupCHsFEQNrAGL9gfrw9+b0g/JU8HTuIe3T66nq9ekL6kfq2OqX6y7tr+4y8CjyqPOJ9Vr33fig+mr8BP61/08BvAKwA44ErAWaBroGQwauBToELwMZAtYAHwDd/nL9Wvsv+Xj3wPVB9OTyJfF47xjujuwl7MPsae277TTuwO5m77XwtPKA9WH33PjQ+nz8R/6DACgDkgU5CLIKqwxeDzkSARXaFwMazBvQHFMdzx0/HksejR3IHEcblhkXGFYWJBX5E4ASjBDzDVkLOwkWB20EBAJM/3v8z/nL9uH0TPP18bnwW+8X76Xu8O6E7xzwKPG28YfySfN59JD1wvZA+B35UvqR+5X8n/1I/u7+KgBwACEARwCL/63+0/3//HT8j/to+h358/ef9uz0o/Ml8nLw5O567XXsR+s861rroeuV7G3tu+4D8APyyPPB9V74tfpx/MD92v8FAnsEMQfHCXcMQg8HEhwVAxg2G0seUiCwIX8iLyPzIvYiTCJbIVAgdB6vHJ4a7RioFuUUHhPMEGwOhwvnCDUGPgMDANP8yvlq9kzzE/GQ7sLsUut56tjpEel06Zjpa+oe66Xr0+zm7VLve/BT8ajyx/Mb9Xf2d/fr+Ln5wvqR+4H8Z/2h/UP+Q/7n/Sr9oPxV/Ov70fo2+QL4lvbo9GzzR/JQ8b7vXO647SLtYO0b7n7vsvAW8pLzTfQh9kf4Kvpl/Jv++v+aAYcDswWsCOoLWw+TEngVLxi6G9UeTCHxI8wlISf9JwcovSeBJ5MmESWJI34hmx/pHaMb1Rm+F6UVpRO5EJkNPwrTBhEDcf/j+7337fMa8UDuBOzz6TnoW+cT5tTlfuWv5Sjm1OYN6Jbo0umt6l/rd+yG7bnuv++d8Orx5/Lb8+X0Vvag9+T3sPib+I34efgh+Av44fd99zj2V/Uc9L/yv/G68MXvx+5z7Yrs5+uc63TsI+2J7ibwzfFl8xn1+PZ/+EH7ff26/xQCwAMaBtUI4gv1DvUS6Bb8GZAd1CAjJLInmCohLfwu2S8oMCIwVi9NLkQtVStCKVon3CRRIjggsR3lGuAXhhQoESYN+ggDBc8AlPxn+CT0CvBC7EPpmuZ45KHiueDv34nfnd/236fgvuG44vHjteS15Tvn6+iu6vPrd+1Q75zw5fFc85P02PV095D4PPnb+T76XPo6+nT6BPpB+XX4//bK9fnzlfKi8f7vMu/V7ZPs9eta63fr6utj7Zfufu848fDyjvSj9on49vo0/dn/+wJHBaoISAwKEKwTYxcjG6Ae+SGLJR4p1ytALqov/zDBMZExJjFIMLgutCyLKl4opCXaItsfaRwNGUgVmRG0De8J8QW5AXn9c/lO9Q7xP+2T6Wrmt+N74anfUN5t3Trdn91d3jLfw+Ai4lPjHOUM517piOuX7WrvM/Ea89T0ofZO+Hf5yfp/+238Z/30/Zb+8v0K/qf9ufwG/NX6qPnJ93D2qPTT8lbxme/T7VbsMevM6ZrpX+mM6Xbquet27SjvefFv89r1RPgK+37+GgEUBJUHlArUDaERzxT3F9sbbR+rIjEmLinrKwMuQy/dLw4wCDALL6stpisWKVcmjCODIAkdlhkyFsAS2A4TCzkHUwOl/6X70/e98/LvfOwP6f3lPePn4BvfQN513SLdXN3y3f/ebeAG4vrjsubH6BXrpO3b71XyV/S49ub4gPpQ/N79Cf/W/8QASQH/AYECTAIhApcB8ADZ//j+4v1W/Fz6LPgx9gj0TPJ38PPuW+0p7DHra+rY6kjrF+w87cHulPAK87H1ePfC+YX8Bv/qAeoE6AfoCr4NbRCuE/IW4hkDHbwfhSJ0JJQmqyhMKokryivVKxcr2ynOJ9clPiN4IMYdahpZFwUUtxA2DXUJ6wW8Ahj/Bvy2+E71rPJF7zXsw+n15lfki+Iv4U/g899H4NDgrOH24sDk2OYR6Tnrke1b71Hx3PPL9eH3ZPnw+oL8tP2j/nn/EQDVAG4B+wHnAggDeAI2AlwB4f/t/ob9APx8+pL4bPZQ9IfyYvFZ8Ivvo+6k7e7s0+wQ7bnt4+4U8MrxO/PS9KH2CPmB+6L9ZgBgA78FYwgxC0cNHRBtEwEWLRjbGlodHh83IWsjMSVwJjInvCe7J/AmXyXDI6shGh+6HDsazBfTFNIR1g7lC2UJAgcPBPcAGP6D+sf36PQI8orvyewv6t3nSOYO5evkvuQF5cPlK+Zf5wjppeqB7OftLe8g8YXyQPQ09pv3wvg6+uT7tfxr/VH+yf4x/zEAoQC/ANcAhADM/67+Fv7P/KT7Jvoe+MT2ivT88iPyv/Du70XvEe6J7TztLu1z7X3t2O707+3whvIo9Lv1S/eS+QD8zP6/ARMEHQaACLoKTA3mD6sSPxUVF0UZbhtwHWcfgSH8IkskCyWWJA0kDCNMIXUfaR1XG3AZAxdBFNwRrA/HDacLQAk7B3UExwF5/478lvnd9jz0xPGl76DtUOyN64Pr7esF7K7sdO377n/wk/Ea8wL01/RR9uT3+Pgc+lr7XPxG/Z/+bv+V/2YAawCCAE4BkgGmAUUBMgAT/1z+Vv1d/P76DfkB9/L00/OO8lXxY/BE7xnuY+0L7UjsBuzE6+zrkuwJ7Yruye+o8B7yyvPA9TP4ifrF/H3/bAF2A8gFgAfwCcQMFA+MERwUMha8GBMbbx2gH80gtSGbIVkhLCCuHocdlBsDGv0XyBXUEygScxCgDtIM8wqVCQ0HDASIAar+I/wX+mf3ovSG8rbwIfDf76vv+u908B7x8/FW83f0dvWZ9vX3Fvlh+sP79PxV/jX/pgD3Ae8C2ANnBGkETAS0BJwEmARxBJEDnQKoASoAtP46/bH7E/rV9/z1J/Rj8sTwqO9Z7t3sCuzb6jnqh+kI6b3oveiN6YfqQ+zO7RPvk/BM8p/0V/fj+Y/8af4NAEcCXgQlB6AJegytDz8SWBVrGNgabx24HzghByIHIsghwyBAH5sdxRsiGnsYzxZNFbsTvhFTEHoOnAzZCjwIFwa7Arr/A/0O+rj3R/Ve853xt/Ai8EHwy+818DbxYfHM8vDzI/Xr9Sj3PfhB+Q773vsg/Yf+lP/ZAN4BXAISA7YD5wNqBIQE/QQSBVMEjgNWAkkBxP+i/hn9Cvvn+HX2ofS18mHxCPC47sntV+x+6xfro+oe6mjpnuk16kvr1+xb7pPvvvCb8pH0Rvfj+QH8Of4xANEBMQStBmcJqgyZD58S8hTYF14aUBxGHtMf/SDxIHggQh+pHc8bfBpDGcIXvBbwFCQTdhEUEJQOuQyNCv4HUwXrAQv/M/zY+V73tPTo8kPxpPAR8LPvY+9I7yjwAPFL8qDz3fQb9jb31vhT+ur7qP3C/rP/xgDiARsD7ANQBM0E8wQtBZ0F5wX5BQsFYgSdA8wBHgA3/oD8Xvrz97L15/NV8qHwUO+87YLsm+tI67zqDOqU6RHpQ+kR6mHrOu3Q7kbw4/Gr82z2Kvnb+9j9yf9zAQcDbgXsBw4LoQ2XEEETqRWOGKwaPh3EHtsfvSBWIL0fWh6EHJIa6xhvF/0VJxS1EnsRgQ/vDT8MngqTCEUGpAOqAO39M/vl+Kr2e/Ta8prx3PDl8MPwzvBu8YbysvM69Zr2UPjB+fP6tPz+/Y//lwCxAa8CqQOoBC8F9wUiBvcFzAVyBcYFgQWqBLIDqQHw/37+svyc+kb4u/V780bxY+/F7QvssuoZ6f7nKuc25u3lzuVc5QTlKOVh5iPoPepd7GrulvDq8V70d/da+gL9Xf/pATYE/wZ/CcULMg+PEtoVyxgSG+0djB9WIQwjFSTNJHskxSPUIWMg5R4MHbcbvxkFGPgVYxMMEbkO1gwiCooHKwVwAtL/ovy/+rv4rPaC9V/01/Ox81fzOPMz9JH0uPVp9634lPqp+0/9FP+bAFwChAMkBSQG2gbzB1QIywi/CL0HGQecBiMGZwXWA+YB4P8R/tz72vnG9//0WvKN7xnt3+ow6cXniOaK5SLkRuN54kbi0uLX4uLi2eId4/Lj6eV36GXrFu5h8BjzhPW/+En8EgBrA+oFDAj7CdgLZA3sD2gTdBbyGKEaARx0HaIfiCJ/JPUljCWkI4whJB9fHZEbixmHF5gU3BEAD3MM8wpdCR4IXQZxBEsCUgC6/nL93vwM/Jb7cPvT+6L8AP4q/0cA3AHQAh4E+gRNBV8FZAWaBYwFmwWhBWAFNgVfBSMFgATRA8ECRgFgAEH/Tf0q+5T4evaH9B3yB/AZ7qnrHOkF5+TkyOJd4X/g5N923ybfkd4+3v/eKeDO4ZXj0+TB5iTprutw77PzHPj++/H/FwQKCLgLDA8lEpAUbBZPF40XFReoFioWGBbAFfoUvhNFEowRdRBHD6YNrQsRCXIGOQQWAn8ALf9R/gz+3v1z/v7+wv/9AI8C/wOQBJIFGwbjBvIHHgkOCsIKhQx6DjoQQBLFE8sU+xWmFoEXjhe4FoIVrBM6EoQQhQ4ADZELPgqPCJEGigRDAv//LP0u+g735PPG8JPtA+vM6GTmWuQ/4m3gtd9N36/erd3u3E3cwtvz24DcTN2I3hLgIOJi5MfmNOkV7DPvHPL49AL3qfhf+tH89P4wAX4DCQVHB+kIigruC1INWQ6lDjAP/A4DD2YOQg4ZDkEO3Q5bDp4OSQ45DnMOdA6MDk4O9w1IDf4Mfwz5C2ALiQvnC8YLzQu3C7QLpgviC9ALyAthC+gKIwuDC9QLwQsnDOkMcQ24Dd8Nmg0PDV0MXwuwCrUJqAhyBzcGMQX2A9ACAgE2/039IPv++H32q/Ma8dTuxuyk6wfqlejN59Xmc+bq5TblwuRR5BrkWeNY4jfiVuIX46TkIOa+51TpUesA7rTw+PLA9Er2Yvdz+If5lfoU/JX9H/8sASoDsgSDBlMIEgrXC5IM2Az5DI4MbwypDJMM1QxZDYgNHg5GD10QUBFNEgoTuBMmFOgTSBOVElsSJBLGEYgRMxFzEZYRqRGlEUkREhGZEBoQFg+ODt8NtgwFDLsLCwzUC8QLYgv2Ct0KQQq0CZYIkQdgBuYEfQMlAsYA7f6E/fX7R/ox+CH2zvN78cvvmO2A66bpO+gR57zm7OV75X3lW+Xn5enlO+Y65nzmbeZ65mbn+ecs6R/qVut87Rrvb/Da8UjzovSt9RD2zfaU9/D3wPik+b76z/s//XX+eAB8AhIEygWBBr4H/AjbCWIKIAvCC58MIQ1BDRsO2g5IEGkRrBLPE3YU9xRQFWMWyBZAF3MXIxfKFsgW4xaUFuAWAhbNFU4VfBQXFO0SGxLzEFMQTA+XDnEN+AtUC28KQgmiBxEGZAQfA58B8P+i/h793vvZ+sr51fjG93/2KvX282DyJ/Hu7+rtAOzt6o7pMui/5/fm0ebw5innGudH52rnIuda5yrnKef15pnmruZQ5yzoVuku6jXrwOwY7tTvN/GA8t/z/vSl9Zf2qvd2+IP5lvrC+wv9xv4JABABVQLPAx8FCgZRB58I1QmHCnkLUQxfDdQO7Q/lEBUSbBNuFKUVhRbBFxcZbBowGxUcsBy9HIUdPB0kHbIcHxyFG3wabhlPGIoXohbwFQsVGhQnE5cS0BGxEDQPOg1ECzoJZAf2BKgCbQBp/nT8evol+Yj3ovZe9bvzlfJn8SjwX+727KXrgupI6XHoRejd5yDoleib6PLor+kX6l7qoOqX6iPqHurl6V7pk+lv6WvpjunQ6ejpMeqk6vfq3etR7PnsSe3R7Z7uZ++r8Ffxr/LI85D08PVU9xX5jfr/+7v9nP9DATQDJAXzBqwJjQvhDbYPZRFfE54UZBZnFwkZ7hkrG/cbuRwUHoYehh+rH0wgKyATIEUffx7nHZYczxscGpMZNxgKFyMW7hRbFH4TtxKjEZoQ3Q4IDTkLtgn1B7wF0AOMAcz/L/5W/Av7ZvkI+AX33vXq9MDzqPLo8Rfxou/f7ortd+zh64fq+umM6R3pl+ht6BXoCujY59HnGei+5+Tnj+fL563nKOcl5yXnbeey50jouuh66e7pBOsO7Crtge4A75vwg/Eb8sbyxfO29EP1OPYm9+P4Ffp9+zr9Vv/+AIkCpwTiBZ4H7whvCq8Lywx8DvAPghGzEpoUGBbcFwMZ9hktG5UbZhxFHJscMhxXHG8c4Bv3G8AbjhsXG4EbshrPGk4aRRnBGGsXQxaJFMATxBEtELkOyAy8CksJ+AfdBcIEngJiAaj/+P2//O76qfkh+MT27vQd9BHzK/Jo8XPwHPD/7snu5u0q7WPskOv/6vnp4emx6AroQufX5sDmo+Zf5kbm9ebt5gbo8eeJ6JXpB+pA6q/qr+vU62XsuOx57W3uju9D8Grx+PL083T17/YA+Db5avqi+8z8k/2u/qb/2QBKAn0DvAQhBpgH+QhICv0L4Qz5DToPQRBGEVwRPhLgEhcTiRPrE7sTLBRzFGEUyxTTFAUVABXiFJwUURQ1FNUTChPTEkoSjRHDEPYPig+uDpYN2wySCy8KVgk9CHgHGwamBaEEJgPNAiACSQE8AGr/t/7w/ef8Mvxz+176qPnB+NL3dPfZ9nP21/Ux9YT0KPTv8/Ly7/Ke8uTxaPEZ8crwl/CE8GXwaPCB8Onw+/Cx8dLx8/EF8/zyLfNw87vzIvSQ9Fj13vXT9nf3cPil+cb63vun/JD9Vv70/pn/cgADAeABqwJtAz0ECgXXBe0G2weLCH4J6QkwCkEK8AodC4EKXQotCmkKkgpGCjUKTgpjCncKlAqDClwK3AmxCSgJWAjpB+0Gkwa3Bc4EFATeA2AD4wLjApMCrALzAfUBkgE1ARkBuQCsAO7/lP98/+j+Fv/8/nL+k/5e/mb+5f3N/Yn9VP0C/XX8nvwO/Nr7tvt5+1L7WPvV+qH6APvK+o36mPph+if6Mvrk+eL5c/lb+b35gvlX+an5Bvom+pL6tfr4+pL7rvsx/LD8If3X/SP+h/7Z/rH/OgCmAFsBoAFRAvYCiAPUAxAEWwS1BAQFIAU9BYcF/gULBnQGhwYtBh0GPgY/BhYGJwaMBVsFPgXaBPcElAR5BGwE8wPXA8oDQQN3Ai4C7AFuAfYATQAEAGb/3v7j/mr+PP4k/jn+Vf4a/vT9/P2t/VD9N/2p/Jz8J/zU+9/7Xvuf+4z7Yfva+6n73Psy/Jr78PsD/L778Pua+477Yftq+5z7lvtq+4n7v/vz+238b/zX/KL80fwH/TT9v/1Z/Zn9Cv5C/mT+3f4t/5L/JQCFAOYAFgFlAbgBlQIgAyUDgQP5Az8EpARjBb8FXAahBsgGYQfRByEIQgibCI0IDwnxCNgIXQkYCT0JMQlDCXQJ5QiUCI0IMwj3B5QH7QZIBtwFGgWkBB0EUwPJAlwCzAHGADoAXv/r/ln+bP0o/bL8LvyT+9D6YPrb+Xn5xfgQ+Jz32/a89hb2ivWG9WL18PSm9Iz0TPRw9GX0efQ39CT0bPQ59Dn0ZPRr9JP0qPQt9UX1UfXT9QX2pfYR93b3GviH+AD52Pkb+mb6VvsV/Ib8O/37/YH+HP/K/ycA2gC/AQkCCwPBA2cECAWtBWIGwgahBzUI3gg6CVYJEgpgCtAKZAtsC9QLXgzFDAQNIA0oDc0N8Q2vDb0NOA2YDbINTQ1jDRYNzAyhDDwMEgysCx0Lhwq/CYYJwwj2B0oHgAZQBh8FXgQ3BOMCJAJcAVUAyP/M/ur9B/02/Hf7u/rK+Qz5cfh39yX3gvaX9Q/1gvQU9LXzY/NF88/yw/J98j/yB/KK8dfxgPGA8UTxSPGr8YbxnfHi8Unyf/Lg8hzzzfP58y70yfSN9Uf2mvZC98H3e/i7+Ln5iPoD++L7Wfw4/Rb+9P5x/zkAZQFTAusCqgO6BI8FTAYgB94HtQhsCfoJpwpsCzIMdQzWDHENBA5XDuAOCg9XD6kPlQ8aEAsQAxADEPkP8w/cD50PZA8xD+4Oig7fDbgNNg2gDBEMngsFC4UK6QkqCcQIfQfdBkYGLwWOBLsD2QIVAjQBLgBE/4j+gf2K/Bv8Kfsg+pX5Afn/9zL3rPYc9mH1j/RX9N7zQ/MM89PySfLz8bvxZ/FC8QzxBvH98D7xafFe8ZDx4vEw8qPy6vIA86Dz/fOm9AH1V/U69sL2Jvfc94X41vi6+Vn6/vqR+2z8Pv3v/dj+ef9FAMAAXgEiAtwCewMjBK0EKwWKBUIG1gYBB80HKQh2CPQI6Ah3CbwJnglICvAJFApWCiUKZApqCkwK6QngCaQJdglqCSAJlwg3CA0IjwcvBzoHqQbrBcMFpQXjBJ4EhwShA5AD2gKHAkcCtwF8ATMBzgAnAEoA+v9//wv/8/52/mP+Ov6n/aH9HP00/dH8q/xL/Pr7Gfyn+637S/tc+0f74fog++v6lPrb+tP6h/rF+rD6+frj+pb60fr4+in7BvtE+3/7ivuC+9r7FPwl/Ij8zfz3/CT9gf2Y/bf9Bf48/ln+m/6R/tX+5f73/nb/hP+8/9r/3f/y//7/PQCZAG4AkQCOAJoA6wDxACoBJwEAAe0AMwFOAVcBUAE7ATEBWAF7AXABZQFMATkBFgEeAfwAJQEwASEBEQH+APwAwQDLAMAAgwCGAJIAUgBAAEEALwAtACsAEAAIAAcA9P/9//f/5P/o//n/8v/w/9j/5f/1/+P/7P/z/+f/4//b/9r/3f/b/+z/yf/c/+v/4v/Z/4v/g/98/3b/kP9q/2H/ev+C/33/af+P/4v/gf+g/5X/o/+r/7j/x/+p/6r/z//F/9j/xv/M//H/mv93/3L/g/+F/3r/mP+H/3f/5/8pAMz/uv+5/7//t/+1/wAAMAA0APL/t//O/z4AMgDT/+L/3//m/8H/AABZAOb/CQBPAEQAZABGAEEATwA4ADwAPQA/AEIAIAAkACgAKAAlABcAJAAbABcAIQAdABUAHAAPABIABgD+/xEAAAAzAIIALgDq/1EAQQAHAAcA9P8HAPf/3v9CADQA4v/8/8n/BQA1ADkATgA6AEIAPwBHADUARABRAAMAy//I/8n/xv+6/73/uv/D/8z/z//J/8H/xf/O/9L/4v/y/9D/0//w/+P/0v/S/+z/6P/T/+v/8P/p/97/3v/6//b/7f/6/+7/6P/9//b/8P/6/wUA8v/u/wYA+f/y/wgAFgCn/7P/AAAAACEACwADAAkAHAAdAML/xP8xAAMAw/+S/+H//v+k//n/IQAkACEAJwAxACoAIgAeACsAGQAWABkAFAAcAB4ADwAiACYAIwAlABkAIAAZABMAFwAYABYAEgARABYACwD8/wsABwAEAAoAAQAMAAIA/f////z//P8AAAsABgD6/wAADgACAPv/AAD5//v/BwD5//H//f////z/+f/x//P/+/8BAPn/8//6//b/+P/2//v/AAD1//T//v/y//L///////z/+v8BAAAA9f/5/wAA9v/0//r////+//j/AgD///v/BAAAAAAA//8BAAIAAQAFAP3/+P///////v/9//3/AAD8//7//v/5/wAAAAAAAP//AAABAP7////9////AgD//wEA///7/wIA/f/9////AgACAP3/AAAAAAIAAAAAAAIAAAABAAQAAgABAAAA+//+//////8AAAEAAQACAAMAAAD//wEAAgD///3/AAABAPz///8BAAIAAAAAAAYAAAD+/wEAAgACAP7/AAABAAAABAAAAP7/AAAAAAEA/f8AAAQA+//+/wAAAQACAP7/AQAAAAAA/v8AAAIA//8AAAAAAAAAAAAAAQAAAP7/AAABAAEAAAAAAAAA//8AAAAAAAAAAAAAAQAAAP//AAAAAAIAAAD//wAAAAABAAAAAAAAAAAAAAD//wAAAAAAAAAAAAAAAAAAAAAAAAAAAAAAAAAAAAD//wAAAQAAAAAAAAAAAAAAAAAAAAAAAAD/////AQAAAAAAAAAAAAAAAAAAAAAAAAAAAAEAAQAAAAAAAAABAAEAAAAAAAAAAAABAAAAAAAAAAAAAAAAAAAAAAAAAAAAAAAAAAAAAAAAAAAAAAAAAAEAAAAAAAAAAAAAAAAAAAAAAAAAAAAAAAAAAAAAAAAAAAAAAAAAAAAAAAAAAAAAAAAAAAAAAAAAAAAAAAAAAAABAAAAAAAAAAEAAAABAAAAAAAAAP//AAAAAAAAAAAAAAAAAAAAAAAAAAABAAAAAAAAAP////////////8AAAAAAAAAAP///////wAAAAAAAAAAAAD9////AAD//wEA//8AAAAAAQACAAEABAAGAA4A1f+x/+r//f///wQAAAAHAAMABAAHAAgABgAJAAUAAAAEAAQACAAGAAYABwAFAAcABwADAAsADQAGAAYA+v8AAAQAAgABAPn////8/wcABQD+/wgA+v8CAAMAAAAOAAgABgD6//v/AQD9//n/7v/p/yAAZABTAHcAJgADAD4A//9cABoA+P80AOP/LgAqANr/3//P/8X/IQAnANr/4f/S/9f/z//M/9n/2v/i/93/5//g/+D/6P/h/+f/5v/o//X/6v/s/+v/5f/3//n////6/+7/8//v//X/9f/9////AgAPAKv/pv/8//r/AAAEAAYA9f8AAAcAAAAVABYAFgDf/5j/of/i//7/AgAPABYAGQARABUACAAMABEAEQARAAQACwAPABAADgAMABEACgAQABQAAAAKABEAEwAYAAoABwAEAAIABgAOAAkADAAJAAkAEwAKAAUADgADAAgACAD+//r/8v9WAEoA//8LAPL/AAAAAPn/AAD6////9//3/wAA+//+/wAA+//0//z/AQD3//v//f/4//z/AAD5//j/+v/8//z//f/+//7//f/9//7////7//j//v/7/wEA+//7/wIA///9//f//v/6//P/AgAAAAkACwAHAAMABQAGAAwAHgCt/7f/AwDw/wgABAAGAAAAAQAEAAMAEAAKAAMAAgADAAEA/v8CAAMABwAGAAAAAgAAAAIAAAABAAQAAgABAAIAAQAAAAAAAAACAAAAAAAAAAAAAAABAAAAAAAAAAAAAAAAAAAAAAD/////AAAAAAAAAAAAAAAAAAAAAAAAAAAAAAAAAAABAAAAAAD//wAA//8AAAEAAAAAAAEAAAAAAAAAAAAAAAAAAAAAAAAA//8AAAAAAAAAAAAAAAAAAAAAAAAAAAAA//8AAAAAAAAAAAAAAAAAAAAAAAAAAAAAAAAAAAAAAAD//wAAAAAAAAAAAAAAAAAAAAAAAP///////wAAAAD//wAAAAAAAAAAAAAAAAAAAAAAAP////8AAAAAAAAAAP//AAABAAAAAAAAAP//AAAAAAAAAAAAAAAAAAAAAAAAAAAAAAAA/////wAAAAAAAAAAAAD//wAAAQAAAAAAAAD//wAAAAAAAAAAAAAAAAAAAQAAAAAAAAABAAAA//8AAP//AAAAAAAAAAAAAAAAAAABAAAAAAAAAAAAAAAAAAAAAAAAAAEAAAD//wAAAQAAAAAAAAAAAAAAAAAAAAAAAAAAAAAAAAAAAAAAAAAAAAAAAQAAAAAAAAD/////AAAAAAAAAAAAAAAAAAAAAAAAAQAAAAAA//8AAAAAAAAAAAAAAAAAAAAAAAAAAAAAAAAAAAAAAAAAAAAAAAAAAAAAAAAAAAAAAAAAAAEAAAAAAAAAAAAAAAAAAAAAAAAAAAAAAAAAAAAAAAAAAAAAAAAAAAAAAAAAAAAAAAAAAAAAAAAAAAAAAAAAAAAAAAAAAAAAAAAAAAAAAAAAAAAAAAAAAAAAAAAAAAAAAAAAAAAAAAAAAAAAAAAAAAAAAAAAAQAAAAAAAAAAAAAAAAAAAAAAAAAAAAAAAAAAAAAAAAAAAAAAAAAAAAAAAAAAAAAAAAAAAAAAAAAAAAAAAAAAAAAAAAAAAAAAAAAAAAAAAAAAAP//AAAAAAAAAAAAAAAAAAAAAAAAAAAAAAAAAAAAAAAAAAAAAAAAAAAAAAAAAAAAAAAAAAAAAAAAAAAAAAAAAAAAAAAAAAAAAAAAAAAAAAAAAAAAAAAAAAAAAAAAAAAAAAAAAAABAAAAAAAAAAAAAAAAAAAAAAAAAAAAAAAAAAAAAAAAAAAAAAAAAAAAAAAAAAAAAAAAAAAAAAAAAAAAAAAAAAAAAAAAAP//AAAAAAAAAAAAAAAAAAAAAAAAAAAAAAAAAAAAAAAAAAAAAAAAAAAAAAAAAAAAAAAAAAAAAAAAAAAAAAAAAAAAAAAAAAAAAAAAAAAAAAAAAAAAAAAAAAAAAAAAAAAAAAAAAAAAAAAAAAAAAAAAAAAAAP//AAAAAAAAAAAAAAAAAAAAAAAAAAACAAAAAAAAAAAAAAAAAAAAAAD//wAAAAAAAAAAAAAAAAAAAAAAAAAAAAAAAAAAAAAAAAAAAAAAAAAAAAAAAAAAAAAAAAAAAAAAAAAAAAAAAAAAAAAAAAAAAAAAAAIAAAAAAAAAAAABAAAAAAD//////////wAA//8AAAAAAAAAAP////8AAAAAAAAAAAAAAAABAAEAAQACAAEAAAD//wAAAAABAAAAAAAAAAAAAAAAAAEAAAD//wAAAAAAAAEAAAD//wAAAQABAAEAAAAAAP//AAABAAIAAAD//wAAAQACAAEAAAD+////AAAAAAAAAAAAAAEAAQABAAAAAAAAAAAAAAAAAAEA///+/wEABQAHAOf/1P/y/wAAAAABAAAAAgAFAAMAAQAEAAQAAgAEAAMAAQADAAQABQAFAAQAAQAAAAEAAgADAAIAAAACAAIAAgACAAAAAAACAP///v8BAAAAAAAAAP7/AAADAAAAAQABAAAAAAAAAAMAAwAAAP7/AgD/////+v/2/ygAJQD4/wEA8f8SAD8AEQD+//3/9//6//r/+f/3//b/9f/4//j/9//7//r/+P/5//n/+v/7//r/+f/5//v//P/8//n/+P/9//3/+//7//7//P/+/wAA+f/8//z//f/9//z/AAD+//7/AAD7//7/AAD9/wAA/v/8/wIA//8AAAMAAAD+//z/AgABAAAABAD/////AgD+/wAABwAFAAQABAACAAIAAgAAAAAAAwABAP//AQABAAAAAgACAAIAAwACAAQAAgABAAMAAAABAAEAAAACAAMAAwAAAAAAAQAAAAEAAgD//wAAAwABAAIAAgAAAAEAAQAAAAAAAAD//wAAAAAAAAAAAQAAAP3/AAABAAEAAAD8////AAAAAAAAAAAAAAIAAQAAAAIA/v8AAAMAAQABAP////8AAAAAAQAAAAEA/v///wAAAAABAAIAAAD//wAAAAD//wAAAQACAP////8AAAAAAAAAAAEAAAAAAAAAAgACAAEAAAABAAIAAAD///7/AAABAP///v/9////AAABAAEAAAAAAP//AQACAAAAAAAAAP//AAAAAP7/AAABAAAA//8AAAAAAAACAAAAAAAAAP//AAAAAAAAAAAAAAAAAAAAAAAAAAAAAAEAAAAAAAAA/////wAAAAAAAAAAAAAAAP//AAABAAAAAAAAAAAAAAAAAAAAAAD/////AAAAAAEAAAAAAAEAAAAAAAEA//8AAAAAAAABAAAAAAAAAAAAAAAAAAAAAAAAAAAAAAAAAAEAAAD//wAAAAAAAAAA//8AAAAA//8AAAAAAAAAAAAAAQAAAAAA//8AAAAAAAAAAAAAAAAAAAAAAAAAAAAAAAAAAAEAAAAAAAAA//8AAAAAAAAAAAAA//8AAAAAAAAAAAAAAAAAAAAAAAAAAAAAAAAAAAAAAAAAAAAAAAAAAAAAAAAAAAAAAAAAAAAAAAAAAAAAAAAAAAAAAAAAAAAAAAAAAAAAAAAAAAAAAAAAAAAAAAAAAAAAAAAAAAAAAAAAAAAAAAAAAAAAAAAAAAAAAAAAAAAAAAAAAAAAAAAAAAAAAAAAAAAAAAAAAAAAAAAAAAAAAAAAAAAAAAAAAAAAAAAAAAAAAAAAAAAAAAAAAAAAAAAAAAAAAAAAAAAAAAAAAAAAAAAAAAAAAAAAAAAAAAAAAAAAAAAAAAAAAAAAAAAAAAAAAAAAAAAAAAAAAAAAAAAAAAAAAAAAAAAAAAAAAAAAAAAAAAAAAAAAAAAAAAAAAAAAAAAAAAAAAAAAAAAAAAAAAAAAAAAAAAAAAAAAAAAAAAAAAAAAAAAAAAAAAAAAAAAAAAAAAAAAAAAAAAAAAAAAAAAAAAAAAAAAAAAAAAAAAAAAAAAAAAAAAAAAAAAAAAAAAAAAAAAAAAAAAAAAAAAAAAAAAAAAAAAAAAAAAAAAAAAAAAAAAAAAAAAAAAAAAAAAAAAAAAAAAAAAAAAAAAAAAAAAAAAAAAAAAAAAAAAAAAAAAAAAAAAAAAAAAAAAAAAAAAAAAAAAAAAAAAAAAAAAAAAAAAAAAAAAAAAAAAAAAAAAAAAAAAAAAAAAAAAAAAAAAAAAAAAAAAAAAAAAAAAAAAAAAAAAAAAAAAAAAAAAAAAAAAAAAAAAAAAAAAAAAAAAAAAAAAAAAAAAAAAAAAAAAAAAAAAAAAAAAAAAAAAAAAAAAAAAAAAAAAAAAAAAAAAAAAAAAAAAAAAAAAAAAAAAAAAAAAAAAAAAAAAAAAAAAAAAAAAAAAAAAAAAAAAAAAAAAAAAAAAAAAAAAAAAAAAAAAAAAAAAAAAAAAAAAAAAAAAAAAAAAAAAAAAAAAAAAAAAAAAAAAAAAAAAAAAAAAAAAAAAAAAAAAAAAAAAAAAAAAAAAAAAAAAAAAAAAAAAAAAAAAAAAAAAAAAAAAAAAAAAAAAAAAAAAAAAAAAAAAAAAAAAAAAAAAAAAAAAAAAAAAAAAAAAAAAAAAAAAAAAAAAAAAAAAAAAAAAAAAAAAAAAAAAAAAAAAAAAAAAAAAAAAAAAAAAAAAAAAAAAAAAAAAAAAAAAAAAAAAAAAAAAAAAAAAAAAAAAAAAAAAAAAAAAAAAAAAAAAAAAAAAAAAAAAAAAAAAAAAAAAAAAAAAAAAAAAAAAAAAAAAAAAAAAAAAAAAAAAAAAAAAAAAAAAAAAAAAAAAAAAAAAAAAAAAAAAAAAAAAAAAAAAAAAAAAAAAAAAAAAAAAAAAAAAAAAAAAAAAAAAAAAAAAAAAAAAAAAAAAAAAAAAAAAAAAAAAAAAAAAAAAAAAAAAAAAAAAAAAAAAAAAAAAAAAAAAAAAAAAAAAAAAAAAAAAAAAAAAAAAAAAAAAAAAAAAAAAAAAAAAAAAAAAAAAAAAAAAAAAAAAAAAAAAAAAAAAAAAAAAAAAAAAAAAAAAAAAAAAAAAAAAAAAAAAAAAAAAAAAAAAAAAAAAAAAAAAAAAAAAAAAAAAAAAAAAAAAAAAAAAAAAAAAAAAAAAAAAAAAAAAAAAAAAAAAAAAAAAAAAAAAAAAAAAAAAAAAAAAAAAAAAAAAAAAAAAAAAAAAAAAAAAAAAAAAAAAAAAAAAAAAAAAAAAAAAAAAAAAAAAAAAAAAAAAAAAAAAAAAAAAAAAAAAAAAAAAAAAAAAAAAAAAAAAAAAAAAAAAAAAAAAAAAAAAAAAAAAAAAAAAAAAAAAAAAAAAAAAAAAAAAAAAAAAAAAAAAAAAAAAAAAAAAAAAAAAAAAAAAAAAAAAAAAAAAAAAAAAAAAAAAAAAAAAAAAAAAAAAAAAAAAAAAAAAAAAAAAAAAAAAAAAAAAAAAAAAAAAAAAAAAAAAAAAAAAAAAAAAAAAAAAAAAAAAAAAAAAAAAAAAAAAAAAAAAAAAAAAAAAAAAAAAAAAAAAAAAAAAAAAAAAAAAAAAAAAAAAAAAAAAAAAAAAAAAAAAAAAAAAAAAAAAAAAAAAAAAAAAAAAAAAAAAAAAAAAAAAAAAAAAAAAAAAAAAAAAAAAAAAAAAAAAAAAAAAAAAAAAAAAAAAAAAAAAAAAAAAAAAAAAAAAAAAAAAAAAAAAAAAAAAAAAAAAAAAAAAAAAAAAAAAAAAAAAAAAAAAAAAAAAAAAAAAAAAAAAAAAAAAAAAAAAAAAAAAAAAAAAAAAAAAAAAAAAAAAAAAAAAAAAAAAAAAAAAAAAAAAAAAAAAAAAAAAAAAAAAAAAAAAAAAAAAAAAAAAAAAAAAAAAAAAAAAAAAAAAAAAAAAAAAAAAAAAAAAAAAAAAAAAAAAAAAAAAAAAAAAAAAAAAAAAAAAAAAAAAAAAAAAAAAAAAAAAAAAAAAAAAAAAAAAAAAAAAAAAAAAAAAAAAAAAAAAAAAAAAAAAAAAAAAAAAAAAAAAAAAAAAAAAAAAAAAAAAAAAAAAAAAAAAAAAAAAAAAAAAAAAAAAAAAAAAAAAAAAAAAAAAAAAAAAAAAAAAAAAAAAAAAAAAAAAAAAAAAAAAAAAAAAAAAAAAAAAAAAAAAAAAAAAAAAAAAAAAAAAAAAAAAAAAAAAAAAAAAAAAAAAAAAAAAAAAAAAAAAAAAAAAAAAAAAAAAAAAAAAAAAAAAAAAAAAAAAAAAAAAAAAAAAAAAAAAAAAAAAAAAAAAAAAAAAAAAAAAAAAAAAAAAAAAAAAAAAAAAAAAAAAAAAAAAAAAAAAAAAAAAAAAAAAAAAAAAAAAAAAAAAAAAAAAAAAAAAAAAAAAAAAAAAAAAAAAAAAAAAAAAAAAAAAAAAAAAAAAAAAAAAAAAAAAAAAAAAAAAAAAAAAAAAAAAAAAAAAAAAAAAAAAAAAAAAAAAAAAAAAAAAAAAAAAAAAAAAAAAAAAAAAAAAAAAAAAAAAAAAAAAAAAAAAAAAAAAAAAAAAAAAAAAAAAAAAAAAAAAAAAAAAAAAAAAAAAAAAAAAAAAAAAAAAAAAAAAAAAAAAAAAAAAAAAAAAAAAAAAAAAAAAAAAAAAAAAAAAAAAAAAAAAAAAAAAAAAAAAAAAAAAAAAAAAAAAAAAAAAAAAAAAAAAAAAAAAAAAAAAAAAAAAAAAAAAAAAAAAAAAAAAAAAAAAAAAAAAAAAAAAAAAAAAAAAAAAAAAAAAAAAAAAAAAAAAAAAAAAAAAAAAAAAAAAAAAAAAAAAAAAAAAAAAAAAAAAAAAAAAAAAAAAAAAAAAAAAAAAAAAAAAAAAAAAAAAAAAAAAAAAAAAAAAAAAAAAAAAAAAAAAAAAAAAAAAAAAAAAAAAAAAAAAAAAAAAAAAAAAAAAAAAAAAAAAAAAAAAAAAAAAAAAAAAAAAAAAAAAAAAAAAAAAAAAAAAAAAAAAAAAAAAAAAAAAAAAAAAAAAAAAAAAAAAAAAAAAAAAAAAAAAAAAAAAAAAAAAAAAAAAAAAAAAAAAAAAAAAAAAAAAAAAAAAAAAAAAAAAAAAAAAAAAAAAAAAAAAAAAAAAAAAAAAAAAAAAAAAAAAAAAAAAAAAAAAAAAAAAAAAAAAAAAAAAAAAAAAAAAAAAAAAAAAAAAAAAAAAAAAAAAAAAAAAAAAAAAAAAAAAAAAAAAAAAAAAAAAAAAAAAAAAAAAAAAAAAAAAAAAAAAAAAAAAAAAAAAAAAAAAAAAAAAAAAAAAAAAAAAAAAAAAAAAAAAAAAAAAAAAAAAAAAAAAAAAAAAAAAAAAAAAAAAAAAAAAAAAAAAAAAAAAAAAAAAAAAAAAAAAAAAAAAAAAAAAAAAAAAAAAAAAAAAAAAAAAAAAAAAAAAAAAAAAAAAAAAAAAAAAAAAAAAAAAAAAAAAAAAAAAAAAAAAAAAAAAAAAAAAAAAAAAAAAAAAAAAAAAAAAAAAAAAAAAAAAAAAAAAAAAAAAAAAAAAAAAAAAAAAAAAAAAAAAAAAAAAAAAAAAAAAAAAAAAAAAAAAAAAAAAAAAAAAAAAAAAAAAAAAAAAAAAAAAAAAAAAAAAAAAAAAAAAAAAAAAAAAAAAAAAAAAAAAAAAAAAAAAAAAAAAAAAAAAAAAAAAAAAAAAAAAAAAAAAAAAAAAAAAAAAAAAAAAAAAAAAAAAAAAAAAAAAAAAAAAAAAAAAAAAAAAAAAAAAAAAAAAAAAAAAAAAAAAAAAAAAAAAAAAAAAAAAAAAAAAAAAAAAAAAAAAAAAAAAAAAAAAAAAAAAAAAAAAAAAAAAAAAAAAAAAAAAAAAAAAAAAAAAAAAAAAAAAAAAAAAAAAAAAAAAAAAAAAAAAAAAAAAAAAAAAAAAAAAAAAAAAAAAAAAAAAAAAAAAAAAAAAAAAAAAAAAAAAAAAAAAAAAAAAAAAAAAAAAAAAAAAAAAAAAAAAAAAAAAAAAAAAAAAAAAAAAAAAAAAAAAAAAAAAAAAAAAAAAAAAAAAAAAAAAAAAAAAAAAAAAAAAAAAAAAAAAAAAAAAAAAAAAAAAAAAAAAAAAAAAAAAAAAAAAAAAAAAAAAAAAAAAAAAAAAAAAAAAAAAAAAAAAAAAAAAAAAAAAAAAAAAAAAAAAAAAAAAAAAAAAAAAAAAAAAAAAAAAAAAAAAAAAAAAAAAAAAAAAAAAAAAAAAAAAAAAAAAAAAAAAAAAAAAAAAAAAAAAAAAAAAAAAAAAAAAAAAAAAAAAAAAAAAAAAAAAAAAAAAAAAAAAAAAAAAAAAAAAAAAAAAAAAAAAAAAAAAAAAAAAAAAAAAAAAAAAAAAAAAAAAAAAAAAAAAAAAAAAAAAAAAAAAAAAAAAAAAAAAAAAAAAAAAAAAAAAAAAAAAAAAAAAAAAAAAAAAAAAAAAAAAAAAAAAAAAAAAAAAAAAAAAAAAAAAAAAAAAAAAAAAAAAAAAAAAAAAAAAAAAAAAAAAAAAAAAAAAAAAAAAAAAAAAAAAAAAAAAAAAAAAAAAAAAAAAAAAAAAAAAAAAAAAAAAAAAAAAAAAAAAAAAAAAAAAAAAAAAAAAAAAAAAAAAAAAAAAAAAAAAAAAAAAAAAAAAAAAAAAAAAAAAAAAAAAAAAAAAAAAAAAAAAAAAAAAAAAAAAAAAAAAAAAAAAAAAAAAAAAAAAAAAAAAAAAAAAAAAAAAAAAAAAAAAAAAAAAAAAAAAAAAAAAAAAAAAAAAAAAAAAAAAAAAAAAAAAAAAAAAAAAAAAAAAAAAAAAAAAAAAAAAAAAAAAAAAAAAAAAAAAAAAAAAAAAAAAAAAAAAAAAAAAAAAAAAAAAAAAAAAAAAAAAAAAAAAAAAAAAAAAAAAAAAAAAAAAAAAAAAAAAAAAAAAAAAAAAAAAAAAAAAAAAAAAAAAAAAAAAAAAAAAAAAAAAAAAAAAAAAAAAAAAAAAAAAAAAAAAAAAAAAAAAAAAAAAAAAAAAAAAAAAAAAAAAAAAAAAAAAAAAAAAAAAAAAAAAAAAAAAAAAAAAAAAAAAAAAAAAAAAAAAAAAAAAAAAAAAAAAAAAAAAAAAAAAAAAAAAAAAAAAAAAAAAAAAAAAAAAAAAAAAAAAAAAAAAAAAAAAAAAAAAAAAAAAAAAAAAAAAAAAAAAAAAAAAAAAAAAAAAAAAAAAAAAAAAAAAAAAAAAAAAAAAAAAAAAAAAAAAAAAAAAAAAAAAAAAAAAAAAAAAAAAAAAAAAAAAAAAAAAAAAAAAAAAAAAAAAAAAAAAAAAAAAAAAAAAAAAAAAAAAAAAAAAAAAAAAAAAAAAAAAAAAAAAAAAAAAAAAAAAAAAAAAAAAAAAAAAAAAAAAAAAAAAAAAAAAAAAAAAAAAAAAAAAAAAAAAAAAAAAAAAAAAAAAAAAAAAAAAAAAAAAAAAAAAAAAAAAAAAAAAAAAAAAAAAAAAAAAAAAAAAAAAAAAAAAAAAAAAAAAAAAAAAAAAAAAAAAAAAAAAAAAAAAAAAAAAAAAAAAAAAAAAAAAAAAAAAAAAAAAAAAAAAAAAAAAAAAAAAAAAAAAAAAAAAAAAAAAAAAAAAAAAAAAAAAAAAAAAAAAAAAAAAAAAAAAAAAAAAAAAAAAAAAAAAAAAAAAAAAAAAAAAAAAAAAAAAAAAAAAAAAAAAAAAAAAAAAAAAAAAAAAAAAAAAAAAAAAAAAAAAAAAAAAAAAAAAAAAAAAAAAAAAAAAAAAAAAAAAAAAAAAAAAAAAAAAAAAAAAAAAAAAAAAAAAAAAAAAAAAAAAAAAAAAAAAAAAAAAAAAAAAAAAAAAAAAAAAAAAAAAAAAAAAAAAAAAAAAAAAAAAAAAAAAAAAAAAAAAAAAAAAAAAAAAAAAAAAAAAAAAAAAAAAAAAAAAAAAAAAAAAAAAAAAAAAAAAAAAAAAAAAAAAAAAAAAAAAAAAAAAAAAAAAAAAAAAAAAAAAAAAAAAAAAAAAAAAAAAAAAAAAAAAAAAAAAAAAAAAAAAAAAAAAAAAAAAAAAAAAAAAAAAAAAAAAAAAAAAAAAAAAAAAAAAAAAAAAAAAAAAAAAAAAAAAAAAAAAAAAAAAAAAAAAAAAAAAAAAAAAAAAAAAAAAAAAAAAAAAAAAAAAAAAAAAAAAAAAAAAAAAAAAAAAAAAAAAAAAAAAAAAAAAAAAAAAAAAAAAAAAAAAAAAAAAAAAAAAAAAAAAAAAAAAAAAAAAAAAAAAAAAAAAAAAAAAAAAAAAAAAAAAAAAAAAAAAAAAAAAAAAAAAAAAAAAAAAAAAAAAAAAAAAAAAAAAAAAAAAAAAAAAAAAAAAAAAAAAAAAAAAAAAAAAAAAAAAAAAAAAAAAAAAAAAAAAAAAAAAAAAAAAAAAAAAAAAAAAAAAAAAAAAAAAAAAAAAAAAAAAAAAAAAAAAAAAAAAAAAAAAAAAAAAAAAAAAAAAAAAAAAAAAAAAAAAAAAAAAAAAAAAAAAAAAAAAAAAAAAAAAAAAAAAAAAAAAAAAAAAAAAAAAAAAAAAAAAAAAAAAAAAAAAAAAAAAAAAAAAAAAAAAAAAAAAAAAAAAAAAAAAAAAAAAAAAAAAAAAAAAAAAAAAAAAAAAAAAAAAAAAAAAAAAAAAAAAAAAAAAAAAAAAAAAAAAAAAAAAAAAAAAAAAAAAAAAAAAAAAAAAAAAAAAAAAAAAAAAAAAAAAAAAAAAAAAAAAAAAAAAAAAAAAAAAAAAAAAAAAAAAAAAAAAAAAAAAAAAAAAAAAAAAAAAAAAAAAAAAAAAAAAAAAAAAAAAAAAAAAAAAAAAAAAAAAAAAAAAAAAAAAAAAAAAAAAAAAAAAAAAAAAAAAAAAAAAAAAAAAAAAAAAAAAAAAAAAAAAAAAAAAAAAAAAAAAAAAAAAAAAAAAAAAAAAAAAAAAAAAAAAAAAAAAAAAAAAAAAAAAAAAAAAAAAAAAAAAAAAAAAAAAAAAAAAAAAAAAAAAAAAAAAAAAAAAAAAAAAAAAAAAAAAAAAAAAAAAAAAAAAAAAAAAAAAAAAAAAAAAAAAAAAAAAAAAAAAAAAAAAAAAAAAAAAAAAAAAAAAAAAAAAAAAAAAAAAAAAAAAAAAAAAAAAAAAAAAAAAAAAAAAAAAAAAAAAAAAAAAAAAAAAAAAAAAAAAAAAAAAAAAAAAAAAAAAAAAAAAAAAAAAAAAAAAAAAAAAAAAAAAAAAAAAAAAAAAAAAAAAAAAAAAAAAAAAAAAAAAAAAAAAAAAAAAAAAAAAAAAAAAAAAAAAAAAAAAAAAAAAAAAAAAAAAAAAAAAAAAAAAAAAAAAAAAAAAAAAAAAAAAAAAAAAAAAAAAAAAAAAAAAAAAAAAAAAAAAAAAAAAAAAAAAAAAAAAAAAAAAAAAAAAAAAAAAAAAAAAAAAAAAAAAAAAAAAAAAAAAAAAAAAAAAAAAAAAAAAAAAAAAAAAAAAAAAAAAAAAAAAAAAAAAAAAAAAAAAAAAAAAAAAAAAAAAAAAAAAAAAAAAAAAAAAAAAAAAAAAAAAAAAAAAAAAAAAAAAAAAAAAAAAAAAAAAAAAAAAAAAAAAAAAAAAAAAAAAAAAAAAAAAAAAAAAAAAAAAAAAAAAAAAAAAAAAAAAAAAAAAAAAAAAAAAAAAAAAAAAAAAAAAAAAAAAAAAAAAAAAAAAAAAAAAAAAAAAAAAAAAAAAAAAAAAAAAAAAAAAAAAAAAAAAAAAAAAAAAAAAAAAAAAAAAAAAAAAAAAAAAAAAAAAAAAAAAAAAAAAAAAAAAAAAAAAAAAAAAAAAAAAAAAAAAAAAAAAAAAAAAAAAAAAAAAAAAAAAAAAAAAAAAAAAAAAAAAAAAAAAAAAAAAAAAAAAAAAAAAAAAAAAAAAAAAAAAAAAAAAAAAAAAAAAAAAAAAAAAAAAAAAAAAAAAAAAAAAAAAAAAAAAAAAAAAAAAAAAAAAAAAAAAAAAAAAAAAAAAAAAAAAAAAAAAAAAAAAAAAAAAAAAAAAAAAAAAAAAAAAAAAAAAAAAAAAAAAAAAAAAAAAAAAAAAAAAAAAAAAAAAAAAAAAAAAAAAAAAAAAAAAAAAAAAAAAAAAAAAAAAAAAAAAAAAAAAAAAAAAAAAAAAAAAAAAAAAAAAAAAAAAAAAAAAAAAAAAAAAAAAAAAAAAAAAAAAAAAAAAAAAAAAAAAAAAAAAAAAAAAAAAAAAAAAAAAAAAAAAAAAAAAAAAAAAAAAAAAAAAAAAAAAAAAAAAAAAAAAAAAAAAAAAAAAAAAAAAAAAAAAAAAAAAAAAAAAAAAAAAAAAAAAAAAAAAAAAAAAAAAAAAAAAAAAAAAAAAAAAAAAAAAAAAAAAAAAAAAAAAAAAAAAAAAAAAAAAAAAAAAAAAAAAAAAAAAAAAAAAAAAAAAAAAAAAAAAAAAAAAAAAAAAAAAAAAAAAAAAAAAAAAAAAAAAAAAAAAAAAAAAAAAAAAAAAAAAAAAAAAAAAAAAAAAAAAAAAAAAAAAAAAAAAAAAAAAAAAAAAAAAAAAAAAAAAAAAAAAAAAAAAAAAAAAAAAAAAAAAAAAAAAAAAAAAAAAAAAAAAAAAAAAAAAAAAAAAAAAAAAAAAAAAAAAAAAAAAAAAAAAAAAAAAAAAAAAAAAAAAAAAAAAAAAAAAAAAAAAAAAAAAAAAAAAAAAAAAAAAAAAAAAAAAAAAAAAAAAAAAAAAAAAAAAAAAAAAAAAAAAAAAAAAAAAAAAAAAAAAAAAAAAAAAAAAAAAAAAAAAAAAAAAAAAAAAAAAAAAAAAAAAAAAAAAAAAAAAAAAAAAAAAAAAAAAAAAAAAAAAAAAAAAAAAAAAAAAAAAAAAAAAAAAAAAAAAAAAAAAAAAAAAAAAAAAAAAAAAAAAAAAAAAAAAAAAAAAAAAAAAAAAAAAAAAAAAAAAAAAAAAAAAAAAAAAAAAAAAAAAAAAAAAAAAAAAAAAAAAAAAAAAAAAAAAAAAAAAAAAAAAAAAAAAAAAAAAAAAAAAAAAAAAAAAAAAAAAAAAAAAAAAAAAAAAAAAAAAAAAAAAAAAAAAAAAAAAAAAAAAAAAAAAAAAAAAAAAAAAAAAAAAAAAAAAAAAAAAAAAAAAAAAAAAAAAAAAAAAAAAAAAAAAAAAAAAAAAAAAAAAAAAAAAAAAAAAAAAAAAAAAAAAAAAAAAAAAAAAAAAAAAAAAAAAAAAAAAAAAAAAAAAAAAAAAAAAAAAAAAAAAAAAAAAAAAAAAAAAAAAAAAAAAAAAAAAAAAAAAAAAAAAAAAAAAAAAAAAAAAAAAAAAAAAAAAAAAAAAAAAAAAAAAAAAAAAAAAAAAAAAAAAAAAAAAAAAAAAAAAAAAAAAAAAAAAAAAAAAAAAAAAAAAAAAAAAAAAAAAAAAAAAAAAAAAAAAAAAAAAAAAAAAAAAAAAAAAAAAAAAAAAAAAAAAAAAAAAAAAAAAAAAAAAAAAAAAAAAAAAAAAAAAAAAAAAAAAAAAAAAAAAAAAAAAAAAAAAAAAAAAAAAAAAAAAAAAAAAAAAAAAAAAAAAAAAAAAAAAAAAAAAAAAAAAAAAAAAAAAAAAAAAAAAAAAAAAAAAAAAAAAAAAAAAAAAAAAAAAAAAAAAAAAAAAAAAAAAAAAAAAAAAAAAAAAAAAAAAAAAAAAAAAAAAAAAAAAAAAAAAAAAAAAAAAAAAAAAAAAAAAAAAAAAAAAAAAAAAAAAAAAAAAAAAAAAAAAAAAAAAAAAAAAAAAAAAAAAAAAAAAAAAAAAAAAAAAAAAAAAAAAAAAAAAAAAAAAAAAAAAAAAAAAAAAAAAAAAAAAAAAAAAAAAAAAAAAAAAAAAAAAAAAAAAAAAAAAAAAAAAAAAAAAAAAAAAAAAAAAAAAAAAAAAAAAAAAAAAAAAAAAAAAAAAAAAAAAAAAAAAAAAAAAAAAAAAAAAAAAAAAAAAAAAAAAAAAAAAAAAAAAAAAAAAAAAAAAAAAAAAAAAAAAAAAAAAAAAAAAAAAAAAAAAAAAAAAAAAAAAAAAAAAAAAAAAAAAAAAAAAAAAAAAAAAAAAAAAAAAAAAAAAAAAAAAAAAAAAAAAAAAAAAAAAAAAAAAAAAAAAAAAAAAAAAAAAAAAAAAAAAAAAAAAAAAAAAAAAAAAAAAAAAAAAAAAAAAAAAAAAAAAAAAAAAAAAAAAAAAAAAAAAAAAAAAAAAAAAAAAAAAAAAAAAAAAAAAAAAAAAAAAAAAAAAAAAAAAAAAAAAAAAAAAAAAAAAAAAAAAAAAAAAAAAAAAAAAAAAAAAAAAAAAAAAAAAAAAAAAAAAAAAAAAAAAAAAAAAAAAAAAAAAAAAAAAAAAAAAAAAAAAAAAAAAAAAAAAAAAAAAAAAAAAAAAAAAAAAAAAAAAAAAAAAAAAAAAAAAAAAAAAAAAAAAAAAAAAAAAAAAAAAAAAAAAAAAAAAAAAAAAAAAAAAAAAAAAAAAAAAAAAAAAAAAAAAAAAAAAAAAAAAAAAAAAAAAAAAAAAAAAAAAAAAAAAAAAAAAAAAAAAAAAAAAAAAAAAAAAAAAAAAAAAAAAAAAAAAAAAAAAAAAAAAAAAAAAAAAAAAAAAAAAAAAAAAAAAAAAAAAAAAAAAAAAAAAAAAAAAAAAAAAAAAAAAAAAAAAAAAAAAAAAAAAAAAAAAAAAAAAAAAAAAAAAAAAAAAAAAAAAAAAAAAAAAAAAAAAAAAAAAAAAAAAAAAAAAAAAAAAAAAAAAAAAAAAAAAAAAAAAAAAAAAAAAAAAAAAAAAAAAAAAAAAAAAAAAAAAAAAAAAAAAAAAAAAAAAAAAAAAAAAAAAAAAAAAAAAAAAAAAAAAAAAAAAAAAAAAAAAAAAAAAAAAAAAAAAAAAAAAAAAAAAAAAAAAAAAAAAAAAAAAAAAAAAAAAAAAAAAAAAAAAAAAAAAAAAAAAAAAAAAAAAAAAAAAAAAAAAAAAAAAAAAAAAAAAAAAAAAAAAAAAAAAAAAAAAAAAAAAAAAAAAAAAAAAAAAAAAAAAAAAAAAAAAAAAAAAAAAAAAAAAAAAAAAAAAAAAAAAAAAAAAAAAAAAAAAAAAAAAAAAAAAAAAAAAAAAAAAAAAAAAAAAAAAAAAAAAAAAAAAAAAAAAAAAAAAAAAAAAAAAAAAAAAAAAAAAAAAAAAAAAAAAAAAAAAAAAAAAAAAAAAAAAAAAAAAAAAAAAAAAAAAAAAAAAAAAAAAAAAAAAAAAAAAAAAAAAAAAAAAAAAAAAAAAAAAAAAAAAAAAAAAAAAAAAAAAAAAAAAAAAAAAAAAAAAAAAAAAAAAAAAAAAAAAAAAAAAAAAAAAAAAAAAAAAAAAAAAAAAAAAAAAAAAAAAAAAAAAAAAAAAAAAAAAAAAAAAAAAAAAAAAAAAAAAAAAAAAAAAAAAAAAAAAAAAAAAAAAAAAAAAAAAAAAAAAAAAAAAAAAAAAAAAAAAAAAAAAAAAAAAAAAAAAAAAAAAAAAAAAAAAAAAAAAAAAAAAAAAAAAAAAAAAAAAAAAAAAAAAAAAAAAAAAAAAAAAAAAAAAAAAAAAAAAAAAAAAAAAAAAAAAAAAAAAAAAAAAAAAAAAAAAAAAAAAAAAAAAAAAAAAAAAAAAAAAAAAAAAAAAAAAAAAAAAAAAAAAAAAAAAAAAAAAAAAAAAAAAAAAAAAAAAAAAAAAAAAAAAAAAAAAAAAAAAAAAAAAAAAAAAAAAAAAAAAAAAAAAAAAAAAAAAAAAAAAAAAAAAAAAAAAAAAAAAAAAAAAAAAAAAAAAAAAAAAAAAAAAAAAAAAAAAAAAAAAAAAAAAAAAAAAAAAAAAAAAAAAAAAAAAAAAAAAAAAAAAAAAAAAAAAAAAAAAAAAAAAAAAAAAAAAAAAAAAAAAAAAAAAAAAAAAAAAAAAAAAAAAAAAAAAAAAAAAAAAAAAAAAAAAAAAAAAAAAAAAAAAAAAAAAAAAAAAAAAAAAAAAAAAAAAAAAAAAAAAAAAAAAAAAAAAAAAAAAAAAAAAAAAAAAAAAAAAAAAAAAAAAAAAAAAAAAAAAAAAAAAAAAAAAAAAAAAAAAAAAAAAAAAAAAAAAAAAAAAAAAAAAAAAAAAAAAAAAAAAAAAAAAAAAAAAAAAAAAAAAAAAAAAAAAAAAAAAAAAAAAAAAAAAAAAAAAAAAAAAAAAAAAAAAAAAAAAAAAAAAAAAAAAAAAAAAAAAAAAAAAAAAAAAAAAAAAAAAAAAAAAAAAAAAAAAAAAAAAAAAAAAAAAAAAAAAAAAAAAAAAAAAAAAAAAAAAAAAAAAAAAAAAAAAAAAAAAAAAAAAAAAAAAAAAAAAAAAAAAAAAAAAAAAAAAAAAAAAAAAAAAAAAAAAAAAAAAAAAAAAAAAAAAAAAAAAAAAAAAAAAAAAAAAAAAAAAAAAAAAAAAAAAAAAAAAAAAAAAAAAAAAAAAAAAAAAAAAAAAAAAAAAAAAAAAAAAAAAAAAAAAAAAAAAAAAAAAAAAAAAAAAAAAAAAAAAAAAAAAAAAAAAAAAAAAAAAAAAAAAAAAAAAAAAAAAAAAAAAAAAAAAAAAAAAAAAAAAAAAAAAAAAAAAAAAAAAAAAAAAAAAAAAAAAAAAAAAAAAAAAAAAAAAAAAAAAAAAAAAAAAAAAAAAAAAAAAAAAAAAAAAAAAAAAAAAAAAAAAAAAAAAAAAAAAAAAAAAAAAAAAAAAAAAAAAAAAAAAAAAAAAAAAAAAAAAAAAAAAAAAAAAAAAAAAAAAAAAAAAAAAAAAAAAAAAAAAAAAAAAAAAAAAAAAAAAAAAAAAAAAAAAAAAAAAAAAAAAAAAAAAAAAAAAAAAAAAAAAAAAAAAAAAAAAAAAAAAAAAAAAAAAAAAAAAAAAAAAAAAAAAAAAAAAAAAAAAAAAAAAAAAAAAAAAAAAAAAAAAAAAAAAAAAAAAAAAAAAAAAAAAAAAAAAAAAAAAAAAAAAAAAAAAAAAAAAAAAAAAAAAAAAAAAAAAAAAAAAAAAAAAAAAAAAAAAAAAAAAAAAAAAAAAAAAAAAAAAAAAAAAAAAAAAAAAAAAAAAAAAAAAAAAAAAAAAAAAAAAAAAAAAAAAAAAAAAAAAAAAAAAAAAAAAAAAAAAAAAAAAAAAAAAAAAAAAAAAAAAAAAAAAAAAAAAAAAAAAAAAAAAAAAAAAAAAAAAAAAAAAAAAAAAAAAAAAAAAAAAAAAAAAAAAAAAAAAAAAAAAAAAAAAAAAAAAAAAAAAAAAAAAAAAAAAAAAAAAAAAAAAAAAAAAAAAAAAAAAAAAAAAAAAAAAAAAAAAAAAAAAAAAAAAAAAAAAAAAAAAAAAAAAAAAAAAAAAAAAAAAAAAAAAAAAAAAAAAAAAAAAAAAAAAAAAAAAAAAAAAAAAAAAAAAAAAAAAAAAAAAAAAAAAAAAAAAAAAAAAAAAAAAAAAAAAAAAAAAAAAAAAAAAAAAAAAAAAAAAAAAAAAAAAAAAAAAAAAAAAAAAAAAAAAAAAAAAAAAAAAAAAAAAAAAAAAAAAAAAAAAAAAAAAAAAAAAAAAAAAAAAAAAAAAAAAAAAAAAAAAAAAAAAAAAAAAAAAAAAAAAAAAAAAAAAAAAAAAAAAAAAAAAAAAAAAAAAAAAAAAAAAAAAAAAAAAAAAAAAAAAAAAAAAAAAAAAAAAAAAAAAAAAAAAAAAAAAAAAAAAAAAAAAAAAAAAAAAAAAAAAAAAAAAAAAAAAAAAAAAAAAAAAAAAAAAAAAAAAAAAAAAAAAAAAAAAAAAAAAAAAAAAAAAAAAAAAAAAAAAAAAAAAAAAAAAAAAAAAAAAAAAAAAAAAAAAAAAAAAAAAAAAAAAAAAAAAAAAAAAAAAAAAAAAAAAAAAAAAAAAAAAAAAAAAAAAAAAAAAAAAAAAAAAAAAAAAAAAAAAAAAAAAAAAAAAAAAAAAAAAAAAAAAAAAAAAAAAAAAAAAAAAAAAAAAAAAAAAAAAAAAAAAAAAAAAAAAAAAAAAAAAAAAAAAAAAAAAAAAAAAAAAAAAAAAAAAAAAAAAAAAAAAAAAAAAAAAAAAAAAAAAAAAAAAAAAAAAAAAAAAAAAAAAAAAAAAAAAAAAAAAAAAAAAAAAAAAAAAAAAAAAAAAAAAAAAAAAAAAAAAAAAAAAAAAAAAAAAAAAAAAAAAAAAAAAAAAAAAAAAAAAAAAAAAAAAAAAAAAAAAAAAAAAAAAAAAAAAAAAAAAAAAAAAAAAAAAAAAAAAAAAAAAAAAAAAAAAAAAAAAAAAAAAAAAAAAAAAAAAAAAAAAAAAAAAAAAAAAAAAAAAAAAAAAAAAAAAAAAAAAAAAAAAAAAAAAAAAAAAAAAAAAAAAAAAAAAAAAAAAAAAAAAAAAAAAAAAAAAAAAAAAAAAAAAAAAAAAAAAAAAAAAAAAAAAAAAAAAAAAAAAAAAAAAAAAAAAAAAAAAAAAAAAAAAAAAAAAAAAAAAAAAAAAAAAAAAAAAAAAAAAAAAAAAAAAAAAAAAAAAAAAAAAAAAAAAAAAAAAAAAAAAAAAAAAAAAAAAAAAAAAAAAAAAAAAAAAAAAAAAAAAAAAAAAAAAAAAAAAAAAAAAAAAAAAAAAAAAAAAAAAAAAAAAAAAAAAAAAAAAAAAAAAAAAAAAAAAAAAAAAAAAAAAAAAAAAAAAAAAAAAAAAAAAAAAAAAAAAAAAAAAAAAAAAAAAAAAAAAAAAAAAAAAAAAAAAAAAAAAAAAAAAAAAAAAAAAAAAAAAAAAAAAAAAAAAAAAAAAAAAAAAAAAAAAAAAAAAAAAAAAAAAAAAAAAAAAAAAAAAAAAAAAAAAAAAAAAAAAAAAAAAAAAAAAAAAAAAAAAAAAAAAAAAAAAAAAAAAAAAAAAAAAAAAAAAAAAAAAAAAAAAAAAAAAAAAAAAAAAAAAAAAAAAAAAAAAAAAAAAAAAAAAAAAAAAAAAAAAAAAAAAAAAAAAAAAAAAAAAAAAAAAAAAAAAAAAAAAAAAAAAAAAAAAAAAAAAAAAAAAAAAAAAAAAAAAAAAAAAAAAAAAAAAAAAAAAAAAAAAAAAAAAAAAAAAAAAAAAAAAAAAAAAAAAAAAAAAAAAAAAAAAAAAAAAAAAAAAAAAAAAAAAAAAAAAAAAAAAAAAAAAAAAAAAAAAAAAAAAAAAAAAAAAAAAAAAAAAAAAAAAAAAAAAAAAAAAAAAAAAAAAAAAAAAAAAAAAAAAAAAAAAAAAAAAAAAAAAAAAAAAAAAAAAAAAAAAAAAAAAAAAAAAAAAAAAAAAAAAAAAAAAAAAAAAAAAAAAAAAAAAAAAAAAAAAAAAAAAAAAAAAAAAAAAAAAAAAAAAAAAAAAAAAAAAAAAAAAAAAAAAAAAAAAAAAAAAAAAAAAAAAAAAAAAAAAAAAAAAAAAAAAAAAAAAAAAAAAAAAAAAAAAAAAAAAAAAAAAAAAAAAAAAAAAAAAAAAAAAAAAAAAAAAAAAAAAAAAAAAAAAAAAAAAAAAAAAAAAAAAAAAAAAAAAAAAAAAAAAAAAAAAAAAAAAAAAAAAAAAAAAAAAAAAAAAAAAAAAAAAAAAAAAAAAAAAAAAAAAAAAAAAAAAAAAAAAAAAAAAAAAAAAAAAAAAAAAAAAAAAAAAAAAAAAAAAAAAAAAAAAAAAAAAAAAAAAAAAAAAAAAAAAAAAAAAAAAAAAAAAAAAAAAAAAAAAAAAAAAAAAAAAAAAAAAAAAAAAAAAAAAAAAAAAAAAAAAAAAAAAAAAAAAAAAAAAAAAAAAAAAAAAAAAAAAAAAAAAAAAAAAAAAAAAAAAAAAAAAAAAAAAAAAAAAAAAAAAAAAAAAAAAAAAAAAAAAAAAAAAAAAAAAAAAAAAAAAAAAAAAAAAAAAAAAAAAAAAAAAAAAAAAAAAAAAAAAAAAAAAAAAAAAAAAAAAAAAAAAAAAAAAAAAAAAAAAAAAAAAAAAAAAAAAAAAAAAAAAAAAAAAAAAAAAAAAAAAAAAAAAAAAAAAAAAAAAAAAAAAAAAAAAAAAAAAAAAAAAAAAAAAAAAAAAAAAAAAAAAAAAAAAAAAAAAAAAAAAAAAAAAAAAAAAAAAAAAAAAAAAAAAAAAAAAAAAAAAAAAAAAAAAAAAAAAAAAAAAAAAAAAAAAAAAAAAAAAAAAAAAAAAAAAAAAAAAAAAAAAAAAAAAAAAAAAAAAAAAAAAAAAAAAAAAAAAAAAAAAAAAAAAAAAAAAAAAAAAAAAAAAAAAAAAAAAAAAAAAAAAAAAAAAAAAAAAAAAAAAAAAAAAAAAAAAAAAAAAAAAAAAAAAAAAAAAAAAAAAAAAAAAAAAAAAAAAAAAAAAAAAAAAAAAAAAAAAAAAAAAAAAAAAAAAAAAAAAAAAAAAAAAAAAAAAAAAAAAAAAAAAAAAAAAAAAAAAAAAAAAAAAAAAAAAAAAAAAAAAAAAAAAAAAAAAAAAAAAAAAAAAAAAAAAAAAAAAAAAAAAAAAAAAAAAAAAAAAAAAAAAAAAAAAAAAAAAAAAAAAAAAAAAAAAAAAAAAAAAAAAAAAAAAAAAAAAAAAAAAAAAAAAAAAAAAAAAAAAAAAAAAAAAAAAAAAAAAAAAAAAAAAAAAAAAAAAAAAAAAAAAAAAAAAAAAAAAAAAAAAAAAAAAAAAAAAAAAAAAAAAAAAAAAAAAAAAAAAAAAAAAAAAAAAAAAAAAAAAAAAAAAAAAAAAAAAAAAAAAAAAAAAAAAAAAAAAAAAAAAAAAAAAAAAAAAAAAAAAAAAAAAAAAAAAAAAAAAAAAAAAAAAAAAAAAAAAAAAAAAAAAAAAAAAAAAAAAAAAAAAAAAAAAAAAAAAAAAAAAAAAAAAAAAAAAAAAAAAAAAAAAAAAAAAAAAAAAAAAAAAAAAAAAAAAAAAAAAAAAAAAAAAAAAAAAAAAAAAAAAAAAAAAAAAAAAAAAAAAAAAAAAAAAAAAAAAAAAAAAAAAAAAAAAAAAAAAAAAAAAAAAAAAAAAAAAAAAAAAAAAAAAAAAAAAAAAAAAAAAAAAAAAAAAAAAAAAAAAAAAAAAAAAAAAAAAAAAAAAAAAAAAAAAAAAAAAAAAAAAAAAAAAAAAAAAAAAAAAAAAAAAAAAAAAAAAAAAAAAAAAAAAAAAAAAAAAAAAAAAAAAAAAAAAAAAAAAAAAAAAAAAAAAAAAAAAAAAAAAAAAAAAAAAAAAAAAAAAAAAAAAAAAAAAAAAAAAAAAAAAAAAAAAAAAAAAAAAAAAAAAAAAAAAAAAAAAAAAAAAAAAAAAAAAAAAAAAAAAAAAAAAAAAAAAAAAAAAAAAAAAAAAAAAAAAAAAAAAAAAAAAAAAAAAAAAAAAAAAAAAAAAAAAAAAAAAAAAAAAAAAAAAAAAAAAAAAAAAAAAAAAAAAAAAAAAAAAAAAAAAAAAAAAAAAAAAAAAAAAAAAAAAAAAAAAAAAAAAAAAAAAAAAAAAAAAAAAAAAAAAAAAAAAAAAAAAAAAAAAAAAAAAAAAAAAAAAAAAAAAAAAAAAAAAAAAAAAAAAAAAAAAAAAAAAAAAAAAAAAAAAAAAAAAAAAAAAAAAAAAAAAAAAAAAAAAAAAAAAAAAAAAAAAAAAAAAAAAAAAAAAAAAAAAAAAAAAAAAAAAAAAAAAAAAAAAAAAAAAAAAAAAAAAAAAAAAAAAAAAAAAAAAAAAAAAAAAAAAAAAAAAAAAAAAAAAAAAAAAAAAAAAAAAAAAAAAAAAAAAAAAAAAAAAAAAAAAAAAAAAAAAAAAAAAAAAAAAAAAAAAAAAAAAAAAAAAAAAAAAAAAAAAAAAAAAAAAAAAAAAAAAAAAAAAAAAAAAAAAAAAAAAAAAAAAAAAAAAAAAAAAAAAAAAAAAAAAAAAAAAAAAAAAAAAAAAAAAAAAAAAAAAAAAAAAAAAAAAAAAAAAAAAAAAAAAAAAAAAAAAAAAAAAAAAAAAAAAAAAAAAAAAAAAAAAAAAAAAAAAAAAAAAAAAAAAAAAAAAAAAAAAAAAAAAAAAAAAAAAAAAAAAAAAAAAAAAAAAAAAAAAAAAAAAAAAAAAAAAAAAAAAAAAAAAAAAAAAAAAAAAAAAAAAAAAAAAAAAAAAAAAAAAAAAAAAAAAAAAAAAAAAAAAAAAAAAAAAAAAAAAAAAAAAAAAAAAAAAAAAAAAAAAAAAAAAAAAAAAAAAAAAAAAAAAAAAAAAAAAAAAAAAAAAAAAAAAAAAAAAAAAAAAAAAAAAAAAAAAAAAAAAAAAAAAAAAAAAAAAAAAAAAAAAAAAAAAAAAAAAAAAAAAAAAAAAAAAAAAAAAAAAAAAAAAAAAAAAAAAAAAAAAAAAAAAAAAAAAAAAAAAAAAAAAAAAAAAAAAAAAAAAAAAAAAAAAAAAAAAAAAAAAAAAAAAAAAAAAAAAAAAAAAAAAAAAAAAAAAAAAAAAAAAAAAAAAAAAAAAAAAAAAAAAAAAAAAAAAAAAAAAAAAAAAAAAAAAAAAAAAAAAAAAAAAAAAAAAAAAAAAAAAAAAAAAAAAAAAAAAAAAAAAAAAAAAAAAAAAAAAAAAAAAAAAAAAAAAAAAAAAAAAAAAAAAAAAAAAAAAAAAAAAAAAAAAAAAAAAAAAAAAAAAAAAAAAAAAAAAAAAAAAAAAAAAAAAAAAAAAAAAAAAAAAAAAAAAAAAAAAAAAAAAAAAAAAAAAAAAAAAAAAAAAAAAAAAAAAAAAAAAAAAAAAAAAAAAAAAAAAAAAAAAAAAAAAAAAAAAAAAAAAAAAAAAAAAAAAAAAAAAAAAAAAAAAAAAAAAAAAAAAAAAAAAAAAAAAAAAAAAAAAAAAAAAAAAAAAAAAAAAAAAAAAAAAAAAAAAAAAAAAAAAAAAAAAAAAAAAAAAAAAAAAAAAAAAAAAAAAAAAAAAAAAAAAAAAAAAAAAAAAAAAAAAAAAAAAAAAAAAAAAAAAAAAAAAAAAAAAAAAAAAAAAAAAAAAAAAAAAAAAAAAAAAAAAAAAAAAAAAAAAAAAAAAAAAAAAAAAAAAAAAAAAAAAAAAAAAAAAAAAAAAAAAAAAAAAAAAAAAAAAAAAAAAAAAAAAAAAAAAAAAAAAAAAAAAAAAAAAAAAAAAAAAAAAAAAAAAAAAAAAAAAAAAAAAAAAAAAAAAAAAAAAAAAAAAAAAAAAAAAAAAAAAAAAAAAAAAAAAAAAAAAAAAAAAAAAAAAAAAAAAAAAAAAAAAAAAAAAAAAAAAAAAAAAAAAAAAAAAAAAAAAAAAAAAAAAAAAAAAAAAAAAAAAAAAAAAAAAAAAAAAAAAAAAAAAAAAAAAAAAAAAAAAAAAAAAAAAAAAAAAAAAAAAAAAAAAAAAAAAAAAAAAAAAAAAAAAAAAAAAAAAAAAAAAAAAAAAAAAAAAAAAAAAAAAAAAAAAAAAAAAAAAAAAAAAAAAAAAAAAAAAAAAAAAAAAAAAAAAAAAAAAAAAAAAAAAAAAAAAAAAAAAAAAAAAAAAAAAAAAAAAAAAAAAAAAAAAAAAAAAAAAAAAAAAAAAAAAAAAAAAAAAAAAAAAAAAAAAAAAAAAAAAAAAAAAAAAAAAAAAAAAAAAAAAAAAAAAAAAAAAAAAAAAAAAAAAAAAAAAAAAAAAAAAAAAAAAAAAAAAAAAAAAAAAAAAAAAAAAAAAAAAAAAAAAAAAAAAAAAAAAAAAAAAAAAAAAAAAAAAAAAAAAAAAAAAAAAAAAAAAAAAAAAAAAAAAAAAAAAAAAAAAAAAAAAAAAAAAAAAAAAAAAAAAAAAAAAAAAAAAAAAAAAAAAAAAAAAAAAAAAAAAAAAAAAAAAAAAAAAAAAAAAAAAAAAAAAAAAAAAAAAAAAAAAAAAAAAAAAAAAAAAAAAAAAAAAAAAAAAAAAAAAAAAAAAAAAAAAAAAAAAAAAAAAAAAAAAAAAAAAAAAAAAAAAAAAAAAAAAAAAAAAAAAAAAAAAAAAAAAAAAAAAAAAAAAAAAAAAAAAAAAAAAAAAAAAAAAAAAAAAAAAAAAAAAAAAAAAAAAAAAAAAAAAAAAAAAAAAAAAAAAAAAAAAAAAAAAAAAAAAAAAAAAAAAAAAAAAAAAAAAAAAAAAAAAAAAAAAAAAAAAAAAAAAAAAAAAAAAAAAAAAAAAAAAAAAAAAAAAAAAAAAAAAAAAAAAAAAAAAAAAAAAAAAAAAAAAAAAAAAAAAAAAAAAAAAAAAAAAAAAAAAAAAAAAAAAAAAAAAAAAAAAAAAAAAAAAAAAAAAAAAAAAAAAAAAAAAAAAAAAAAAAAAAAAAAAAAAAAAAAAAAAAAAAAAAAAAAAAAAAAAAAAAAAAAAAAAAAAAAAAAAAAAAAAAAAAAAAAAAAAAAAAAAAAAAAAAAAAAAAAAAAAAAAAAAAAAAAAAAAAAAAAAAAAAAAAAAAAAAAAAAAAAAAAAAAAAAAAAAAAAAAAAAAAAAAAAAAAAAAAAAAAAAAAAAAAAAAAAAAAAAAAAAAAAAAAAAAAAAAAAAAAAAAAAAAAAAAAAAAAAAAAAAAAAAAAAAAAAAAAAAAAAAAAAAAAAAAAAAAAAAAAAAAAAAAAAAAAAAAAAAAAAAAAAAAAAAAAAAAAAAAAAAAAAAAAAAAAAAAAAAAAAAAAAAAAAAAAAAAAAAAAAAAAAAAAAAAAAAAAAAAAAAAAAAAAAAAAAAAAAAAAAAAAAAAAAAAAAAAAAAAAAAAAAAAAAAAAAAAAAAAAAAAAAAAAAAAAAAAAAAAAAAAAAAAAAAAAAAAAAAAAAAAAAAAAAAAAAAAAAAAAAAAAAAAAAAAAAAAAAAAAAAAAAAAAAAAAAAAAAAAAAAAAAAAAAAAAAAAAAAAAAAAAAAAAAAAAAAAAAAAAAAAAAAAAAAAAAAAAAAAAAAAAAAAAAAAAAAAAAAAAAAAAAAAAAAAAAAAAAAAAAAAAAAAAAAAAAAAAAAAAAAAAAAAAAAAAAAAAAAAAAAAAAAAAAAAAAAAAAAAAAAAAAAAAAAAAAAAAAAAAAAAAAAAAAAAAAAAAAAAAAAAAAAAAAAAAAAAAAAAAAAAAAAAAAAAAAAAAAAAAAAAAAAAAAAAAAAAAAAAAAAAAAAAAAAAAAAAAAAAAAAAAAAAAAAAAAAAAAAAAAAAAAAAAAAAAAAAAAAAAAAAAAAAAAAAAAAAAAAAAAAAAAAAAAAAAAAAAAAAAAAAAAAAAAAAAAAAAAAAAAAAAAAAAAAAAAAAAAAAAAAAAAAAAAAAAAAAAAAAAAAAAAAAAAAAAAAAAAAAAAAAAAAAAAAAAAAAAAAAAAAAAAAAAAAAAAAAAAAAAAAAAAAAAAAAAAAAAAAAAAAAAAAAAAAAAAAAAAAAAAAAAAAAAAAAAAAAAAAAAAAAAAAAAAAAAAAAAAAAAAAAAAAAAAAAAAAAAAAAAAAAAAAAAAAAAAAAAAAAAAAAAAAAAAAAAAAAAAAAAAAAAAAAAAAAAAAAAAAAAAAAAAAAAAAAAAAAAAAAAAAAAAAAAAAAAAAAAAAAAAAAAAAAAAAAAAAAAAAAAAAAAAAAAAAAAAAAAAAAAAAAAAAAAAAAAAAAAAAAAAAAAAAAAAAAAAAAAAAAAAAAAAAAAAAAAAAAAAAAAAAAAAAAAAAAAAAAAAAAAAAAAAAAAAAAAAAAAAAAAAAAAAAAAAAAAAAAAAAAAAAAAAAAAAAAAAAAAAAAAAAAAAAAAAAAAAAAAAAAAAAAAAAAAAAAAAAAAAAAAAAAAAAAAAAAAAAAAAAAAAAAAAAAAAAAAAAAAAAAAAAAAAAAAAAAAAAAAAAAAAAAAAAAAAAAAAAAAAAAAAAAAAAAAAAAAAAAAAAAAAAAAAAAAAAAAAAAAAAAAAAAAAAAAAAAAAAAAAAAAAAAAAAAAAAAAAAAAAAAAAAAAAAAAAAAAAAAAAAAAAAAAAAAAAAAAAAAAAAAAAAAAAAAAAAAAAAAAAAAAAAAAAAAAAAAAAAAAAAAAAAAAAAAAAAAAAAAAAAAAAAAAAAAAAAAAAAAAAAAAAAAAAAAAAAAAAAAAAAAAAAAAAAAAAAAAAAAAAAAAAAAAAAAAAAAAAAAAAAAAAAAAAAAAAAAAAAAAAAAAAAAAAAAAAAAAAAAAAAAAAAAAAAAAAAAAAAAAAAAAAAAAAAAAAAAAAAAAAAAAAAAAAAAAAAAAAAAAAAAAAAAAAAAAAAAAAAAAAAAAAAAAAAAAAAAAAAAAAAAAAAAAAAAAAAAAAAAAAAAAAAAAAAAAAAAAAAAAAAAAAAAAAAAAAAAAAAAAAAAAAAAAAAAAAAAAAAAAAAAAAAAAAAAAAAAAAAAAAAAAAAAAAAAAAAAAAAAAAAAAAAAAAAAAAAAAAAAAAAAAAAAAAAAAAAAAAAAAAAAAAAAAAAAAAAAAAAAAAAAAAAAAAAAAAAAAAAAAAAAAAAAAAAAAAAAAAAAAAAAAAAAAAAAAAAAAAAAAAAAAAAAAAAAAAAAAAAAAAAAAAAAAAAAAAAAAAAAAAAAAAAAAAAAAAAAAAAAAAAAAAAAAAAAAAAAAAAAAAAAAAAAAAAAAAAAAAAAAAAAAAAAAAAAAAAAAAAAAAAAAAAAAAAAAAAAAAAAAAAAAAAAAAAAAAAAAAAAAAAAAAAAAAAAAAAAAAAAAAAAAAAAAAAAAAAAAAAAAAAAAAAAAAAAAAAAAAAAAAAAAAAAAAAAAAAAAAAAAAAAAAAAAAAAAAAAAAAAAAAAAAAAAAAAAAAAAAAAAAAAAAAAAAAAAAAAAAAAAAAAAAAAAAAAAAAAAAAAAAAAAAAAAAAAAAAAAAAAAAAAAAAAAAAAAAAAAAAAAAAAAAAAAAAAAAAAAAAAAAAAAAAAAAAAAAAAAAAAAAAAAAAAAAAAAAAAAAAAAAAAAAAAAAAAAAAAAAAAAAAAAAAAAAAAAAAAAAAAAAAAAAAAAAAAAAAAAAAAAAAAAAAAAAAAAAAAAAAAAAAAAAAAAAAAAAAAAAAAAAAAAAAAAAAAAAAAAAAAAAAAAAAAAAAAAAAAAAAAAAAAAAAAAAAAAAAAAAAAAAAAAAAAAAAAAAAAAAAAAAAAAAAAAAAAAAAAAAAAAAAAAAAAAAAAAAAAAAAAAAAAAAAAAAAAAAAAAAAAAAAAAAAAAAAAAAAAAAAAAAAAAAAAAAAAAAAAAAAAAAAAAAAAAAAAAAAAAAAAAAAAAAAAAAAAAAAAAAAAAAAAAAAAAAAAAAAAAAAAAAAAAAAAAAAAAAAAAAAAAAAAAAAAAAAAAAAAAAAAAAAAAAAAAAAAAAAAAAAAAAAAAAAAAAAAAAAAAAAAAAAAAAAAAAAAAAAAAAAAAAAAAAAAAAAAAAAAAAAAAAAAAAAAAAAAAAAAAAAAAAAAAAAAAAAAAAAAAAAAAAAAAAAAAAAAAAAAAAAAAAAAAAAAAAAAAAAAAAAAAAAAAAAAAAAAAAAAAAAAAAAAAAAAAAAAAAAAAAAAAAAAAAAAAAAAAAAAAAAAAAAAAAAAAAAAAAAAAAAAAAAAAAAAAAAAAAAAAAAAAAAAAAAAAAAAAAAAAAAAAAAAAAAAAAAAAAAAAAAAAAAAAAAAAAAAAAAAAAAAAAAAAAAAAAAAAAAAAAAAAAAAAAAAAAAAAAAAAAAAAAAAAAAAAAAAAAAAAAAAAAAAAAAAAAAAAAAAAAAAAAAAAAAAAAAAAAAAAAAAAAAAAAAAAAAAAAAAAAAAAAAAAAAAAAAAAAAAAAAAAAAAAAAAAAAAAAAAAAAAAAAAAAAAAAAAAAAAAAAAAAAAAAAAAAAAAAAAAAAAAAAAAAAAAAAAAAAAAAAAAAAAAAAAAAAAAAAAAAAAAAAAAAAAAAAAAAAAAAAAAAAAAAAAAAAAAAAAAAAAAAAAAAAAAAAAAAAAAAAAAAAAAAAAAAAAAAAAAAAAAAAAAAAAAAAAAAAAAAAAAAAAAAAAAAAAAAAAAAAAAAAAAAAAAAAAAAAAAAAAAAAAAAAAAAAAAAAAAAAAAAAAAAAAAAAAAAAAAAAAAAAAAAAAAAAAAAAAAAAAAAAAAAAAAAAAAAAAAAAAAAAAAAAAAAAAAAAAAAAAAAAAAAAAAAAAAAAAAAAAAAAAAAAAAAAAAAAAAAAAAAAAAAAAAAAAAAAAAAAAAAAAAAAAAAAAAAAAAAAAAAAAAAAAAAAAAAAAAAAAAAAAAAAAAAAAAAAAAAAAAAAAAAAAAAAAAAAAAAAAAAAAAAAAAAAAAAAAAAAAAAAAAAAAAAAAAAAAAAAAAAAAAAAAAAAAAAAAAAAAAAAAAAAAAAAAAAAAAAAAAAAAAAAAAAAAAAAAAAAAAAAAAAAAAAAAAAAAAAAAAAAAAAAAAAAAAAAAAAAAAAAAAAAAAAAAAAAAAAAAAAAAAAAAAAAAAAAAAAAAAAAAAAAAAAAAAAAAAAAAAAAAAAAAAAAAAAAAAAAAAAAAAAAAAAAAAAAAAAAAAAAAAAAAAAAAAAAAAAAAAAAAAAAAAAAAAAAAAAAAAAAAAAAAAAAAAAAAAAAAAAAAAAAAAAAAAAAAAAAAAAAAAAAAAAAAAAAAAAAAAAAAAAAAAAAAAAAAAAAAAAAAAAAAAAAAAAAAAAAAAAAAAAAAAAAAAAAAAAAAAAAAAAAAAAAAAAAAAAAAAAAAAAAAAAAAAAAAAAAAAAAAAAAAAAAAAAAAAAAAAAAAAAAAAAAAAAAAAAAAAAAAAAAAAAAAAAAAAAAAAAAAAAAAAAAAAAAAAAAAAAAAAAAAAAAAAAAAAAAAAAAAAAAAAAAAAAAAAAAAAAAAAAAAAAAAAAAAAAAAAAAAAAAAAAAAAAAAAAAAAAAAAAAAAAAAAAAAAAAAAAAAAAAAAAAAAAAAAAAAAAAAAAAAAAAAAAAAAAAAAAAAAAAAAAAAAAAAAAAAAAAAAAAAAAAAAAAAAAAAAAAAAAAAAAAAAAAAAAAAAAAAAAAAAAAAAAAAAAAAAAAAAAAAAAAAAAAAAAAAAAAAAAAAAAAAAAAAAAAAAAAAAAAAAAAAAAAAAAAAAAAAAAAAAAAAAAAAAAAAAAAAAAAAAAAAAAAAAAAAAAAAAAAAAAAAAAAAAAAAAAAAAAAAAAAAAAAAAAAAAAAAAAAAAAAAAAAAAAAAAAAAAAAAAAAAAAAAAAAAAAAAAAAAAAAAAAAAAAAAAAAAAAAAAAAAAAAAAAAAAAAAAAAAAAAAAAAAAAAAAAAAAAAAAAAAAAAAAAAAAAAAAAAAAAAAAAAAAAAAAAAAAAAAAAAAAAAAAAAAAAAAAAAAAAAAAAAAAAAAAAAAAAAAAAAAAAAAAAAAAAAAAAAAAAAAAAAAAAAAAAAAAAAAAAAAAAAAAAAAAAAAAAAAAAAAAAAAAAAAAAAAAAAAAAAAAAAAAAAAAAAAAAAAAAAAAAAAAAAAAAAAAAAAAAAAAAAAAAAAAAAAAAAAAAAAAAAAAAAAAAAAAAAAAAAAAAAAAAAAAAAAAAAAAAAAAAAAAAAAAAAAAAAAAAAAAAAAAAAAAAAAAAAAAAAAAAAAAAAAAAAAAAAAAAAAAAAAAAAAAAAAAAAAAAAAAAAAAAAAAAAAAAAAAAAAAAAAAAAAAAAAAAAAAAAAAAAAAAAAAAAAAAAAAAAAAAAAAAAAAAAAAAAAAAAAAAAAAAAAAAAAAAAAAAAAAAAAAAAAAAAAAAAAAAAAAAAAAAAAAAAAAAAAAAAAAAAAAAAAAAAAAAAAAAAAAAAAAAAAAAAAAAAAAAAAAAAAAAAAAAAAAAAAAAAAAAAAAAAAAAAAAAAAAAAAAAAAAAAAAAAAAAAAAAAAAAAAAAAAAAAAAAAAAAAAAAAAAAAAAAAAAAAAAAAAAAAAAAAAAAAAAAAAAAAAAAAAAAAAAAAAAAAAAAAAAAAAAAAAAAAAAAAAAAAAAAAAAAAAAAAAAAAAAAAAAAAAAAAAAAAAAAAAAAAAAAAAAAAAAAAAAAAAAAAAAAAAAAAAAAAAAAAAAAAAAAAAAAAAAAAAAAAAAAAAAAAAAAAAAAAAAAAAAAAAAAAAAAAAAAAAAAAAAAAAAAAAAAAAAAAAAAAAAAAAAAAAAAAAAAAAAAAAAAAAAAAAAAAAAAAAAAAAAAAAAAAAAAAAAAAAAAAAAAAAAAAAAAAAAAAAAAAAAAAAAAAAAAAAAAAAAAAAAAAAAAAAAAAAAAAAAAAAAAAAAAAAAAAAAAAAAAAAAAAAAAAAAAAAAAAAAAAAAAAAAAAAAAAAAAAAAAAAAAAAAAAAAAAAAAAAAAAAAAAAAAAAAAAAAAAAAAAAAAAAAAAAAAAAAAAAAAAAAAAAAAAAAAAAAAAAAAAAAAAAAAAAAAAAAAAAAAAAAAAAAAAAAAAAAAAAAAAAAAAAAAAAAAAAAAAAAAAAAAAAAAAAAAAAAAAAAAAAAAAAAAAAAAAAAAAAAAAAAAAAAAAAAAAAAAAAAAAAAAAAAAAAAAAAAAAAAAAAAAAAAAAAAAAAAAAAAAAAAAAAAAAAAAAAAAAAAAAAAAAAAAAAAAAAAAAAAAAAAAAAAAAAAAAAAAAAAAAAAAAAAAAAAAAAAAAAAAAAAAAAAAAAAAAAAAAAAAAAAAAAAAAAAAAAAAAAAAAAAAAAAAAAAAAAAAAAAAAAAAAAAAAAAAAAAAAAAAAAAAAAAAAAAAAAAAAAAAAAAAAAAAAAAAAAAAAAAAAAAAAAAAAAAAAAAAAAAAAAAAAAAAAAAAAAAAAAAAAAAAAAAAAAAAAAAAAAAAAAAAAAAAAAAAAAAAAAAAAAAAAAAAAAAAAAAAAAAAAAAAAAAAAAAAAAAAAAAAAAAAAAAAAAAAAAAAAAAAAAAAAAAAAAAAAAAAAAAAAAAAAAAAAAAAAAAAAAAAAAAAAAAAAAAAAAAAAAAAAAAAAAAAAAAAAAAAAAAAAAAAAAAAAAAAAAAAAAAAAAAAAAAAAAAAAAAAAAAAAAAAAAAAAAAAAAAAAAAAAAAAAAAAAAAAAAAAAAAAAAAAAAAAAAAAAAAAAAAAAAAAAAAAAAAAAAAAAAAAAAAAAAAAAAAAAAAAAAAAAAAAAAAAAAAAAAAAAAAAAAAAAAAAAAAAAAAAAAAAAAAAAAAAAAAAAAAAAAAAAAAAAAAAAAAAAAAAAAAAAAAAAAAAAAAAAAAAAAAAAAAAAAAAAAAAAAAAAAAAAAAAAAAAAAAAAAAAAAAAAAAAAAAAAAAAAAAAAAAAAAAAAAAAAAAAAAAAAAAAAAAAAAAAAAAAAAAAAAAAAAAAAAAAAAAAAAAAAAAAAAAAAAAAAAAAAAAAAAAAAAAAAAAAAAAAAAAAAAAAAAAAAAAAAAAAAAAAAAAAAAAAAAAAAAAAAAAAAAAAAAAAAAAAAAAAAAAAAAAAAAAAAAAAAAAAAAAAAAAAAAAAAAAAAAAAAAAAAAAAAAAAAAAAAAAAAAAAAAAAAAAAAAAAAAAAAAAAAAAAAAAAAAAAAAAAAAAAAAAAAAAAAAAAAAAAAAAAAAAAAAAAAAAAAAAAAAAAAAAAAAAAAAAAAAAAAAAAAAAAAAAAAAAAAAAAAAAAAAAAAAAAAAAAAAAAAAAAAAAAAAAAAAAAAAAAAAAAAAAAAAAAAAAAAAAAAAAAAAAAAAAAAAAAAAAAAAAAAAAAAAAAAAAAAAAAAAAAAAAAAAAAAAAAAAAAAAAAAAAAAAAAAAAAAAAAAAAAAAAAAAAAAAAAAAAAAAAAAAAAAAAAAAAAAAAAAAAAAAAAAAAAAAAAAAAAAAAAAAAAAAAAAAAAAAAAAAAAAAAAAAAAAAAAAAAAAAAAAAAAAAAAAAAAAAAAAAAAAAAAAAAAAAAAAAAAAAAAAAAAAAAAAAAAAAAAAAAAAAAAAAAAAAAAAAAAAAAAAAAAAAAAAAAAAAAAAAAAAAAAAAAAAAAAAAAAAAAAAAAAAAAAAAAAAAAAAAAAAAAAAAAAAAAAAAAAAAAAAAAAAAAAAAAAAAAAAAAAAAAAAAAAAAAAAAAAAAAAAAAAAAAAAAAAAAAAAAAAAAAAAAAAAAAAAAAAAAAAAAAAAAAAAAAAAAAAAAAAAAAAAAAAAAAAAAAAAAAAAAAAAAAAAAAAAAAAAAAAAAAAAAAAAAAAAAAAAAAAAAAAAAAAAAAAAAAAAAAAAAAAAAAAAAAAAAAAAAAAAAAAAAAAAAAAAAAAAAAAAAAAAAAAAAAAAAAAAAAAAAAAAAAAAAAAAAAAAAAAAAAAAAAAAAAAAAAAAAAAAAAAAAAAAAAAAAAAAAAAAAAAAAAAAAAAAAAAAAAAAAAAAAAAAAAAAAAAAAAAAAAAAAAAAAAAAAAAAAAAAAAAAAAAAAAAAAAAAAAAAAAAAAAAAAAAAAAAAAAAAAAAAAAAAAAAAAAAAAAAAAAAAAAAAAAAAAAAAAAAAAAAAAAAAAAAAAAAAAAAAAAAAAAAAAAAAAAAAAAAAAAAAAAAAAAAAAAAAAAAAAAAAAAAAAAAAAAAAAAAAAAAAAAAAAAAAAAAAAAAAAAAAAAAAAAAAAAAAAAAAAAAAAAAAAAAAAAAAAAAAAAAAAAAAAAAAAAAAAAAAAAAAAAAAAAAAAAAAAAAAAAAAAAAAAAAAAAAAAAAAAAAAAAAAAAAAAAAAAAAAAAAAAAAAAAAAAAAAAAAAAAAAAAAAAAAAAAAAAAAAAAAAAAAAAAAAAAAAAAAAAAAAAAAAAAAAAAAAAAAAAAAAAAAAAAAAAAAAAAAAAAAAAAAAAAAAAAAAAAAAA=\" type=\"audio/wav\" />\n",
              "                    Your browser does not support the audio element.\n",
              "                </audio>\n",
              "              "
            ],
            "text/plain": [
              "<IPython.lib.display.Audio object>"
            ]
          },
          "metadata": {
            "tags": []
          },
          "execution_count": 46
        }
      ]
    },
    {
      "cell_type": "markdown",
      "metadata": {
        "id": "1MaL9J2dNVtG"
      },
      "source": [
        "It can be heard, that the speakers change along with their speaking rate, accent, and background environment, etc. Overall, the recordings sound acceptably clear though, which is to be expected from a crowd-sourced read speech corpus.\n",
        "\n",
        "Let's do a final check that the data is correctly prepared, by printing the shape of the speech input, its transcription, and the corresponding sampling rate.\n",
        "\n",
        "**Note**: *You can click the following cell a couple of times to verify multiple samples.*"
      ]
    },
    {
      "cell_type": "code",
      "metadata": {
        "id": "1Po2g7YPuRTx"
      },
      "source": [
        "# rand_int = random.randint(0, len(common_voice_train))\n",
        "\n",
        "# print(\"Target text:\", common_voice_train[rand_int][\"target_text\"])\n",
        "# print(\"Input array shape:\", np.asarray(common_voice_train[rand_int][\"speech\"]).shape)\n",
        "# print(\"Sampling rate:\", common_voice_train[rand_int][\"sampling_rate\"])"
      ],
      "execution_count": 57,
      "outputs": []
    },
    {
      "cell_type": "markdown",
      "metadata": {
        "id": "M9teZcSwOBJ4"
      },
      "source": [
        "Good! Everything looks fine - the data is a 1-dimensional array, the sampling rate always corresponds to 16kHz, and the target text is normalized."
      ]
    },
    {
      "cell_type": "markdown",
      "metadata": {
        "id": "k3Pbn5WvOYZF"
      },
      "source": [
        "Finally, we can process the dataset to the format expected by the model for training. We will again make use of the `map(...)` function.\n",
        "\n",
        "First, we check that the data samples have the same sampling rate of 16kHz.\n",
        "Second, we extract the `input_values` from the loaded audio file. In our case, this includes only normalization, but for other speech models, this step could correspond to extracting, *e.g.* [Log-Mel features](https://en.wikipedia.org/wiki/Mel-frequency_cepstrum). \n",
        "Third, we encode the transcriptions to label ids.\n",
        "\n",
        "**Note**: This mapping function is a good example of how the `Wav2Vec2Processor` class should be used. In \"normal\" context, calling `processor(...)` is redirected to `Wav2Vec2FeatureExtractor`'s call method. When wrapping the processor into the `as_target_processor` context, however, the same method is redirected to `Wav2Vec2CTCTokenizer`'s call method.\n",
        "For more information please check the [docs](https://huggingface.co/transformers/master/model_doc/wav2vec2.html#transformers.Wav2Vec2Processor.__call__)."
      ]
    },
    {
      "cell_type": "code",
      "metadata": {
        "id": "eJY7I0XAwe9p"
      },
      "source": [
        "# def prepare_dataset(batch):\n",
        "#     # check that all files have the correct sampling rate\n",
        "#     assert (\n",
        "#         len(set(batch[\"sampling_rate\"])) == 1\n",
        "#     ), f\"Make sure all inputs have the same sampling rate of {processor.feature_extractor.sampling_rate}.\"\n",
        "\n",
        "#     batch[\"input_values\"] = processor(batch[\"speech\"], sampling_rate=batch[\"sampling_rate\"][0]).input_values\n",
        "    \n",
        "#     with processor.as_target_processor():\n",
        "#         batch[\"labels\"] = processor(batch[\"target_text\"]).input_ids\n",
        "#     return batch"
      ],
      "execution_count": 58,
      "outputs": []
    },
    {
      "cell_type": "code",
      "metadata": {
        "id": "-np9xYK-wl8q"
      },
      "source": [
        "# common_voice_train = common_voice_train.map(prepare_dataset, remove_columns=common_voice_train.column_names, batch_size=4, num_proc=4, batched=True)\n",
        "# common_voice_test = common_voice_test.map(prepare_dataset, remove_columns=common_voice_test.column_names, batch_size=4, num_proc=4, batched=True)"
      ],
      "execution_count": 59,
      "outputs": []
    },
    {
      "cell_type": "markdown",
      "metadata": {
        "id": "gYlQkKVoRUos"
      },
      "source": [
        "## Training\n",
        "\n",
        "The data is processed so that we are ready to start setting up the training pipeline. We will make use of 🤗's [Trainer](https://huggingface.co/transformers/master/main_classes/trainer.html?highlight=trainer) for which we essentially need to do the following:\n",
        "\n",
        "- Define a data collator. In contrast to most NLP models, XLSR-Wav2Vec2 has a much larger input length than output length. *E.g.*, a sample of input length 50000 has an output length of no more than 100. Given the large input sizes, it is much more efficient to pad the training batches dynamically meaning that all training samples should only be padded to the longest sample in their batch and not the overall longest sample. Therefore, fine-tuning XLSR-Wav2Vec2 requires a special padding data collator, which we will define below\n",
        "\n",
        "- Evaluation metric. During training, the model should be evaluated on the word error rate. We should define a `compute_metrics` function accordingly\n",
        "\n",
        "- Load a pretrained checkpoint. We need to load a pretrained checkpoint and configure it correctly for training.\n",
        "\n",
        "- Define the training configuration.\n",
        "\n",
        "After having fine-tuned the model, we will correctly evaluate it on the test data and verify that it has indeed learned to correctly transcribe speech."
      ]
    },
    {
      "cell_type": "markdown",
      "metadata": {
        "id": "Slk403unUS91"
      },
      "source": [
        "### Set-up Trainer\n",
        "\n",
        "Let's start by defining the data collator. The code for the data collator was copied from [this example](https://github.com/huggingface/transformers/blob/9a06b6b11bdfc42eea08fa91d0c737d1863c99e3/examples/research_projects/wav2vec2/run_asr.py#L81).\n",
        "\n",
        "Without going into too many details, in contrast to the common data collators, this data collator treats the `input_values` and `labels` differently and thus applies to separate padding functions on them (again making use of XLSR-Wav2Vec2's context manager). This is necessary because in speech input and output are of different modalities meaning that they should not be treated by the same padding function.\n",
        "Analogous to the common data collators, the padding tokens in the labels with `-100` so that those tokens are **not** taken into account when computing the loss."
      ]
    },
    {
      "cell_type": "code",
      "metadata": {
        "id": "g5674s5Qhtz2"
      },
      "source": [
        "import torchaudio\n",
        "import librosa\n",
        "\n",
        "import numpy as np\n",
        "import pandas as pd\n",
        "\n",
        "from torch.utils.data import Dataset, DataLoader\n",
        "import os\n",
        "\n",
        "\n",
        "class CommonVoiceDataset(Dataset):\n",
        "\n",
        "    def __init__(self, csv_file, root_dir, processor, column_names=None, sep=\"\\t\"):\n",
        "        self.data = pd.read_csv(os.path.join(root_dir, csv_file), sep=sep)\n",
        "        self.processor = processor\n",
        "        self.column_names = column_names\n",
        "\n",
        "    def __len__(self):\n",
        "        return len(self.data)\n",
        "\n",
        "\n",
        "    def speech_file_to_array_fn(self, batch):\n",
        "        speech_array, sampling_rate = torchaudio.load(batch[\"path\"])\n",
        "        batch[\"speech\"] = speech_array[0].numpy()\n",
        "        batch[\"sampling_rate\"] = sampling_rate\n",
        "        batch[\"target_text\"] = batch[\"text\"]\n",
        "        return batch\n",
        "\n",
        "    \n",
        "    def resample(self, batch):\n",
        "        batch[\"speech\"] = librosa.resample(np.asarray(batch[\"speech\"]), 48_000, 16_000)\n",
        "        batch[\"sampling_rate\"] = 16_000\n",
        "        return batch\n",
        "\n",
        "    \n",
        "    def prepare_dataset(self, batch, column_names=None):\n",
        "        batch[\"input_values\"] = self.processor(batch[\"speech\"], sampling_rate=batch[\"sampling_rate\"]).input_values[0].tolist()\n",
        "\n",
        "        with self.processor.as_target_processor():\n",
        "            batch[\"labels\"] = self.processor(batch[\"target_text\"]).input_ids\n",
        "\n",
        "        if column_names and isinstance(column_names, list):\n",
        "            batch = {name: batch[name] for name in column_names}\n",
        "        \n",
        "        return batch\n",
        "\n",
        "\n",
        "    def __getitem__(self, idx):\n",
        "        if torch.is_tensor(idx):\n",
        "            idx = idx.tolist()\n",
        "\n",
        "        batch = self.data.iloc[idx].copy()\n",
        "        batch = batch.to_dict()\n",
        "        batch = self.speech_file_to_array_fn(batch)\n",
        "        batch = self.resample(batch)\n",
        "        batch = self.prepare_dataset(batch, self.column_names)\n",
        "\n",
        "        return batch "
      ],
      "execution_count": 47,
      "outputs": []
    },
    {
      "cell_type": "code",
      "metadata": {
        "id": "tborvC9hx88e"
      },
      "source": [
        "import torch\n",
        "\n",
        "from dataclasses import dataclass, field\n",
        "from typing import Any, Dict, List, Optional, Union\n",
        "\n",
        "@dataclass\n",
        "class DataCollatorCTCWithPadding:\n",
        "    \"\"\"\n",
        "    Data collator that will dynamically pad the inputs received.\n",
        "    Args:\n",
        "        processor (:class:`~transformers.Wav2Vec2Processor`)\n",
        "            The processor used for proccessing the data.\n",
        "        padding (:obj:`bool`, :obj:`str` or :class:`~transformers.tokenization_utils_base.PaddingStrategy`, `optional`, defaults to :obj:`True`):\n",
        "            Select a strategy to pad the returned sequences (according to the model's padding side and padding index)\n",
        "            among:\n",
        "            * :obj:`True` or :obj:`'longest'`: Pad to the longest sequence in the batch (or no padding if only a single\n",
        "              sequence if provided).\n",
        "            * :obj:`'max_length'`: Pad to a maximum length specified with the argument :obj:`max_length` or to the\n",
        "              maximum acceptable input length for the model if that argument is not provided.\n",
        "            * :obj:`False` or :obj:`'do_not_pad'` (default): No padding (i.e., can output a batch with sequences of\n",
        "              different lengths).\n",
        "        max_length (:obj:`int`, `optional`):\n",
        "            Maximum length of the ``input_values`` of the returned list and optionally padding length (see above).\n",
        "        max_length_labels (:obj:`int`, `optional`):\n",
        "            Maximum length of the ``labels`` returned list and optionally padding length (see above).\n",
        "        pad_to_multiple_of (:obj:`int`, `optional`):\n",
        "            If set will pad the sequence to a multiple of the provided value.\n",
        "            This is especially useful to enable the use of Tensor Cores on NVIDIA hardware with compute capability >=\n",
        "            7.5 (Volta).\n",
        "    \"\"\"\n",
        "\n",
        "    processor: Wav2Vec2Processor\n",
        "    padding: Union[bool, str] = True\n",
        "    max_length: Optional[int] = None\n",
        "    max_length_labels: Optional[int] = None\n",
        "    pad_to_multiple_of: Optional[int] = None\n",
        "    pad_to_multiple_of_labels: Optional[int] = None\n",
        "\n",
        "    def __call__(self, features: List[Dict[str, Union[List[int], torch.Tensor]]]) -> Dict[str, torch.Tensor]:\n",
        "        # split inputs and labels since they have to be of different lenghts and need\n",
        "        # different padding methods\n",
        "        input_features = [{\"input_values\": feature[\"input_values\"]} for feature in features]\n",
        "        label_features = [{\"input_ids\": feature[\"labels\"]} for feature in features]\n",
        "\n",
        "        batch = self.processor.pad(\n",
        "            input_features,\n",
        "            padding=self.padding,\n",
        "            max_length=self.max_length,\n",
        "            pad_to_multiple_of=self.pad_to_multiple_of,\n",
        "            return_tensors=\"pt\",\n",
        "        )\n",
        "        with self.processor.as_target_processor():\n",
        "            labels_batch = self.processor.pad(\n",
        "                label_features,\n",
        "                padding=self.padding,\n",
        "                max_length=self.max_length_labels,\n",
        "                pad_to_multiple_of=self.pad_to_multiple_of_labels,\n",
        "                return_tensors=\"pt\",\n",
        "            )\n",
        "\n",
        "        # replace padding with -100 to ignore loss correctly\n",
        "        labels = labels_batch[\"input_ids\"].masked_fill(labels_batch.attention_mask.ne(1), -100)\n",
        "\n",
        "        batch[\"labels\"] = labels\n",
        "\n",
        "        return batch"
      ],
      "execution_count": 48,
      "outputs": []
    },
    {
      "cell_type": "code",
      "metadata": {
        "id": "lbQf5GuZyQ4_"
      },
      "source": [
        "data_collator = DataCollatorCTCWithPadding(processor=processor, padding=True)"
      ],
      "execution_count": 49,
      "outputs": []
    },
    {
      "cell_type": "code",
      "metadata": {
        "id": "iSFO31IUhx5N"
      },
      "source": [
        "train_dataset = CommonVoiceDataset(\"train.csv\", \"/content/dataset/\", processor=processor, column_names=[\"input_values\", \"labels\"])\n",
        "test_dataset = CommonVoiceDataset(\"test.csv\", \"/content/dataset/\", processor=processor, column_names=[\"input_values\", \"labels\"])"
      ],
      "execution_count": 50,
      "outputs": []
    },
    {
      "cell_type": "code",
      "metadata": {
        "colab": {
          "base_uri": "https://localhost:8080/"
        },
        "id": "K4GAdZW2hyLV",
        "outputId": "e1f102ca-350a-417d-e04a-d57d26b99a03"
      },
      "source": [
        "print(len(train_dataset))\n",
        "print(len(test_dataset))"
      ],
      "execution_count": 51,
      "outputs": [
        {
          "output_type": "stream",
          "text": [
            "3478\n",
            "1647\n"
          ],
          "name": "stdout"
        }
      ]
    },
    {
      "cell_type": "code",
      "metadata": {
        "colab": {
          "base_uri": "https://localhost:8080/"
        },
        "id": "1o3x8o4NhzHN",
        "outputId": "43913f5f-945f-456f-f85c-f919c7da1257"
      },
      "source": [
        "for batch in train_dataset:\n",
        "    print(batch.keys())\n",
        "    print(type(batch))\n",
        "    # print(batch)\n",
        "    break"
      ],
      "execution_count": 170,
      "outputs": [
        {
          "output_type": "stream",
          "text": [
            "dict_keys(['input_values', 'labels'])\n",
            "<class 'dict'>\n"
          ],
          "name": "stdout"
        }
      ]
    },
    {
      "cell_type": "code",
      "metadata": {
        "colab": {
          "base_uri": "https://localhost:8080/"
        },
        "id": "W0ZTMejmh0S9",
        "outputId": "b4df6cfe-bf90-4ffa-cf78-45dde0e58e7a"
      },
      "source": [
        "for batch in test_dataset:\n",
        "    print(batch.keys())\n",
        "    break"
      ],
      "execution_count": 53,
      "outputs": [
        {
          "output_type": "stream",
          "text": [
            "dict_keys(['input_values', 'labels'])\n"
          ],
          "name": "stdout"
        }
      ]
    },
    {
      "cell_type": "markdown",
      "metadata": {
        "id": "xO-Zdj-5cxXp"
      },
      "source": [
        "Next, the evaluation metric is defined. As mentioned earlier, the \n",
        "predominant metric in ASR is the word error rate (WER), hence we will use it in this notebook as well."
      ]
    },
    {
      "cell_type": "code",
      "metadata": {
        "id": "9Xsux2gmyXso",
        "colab": {
          "base_uri": "https://localhost:8080/",
          "height": 66,
          "referenced_widgets": [
            "ed693c18866d4af8b1cac7dec01f4e34",
            "b35ea27ab03b44baba1e1d1c2a2d85d2",
            "7645100d2e484076b74cd7ead9ade31d",
            "f03e533c88c34178a4b35f10c375a217",
            "6c3923fa438b4a728d65d35a5ffd262e",
            "0c99f9278fdb43078b4a735f1d85e06a",
            "c98a490467544a929708de1e614eb969",
            "649b3f35b12146b5b038c79997b06ef5"
          ]
        },
        "outputId": "83953655-68d2-4889-82c1-e35628e788dd"
      },
      "source": [
        "wer_metric = load_metric(\"wer\")"
      ],
      "execution_count": 54,
      "outputs": [
        {
          "output_type": "display_data",
          "data": {
            "application/vnd.jupyter.widget-view+json": {
              "model_id": "ed693c18866d4af8b1cac7dec01f4e34",
              "version_minor": 0,
              "version_major": 2
            },
            "text/plain": [
              "HBox(children=(FloatProgress(value=0.0, description='Downloading', max=1764.0, style=ProgressStyle(description…"
            ]
          },
          "metadata": {
            "tags": []
          }
        },
        {
          "output_type": "stream",
          "text": [
            "\n"
          ],
          "name": "stdout"
        }
      ]
    },
    {
      "cell_type": "markdown",
      "metadata": {
        "id": "E1qZU5p-deqB"
      },
      "source": [
        "The model will return a sequence of logit vectors:\n",
        "$\\mathbf{y}_1, \\ldots, \\mathbf{y}_m$ with $\\mathbf{y}_1 = f_{\\theta}(x_1, \\ldots, x_n)[0]$ and $n >> m$.\n",
        "\n",
        "A logit vector $\\mathbf{y}_1$ contains the log-odds for each word in the vocabulary we defined earlier, thus $\\text{len}(\\mathbf{y}_i) =$ `config.vocab_size`. We are interested in the most likely prediction of the model and thus take the `argmax(...)` of the logits. Also, we transform the encoded labels back to the original string by replacing `-100` with the `pad_token_id` and decoding the ids while making sure that consecutive tokens are **not** grouped to the same token in CTC style ${}^1$."
      ]
    },
    {
      "cell_type": "code",
      "metadata": {
        "id": "1XZ-kjweyTy_"
      },
      "source": [
        "def compute_metrics(pred):\n",
        "    pred_logits = pred.predictions\n",
        "    pred_ids = np.argmax(pred_logits, axis=-1)\n",
        "\n",
        "    pred.label_ids[pred.label_ids == -100] = processor.tokenizer.pad_token_id\n",
        "\n",
        "    pred_str = processor.batch_decode(pred_ids)\n",
        "    # we do not want to group tokens when computing the metrics\n",
        "    label_str = processor.batch_decode(pred.label_ids, group_tokens=False)\n",
        "\n",
        "    wer = wer_metric.compute(predictions=pred_str, references=label_str)\n",
        "\n",
        "    return {\"wer\": wer}"
      ],
      "execution_count": 55,
      "outputs": []
    },
    {
      "cell_type": "markdown",
      "metadata": {
        "id": "Xmgrx4bRwLIH"
      },
      "source": [
        "Now, we can load the pretrained `XLSR-Wav2Vec2` checkpoint. The tokenizer's `pad_token_id` must be to define the model's `pad_token_id` or in the case of `Wav2Vec2ForCTC` also CTC's *blank token* ${}^2$. To save GPU memory, we enable PyTorch's [gradient checkpointing](https://pytorch.org/docs/stable/checkpoint.html) and also set the loss reduction to \"*mean*\".\n",
        "\n",
        "Because the dataset is quite small (~6h of training data) and because Common Voice is quite noisy, fine-tuning Facebook's [wav2vec2-large-xlsr-53 checkpoint](https://huggingface.co/facebook/wav2vec2-large-xlsr-53) seems to require some hyper-parameter tuning. Therefore, I had to play around a bit with different values for dropout, [SpecAugment](https://arxiv.org/abs/1904.08779)'s masking dropout rate, layer dropout, and the learning rate until training seemed to be stable enough. \n",
        "\n",
        "**Note**: When using this notebook to train XLSR-Wav2Vec2 on another language of Common Voice those hyper-parameter settings might not work very well. Feel free to adapt those depending on your use case. "
      ]
    },
    {
      "cell_type": "code",
      "metadata": {
        "colab": {
          "base_uri": "https://localhost:8080/",
          "height": 172,
          "referenced_widgets": [
            "6f1970bba79b4a8797fd0604f0416f59",
            "e2f295e8739345a8967c7dc0eef3bf52",
            "705e1733a64e40b580cd65b8da53e255",
            "b380cfd5395140b7b85cd069b1ed70aa",
            "b49541419d8f4b4e8527164e9e285c43",
            "05f877c03bb440828e37ca1f78cb4549",
            "c3f0e373c2034cdaa3ee7e99b56d468c",
            "588e805082e34e2ea7c9e666434c4342",
            "0a3e859678ef48c2b356c26f2df2a001",
            "73716b75707a4ac3afe13e37c3047b29",
            "e2838116fcc743b092c085f0273b0b25",
            "e620f908d3354dd5b68748461ac11f2b",
            "e398caf0342e44a6adc686377ccbdfcf",
            "346ee7479ed148688b9b7f155fb9d61d",
            "f5022fb0c7724ef68033a45eb20ded6f",
            "588ffb0f38b441d0aab1084cab23bb19"
          ]
        },
        "id": "e7cqAWIayn6w",
        "outputId": "1854669f-d901-49ff-b221-1ce7e2551cf4"
      },
      "source": [
        "from transformers import Wav2Vec2ForCTC\n",
        "\n",
        "model = Wav2Vec2ForCTC.from_pretrained(\n",
        "    \"facebook/wav2vec2-large-xlsr-53\" if not last_checkpoint else last_checkpoint, \n",
        "    attention_dropout=0.1,\n",
        "    hidden_dropout=0.1,\n",
        "    feat_proj_dropout=0.0,\n",
        "    mask_time_prob=0.05,\n",
        "    layerdrop=0.1,\n",
        "    gradient_checkpointing=True, \n",
        "    ctc_loss_reduction=\"mean\", \n",
        "    pad_token_id=processor.tokenizer.pad_token_id,\n",
        "    vocab_size=processor.tokenizer.vocab_size\n",
        ")"
      ],
      "execution_count": 56,
      "outputs": [
        {
          "output_type": "display_data",
          "data": {
            "application/vnd.jupyter.widget-view+json": {
              "model_id": "6f1970bba79b4a8797fd0604f0416f59",
              "version_minor": 0,
              "version_major": 2
            },
            "text/plain": [
              "HBox(children=(FloatProgress(value=0.0, description='Downloading', max=1451.0, style=ProgressStyle(description…"
            ]
          },
          "metadata": {
            "tags": []
          }
        },
        {
          "output_type": "stream",
          "text": [
            "\n"
          ],
          "name": "stdout"
        },
        {
          "output_type": "display_data",
          "data": {
            "application/vnd.jupyter.widget-view+json": {
              "model_id": "0a3e859678ef48c2b356c26f2df2a001",
              "version_minor": 0,
              "version_major": 2
            },
            "text/plain": [
              "HBox(children=(FloatProgress(value=0.0, description='Downloading', max=1261920069.0, style=ProgressStyle(descr…"
            ]
          },
          "metadata": {
            "tags": []
          }
        },
        {
          "output_type": "stream",
          "text": [
            "\n"
          ],
          "name": "stdout"
        },
        {
          "output_type": "stream",
          "text": [
            "Some weights of Wav2Vec2ForCTC were not initialized from the model checkpoint at facebook/wav2vec2-large-xlsr-53 and are newly initialized: ['lm_head.bias', 'lm_head.weight']\n",
            "You should probably TRAIN this model on a down-stream task to be able to use it for predictions and inference.\n"
          ],
          "name": "stderr"
        }
      ]
    },
    {
      "cell_type": "code",
      "metadata": {
        "colab": {
          "base_uri": "https://localhost:8080/"
        },
        "id": "mTnAqCIPh-GR",
        "outputId": "2c196b8a-25cb-4158-b51f-72248e82eaa4"
      },
      "source": [
        "print(len(processor.tokenizer))\n",
        "print(processor.tokenizer.vocab_size)"
      ],
      "execution_count": 57,
      "outputs": [
        {
          "output_type": "stream",
          "text": [
            "39\n",
            "39\n"
          ],
          "name": "stdout"
        }
      ]
    },
    {
      "cell_type": "markdown",
      "metadata": {
        "id": "1DwR3XLSzGDD"
      },
      "source": [
        "The first component of XLSR-Wav2Vec2 consists of a stack of CNN layers that are used to extract acoustically meaningful - but contextually independent - features from the raw speech signal. This part of the model has already been sufficiently trained during pretraining and as stated in the [paper](https://arxiv.org/pdf/2006.13979.pdf) does not need to be fine-tuned anymore. \n",
        "Thus, we can set the `requires_grad` to `False` for all parameters of the *feature extraction* part."
      ]
    },
    {
      "cell_type": "code",
      "metadata": {
        "id": "oGI8zObtZ3V0"
      },
      "source": [
        "model.freeze_feature_extractor()"
      ],
      "execution_count": 58,
      "outputs": []
    },
    {
      "cell_type": "markdown",
      "metadata": {
        "id": "lD4aGhQM0K-D"
      },
      "source": [
        "In a final step, we define all parameters related to training. \n",
        "To give more explanation on some of the parameters:\n",
        "- `group_by_length` makes training more efficient by grouping training samples of similar input length into one batch. This can significantly speed up training time by heavily reducing the overall number of useless padding tokens that are passed through the model\n",
        "- `learning_rate` and `weight_decay` were heuristically tuned until fine-tuning has become stable. Note that those parameters strongly depend on the Common Voice dataset and might be suboptimal for other speech datasets.\n",
        "\n",
        "For more explanations on other parameters, one can take a look at the [docs](https://huggingface.co/transformers/master/main_classes/trainer.html?highlight=trainer#trainingarguments).\n",
        "\n",
        "**Note**: If one wants to save the trained models in his/her google drive the commented-out `output_dir` can be used instead."
      ]
    },
    {
      "cell_type": "code",
      "metadata": {
        "id": "KbeKSV7uzGPP"
      },
      "source": [
        "from transformers import TrainingArguments\n",
        "\n",
        "training_args = TrainingArguments(\n",
        "    # output_dir=\"/content/gdrive/MyDrive/wav2vec2-large-xlsr-turkish-demo\",\n",
        "    # output_dir=\"./wav2vec2-large-xlsr-turkish-demo\",\n",
        "    output_dir=save_dir,\n",
        "    group_by_length=False,\n",
        "    per_device_train_batch_size=16,\n",
        "    gradient_accumulation_steps=2,\n",
        "    evaluation_strategy=\"steps\",\n",
        "    num_train_epochs=0.5, # Just for demo, change it\n",
        "    fp16=True,\n",
        "    save_steps=20, # Just for demo, change it\n",
        "    eval_steps=20, # Just for demo, change it\n",
        "    logging_steps=20, # Just for demo, change it\n",
        "    learning_rate=3e-4,\n",
        "    warmup_steps=20, # Just for demo, change it\n",
        "    save_total_limit=2,\n",
        ")"
      ],
      "execution_count": 59,
      "outputs": []
    },
    {
      "cell_type": "markdown",
      "metadata": {
        "id": "OsW-WZcL1ZtN"
      },
      "source": [
        "Now, all instances can be passed to Trainer and we are ready to start training!"
      ]
    },
    {
      "cell_type": "code",
      "metadata": {
        "id": "7KtzJ6LYiW1b"
      },
      "source": [
        "import collections\n",
        "\n",
        "from typing import TYPE_CHECKING, Any, Callable, Dict, List, Optional, Tuple, Union\n",
        "\n",
        "from torch.utils.data.sampler import RandomSampler, SequentialSampler\n",
        "from transformers import Trainer\n",
        "from transformers.trainer import (\n",
        "    SequentialDistributedSampler, \n",
        "    SequentialSampler,\n",
        "    DistributedSamplerWithLoop\n",
        ")\n",
        "from transformers.trainer import is_datasets_available\n",
        "\n",
        "\n",
        "class CommonVoiceTrainer(Trainer):\n",
        "\n",
        "    def _get_train_sampler(self):\n",
        "        if isinstance(self.train_dataset, torch.utils.data.IterableDataset) or not isinstance(\n",
        "            self.train_dataset, collections.abc.Sized\n",
        "        ):\n",
        "            return None \n",
        "        \n",
        "        if self.args.world_size <= 1:\n",
        "            return RandomSampler(self.train_dataset)\n",
        "        elif self.args.parallel_mode == ParallelMode.TPU and not self.args.dataloader_drop_last:\n",
        "            # Use a loop for TPUs when drop_last is False to have all batches have the same size.\n",
        "            return DistributedSamplerWithLoop(\n",
        "                self.train_dataset,\n",
        "                batch_size=self.args.per_device_train_batch_size,\n",
        "                num_replicas=self.args.world_size,\n",
        "                rank=self.args.process_index,\n",
        "            )\n",
        "        else:\n",
        "            return DistributedSampler(\n",
        "                self.train_dataset, num_replicas=self.args.world_size, rank=self.args.process_index\n",
        "            )\n",
        "    \n",
        "    def get_train_dataloader(self):\n",
        "        if self.train_dataset is None:\n",
        "            raise ValueError(\"Trainer: training requires a train_dataset.\")\n",
        "        train_sampler = self._get_train_sampler()\n",
        "\n",
        "        return DataLoader(\n",
        "            self.train_dataset,\n",
        "            batch_size=self.args.train_batch_size,\n",
        "            sampler=train_sampler,\n",
        "            collate_fn=self.data_collator,\n",
        "            drop_last=self.args.dataloader_drop_last,\n",
        "            num_workers=self.args.dataloader_num_workers,\n",
        "            pin_memory=self.args.dataloader_pin_memory,\n",
        "        )\n",
        "    \n",
        "    def _get_eval_sampler(self, eval_dataset):\n",
        "        if self.args.local_rank != -1:\n",
        "            return SequentialDistributedSampler(eval_dataset)\n",
        "        else:\n",
        "            return SequentialSampler(eval_dataset)\n",
        "\n",
        "\n",
        "    def get_eval_dataloader(self, eval_dataset: Optional[Dataset] = None):\n",
        "        eval_dataset = eval_dataset if eval_dataset is not None else self.eval_dataset\n",
        "        eval_sampler = self._get_eval_sampler(eval_dataset)\n",
        "\n",
        "        return DataLoader(\n",
        "            eval_dataset,\n",
        "            sampler=eval_sampler,\n",
        "            batch_size=self.args.eval_batch_size,\n",
        "            collate_fn=self.data_collator,\n",
        "            drop_last=self.args.dataloader_drop_last,\n",
        "            num_workers=self.args.dataloader_num_workers,\n",
        "            pin_memory=self.args.dataloader_pin_memory,\n",
        "        )"
      ],
      "execution_count": 60,
      "outputs": []
    },
    {
      "cell_type": "code",
      "metadata": {
        "id": "rY7vBmFCPFgC"
      },
      "source": [
        "# from transformers import Trainer\n",
        "\n",
        "# trainer = Trainer(\n",
        "#     model=model,\n",
        "#     data_collator=data_collator,\n",
        "#     args=training_args,\n",
        "#     compute_metrics=compute_metrics,\n",
        "#     train_dataset=common_voice_train,\n",
        "#     eval_dataset=common_voice_test,\n",
        "#     tokenizer=processor.feature_extractor,\n",
        "# )"
      ],
      "execution_count": 61,
      "outputs": []
    },
    {
      "cell_type": "code",
      "metadata": {
        "colab": {
          "base_uri": "https://localhost:8080/"
        },
        "id": "Y80MTNCHiZRb",
        "outputId": "20e27ae1-d571-4c71-d2cd-8bee475b086c"
      },
      "source": [
        "trainer = CommonVoiceTrainer(\n",
        "    model=model,\n",
        "    data_collator=data_collator,\n",
        "    args=training_args,\n",
        "    compute_metrics=compute_metrics,\n",
        "    train_dataset=train_dataset,\n",
        "    eval_dataset=test_dataset,\n",
        "    tokenizer=processor.feature_extractor,\n",
        ")"
      ],
      "execution_count": 62,
      "outputs": [
        {
          "output_type": "stream",
          "text": [
            "W&B installed but not logged in. Run `wandb login` or set the WANDB_API_KEY env variable.\n"
          ],
          "name": "stderr"
        }
      ]
    },
    {
      "cell_type": "markdown",
      "metadata": {
        "id": "UoXBx1JAA0DX"
      },
      "source": [
        "\n",
        "\n",
        "---\n",
        "\n",
        "${}^1$ To allow models to become independent of the speaker rate, in CTC, consecutive tokens that are identical are simply grouped as a single token. However, the encoded labels should not be grouped when decoding since they don't correspond to the predicted tokens of the model, which is why the `group_tokens=False` parameter has to be passed. If we wouldn't pass this parameter a word like `\"hello\"` would incorrectly be encoded, and decoded as `\"helo\"`.\n",
        "\n",
        "${}^2$ The blank token allows the model to predict a word, such as `\"hello\"` by forcing it to insert the blank token between the two l's. A CTC-conform prediction of `\"hello\"` of our model would be `[PAD] [PAD] \"h\" \"e\" \"e\" \"l\" \"l\" [PAD] \"l\" \"o\" \"o\" [PAD]`."
      ]
    },
    {
      "cell_type": "markdown",
      "metadata": {
        "id": "rpvZHM1xReIW"
      },
      "source": [
        "### Training"
      ]
    },
    {
      "cell_type": "markdown",
      "metadata": {
        "id": "j-3oKSzZ1hGq"
      },
      "source": [
        "Training will take between 180 and 240 minutes depending on the GPU allocated to this notebook. While the trained model yields somewhat satisfying results on *Common Voice*'s test data of Turkish, it is by no means an optimally fine-tuned model. The purpose of this notebook is to demonstrate how XLSR-Wav2Vec2's [checkpoint](https://huggingface.co/facebook/wav2vec2-large-xlsr-53) can be fine-tuned on a low-resource ASR dataset.\n",
        "\n",
        "In case you want to use this google colab to fine-tune your model, you should make sure that your training doesn't stop due to inactivity. A simple hack to prevent this is to paste the following code into the console of this tab (*right mouse click -> inspect -> Console tab and insert code*)."
      ]
    },
    {
      "cell_type": "markdown",
      "metadata": {
        "id": "VYYAvgkW4P0m"
      },
      "source": [
        "```javascript\n",
        "function ConnectButton(){\n",
        "    console.log(\"Connect pushed\"); \n",
        "    document.querySelector(\"#top-toolbar > colab-connect-button\").shadowRoot.querySelector(\"#connect\").click() \n",
        "}\n",
        "setInterval(ConnectButton,60000);\n",
        "```"
      ]
    },
    {
      "cell_type": "code",
      "metadata": {
        "id": "_UEjJqGsQw24",
        "colab": {
          "base_uri": "https://localhost:8080/",
          "height": 190
        },
        "outputId": "441d6cd5-d0f4-413a-e1dc-aaac8a96d3fb"
      },
      "source": [
        "if last_checkpoint:\n",
        "    print(f\"last_checkpoint: {last_checkpoint}\")\n",
        "    train_result = trainer.train(resume_from_checkpoint=last_checkpoint)\n",
        "else:\n",
        "    train_result = trainer.train()"
      ],
      "execution_count": 63,
      "outputs": [
        {
          "output_type": "stream",
          "text": [
            "/usr/local/lib/python3.7/dist-packages/torch/optim/lr_scheduler.py:134: UserWarning: Detected call of `lr_scheduler.step()` before `optimizer.step()`. In PyTorch 1.1.0 and later, you should call them in the opposite order: `optimizer.step()` before `lr_scheduler.step()`.  Failure to do this will result in PyTorch skipping the first value of the learning rate schedule. See more details at https://pytorch.org/docs/stable/optim.html#how-to-adjust-learning-rate\n",
            "  \"https://pytorch.org/docs/stable/optim.html#how-to-adjust-learning-rate\", UserWarning)\n"
          ],
          "name": "stderr"
        },
        {
          "output_type": "display_data",
          "data": {
            "text/html": [
              "\n",
              "    <div>\n",
              "        <style>\n",
              "            /* Turns off some styling */\n",
              "            progress {\n",
              "                /* gets rid of default border in Firefox and Opera. */\n",
              "                border: none;\n",
              "                /* Needs to be in here for Safari polyfill so background images work as expected. */\n",
              "                background-size: auto;\n",
              "            }\n",
              "        </style>\n",
              "      \n",
              "      <progress value='55' max='55' style='width:300px; height:20px; vertical-align: middle;'></progress>\n",
              "      [55/55 27:21, Epoch 0/1]\n",
              "    </div>\n",
              "    <table border=\"1\" class=\"dataframe\">\n",
              "  <thead>\n",
              "    <tr style=\"text-align: left;\">\n",
              "      <th>Step</th>\n",
              "      <th>Training Loss</th>\n",
              "      <th>Validation Loss</th>\n",
              "      <th>Wer</th>\n",
              "      <th>Runtime</th>\n",
              "      <th>Samples Per Second</th>\n",
              "    </tr>\n",
              "  </thead>\n",
              "  <tbody>\n",
              "    <tr>\n",
              "      <td>20</td>\n",
              "      <td>12.095200</td>\n",
              "      <td>4.944106</td>\n",
              "      <td>1.000000</td>\n",
              "      <td>450.164300</td>\n",
              "      <td>3.659000</td>\n",
              "    </tr>\n",
              "    <tr>\n",
              "      <td>40</td>\n",
              "      <td>3.776000</td>\n",
              "      <td>3.289055</td>\n",
              "      <td>1.000000</td>\n",
              "      <td>465.134200</td>\n",
              "      <td>3.541000</td>\n",
              "    </tr>\n",
              "  </tbody>\n",
              "</table><p>"
            ],
            "text/plain": [
              "<IPython.core.display.HTML object>"
            ]
          },
          "metadata": {
            "tags": []
          }
        }
      ]
    },
    {
      "cell_type": "code",
      "metadata": {
        "id": "CBrGb3Qpjpl7"
      },
      "source": [
        "metrics = train_result.metrics\n",
        "max_train_samples = len(train_dataset)\n",
        "metrics[\"train_samples\"] = min(max_train_samples, len(train_dataset))\n",
        "\n",
        "trainer.save_model()\n",
        "\n",
        "trainer.log_metrics(\"train\", metrics)\n",
        "trainer.save_metrics(\"train\", metrics)\n",
        "trainer.save_state()"
      ],
      "execution_count": 64,
      "outputs": []
    },
    {
      "cell_type": "markdown",
      "metadata": {
        "id": "RHIVc44_fY2N"
      },
      "source": [
        "The training loss goes down and we can see that the WER on the test set also improves nicely. Because this notebook is just for demonstration purposes, we can stop here.\n",
        "\n",
        "The resulting model of this notebook has been saved to [`patrickvonplaten/wav2vec2-large-xlsr-turkish-demo`](https://huggingface.co/patrickvonplaten/wav2vec2-large-xlsr-turkish-demo)\n",
        "\n",
        "As a final check, let's load the model and verify that it indeed has learned to transcribe Turkish speech.\n",
        "\n",
        "Let's first load the pretrained checkpoint."
      ]
    },
    {
      "cell_type": "code",
      "metadata": {
        "colab": {
          "base_uri": "https://localhost:8080/"
        },
        "id": "J8E8pxJ9hgZS",
        "outputId": "080c5a72-232a-4e54-9ac4-d17c9622fb3c"
      },
      "source": [
        "model = Wav2Vec2ForCTC.from_pretrained(\"patrickvonplaten/wav2vec2-large-xlsr-turkish-demo\").to(\"cuda\")\n",
        "processor = Wav2Vec2Processor.from_pretrained(\"patrickvonplaten/wav2vec2-large-xlsr-turkish-demo\")\n",
        "\n",
        "# model = Wav2Vec2ForCTC.from_pretrained(save_dir).to(\"cuda\")\n",
        "# processor = Wav2Vec2Processor.from_pretrained(save_dir)"
      ],
      "execution_count": 156,
      "outputs": [
        {
          "output_type": "stream",
          "text": [
            "Special tokens have been added in the vocabulary, make sure the associated word embedding are fine-tuned or trained.\n"
          ],
          "name": "stderr"
        }
      ]
    },
    {
      "cell_type": "markdown",
      "metadata": {
        "id": "QsfGCQYSvY8C"
      },
      "source": [
        "Now, we will just take the first example of the test set, run it through the model and take the `argmax(...)` of the logits to retrieve the predicted token ids."
      ]
    },
    {
      "cell_type": "code",
      "metadata": {
        "colab": {
          "base_uri": "https://localhost:8080/"
        },
        "id": "E_Roxj5Dmrm6",
        "outputId": "d134ef3e-9f9c-44f3-aa14-cf6f2b1d7ffb"
      },
      "source": [
        "test_dataset = CommonVoiceDataset(\"test.csv\", \"/content/dataset/\", processor=processor, column_names=None)\n",
        "print(test_dataset[10].keys())"
      ],
      "execution_count": 157,
      "outputs": [
        {
          "output_type": "stream",
          "text": [
            "dict_keys(['Unnamed: 0', 'id', 'path', 'text', 'speech', 'sampling_rate', 'target_text', 'input_values', 'labels'])\n"
          ],
          "name": "stdout"
        }
      ]
    },
    {
      "cell_type": "code",
      "metadata": {
        "colab": {
          "base_uri": "https://localhost:8080/"
        },
        "id": "UWeZ312emST7",
        "outputId": "beabaf75-2357-4857-8cf9-c69d70378a5f"
      },
      "source": [
        "input_values = []\n",
        "labels = []\n",
        "\n",
        "test_loader = DataLoader(test_dataset, batch_size=10, collate_fn=data_collator)\n",
        "for data in tqdm(test_loader, total=len(test_loader)):\n",
        "    data_input_values = data[\"input_values\"]\n",
        "    data_labels = data[\"labels\"]\n",
        "\n",
        "    input_values.extend([data_input_values[i] for i in range(data_input_values.shape[0])])\n",
        "    labels.extend([data_labels[i] for i in range(data_labels.shape[0])])\n",
        "\n",
        "    # break\n",
        "\n",
        "itest_loader = {\"input_values\": input_values, \"labels\": labels}"
      ],
      "execution_count": 158,
      "outputs": [
        {
          "output_type": "stream",
          "text": [
            "100%|██████████| 165/165 [05:15<00:00,  1.91s/it]\n"
          ],
          "name": "stderr"
        }
      ]
    },
    {
      "cell_type": "code",
      "metadata": {
        "id": "eJSuVw-0yjxD"
      },
      "source": [
        "assert len(itest_loader[\"input_values\"]) == len(itest_loader[\"labels\"])"
      ],
      "execution_count": 164,
      "outputs": []
    },
    {
      "cell_type": "code",
      "metadata": {
        "id": "OeFtcn5Y2nLy"
      },
      "source": [
        "assert len(itest_loader[\"input_values\"]) == len(test_dataset)"
      ],
      "execution_count": 165,
      "outputs": []
    },
    {
      "cell_type": "code",
      "metadata": {
        "colab": {
          "base_uri": "https://localhost:8080/"
        },
        "id": "xytzQqZWoLWX",
        "outputId": "bb7ee701-2917-4d52-e044-8001b9c93b08"
      },
      "source": [
        "idx = np.random.randint(0, len(test_dataset))\n",
        "print(f\"idx {idx}\")\n",
        "\n",
        "print(f\"TEXT: {test_dataset[idx]['text']}\")\n",
        "print(f\"INPUT: {(itest_loader)['input_values'][0][:5]}\")"
      ],
      "execution_count": 171,
      "outputs": [
        {
          "output_type": "stream",
          "text": [
            "idx 1636\n",
            "TEXT: bu konuda yapılmış pek çok şey var \n",
            "INPUT: tensor([0.0007, 0.0007, 0.0007, 0.0007, 0.0007])\n"
          ],
          "name": "stdout"
        }
      ]
    },
    {
      "cell_type": "code",
      "metadata": {
        "colab": {
          "base_uri": "https://localhost:8080/"
        },
        "id": "EA6fxk-jiHby",
        "outputId": "9f9a0216-551c-40d2-dece-b49ef3408e9f"
      },
      "source": [
        "input_dict = processor(itest_loader[\"input_values\"][idx], return_tensors=\"pt\", padding=True)\n",
        "\n",
        "logits = model(input_dict.input_values.to(\"cuda\")).logits\n",
        "\n",
        "pred_ids = torch.argmax(logits, dim=-1)[0]"
      ],
      "execution_count": 172,
      "outputs": [
        {
          "output_type": "stream",
          "text": [
            "It is strongly recommended to pass the ``sampling_rate`` argument to this function.Failing to do so can result in silent errors that might be hard to debug.\n"
          ],
          "name": "stderr"
        }
      ]
    },
    {
      "cell_type": "markdown",
      "metadata": {
        "id": "1JDyVCMDvlYd"
      },
      "source": [
        "We adapted `common_voice_test` quite a bit so that the dataset instance does not contain the original sentence label anymore. Thus, we re-use the original dataset to get the label of the first example."
      ]
    },
    {
      "cell_type": "code",
      "metadata": {
        "id": "8dPE2GRIgtx-"
      },
      "source": [
        "# common_voice_test_transcription = load_dataset(\"common_voice\", \"tr\", data_dir=\"./cv-corpus-6.1-2020-12-11\", split=\"test\")"
      ],
      "execution_count": 168,
      "outputs": []
    },
    {
      "cell_type": "markdown",
      "metadata": {
        "id": "ApS3MmN4v5P7"
      },
      "source": [
        "Finally, we can decode the example."
      ]
    },
    {
      "cell_type": "code",
      "metadata": {
        "colab": {
          "base_uri": "https://localhost:8080/",
          "height": 163
        },
        "id": "Phqxa1O1jMDk",
        "outputId": "358b7727-eedb-4ec3-9197-5c2b9987e246"
      },
      "source": [
        "sample = test_dataset[idx]\n",
        "\n",
        "print(\"Prediction:\")\n",
        "print(processor.decode(pred_ids))\n",
        "\n",
        "print(\"\\nReference:\")\n",
        "print(sample[\"text\"].lower())\n",
        "\n",
        "\n",
        "speech = torchaudio.load(sample[\"path\"])\n",
        "speech = speech[0].numpy().squeeze()\n",
        "\n",
        "speech = librosa.resample(np.asarray(speech), 48_000, 16_000)\n",
        "ipd.Audio(data=np.asarray(speech), autoplay=True, rate=16000)"
      ],
      "execution_count": 173,
      "outputs": [
        {
          "output_type": "stream",
          "text": [
            "Prediction:\n",
            "bu konuda yapılmış pek çok şey var\n",
            "\n",
            "Reference:\n",
            "bu konuda yapılmış pek çok şey var \n"
          ],
          "name": "stdout"
        },
        {
          "output_type": "execute_result",
          "data": {
            "text/html": [
              "\n",
              "                <audio controls=\"controls\" autoplay=\"autoplay\">\n",
              "                    <source src=\"data:audio/wav;base64,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\" type=\"audio/wav\" />\n",
              "                    Your browser does not support the audio element.\n",
              "                </audio>\n",
              "              "
            ],
            "text/plain": [
              "<IPython.lib.display.Audio object>"
            ]
          },
          "metadata": {
            "tags": []
          },
          "execution_count": 173
        }
      ]
    },
    {
      "cell_type": "markdown",
      "metadata": {
        "id": "4n_8vhzUv7aw"
      },
      "source": [
        "Alright! The transcription can definitely be recognized from our prediction, but it is far from being perfect. Training the model a bit longer, spending more time on the data preprocessing, and especially using a language model for decoding would certainly improve the model's overall performance. \n",
        "\n",
        "For a demonstration model on a low-resource language, the results are acceptable, however 🤗."
      ]
    }
  ]
}